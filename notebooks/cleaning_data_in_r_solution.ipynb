{
  "nbformat": 4,
  "nbformat_minor": 0,
  "metadata": {
    "colab": {
      "name": "student_notebook.ipynb",
      "provenance": []
    },
    "kernelspec": {
      "name": "ir",
      "display_name": "R"
    }
  },
  "cells": [
    {
      "cell_type": "markdown",
      "metadata": {
        "id": "OJYbvo8eV-Rd",
        "colab_type": "text"
      },
      "source": [
        "<p align=\"center\">\n",
        "<img src=\"https://github.com/datacamp/r-live-training-template/blob/master/assets/datacamp.svg?raw=True\" alt = \"DataCamp icon\" width=\"50%\">\n",
        "</p>\n",
        "<br><br>\n",
        "\n",
        "## Cleaning Data in R Live Training\n",
        "Welcome to this hands-on training where you'll identify issues in a dataset and clean it from start to finish using R. It's often said that data scientists spend 80% of their time cleaning and manipulating data and only about 20% of their time analyzing it, so cleaning data is an important skill to master!\n",
        "\n",
        "In this session, you will:\n",
        "\n",
        "- Examine a dataset and identify its problem areas, and what needs to be done to fix them.\n",
        "-Convert between data types to make analysis easier.\n",
        "- Correct inconsistencies in categorical data.\n",
        "- Deal with missing data.\n",
        "- Perform data validation to ensure every value makes sense.\n",
        "\n",
        "## **The Dataset**\n",
        "\n",
        "_Enter a brief description of your dataset and its columns, here's an example below:_\n",
        "\n",
        "\n",
        "The dataset you'll use is a CSV file named `nyc_airbnb.csv`, which contains data on Airbnb listings in New York City. It contains the following columns:\n",
        "\n",
        "- `listing_id`: The unique identifier for a listing\n",
        "- `description`: The description used on the listing\n",
        "- `host_id`: Unique identifier for a host\n",
        "- `host_name`: Name of host\n",
        "- `nbhood_full`: Name of borough and neighborhood\n",
        "- `coordinates`: Coordinates of listing _(latitude, longitude)_\n",
        "- `room_type`: Type of room \n",
        "- `price`: Price per night for listing\n",
        "- `nb_reviews`: Number of reviews received \n",
        "- `last_review`: Date of last review\n",
        "- `reviews_per_month`: Average number of reviews per month\n",
        "- `availability_365`: Number of days available per year\n",
        "- `avg_rating`: Average rating (from 0 to 5)\n",
        "- `nb_stays`: Total number of stays thus far\n",
        "- `pct_5_stars`: Percent of reviews that were 5-stars\n",
        "- `listing_added`: Date when listing was added\n"
      ]
    },
    {
      "cell_type": "code",
      "metadata": {
        "id": "KUKG6fNMV_zf",
        "colab_type": "code",
        "cellView": "both",
        "colab": {}
      },
      "source": [
        "# Install R Packages\n",
        "install.packages(\"dplyr\")\n",
        "install.packages(\"stringr\")\n",
        "install.packages(\"ggplot2\")"
      ],
      "execution_count": 0,
      "outputs": []
    },
    {
      "cell_type": "code",
      "metadata": {
        "id": "brr08aZX9Wss",
        "colab_type": "code",
        "colab": {}
      },
      "source": [
        "# Load packages\n",
        "library(dplyr)\n",
        "library(stringr)\n",
        "library(ggplot2)"
      ],
      "execution_count": 0,
      "outputs": []
    },
    {
      "cell_type": "code",
      "metadata": {
        "id": "9VJyZeEo9M4O",
        "colab_type": "code",
        "colab": {}
      },
      "source": [
        "# Get dataset\n",
        "airbnb <- read.csv(\"https://raw.githubusercontent.com/datacamp/cleaning-data-in-r-live-training/master/assets/nyc_airbnb.csv\")"
      ],
      "execution_count": 0,
      "outputs": []
    },
    {
      "cell_type": "code",
      "metadata": {
        "id": "dKZGrzUPYrCX",
        "colab_type": "code",
        "colab": {
          "base_uri": "https://localhost:8080/",
          "height": 513
        },
        "outputId": "686437a5-4d50-4ea1-ebd2-50163eccd2a2"
      },
      "source": [
        "head(airbnb)"
      ],
      "execution_count": 8,
      "outputs": [
        {
          "output_type": "display_data",
          "data": {
            "text/plain": [
              "  X listing_id name                                               host_id  \n",
              "1 1 13740704   Cozy,budget friendly, cable inc, private entrance!  20583125\n",
              "2 2 22005115   Two floor apartment near Central Park               82746113\n",
              "3 3 21667615   Beautiful 1BR in Brooklyn Heights                      78251\n",
              "4 4  6425850   Spacious, charming studio                           32715865\n",
              "5 5 22986519   Bedroom on the lively Lower East Side              154262349\n",
              "6 6   271954   Beautiful brownstone apartment                       1423798\n",
              "  host_name nbhood_full                  coordinates           room_type      \n",
              "1 Michel    Brooklyn, Flatlands          (40.63222, -73.93398) Private room   \n",
              "2 Cecilia   Manhattan, Upper West Side   (40.78761, -73.96862) Entire home/apt\n",
              "3 Leslie    Brooklyn, Brooklyn Heights   (40.7007, -73.99517)  Entire home/apt\n",
              "4 Yelena    Manhattan, Upper West Side   (40.79169, -73.97498) Entire home/apt\n",
              "5 Brooke    Manhattan, Lower East Side   (40.71884, -73.98354) Private room   \n",
              "6 Aj        Manhattan, Greenwich Village (40.73388, -73.99452) Entire home/apt\n",
              "  price nb_reviews last_review reviews_per_month availability_365 avg_rating\n",
              "1 $45    10        2018-12-12  0.70               85              4.100954  \n",
              "2 $135    1        2019-06-30  1.00              145              3.367600  \n",
              "3 $150    0                      NA               65                    NA  \n",
              "4 $86     5        2017-09-23  0.13                0              4.763203  \n",
              "5 $160   23        2019-06-12  2.29              102              3.822591  \n",
              "6 $150  203        2019-06-20  2.22              300              4.478396  \n",
              "  nb_stays pct_5_stars listing_added\n",
              "1  12.0    0.6094315   2018-06-08   \n",
              "2   1.2    0.7461346   2018-12-25   \n",
              "3    NA           NA   2018-08-15   \n",
              "4   6.0    0.7699471   2017-03-20   \n",
              "5  27.6    0.6493831   2020-10-23   \n",
              "6 243.6    0.7434997   2018-12-15   "
            ],
            "text/latex": "A data.frame: 6 × 17\n\\begin{tabular}{r|lllllllllllllllll}\n  & X & listing\\_id & name & host\\_id & host\\_name & nbhood\\_full & coordinates & room\\_type & price & nb\\_reviews & last\\_review & reviews\\_per\\_month & availability\\_365 & avg\\_rating & nb\\_stays & pct\\_5\\_stars & listing\\_added\\\\\n  & <int> & <int> & <fct> & <int> & <fct> & <fct> & <fct> & <fct> & <fct> & <int> & <fct> & <dbl> & <int> & <dbl> & <dbl> & <dbl> & <fct>\\\\\n\\hline\n\t1 & 1 & 13740704 & Cozy,budget friendly, cable inc, private entrance! &  20583125 & Michel  & Brooklyn, Flatlands          & (40.63222, -73.93398) & Private room    & \\$45  &  10 & 2018-12-12 & 0.70 &  85 & 4.100954 &  12.0 & 0.6094315 & 2018-06-08\\\\\n\t2 & 2 & 22005115 & Two floor apartment near Central Park              &  82746113 & Cecilia & Manhattan, Upper West Side   & (40.78761, -73.96862) & Entire home/apt & \\$135 &   1 & 2019-06-30 & 1.00 & 145 & 3.367600 &   1.2 & 0.7461346 & 2018-12-25\\\\\n\t3 & 3 & 21667615 & Beautiful 1BR in Brooklyn Heights                  &     78251 & Leslie  & Brooklyn, Brooklyn Heights   & (40.7007, -73.99517)  & Entire home/apt & \\$150 &   0 &            &   NA &  65 &       NA &    NA &        NA & 2018-08-15\\\\\n\t4 & 4 &  6425850 & Spacious, charming studio                          &  32715865 & Yelena  & Manhattan, Upper West Side   & (40.79169, -73.97498) & Entire home/apt & \\$86  &   5 & 2017-09-23 & 0.13 &   0 & 4.763203 &   6.0 & 0.7699471 & 2017-03-20\\\\\n\t5 & 5 & 22986519 & Bedroom on the lively Lower East Side              & 154262349 & Brooke  & Manhattan, Lower East Side   & (40.71884, -73.98354) & Private room    & \\$160 &  23 & 2019-06-12 & 2.29 & 102 & 3.822591 &  27.6 & 0.6493831 & 2020-10-23\\\\\n\t6 & 6 &   271954 & Beautiful brownstone apartment                     &   1423798 & Aj      & Manhattan, Greenwich Village & (40.73388, -73.99452) & Entire home/apt & \\$150 & 203 & 2019-06-20 & 2.22 & 300 & 4.478396 & 243.6 & 0.7434997 & 2018-12-15\\\\\n\\end{tabular}\n",
            "text/markdown": "\nA data.frame: 6 × 17\n\n| <!--/--> | X &lt;int&gt; | listing_id &lt;int&gt; | name &lt;fct&gt; | host_id &lt;int&gt; | host_name &lt;fct&gt; | nbhood_full &lt;fct&gt; | coordinates &lt;fct&gt; | room_type &lt;fct&gt; | price &lt;fct&gt; | nb_reviews &lt;int&gt; | last_review &lt;fct&gt; | reviews_per_month &lt;dbl&gt; | availability_365 &lt;int&gt; | avg_rating &lt;dbl&gt; | nb_stays &lt;dbl&gt; | pct_5_stars &lt;dbl&gt; | listing_added &lt;fct&gt; |\n|---|---|---|---|---|---|---|---|---|---|---|---|---|---|---|---|---|---|\n| 1 | 1 | 13740704 | Cozy,budget friendly, cable inc, private entrance! |  20583125 | Michel  | Brooklyn, Flatlands          | (40.63222, -73.93398) | Private room    | $45  |  10 | 2018-12-12 | 0.70 |  85 | 4.100954 |  12.0 | 0.6094315 | 2018-06-08 |\n| 2 | 2 | 22005115 | Two floor apartment near Central Park              |  82746113 | Cecilia | Manhattan, Upper West Side   | (40.78761, -73.96862) | Entire home/apt | $135 |   1 | 2019-06-30 | 1.00 | 145 | 3.367600 |   1.2 | 0.7461346 | 2018-12-25 |\n| 3 | 3 | 21667615 | Beautiful 1BR in Brooklyn Heights                  |     78251 | Leslie  | Brooklyn, Brooklyn Heights   | (40.7007, -73.99517)  | Entire home/apt | $150 |   0 | <!----> |   NA |  65 |       NA |    NA |        NA | 2018-08-15 |\n| 4 | 4 |  6425850 | Spacious, charming studio                          |  32715865 | Yelena  | Manhattan, Upper West Side   | (40.79169, -73.97498) | Entire home/apt | $86  |   5 | 2017-09-23 | 0.13 |   0 | 4.763203 |   6.0 | 0.7699471 | 2017-03-20 |\n| 5 | 5 | 22986519 | Bedroom on the lively Lower East Side              | 154262349 | Brooke  | Manhattan, Lower East Side   | (40.71884, -73.98354) | Private room    | $160 |  23 | 2019-06-12 | 2.29 | 102 | 3.822591 |  27.6 | 0.6493831 | 2020-10-23 |\n| 6 | 6 |   271954 | Beautiful brownstone apartment                     |   1423798 | Aj      | Manhattan, Greenwich Village | (40.73388, -73.99452) | Entire home/apt | $150 | 203 | 2019-06-20 | 2.22 | 300 | 4.478396 | 243.6 | 0.7434997 | 2018-12-15 |\n\n",
            "text/html": [
              "<table>\n",
              "<caption>A data.frame: 6 × 17</caption>\n",
              "<thead>\n",
              "\t<tr><th></th><th scope=col>X</th><th scope=col>listing_id</th><th scope=col>name</th><th scope=col>host_id</th><th scope=col>host_name</th><th scope=col>nbhood_full</th><th scope=col>coordinates</th><th scope=col>room_type</th><th scope=col>price</th><th scope=col>nb_reviews</th><th scope=col>last_review</th><th scope=col>reviews_per_month</th><th scope=col>availability_365</th><th scope=col>avg_rating</th><th scope=col>nb_stays</th><th scope=col>pct_5_stars</th><th scope=col>listing_added</th></tr>\n",
              "\t<tr><th></th><th scope=col>&lt;int&gt;</th><th scope=col>&lt;int&gt;</th><th scope=col>&lt;fct&gt;</th><th scope=col>&lt;int&gt;</th><th scope=col>&lt;fct&gt;</th><th scope=col>&lt;fct&gt;</th><th scope=col>&lt;fct&gt;</th><th scope=col>&lt;fct&gt;</th><th scope=col>&lt;fct&gt;</th><th scope=col>&lt;int&gt;</th><th scope=col>&lt;fct&gt;</th><th scope=col>&lt;dbl&gt;</th><th scope=col>&lt;int&gt;</th><th scope=col>&lt;dbl&gt;</th><th scope=col>&lt;dbl&gt;</th><th scope=col>&lt;dbl&gt;</th><th scope=col>&lt;fct&gt;</th></tr>\n",
              "</thead>\n",
              "<tbody>\n",
              "\t<tr><th scope=row>1</th><td>1</td><td>13740704</td><td>Cozy,budget friendly, cable inc, private entrance!</td><td> 20583125</td><td>Michel </td><td>Brooklyn, Flatlands         </td><td>(40.63222, -73.93398)</td><td>Private room   </td><td>$45 </td><td> 10</td><td>2018-12-12</td><td>0.70</td><td> 85</td><td>4.100954</td><td> 12.0</td><td>0.6094315</td><td>2018-06-08</td></tr>\n",
              "\t<tr><th scope=row>2</th><td>2</td><td>22005115</td><td>Two floor apartment near Central Park             </td><td> 82746113</td><td>Cecilia</td><td>Manhattan, Upper West Side  </td><td>(40.78761, -73.96862)</td><td>Entire home/apt</td><td>$135</td><td>  1</td><td>2019-06-30</td><td>1.00</td><td>145</td><td>3.367600</td><td>  1.2</td><td>0.7461346</td><td>2018-12-25</td></tr>\n",
              "\t<tr><th scope=row>3</th><td>3</td><td>21667615</td><td>Beautiful 1BR in Brooklyn Heights                 </td><td>    78251</td><td>Leslie </td><td>Brooklyn, Brooklyn Heights  </td><td>(40.7007, -73.99517) </td><td>Entire home/apt</td><td>$150</td><td>  0</td><td>          </td><td>  NA</td><td> 65</td><td>      NA</td><td>   NA</td><td>       NA</td><td>2018-08-15</td></tr>\n",
              "\t<tr><th scope=row>4</th><td>4</td><td> 6425850</td><td>Spacious, charming studio                         </td><td> 32715865</td><td>Yelena </td><td>Manhattan, Upper West Side  </td><td>(40.79169, -73.97498)</td><td>Entire home/apt</td><td>$86 </td><td>  5</td><td>2017-09-23</td><td>0.13</td><td>  0</td><td>4.763203</td><td>  6.0</td><td>0.7699471</td><td>2017-03-20</td></tr>\n",
              "\t<tr><th scope=row>5</th><td>5</td><td>22986519</td><td>Bedroom on the lively Lower East Side             </td><td>154262349</td><td>Brooke </td><td>Manhattan, Lower East Side  </td><td>(40.71884, -73.98354)</td><td>Private room   </td><td>$160</td><td> 23</td><td>2019-06-12</td><td>2.29</td><td>102</td><td>3.822591</td><td> 27.6</td><td>0.6493831</td><td>2020-10-23</td></tr>\n",
              "\t<tr><th scope=row>6</th><td>6</td><td>  271954</td><td>Beautiful brownstone apartment                    </td><td>  1423798</td><td>Aj     </td><td>Manhattan, Greenwich Village</td><td>(40.73388, -73.99452)</td><td>Entire home/apt</td><td>$150</td><td>203</td><td>2019-06-20</td><td>2.22</td><td>300</td><td>4.478396</td><td>243.6</td><td>0.7434997</td><td>2018-12-15</td></tr>\n",
              "</tbody>\n",
              "</table>\n"
            ]
          },
          "metadata": {
            "tags": []
          }
        }
      ]
    }
  ]
}