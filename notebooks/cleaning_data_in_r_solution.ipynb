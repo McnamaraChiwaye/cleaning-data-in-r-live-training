{
  "nbformat": 4,
  "nbformat_minor": 0,
  "metadata": {
    "colab": {
      "name": "student_notebook.ipynb",
      "provenance": []
    },
    "kernelspec": {
      "name": "ir",
      "display_name": "R"
    }
  },
  "cells": [
    {
      "cell_type": "markdown",
      "metadata": {
        "id": "OJYbvo8eV-Rd",
        "colab_type": "text"
      },
      "source": [
        "<p align=\"center\">\n",
        "<img src=\"https://github.com/datacamp/r-live-training-template/blob/master/assets/datacamp.svg?raw=True\" alt = \"DataCamp icon\" width=\"50%\">\n",
        "<br>\n",
        "<h1 align=\"center\">Cleaning Data in R Live Training</h1>\n",
        "</p>\n",
        "<br>\n",
        "\n",
        "\n",
        "Welcome to this hands-on training where you'll identify issues in a dataset and clean it from start to finish using R. It's often said that data scientists spend 80% of their time cleaning and manipulating data and only about 20% of their time analyzing it, so cleaning data is an important skill to master!\n",
        "\n",
        "In this session, you will:\n",
        "\n",
        "- Examine a dataset and identify its problem areas, and what needs to be done to fix them.\n",
        "-Convert between data types to make analysis easier.\n",
        "- Correct inconsistencies in categorical data.\n",
        "- Deal with missing data.\n",
        "- Perform data validation to ensure every value makes sense.\n",
        "\n",
        "## **The Dataset**\n",
        "\n",
        "The dataset we'll use is a CSV file named `nyc_airbnb.csv`, which contains data on [*Airbnb*](https://www.airbnb.com/) listings in New York City. It contains the following columns:\n",
        "\n",
        "- `listing_id`: The unique identifier for a listing\n",
        "- `name`: The description used on the listing\n",
        "- `host_id`: Unique identifier for a host\n",
        "- `host_name`: Name of host\n",
        "- `nbhood_full`: Name of borough and neighborhood\n",
        "- `coordinates`: Coordinates of listing _(latitude, longitude)_\n",
        "- `room_type`: Type of room \n",
        "- `price`: Price per night for listing\n",
        "- `nb_reviews`: Number of reviews received \n",
        "- `last_review`: Date of last review\n",
        "- `reviews_per_month`: Average number of reviews per month\n",
        "- `availability_365`: Number of days available per year\n",
        "- `avg_rating`: Average rating (from 0 to 5)\n",
        "- `avg_stays_per_month`: Average number of stays per month\n",
        "- `pct_5_stars`: Percent of reviews that were 5-stars\n",
        "- `listing_added`: Date when listing was added\n"
      ]
    },
    {
      "cell_type": "code",
      "metadata": {
        "id": "KUKG6fNMV_zf",
        "colab_type": "code",
        "cellView": "both",
        "colab": {}
      },
      "source": [
        "# Install non-tidyverse packages\n",
        "install.packages(\"visdat\")"
      ],
      "execution_count": 0,
      "outputs": []
    },
    {
      "cell_type": "code",
      "metadata": {
        "id": "brr08aZX9Wss",
        "colab_type": "code",
        "colab": {}
      },
      "source": [
        "# Load packages\n",
        "library(readr)\n",
        "library(dplyr)\n",
        "library(stringr)\n",
        "library(ggplot2)\n",
        "library(visdat)\n",
        "library(tidyr)"
      ],
      "execution_count": 0,
      "outputs": []
    },
    {
      "cell_type": "code",
      "metadata": {
        "id": "9VJyZeEo9M4O",
        "colab_type": "code",
        "colab": {}
      },
      "source": [
        "# Load dataset\n",
        "airbnb <- read_csv(\"https://raw.githubusercontent.com/datacamp/cleaning-data-in-r-live-training/master/assets/nyc_airbnb.csv\")"
      ],
      "execution_count": 0,
      "outputs": []
    },
    {
      "cell_type": "code",
      "metadata": {
        "id": "89DXT3Xl1SQ8",
        "colab_type": "code",
        "colab": {}
      },
      "source": [
        "# Examine the first few rows\n",
        "head(airbnb)"
      ],
      "execution_count": 0,
      "outputs": []
    },
    {
      "cell_type": "markdown",
      "metadata": {
        "id": "kNE3y9ug1Zo5",
        "colab_type": "text"
      },
      "source": [
        "## Diagnosing data cleaning problems\n",
        "\n",
        "We'll need to get a good look at the data frame in order to identify any problems that may cause issues during an analysis. There are a variety of functions (both from base R and `dplyr`) that can help us with this:\n",
        "\n",
        "1. `head()` to look at the first few rows of the data\n",
        "2. `glimpse()` to get a summary of the variables' data types\n",
        "3. `summary()` to compute summary statistics of each variable and display the number of missing values\n",
        "4. `duplicated()` to find duplicates\n"
      ]
    },
    {
      "cell_type": "code",
      "metadata": {
        "id": "uaC2Q_Gm3m1I",
        "colab_type": "code",
        "colab": {}
      },
      "source": [
        "# Print the first few rows of data\n",
        "head(airbnb)"
      ],
      "execution_count": 0,
      "outputs": []
    },
    {
      "cell_type": "code",
      "metadata": {
        "id": "ZO_jlHc74J62",
        "colab_type": "code",
        "colab": {}
      },
      "source": [
        "# Inspect data types\n",
        "glimpse(airbnb)"
      ],
      "execution_count": 0,
      "outputs": []
    },
    {
      "cell_type": "markdown",
      "metadata": {
        "id": "5-1VcTFC4JpI",
        "colab_type": "text"
      },
      "source": [
        "3. Columns like `coordinates` and `price` are factors instead of numeric values.\n",
        "4. Columns with dates like `last_review` and `listing_added` are factors instead of the `Date` data type."
      ]
    },
    {
      "cell_type": "code",
      "metadata": {
        "id": "ewCibkuE4NP-",
        "colab_type": "code",
        "colab": {}
      },
      "source": [
        "# Examine summary statistics and missing values\n",
        "summary(airbnb)"
      ],
      "execution_count": 0,
      "outputs": []
    },
    {
      "cell_type": "markdown",
      "metadata": {
        "id": "z-17MT7M4UbL",
        "colab_type": "text"
      },
      "source": [
        "5. There are 2075 missing values in `reviews_per_month`, `avg_rating`, `nb_stays`, and `pct_5_stars`.\n",
        "6. The max of `avg_rating` is above 5 (out of range value)\n",
        "7. There are inconsistencies in the categories of `room_type`, i.e. `\"Private\"`, `\"Private room\"`, and `\"PRIVATE ROOM\"`."
      ]
    },
    {
      "cell_type": "code",
      "metadata": {
        "id": "6Kwp6THl4SIV",
        "colab_type": "code",
        "colab": {}
      },
      "source": [
        "# Count data with duplicated listing_id\n",
        "airbnb %>%\n",
        "  filter(duplicated(listing_id)) %>%\n",
        "  nrow()"
      ],
      "execution_count": 0,
      "outputs": []
    },
    {
      "cell_type": "markdown",
      "metadata": {
        "id": "h9A2KkvJ4hQO",
        "colab_type": "text"
      },
      "source": [
        "8. Duplicates: there are 20 rows whose `listing_id` already appeared earlier in the dataset."
      ]
    },
    {
      "cell_type": "markdown",
      "metadata": {
        "id": "eeNuwD5-4lAJ",
        "colab_type": "text"
      },
      "source": [
        "## What do we need to do?\n",
        "\n",
        "**Data type issues**\n",
        "1. Split `coordinates` into latitude and longitude and convert `numeric` data type.\n",
        "2. Remove `$`s from `price` column and convert to `numeric`.\n",
        "3. Convert `last_review` and `listing_added` to `Date`.\n",
        "\n",
        "**Text & categorical data issues**\n",
        "4. Split `nbhood_full` into separate neighborhood and borough columns.\n",
        "5. Collapse the categories of `room_type` so that they're consistent.\n",
        "\n",
        "**Data range issues**\n",
        "6. Fix the `avg_rating` column so it doesn't exceed `5`.\n",
        "\n",
        "**Missing data issues**\n",
        "7. Further investigate the missing data and decide how to handle them.\n",
        "\n",
        "**Duplicate data issues**\n",
        "8. Further investigate duplicate data points and decide how to handle them.\n",
        "\n",
        "***But also...***\n",
        "- We need to validate our data using various sanity checks"
      ]
    },
    {
      "cell_type": "markdown",
      "metadata": {
        "id": "yvQmADZn4oxm",
        "colab_type": "text"
      },
      "source": [
        "---\n",
        "\n",
        "**Q & A**\n",
        "\n",
        "---\n",
        "\n",
        "\n"
      ]
    },
    {
      "cell_type": "markdown",
      "metadata": {
        "id": "TqqGD4jk4zRr",
        "colab_type": "text"
      },
      "source": [
        "## Cleaning the data\n"
      ]
    },
    {
      "cell_type": "markdown",
      "metadata": {
        "id": "nTZAQnQc4128",
        "colab_type": "text"
      },
      "source": [
        "### Data type issues\n"
      ]
    },
    {
      "cell_type": "code",
      "metadata": {
        "id": "WM0EhIT-4izJ",
        "colab_type": "code",
        "colab": {}
      },
      "source": [
        "# Reminder: what does the data look like?\n",
        "head(airbnb)"
      ],
      "execution_count": 0,
      "outputs": []
    },
    {
      "cell_type": "markdown",
      "metadata": {
        "id": "Uv34mfrn5ER-",
        "colab_type": "text"
      },
      "source": [
        "#### **Task 1:** Split `coordinates` into latitude and longitude and convert `numeric` data type.\n"
      ]
    },
    {
      "cell_type": "code",
      "metadata": {
        "id": "i6YA6Mcq5FAO",
        "colab_type": "code",
        "colab": {}
      },
      "source": [
        "lat_lon <- airbnb$coordinates %>%\n",
        "  # Remove left parentheses\n",
        "  str_remove_all(fixed(\"(\")) %>%\n",
        "  # Remove right parentheses\n",
        "  str_remove_all(fixed(\")\")) %>%\n",
        "  # Split latitude and longitude\n",
        "  str_split(\", \", simplify = TRUE) %>%\n",
        "  # Convert from matrix to data frame\n",
        "  as.data.frame(stringsAsFactors = FALSE) %>%\n",
        "  # Rename columns\n",
        "  rename(latitude = V1, longitude = V2)"
      ],
      "execution_count": 0,
      "outputs": []
    },
    {
      "cell_type": "code",
      "metadata": {
        "id": "nLoVV0wx5HY0",
        "colab_type": "code",
        "colab": {}
      },
      "source": [
        "airbnb <- airbnb %>%\n",
        "  # Combine lat_lon with original data frame\n",
        "  cbind(lat_lon) %>%\n",
        "  # Convert to numeric\n",
        "  mutate(latitude = as.numeric(latitude),\n",
        "        longitude = as.numeric(longitude)) %>%\n",
        "  # Remove coordinates column\n",
        "  select(-coordinates)"
      ],
      "execution_count": 0,
      "outputs": []
    },
    {
      "cell_type": "markdown",
      "metadata": {
        "id": "cTyOqtuf5MKA",
        "colab_type": "text"
      },
      "source": [
        "#### **Task 2:** Remove `$`s from `price` column and convert to `numeric`."
      ]
    },
    {
      "cell_type": "code",
      "metadata": {
        "id": "c7bo2KI65MuC",
        "colab_type": "code",
        "colab": {}
      },
      "source": [
        "# Remove $ and convert to numeric\n",
        "price_clean <- airbnb$price %>%\n",
        "  str_remove_all(fixed(\"$\")) %>%\n",
        "  as.numeric()"
      ],
      "execution_count": 0,
      "outputs": []
    },
    {
      "cell_type": "markdown",
      "metadata": {
        "id": "GZLstAby5OU6",
        "colab_type": "text"
      },
      "source": [
        "Notice we get a warning here that values are being converted to `NA`, so before we move on, we need to look into this further to ensure that the values are actually missing and we're not losing data by mistake.\n",
        "\n",
        "Let's take a look at the values of `price`.\n"
      ]
    },
    {
      "cell_type": "code",
      "metadata": {
        "id": "UPuE0iPw5U9h",
        "colab_type": "code",
        "colab": {}
      },
      "source": [
        "# Look at values of price\n",
        "airbnb %>%\n",
        "  count(price, sort = TRUE)"
      ],
      "execution_count": 0,
      "outputs": []
    },
    {
      "cell_type": "markdown",
      "metadata": {
        "id": "EajADDBt57-C",
        "colab_type": "text"
      },
      "source": [
        "It looks like we have a non-standard representation of `NA` here, `$NA`, so these are getting coerced to `NA`s. This is the behavior we want, so we can ignore the warning."
      ]
    },
    {
      "cell_type": "code",
      "metadata": {
        "id": "Fpi0jcHn5zD1",
        "colab_type": "code",
        "colab": {}
      },
      "source": [
        "# Add to data frame\n",
        "airbnb <- airbnb %>%\n",
        "  mutate(price = price_clean)"
      ],
      "execution_count": 0,
      "outputs": []
    },
    {
      "cell_type": "markdown",
      "metadata": {
        "id": "anggnvoK8pvK",
        "colab_type": "text"
      },
      "source": [
        "#### **Task 3:** Convert `last_review` and `listing_added` to `Date`.\n",
        "\n",
        "<img src=\"https://raw.githubusercontent.com/datacamp/cleaning-data-in-r-live-training/master/assets/date_formats.png\" alt=\"%d = day number, %m = month number, %Y = 4 digit year, %y = 2 digit year, %B = month, %b = month abbreviation\" width=\"250px;\"/>\n"
      ]
    },
    {
      "cell_type": "code",
      "metadata": {
        "id": "c7BN8s568rKZ",
        "colab_type": "code",
        "colab": {}
      },
      "source": [
        "# Look up date formatting symbols\n",
        "?strptime"
      ],
      "execution_count": 0,
      "outputs": []
    },
    {
      "cell_type": "code",
      "metadata": {
        "id": "fa_9REcc8tGr",
        "colab_type": "code",
        "colab": {}
      },
      "source": [
        "# Convert strings to Dates\n",
        "airbnb <- airbnb %>%\n",
        "  mutate(last_review = as.Date(last_review, format = \"%m/%d/%Y\"),\n",
        "        listing_added = as.Date(listing_added, format = \"%m/%d/%Y\"))"
      ],
      "execution_count": 0,
      "outputs": []
    },
    {
      "cell_type": "markdown",
      "metadata": {
        "id": "Ffn4WAOJ8zEH",
        "colab_type": "text"
      },
      "source": [
        "### Text & categorical data issues\n"
      ]
    },
    {
      "cell_type": "markdown",
      "metadata": {
        "id": "qvMQ8wBV80qt",
        "colab_type": "text"
      },
      "source": [
        "#### **Task 4:** Split `nbhood_full` into separate `nbhood` and `borough` columns."
      ]
    },
    {
      "cell_type": "code",
      "metadata": {
        "id": "cVKSTOuw8y22",
        "colab_type": "code",
        "colab": {}
      },
      "source": [
        "borough_nbhood <- airbnb$nbhood_full %>%\n",
        "  # Split column\n",
        "  str_split(\", \", simplify = TRUE) %>%\n",
        "  # Convert from matrix to data frame\n",
        "  as.data.frame() %>%\n",
        "  # Rename columns\n",
        "  rename(borough = V1, nbhood = V2)"
      ],
      "execution_count": 0,
      "outputs": []
    },
    {
      "cell_type": "code",
      "metadata": {
        "id": "E4B7YsYl83iY",
        "colab_type": "code",
        "colab": {}
      },
      "source": [
        "airbnb <- airbnb %>%\n",
        "  # Combine borough_nbhood with data\n",
        "  cbind(borough_nbhood) %>%\n",
        "  # Remove nbhood_full\n",
        "  select(-nbhood_full)"
      ],
      "execution_count": 0,
      "outputs": []
    },
    {
      "cell_type": "markdown",
      "metadata": {
        "id": "Z8as3rzq9HHW",
        "colab_type": "text"
      },
      "source": [
        "#### **Task 5:** Collapse the categories of `room_type` so that they're consistent."
      ]
    },
    {
      "cell_type": "code",
      "metadata": {
        "id": "btgSaZR39HsF",
        "colab_type": "code",
        "colab": {}
      },
      "source": [
        "# Count categories of room_type\n",
        "airbnb %>%\n",
        "  count(room_type)"
      ],
      "execution_count": 0,
      "outputs": []
    },
    {
      "cell_type": "code",
      "metadata": {
        "id": "6L8hfW7h9JEu",
        "colab_type": "code",
        "colab": {}
      },
      "source": [
        "room_type_clean <- airbnb$room_type %>%\n",
        "  # Change all to lowercase\n",
        "  str_to_lower() %>%\n",
        "  # Collapse categories\n",
        "  forcats::fct_collapse(private_room = c(\"private\", \"private room\"),\n",
        "                        entire_place = c(\"entire home/apt\", \"home\"),\n",
        "                        shared_room = \"shared room\")"
      ],
      "execution_count": 0,
      "outputs": []
    },
    {
      "cell_type": "code",
      "metadata": {
        "id": "H1WP-ARS9KUL",
        "colab_type": "code",
        "colab": {}
      },
      "source": [
        "# Add to data frame\n",
        "airbnb <- airbnb %>% \n",
        "  mutate(room_type = room_type_clean)"
      ],
      "execution_count": 0,
      "outputs": []
    },
    {
      "cell_type": "markdown",
      "metadata": {
        "id": "Pg11q_vn9Lw-",
        "colab_type": "text"
      },
      "source": [
        "---\n",
        "\n",
        "**Q & A**\n",
        "\n",
        "---\n",
        "\n"
      ]
    },
    {
      "cell_type": "markdown",
      "metadata": {
        "id": "OmuXjJQd9OdC",
        "colab_type": "text"
      },
      "source": [
        "### Data range issues\n",
        "\n",
        "#### **Task 6:** Fix the `avg_rating` column so it doesn't exceed `5`."
      ]
    },
    {
      "cell_type": "code",
      "metadata": {
        "id": "pIYTw6eQ9OAU",
        "colab_type": "code",
        "colab": {}
      },
      "source": [
        "# How many places with avg_rating above 5?\n",
        "airbnb %>%\n",
        "  filter(avg_rating > 5) %>%\n",
        "  count()"
      ],
      "execution_count": 0,
      "outputs": []
    },
    {
      "cell_type": "code",
      "metadata": {
        "id": "TQLzv6eH9iTY",
        "colab_type": "code",
        "colab": {}
      },
      "source": [
        "# What does the data for these places look like?\n",
        "airbnb %>%\n",
        "  filter(avg_rating > 5)"
      ],
      "execution_count": 0,
      "outputs": []
    },
    {
      "cell_type": "code",
      "metadata": {
        "id": "ep-80Dgg9f9S",
        "colab_type": "code",
        "colab": {}
      },
      "source": [
        "# Remove the rows with rating > 5\n",
        "airbnb <- airbnb %>%\n",
        "  filter(avg_rating <= 5 | is.na(avg_rating))"
      ],
      "execution_count": 0,
      "outputs": []
    },
    {
      "cell_type": "markdown",
      "metadata": {
        "id": "IN41DP969kiz",
        "colab_type": "text"
      },
      "source": [
        "### Missing data issues\n",
        "\n",
        "#### **Task 7:** Further investigate the missing data and decide how to handle them.\n",
        "\n",
        "*Are the missing values related in any way?*\n",
        "\n",
        "The `visdat` package is useful for investigating missing data."
      ]
    },
    {
      "cell_type": "code",
      "metadata": {
        "id": "3MzzEMWY-EIE",
        "colab_type": "code",
        "colab": {}
      },
      "source": [
        "head(airbnb)"
      ],
      "execution_count": 0,
      "outputs": []
    },
    {
      "cell_type": "code",
      "metadata": {
        "id": "iJGJsy-e9n-p",
        "colab_type": "code",
        "colab": {}
      },
      "source": [
        "airbnb %>%\n",
        "  # Focus only on columns with missing values\n",
        "  select(price, last_review, reviews_per_month, avg_rating, avg_stays_per_month) %>%\n",
        "  # Visualize missing data\n",
        "  visdat::vis_miss()"
      ],
      "execution_count": 0,
      "outputs": []
    },
    {
      "cell_type": "markdown",
      "metadata": {
        "id": "oUEJgSqM9kcI",
        "colab_type": "text"
      },
      "source": [
        "It looks like missingness of `last_review`, `reviews_per_month`, `avg_rating`, and `avg_stays_per_month` are related. This suggests that these are places that have never been visited before (therefore have no ratings, reviews, or stays.\n",
        "\n",
        "However, `price` is unrelated to the other columns, so we'll need to take a different approach for that."
      ]
    },
    {
      "cell_type": "code",
      "metadata": {
        "id": "iEf8rGc0AEnX",
        "colab_type": "code",
        "colab": {}
      },
      "source": [
        "# Sanity check that our hypothesis is correct\n",
        "airbnb %>%\n",
        "    filter(nb_reviews != 0,\n",
        "           is.na(reviews_per_month))\n",
        "airbnb %>%\n",
        "    filter(nb_reviews != 0,\n",
        "           is.na(avg_stays_per_month))"
      ],
      "execution_count": 0,
      "outputs": []
    },
    {
      "cell_type": "markdown",
      "metadata": {
        "id": "NG6AvsYaAFUY",
        "colab_type": "text"
      },
      "source": [
        "Now that we know our hypothesis is correct,\n",
        "- We'll set any missing values in `reviews_per_month` or `avg_stays_per_month` to `0`.\n",
        "    - Use `tidyr::replace_na()`\n",
        "- We'll leave `last_review` and `avg_rating` as `NA`.\n",
        "- We'll create a `logical` (`TRUE`/`FALSE`) column called `is_visited`, indicating whether or not the listing has been visited before.\n",
        "    - Use `ifelse(condition, value if true, value if false)`"
      ]
    },
    {
      "cell_type": "code",
      "metadata": {
        "id": "wNrywTb6AHv9",
        "colab_type": "code",
        "colab": {}
      },
      "source": [
        "airbnb <- airbnb %>%\n",
        "    # Replace missing values in reviews_per_month or avg_stays_per_month with 0\n",
        "    replace_na(list(reviews_per_month = 0, avg_stays_per_month = 0)) %>%\n",
        "    # Create is_visited\n",
        "    mutate(is_visited = ifelse(is.na(avg_rating), FALSE, TRUE))"
      ],
      "execution_count": 0,
      "outputs": []
    },
    {
      "cell_type": "markdown",
      "metadata": {
        "id": "f0bzE6YdAgb9",
        "colab_type": "text"
      },
      "source": [
        "**Treating the `price` column**\n",
        "\n",
        "There are lots of ways we could do this\n",
        "- Remove all rows with missing price values\n",
        "- Fill in missing prices with the overall average price\n",
        "- Fill in missing prices based on other columns like `borough` or `room_type`\n",
        "\n",
        "**Let's examine the relationship between `room_type` and `price`.**\n",
        "\n",
        "<img src='https://raw.githubusercontent.com/datacamp/cleaning-data-in-r-live-training/master/assets/boxplot.png' alt='Box plot diagram' width='350px;'>"
      ]
    },
    {
      "cell_type": "code",
      "metadata": {
        "id": "7gL-HXtyn5NA",
        "colab_type": "code",
        "colab": {}
      },
      "source": [
        "# Create a boxplot showing the distribution of price for each room_type\n",
        "ggplot(airbnb, aes(x = room_type, y = price)) +\n",
        "    geom_boxplot() +\n",
        "    ylim(0, 1000)"
      ],
      "execution_count": 0,
      "outputs": []
    },
    {
      "cell_type": "code",
      "metadata": {
        "id": "p9WXsu8VATVB",
        "colab_type": "code",
        "colab": {}
      },
      "source": [
        "# Use a grouped mutate to fill in missing prices with median of their room_type\n",
        "airbnb %>%\n",
        "    group_by(room_type) %>%\n",
        "    mutate(price_filled = ifelse(is.na(price), median(price, na.rm = TRUE), price)) %>%\n",
        "    # Look at the values we filled in to make sure it looks how we want\n",
        "    filter(is.na(price)) %>%\n",
        "    select(listing_id, description, room_type, price, price_filled)"
      ],
      "execution_count": 0,
      "outputs": []
    },
    {
      "cell_type": "code",
      "metadata": {
        "id": "81Nz4NgKp4dA",
        "colab_type": "code",
        "colab": {}
      },
      "source": [
        "# Overwrite price column in original data frame\n",
        "airbnb <- airbnb %>%\n",
        "    group_by(room_type) %>%\n",
        "    mutate(price = ifelse(is.na(price), median(price, na.rm = TRUE), price)) %>%\n",
        "    ungroup()"
      ],
      "execution_count": 0,
      "outputs": []
    },
    {
      "cell_type": "markdown",
      "metadata": {
        "id": "q0VKNaqevJj5",
        "colab_type": "text"
      },
      "source": [
        "### Duplicate data issues\n",
        "\n",
        "\n",
        "#### **Task 8:** Further investigate duplicate data points and decide how to handle them."
      ]
    },
    {
      "cell_type": "code",
      "metadata": {
        "id": "M7xKT9BmvJB6",
        "colab_type": "code",
        "colab": {}
      },
      "source": [
        "# Find duplicated listing_ids\n",
        "duplicate_ids <- airbnb %>% \n",
        "    count(listing_id) %>% \n",
        "     filter(n > 1)"
      ],
      "execution_count": 0,
      "outputs": []
    },
    {
      "cell_type": "code",
      "metadata": {
        "id": "QJ9-GIlCwTHS",
        "colab_type": "code",
        "colab": {}
      },
      "source": [
        "# Look at duplicated data\n",
        "airbnb %>%\n",
        "    filter(listing_id %in% duplicate_ids$listing_id) %>%\n",
        "    arrange(listing_id)"
      ],
      "execution_count": 0,
      "outputs": []
    }
  ]
}