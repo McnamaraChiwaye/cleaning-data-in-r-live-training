{
  "nbformat": 4,
  "nbformat_minor": 0,
  "metadata": {
    "colab": {
      "name": "student_notebook.ipynb",
      "provenance": []
    },
    "kernelspec": {
      "name": "ir",
      "display_name": "R"
    }
  },
  "cells": [
    {
      "cell_type": "markdown",
      "metadata": {
        "id": "OJYbvo8eV-Rd",
        "colab_type": "text"
      },
      "source": [
        "<p align=\"center\">\n",
        "<img src=\"https://github.com/datacamp/r-live-training-template/blob/master/assets/datacamp.svg?raw=True\" alt = \"DataCamp icon\" width=\"50%\">\n",
        "<br>\n",
        "<h1 align=\"center\">Cleaning Data in R Live Training</h1>\n",
        "</p>\n",
        "<br>\n",
        "\n",
        "\n",
        "Welcome to this hands-on training where you'll identify issues in a dataset and clean it from start to finish using R. It's often said that data scientists spend 80% of their time cleaning and manipulating data and only about 20% of their time analyzing it, so cleaning data is an important skill to master!\n",
        "\n",
        "In this session, you will:\n",
        "\n",
        "- Examine a dataset and identify its problem areas, and what needs to be done to fix them.\n",
        "-Convert between data types to make analysis easier.\n",
        "- Correct inconsistencies in categorical data.\n",
        "- Deal with missing data.\n",
        "- Perform data validation to ensure every value makes sense.\n",
        "\n",
        "## **The Dataset**\n",
        "\n",
        "The dataset we'll use is a CSV file named `nyc_airbnb.csv`, which contains data on [*Airbnb*](https://www.airbnb.com/) listings in New York City. It contains the following columns:\n",
        "\n",
        "- `listing_id`: The unique identifier for a listing\n",
        "- `name`: The description used on the listing\n",
        "- `host_id`: Unique identifier for a host\n",
        "- `host_name`: Name of host\n",
        "- `nbhood_full`: Name of borough and neighborhood\n",
        "- `coordinates`: Coordinates of listing _(latitude, longitude)_\n",
        "- `room_type`: Type of room \n",
        "- `price`: Price per night for listing\n",
        "- `nb_reviews`: Number of reviews received \n",
        "- `last_review`: Date of last review\n",
        "- `reviews_per_month`: Average number of reviews per month\n",
        "- `availability_365`: Number of days available per year\n",
        "- `avg_rating`: Average rating (from 0 to 5)\n",
        "- `stays_per_month`: Average number of stays per month\n",
        "- `pct_5_stars`: Percent of reviews that were 5-stars\n",
        "- `listing_added`: Date when listing was added\n"
      ]
    },
    {
      "cell_type": "code",
      "metadata": {
        "id": "KUKG6fNMV_zf",
        "colab_type": "code",
        "cellView": "both",
        "colab": {
          "base_uri": "https://localhost:8080/",
          "height": 221
        },
        "outputId": "8a227114-085c-470e-b415-fb7585c91ee6"
      },
      "source": [
        "# Install packages\n",
        "install.packages(\"readr\")\n",
        "install.packages(\"dplyr\")\n",
        "install.packages(\"stringr\")\n",
        "install.packages(\"ggplot2\")"
      ],
      "execution_count": 13,
      "outputs": [
        {
          "output_type": "stream",
          "text": [
            "Installing package into ‘/usr/local/lib/R/site-library’\n",
            "(as ‘lib’ is unspecified)\n",
            "\n",
            "Installing package into ‘/usr/local/lib/R/site-library’\n",
            "(as ‘lib’ is unspecified)\n",
            "\n",
            "Installing package into ‘/usr/local/lib/R/site-library’\n",
            "(as ‘lib’ is unspecified)\n",
            "\n",
            "Installing package into ‘/usr/local/lib/R/site-library’\n",
            "(as ‘lib’ is unspecified)\n",
            "\n"
          ],
          "name": "stderr"
        }
      ]
    },
    {
      "cell_type": "code",
      "metadata": {
        "id": "brr08aZX9Wss",
        "colab_type": "code",
        "colab": {}
      },
      "source": [
        "# Load packages\n",
        "library(readr)\n",
        "library(dplyr)\n",
        "library(stringr)\n",
        "library(ggplot2)"
      ],
      "execution_count": 0,
      "outputs": []
    },
    {
      "cell_type": "code",
      "metadata": {
        "id": "9VJyZeEo9M4O",
        "colab_type": "code",
        "colab": {
          "base_uri": "https://localhost:8080/",
          "height": 408
        },
        "outputId": "fc323a99-a9f5-4dd0-e6aa-0b2820a879e9"
      },
      "source": [
        "# Load dataset\n",
        "airbnb <- read_csv(\"https://raw.githubusercontent.com/datacamp/cleaning-data-in-r-live-training/master/assets/nyc_airbnb.csv\")"
      ],
      "execution_count": 20,
      "outputs": [
        {
          "output_type": "stream",
          "text": [
            "Warning message:\n",
            "“Missing column names filled in: 'X1' [1]”\n",
            "Parsed with column specification:\n",
            "cols(\n",
            "  X1 = \u001b[32mcol_double()\u001b[39m,\n",
            "  listing_id = \u001b[32mcol_double()\u001b[39m,\n",
            "  name = \u001b[31mcol_character()\u001b[39m,\n",
            "  host_id = \u001b[32mcol_double()\u001b[39m,\n",
            "  host_name = \u001b[31mcol_character()\u001b[39m,\n",
            "  nbhood_full = \u001b[31mcol_character()\u001b[39m,\n",
            "  coordinates = \u001b[31mcol_character()\u001b[39m,\n",
            "  room_type = \u001b[31mcol_character()\u001b[39m,\n",
            "  price = \u001b[31mcol_character()\u001b[39m,\n",
            "  nb_reviews = \u001b[32mcol_double()\u001b[39m,\n",
            "  last_review = \u001b[34mcol_date(format = \"\")\u001b[39m,\n",
            "  reviews_per_month = \u001b[32mcol_double()\u001b[39m,\n",
            "  availability_365 = \u001b[32mcol_double()\u001b[39m,\n",
            "  avg_rating = \u001b[32mcol_double()\u001b[39m,\n",
            "  nb_stays = \u001b[32mcol_double()\u001b[39m,\n",
            "  pct_5_stars = \u001b[32mcol_double()\u001b[39m,\n",
            "  listing_added = \u001b[34mcol_date(format = \"\")\u001b[39m\n",
            ")\n",
            "\n"
          ],
          "name": "stderr"
        }
      ]
    },
    {
      "cell_type": "code",
      "metadata": {
        "id": "1xTZWvUgBvKl",
        "colab_type": "code",
        "colab": {
          "base_uri": "https://localhost:8080/",
          "height": 513
        },
        "outputId": "5aaa0d10-9c5b-415e-fb3e-bafe684c5f55"
      },
      "source": [
        "head(airbnb)"
      ],
      "execution_count": 18,
      "outputs": [
        {
          "output_type": "display_data",
          "data": {
            "text/plain": [
              "  X1 listing_id name                                               host_id  \n",
              "1 1  13740704   Cozy,budget friendly, cable inc, private entrance!  20583125\n",
              "2 2  22005115   Two floor apartment near Central Park               82746113\n",
              "3 3  21667615   Beautiful 1BR in Brooklyn Heights                      78251\n",
              "4 4   6425850   Spacious, charming studio                           32715865\n",
              "5 5  22986519   Bedroom on the lively Lower East Side              154262349\n",
              "6 6    271954   Beautiful brownstone apartment                       1423798\n",
              "  host_name nbhood_full                  coordinates           room_type      \n",
              "1 Michel    Brooklyn, Flatlands          (40.63222, -73.93398) Private room   \n",
              "2 Cecilia   Manhattan, Upper West Side   (40.78761, -73.96862) Entire home/apt\n",
              "3 Leslie    Brooklyn, Brooklyn Heights   (40.7007, -73.99517)  Entire home/apt\n",
              "4 Yelena    Manhattan, Upper West Side   (40.79169, -73.97498) Entire home/apt\n",
              "5 Brooke    Manhattan, Lower East Side   (40.71884, -73.98354) Private room   \n",
              "6 Aj        Manhattan, Greenwich Village (40.73388, -73.99452) Entire home/apt\n",
              "  price nb_reviews last_review reviews_per_month availability_365 avg_rating\n",
              "1 $45    10        2018-12-12  0.70               85              4.100954  \n",
              "2 $135    1        2019-06-30  1.00              145              3.367600  \n",
              "3 $150    0        <NA>          NA               65                    NA  \n",
              "4 $86     5        2017-09-23  0.13                0              4.763203  \n",
              "5 $160   23        2019-06-12  2.29              102              3.822591  \n",
              "6 $150  203        2019-06-20  2.22              300              4.478396  \n",
              "  nb_stays pct_5_stars listing_added\n",
              "1  12.0    0.6094315   2018-06-08   \n",
              "2   1.2    0.7461346   2018-12-25   \n",
              "3    NA           NA   2018-08-15   \n",
              "4   6.0    0.7699471   2017-03-20   \n",
              "5  27.6    0.6493831   2020-10-23   \n",
              "6 243.6    0.7434997   2018-12-15   "
            ],
            "text/latex": "A tibble: 6 × 17\n\\begin{tabular}{lllllllllllllllll}\n X1 & listing\\_id & name & host\\_id & host\\_name & nbhood\\_full & coordinates & room\\_type & price & nb\\_reviews & last\\_review & reviews\\_per\\_month & availability\\_365 & avg\\_rating & nb\\_stays & pct\\_5\\_stars & listing\\_added\\\\\n <dbl> & <dbl> & <chr> & <dbl> & <chr> & <chr> & <chr> & <chr> & <chr> & <dbl> & <date> & <dbl> & <dbl> & <dbl> & <dbl> & <dbl> & <date>\\\\\n\\hline\n\t 1 & 13740704 & Cozy,budget friendly, cable inc, private entrance! &  20583125 & Michel  & Brooklyn, Flatlands          & (40.63222, -73.93398) & Private room    & \\$45  &  10 & 2018-12-12 & 0.70 &  85 & 4.100954 &  12.0 & 0.6094315 & 2018-06-08\\\\\n\t 2 & 22005115 & Two floor apartment near Central Park              &  82746113 & Cecilia & Manhattan, Upper West Side   & (40.78761, -73.96862) & Entire home/apt & \\$135 &   1 & 2019-06-30 & 1.00 & 145 & 3.367600 &   1.2 & 0.7461346 & 2018-12-25\\\\\n\t 3 & 21667615 & Beautiful 1BR in Brooklyn Heights                  &     78251 & Leslie  & Brooklyn, Brooklyn Heights   & (40.7007, -73.99517)  & Entire home/apt & \\$150 &   0 & NA &   NA &  65 &       NA &    NA &        NA & 2018-08-15\\\\\n\t 4 &  6425850 & Spacious, charming studio                          &  32715865 & Yelena  & Manhattan, Upper West Side   & (40.79169, -73.97498) & Entire home/apt & \\$86  &   5 & 2017-09-23 & 0.13 &   0 & 4.763203 &   6.0 & 0.7699471 & 2017-03-20\\\\\n\t 5 & 22986519 & Bedroom on the lively Lower East Side              & 154262349 & Brooke  & Manhattan, Lower East Side   & (40.71884, -73.98354) & Private room    & \\$160 &  23 & 2019-06-12 & 2.29 & 102 & 3.822591 &  27.6 & 0.6493831 & 2020-10-23\\\\\n\t 6 &   271954 & Beautiful brownstone apartment                     &   1423798 & Aj      & Manhattan, Greenwich Village & (40.73388, -73.99452) & Entire home/apt & \\$150 & 203 & 2019-06-20 & 2.22 & 300 & 4.478396 & 243.6 & 0.7434997 & 2018-12-15\\\\\n\\end{tabular}\n",
            "text/markdown": "\nA tibble: 6 × 17\n\n| X1 &lt;dbl&gt; | listing_id &lt;dbl&gt; | name &lt;chr&gt; | host_id &lt;dbl&gt; | host_name &lt;chr&gt; | nbhood_full &lt;chr&gt; | coordinates &lt;chr&gt; | room_type &lt;chr&gt; | price &lt;chr&gt; | nb_reviews &lt;dbl&gt; | last_review &lt;date&gt; | reviews_per_month &lt;dbl&gt; | availability_365 &lt;dbl&gt; | avg_rating &lt;dbl&gt; | nb_stays &lt;dbl&gt; | pct_5_stars &lt;dbl&gt; | listing_added &lt;date&gt; |\n|---|---|---|---|---|---|---|---|---|---|---|---|---|---|---|---|---|\n| 1 | 13740704 | Cozy,budget friendly, cable inc, private entrance! |  20583125 | Michel  | Brooklyn, Flatlands          | (40.63222, -73.93398) | Private room    | $45  |  10 | 2018-12-12 | 0.70 |  85 | 4.100954 |  12.0 | 0.6094315 | 2018-06-08 |\n| 2 | 22005115 | Two floor apartment near Central Park              |  82746113 | Cecilia | Manhattan, Upper West Side   | (40.78761, -73.96862) | Entire home/apt | $135 |   1 | 2019-06-30 | 1.00 | 145 | 3.367600 |   1.2 | 0.7461346 | 2018-12-25 |\n| 3 | 21667615 | Beautiful 1BR in Brooklyn Heights                  |     78251 | Leslie  | Brooklyn, Brooklyn Heights   | (40.7007, -73.99517)  | Entire home/apt | $150 |   0 | NA |   NA |  65 |       NA |    NA |        NA | 2018-08-15 |\n| 4 |  6425850 | Spacious, charming studio                          |  32715865 | Yelena  | Manhattan, Upper West Side   | (40.79169, -73.97498) | Entire home/apt | $86  |   5 | 2017-09-23 | 0.13 |   0 | 4.763203 |   6.0 | 0.7699471 | 2017-03-20 |\n| 5 | 22986519 | Bedroom on the lively Lower East Side              | 154262349 | Brooke  | Manhattan, Lower East Side   | (40.71884, -73.98354) | Private room    | $160 |  23 | 2019-06-12 | 2.29 | 102 | 3.822591 |  27.6 | 0.6493831 | 2020-10-23 |\n| 6 |   271954 | Beautiful brownstone apartment                     |   1423798 | Aj      | Manhattan, Greenwich Village | (40.73388, -73.99452) | Entire home/apt | $150 | 203 | 2019-06-20 | 2.22 | 300 | 4.478396 | 243.6 | 0.7434997 | 2018-12-15 |\n\n",
            "text/html": [
              "<table>\n",
              "<caption>A tibble: 6 × 17</caption>\n",
              "<thead>\n",
              "\t<tr><th scope=col>X1</th><th scope=col>listing_id</th><th scope=col>name</th><th scope=col>host_id</th><th scope=col>host_name</th><th scope=col>nbhood_full</th><th scope=col>coordinates</th><th scope=col>room_type</th><th scope=col>price</th><th scope=col>nb_reviews</th><th scope=col>last_review</th><th scope=col>reviews_per_month</th><th scope=col>availability_365</th><th scope=col>avg_rating</th><th scope=col>nb_stays</th><th scope=col>pct_5_stars</th><th scope=col>listing_added</th></tr>\n",
              "\t<tr><th scope=col>&lt;dbl&gt;</th><th scope=col>&lt;dbl&gt;</th><th scope=col>&lt;chr&gt;</th><th scope=col>&lt;dbl&gt;</th><th scope=col>&lt;chr&gt;</th><th scope=col>&lt;chr&gt;</th><th scope=col>&lt;chr&gt;</th><th scope=col>&lt;chr&gt;</th><th scope=col>&lt;chr&gt;</th><th scope=col>&lt;dbl&gt;</th><th scope=col>&lt;date&gt;</th><th scope=col>&lt;dbl&gt;</th><th scope=col>&lt;dbl&gt;</th><th scope=col>&lt;dbl&gt;</th><th scope=col>&lt;dbl&gt;</th><th scope=col>&lt;dbl&gt;</th><th scope=col>&lt;date&gt;</th></tr>\n",
              "</thead>\n",
              "<tbody>\n",
              "\t<tr><td>1</td><td>13740704</td><td>Cozy,budget friendly, cable inc, private entrance!</td><td> 20583125</td><td>Michel </td><td>Brooklyn, Flatlands         </td><td>(40.63222, -73.93398)</td><td>Private room   </td><td>$45 </td><td> 10</td><td>2018-12-12</td><td>0.70</td><td> 85</td><td>4.100954</td><td> 12.0</td><td>0.6094315</td><td>2018-06-08</td></tr>\n",
              "\t<tr><td>2</td><td>22005115</td><td>Two floor apartment near Central Park             </td><td> 82746113</td><td>Cecilia</td><td>Manhattan, Upper West Side  </td><td>(40.78761, -73.96862)</td><td>Entire home/apt</td><td>$135</td><td>  1</td><td>2019-06-30</td><td>1.00</td><td>145</td><td>3.367600</td><td>  1.2</td><td>0.7461346</td><td>2018-12-25</td></tr>\n",
              "\t<tr><td>3</td><td>21667615</td><td>Beautiful 1BR in Brooklyn Heights                 </td><td>    78251</td><td>Leslie </td><td>Brooklyn, Brooklyn Heights  </td><td>(40.7007, -73.99517) </td><td>Entire home/apt</td><td>$150</td><td>  0</td><td>NA</td><td>  NA</td><td> 65</td><td>      NA</td><td>   NA</td><td>       NA</td><td>2018-08-15</td></tr>\n",
              "\t<tr><td>4</td><td> 6425850</td><td>Spacious, charming studio                         </td><td> 32715865</td><td>Yelena </td><td>Manhattan, Upper West Side  </td><td>(40.79169, -73.97498)</td><td>Entire home/apt</td><td>$86 </td><td>  5</td><td>2017-09-23</td><td>0.13</td><td>  0</td><td>4.763203</td><td>  6.0</td><td>0.7699471</td><td>2017-03-20</td></tr>\n",
              "\t<tr><td>5</td><td>22986519</td><td>Bedroom on the lively Lower East Side             </td><td>154262349</td><td>Brooke </td><td>Manhattan, Lower East Side  </td><td>(40.71884, -73.98354)</td><td>Private room   </td><td>$160</td><td> 23</td><td>2019-06-12</td><td>2.29</td><td>102</td><td>3.822591</td><td> 27.6</td><td>0.6493831</td><td>2020-10-23</td></tr>\n",
              "\t<tr><td>6</td><td>  271954</td><td>Beautiful brownstone apartment                    </td><td>  1423798</td><td>Aj     </td><td>Manhattan, Greenwich Village</td><td>(40.73388, -73.99452)</td><td>Entire home/apt</td><td>$150</td><td>203</td><td>2019-06-20</td><td>2.22</td><td>300</td><td>4.478396</td><td>243.6</td><td>0.7434997</td><td>2018-12-15</td></tr>\n",
              "</tbody>\n",
              "</table>\n"
            ]
          },
          "metadata": {
            "tags": []
          }
        }
      ]
    },
    {
      "cell_type": "markdown",
      "metadata": {
        "id": "7TUv-fAzjqjk",
        "colab_type": "text"
      },
      "source": [
        "## Diagnosing data cleaning problems\n",
        "\n",
        "We'll need to get a good look at the data frame in order to identify any problems that may cause issues during an analysis. There are a variety of functions (both from base R and `dplyr`) that can help us with this:\n",
        "\n",
        "1. `head()` to look at the first few rows of the data\n",
        "2. `glimpse()` to get a summary of the variables' data types\n",
        "3. `summary()` to compute summary statistics of each variable and display the number of missing values\n",
        "4. `duplicated()` to find duplicates\n"
      ]
    },
    {
      "cell_type": "code",
      "metadata": {
        "id": "dKZGrzUPYrCX",
        "colab_type": "code",
        "outputId": "7b3cab2f-182c-4112-c0a7-7b6cca16080a",
        "colab": {
          "base_uri": "https://localhost:8080/",
          "height": 513
        }
      },
      "source": [
        "# What does the data look like?\n",
        "head(airbnb)"
      ],
      "execution_count": 9,
      "outputs": [
        {
          "output_type": "display_data",
          "data": {
            "text/plain": [
              "  X listing_id name                                               host_id  \n",
              "1 1 13740704   Cozy,budget friendly, cable inc, private entrance!  20583125\n",
              "2 2 22005115   Two floor apartment near Central Park               82746113\n",
              "3 3 21667615   Beautiful 1BR in Brooklyn Heights                      78251\n",
              "4 4  6425850   Spacious, charming studio                           32715865\n",
              "5 5 22986519   Bedroom on the lively Lower East Side              154262349\n",
              "6 6   271954   Beautiful brownstone apartment                       1423798\n",
              "  host_name nbhood_full                  coordinates           room_type      \n",
              "1 Michel    Brooklyn, Flatlands          (40.63222, -73.93398) Private room   \n",
              "2 Cecilia   Manhattan, Upper West Side   (40.78761, -73.96862) Entire home/apt\n",
              "3 Leslie    Brooklyn, Brooklyn Heights   (40.7007, -73.99517)  Entire home/apt\n",
              "4 Yelena    Manhattan, Upper West Side   (40.79169, -73.97498) Entire home/apt\n",
              "5 Brooke    Manhattan, Lower East Side   (40.71884, -73.98354) Private room   \n",
              "6 Aj        Manhattan, Greenwich Village (40.73388, -73.99452) Entire home/apt\n",
              "  price nb_reviews last_review reviews_per_month availability_365 avg_rating\n",
              "1 $45    10        2018-12-12  0.70               85              4.100954  \n",
              "2 $135    1        2019-06-30  1.00              145              3.367600  \n",
              "3 $150    0                      NA               65                    NA  \n",
              "4 $86     5        2017-09-23  0.13                0              4.763203  \n",
              "5 $160   23        2019-06-12  2.29              102              3.822591  \n",
              "6 $150  203        2019-06-20  2.22              300              4.478396  \n",
              "  nb_stays pct_5_stars listing_added\n",
              "1  12.0    0.6094315   2018-06-08   \n",
              "2   1.2    0.7461346   2018-12-25   \n",
              "3    NA           NA   2018-08-15   \n",
              "4   6.0    0.7699471   2017-03-20   \n",
              "5  27.6    0.6493831   2020-10-23   \n",
              "6 243.6    0.7434997   2018-12-15   "
            ],
            "text/latex": "A data.frame: 6 × 17\n\\begin{tabular}{r|lllllllllllllllll}\n  & X & listing\\_id & name & host\\_id & host\\_name & nbhood\\_full & coordinates & room\\_type & price & nb\\_reviews & last\\_review & reviews\\_per\\_month & availability\\_365 & avg\\_rating & nb\\_stays & pct\\_5\\_stars & listing\\_added\\\\\n  & <int> & <int> & <fct> & <int> & <fct> & <fct> & <fct> & <fct> & <fct> & <int> & <fct> & <dbl> & <int> & <dbl> & <dbl> & <dbl> & <fct>\\\\\n\\hline\n\t1 & 1 & 13740704 & Cozy,budget friendly, cable inc, private entrance! &  20583125 & Michel  & Brooklyn, Flatlands          & (40.63222, -73.93398) & Private room    & \\$45  &  10 & 2018-12-12 & 0.70 &  85 & 4.100954 &  12.0 & 0.6094315 & 2018-06-08\\\\\n\t2 & 2 & 22005115 & Two floor apartment near Central Park              &  82746113 & Cecilia & Manhattan, Upper West Side   & (40.78761, -73.96862) & Entire home/apt & \\$135 &   1 & 2019-06-30 & 1.00 & 145 & 3.367600 &   1.2 & 0.7461346 & 2018-12-25\\\\\n\t3 & 3 & 21667615 & Beautiful 1BR in Brooklyn Heights                  &     78251 & Leslie  & Brooklyn, Brooklyn Heights   & (40.7007, -73.99517)  & Entire home/apt & \\$150 &   0 &            &   NA &  65 &       NA &    NA &        NA & 2018-08-15\\\\\n\t4 & 4 &  6425850 & Spacious, charming studio                          &  32715865 & Yelena  & Manhattan, Upper West Side   & (40.79169, -73.97498) & Entire home/apt & \\$86  &   5 & 2017-09-23 & 0.13 &   0 & 4.763203 &   6.0 & 0.7699471 & 2017-03-20\\\\\n\t5 & 5 & 22986519 & Bedroom on the lively Lower East Side              & 154262349 & Brooke  & Manhattan, Lower East Side   & (40.71884, -73.98354) & Private room    & \\$160 &  23 & 2019-06-12 & 2.29 & 102 & 3.822591 &  27.6 & 0.6493831 & 2020-10-23\\\\\n\t6 & 6 &   271954 & Beautiful brownstone apartment                     &   1423798 & Aj      & Manhattan, Greenwich Village & (40.73388, -73.99452) & Entire home/apt & \\$150 & 203 & 2019-06-20 & 2.22 & 300 & 4.478396 & 243.6 & 0.7434997 & 2018-12-15\\\\\n\\end{tabular}\n",
            "text/markdown": "\nA data.frame: 6 × 17\n\n| <!--/--> | X &lt;int&gt; | listing_id &lt;int&gt; | name &lt;fct&gt; | host_id &lt;int&gt; | host_name &lt;fct&gt; | nbhood_full &lt;fct&gt; | coordinates &lt;fct&gt; | room_type &lt;fct&gt; | price &lt;fct&gt; | nb_reviews &lt;int&gt; | last_review &lt;fct&gt; | reviews_per_month &lt;dbl&gt; | availability_365 &lt;int&gt; | avg_rating &lt;dbl&gt; | nb_stays &lt;dbl&gt; | pct_5_stars &lt;dbl&gt; | listing_added &lt;fct&gt; |\n|---|---|---|---|---|---|---|---|---|---|---|---|---|---|---|---|---|---|\n| 1 | 1 | 13740704 | Cozy,budget friendly, cable inc, private entrance! |  20583125 | Michel  | Brooklyn, Flatlands          | (40.63222, -73.93398) | Private room    | $45  |  10 | 2018-12-12 | 0.70 |  85 | 4.100954 |  12.0 | 0.6094315 | 2018-06-08 |\n| 2 | 2 | 22005115 | Two floor apartment near Central Park              |  82746113 | Cecilia | Manhattan, Upper West Side   | (40.78761, -73.96862) | Entire home/apt | $135 |   1 | 2019-06-30 | 1.00 | 145 | 3.367600 |   1.2 | 0.7461346 | 2018-12-25 |\n| 3 | 3 | 21667615 | Beautiful 1BR in Brooklyn Heights                  |     78251 | Leslie  | Brooklyn, Brooklyn Heights   | (40.7007, -73.99517)  | Entire home/apt | $150 |   0 | <!----> |   NA |  65 |       NA |    NA |        NA | 2018-08-15 |\n| 4 | 4 |  6425850 | Spacious, charming studio                          |  32715865 | Yelena  | Manhattan, Upper West Side   | (40.79169, -73.97498) | Entire home/apt | $86  |   5 | 2017-09-23 | 0.13 |   0 | 4.763203 |   6.0 | 0.7699471 | 2017-03-20 |\n| 5 | 5 | 22986519 | Bedroom on the lively Lower East Side              | 154262349 | Brooke  | Manhattan, Lower East Side   | (40.71884, -73.98354) | Private room    | $160 |  23 | 2019-06-12 | 2.29 | 102 | 3.822591 |  27.6 | 0.6493831 | 2020-10-23 |\n| 6 | 6 |   271954 | Beautiful brownstone apartment                     |   1423798 | Aj      | Manhattan, Greenwich Village | (40.73388, -73.99452) | Entire home/apt | $150 | 203 | 2019-06-20 | 2.22 | 300 | 4.478396 | 243.6 | 0.7434997 | 2018-12-15 |\n\n",
            "text/html": [
              "<table>\n",
              "<caption>A data.frame: 6 × 17</caption>\n",
              "<thead>\n",
              "\t<tr><th></th><th scope=col>X</th><th scope=col>listing_id</th><th scope=col>name</th><th scope=col>host_id</th><th scope=col>host_name</th><th scope=col>nbhood_full</th><th scope=col>coordinates</th><th scope=col>room_type</th><th scope=col>price</th><th scope=col>nb_reviews</th><th scope=col>last_review</th><th scope=col>reviews_per_month</th><th scope=col>availability_365</th><th scope=col>avg_rating</th><th scope=col>nb_stays</th><th scope=col>pct_5_stars</th><th scope=col>listing_added</th></tr>\n",
              "\t<tr><th></th><th scope=col>&lt;int&gt;</th><th scope=col>&lt;int&gt;</th><th scope=col>&lt;fct&gt;</th><th scope=col>&lt;int&gt;</th><th scope=col>&lt;fct&gt;</th><th scope=col>&lt;fct&gt;</th><th scope=col>&lt;fct&gt;</th><th scope=col>&lt;fct&gt;</th><th scope=col>&lt;fct&gt;</th><th scope=col>&lt;int&gt;</th><th scope=col>&lt;fct&gt;</th><th scope=col>&lt;dbl&gt;</th><th scope=col>&lt;int&gt;</th><th scope=col>&lt;dbl&gt;</th><th scope=col>&lt;dbl&gt;</th><th scope=col>&lt;dbl&gt;</th><th scope=col>&lt;fct&gt;</th></tr>\n",
              "</thead>\n",
              "<tbody>\n",
              "\t<tr><th scope=row>1</th><td>1</td><td>13740704</td><td>Cozy,budget friendly, cable inc, private entrance!</td><td> 20583125</td><td>Michel </td><td>Brooklyn, Flatlands         </td><td>(40.63222, -73.93398)</td><td>Private room   </td><td>$45 </td><td> 10</td><td>2018-12-12</td><td>0.70</td><td> 85</td><td>4.100954</td><td> 12.0</td><td>0.6094315</td><td>2018-06-08</td></tr>\n",
              "\t<tr><th scope=row>2</th><td>2</td><td>22005115</td><td>Two floor apartment near Central Park             </td><td> 82746113</td><td>Cecilia</td><td>Manhattan, Upper West Side  </td><td>(40.78761, -73.96862)</td><td>Entire home/apt</td><td>$135</td><td>  1</td><td>2019-06-30</td><td>1.00</td><td>145</td><td>3.367600</td><td>  1.2</td><td>0.7461346</td><td>2018-12-25</td></tr>\n",
              "\t<tr><th scope=row>3</th><td>3</td><td>21667615</td><td>Beautiful 1BR in Brooklyn Heights                 </td><td>    78251</td><td>Leslie </td><td>Brooklyn, Brooklyn Heights  </td><td>(40.7007, -73.99517) </td><td>Entire home/apt</td><td>$150</td><td>  0</td><td>          </td><td>  NA</td><td> 65</td><td>      NA</td><td>   NA</td><td>       NA</td><td>2018-08-15</td></tr>\n",
              "\t<tr><th scope=row>4</th><td>4</td><td> 6425850</td><td>Spacious, charming studio                         </td><td> 32715865</td><td>Yelena </td><td>Manhattan, Upper West Side  </td><td>(40.79169, -73.97498)</td><td>Entire home/apt</td><td>$86 </td><td>  5</td><td>2017-09-23</td><td>0.13</td><td>  0</td><td>4.763203</td><td>  6.0</td><td>0.7699471</td><td>2017-03-20</td></tr>\n",
              "\t<tr><th scope=row>5</th><td>5</td><td>22986519</td><td>Bedroom on the lively Lower East Side             </td><td>154262349</td><td>Brooke </td><td>Manhattan, Lower East Side  </td><td>(40.71884, -73.98354)</td><td>Private room   </td><td>$160</td><td> 23</td><td>2019-06-12</td><td>2.29</td><td>102</td><td>3.822591</td><td> 27.6</td><td>0.6493831</td><td>2020-10-23</td></tr>\n",
              "\t<tr><th scope=row>6</th><td>6</td><td>  271954</td><td>Beautiful brownstone apartment                    </td><td>  1423798</td><td>Aj     </td><td>Manhattan, Greenwich Village</td><td>(40.73388, -73.99452)</td><td>Entire home/apt</td><td>$150</td><td>203</td><td>2019-06-20</td><td>2.22</td><td>300</td><td>4.478396</td><td>243.6</td><td>0.7434997</td><td>2018-12-15</td></tr>\n",
              "</tbody>\n",
              "</table>\n"
            ]
          },
          "metadata": {
            "tags": []
          }
        }
      ]
    },
    {
      "cell_type": "markdown",
      "metadata": {
        "id": "jVf20GPO2X7o",
        "colab_type": "text"
      },
      "source": [
        "**Problems so far:**\n",
        "1. Column called `X` that indicates row number - we don't need this\n",
        "2. Multiple pieces of information in one value:\n",
        "  - `coordinates` are easier to work with when separated into latitude and longitude\n",
        "  - `nbhood_full` contains both the borough name (i.e. Manhattan, Brooklyn, etc.) and the neighborhood name (i.e. Lower East Side)\n",
        "3. `price` has an unnecessary $"
      ]
    },
    {
      "cell_type": "code",
      "metadata": {
        "id": "cYHT-9womfZl",
        "colab_type": "code",
        "colab": {
          "base_uri": "https://localhost:8080/",
          "height": 340
        },
        "outputId": "bd50c49b-ec8f-4c67-ad0c-834f0cefefe4"
      },
      "source": [
        "# Inspect data types\n",
        "glimpse(airbnb)"
      ],
      "execution_count": 10,
      "outputs": [
        {
          "output_type": "stream",
          "text": [
            "Rows: 10,019\n",
            "Columns: 17\n",
            "$ X                 \u001b[3m\u001b[90m<int>\u001b[39m\u001b[23m 1, 2, 3, 4, 5, 6, 7, 8, 9, 10, 11, 12, 13, 14, 15, …\n",
            "$ listing_id        \u001b[3m\u001b[90m<int>\u001b[39m\u001b[23m 13740704, 22005115, 21667615, 6425850, 22986519, 27…\n",
            "$ name              \u001b[3m\u001b[90m<fct>\u001b[39m\u001b[23m \"Cozy,budget friendly, cable inc, private entrance!…\n",
            "$ host_id           \u001b[3m\u001b[90m<int>\u001b[39m\u001b[23m 20583125, 82746113, 78251, 32715865, 154262349, 142…\n",
            "$ host_name         \u001b[3m\u001b[90m<fct>\u001b[39m\u001b[23m Michel, Cecilia, Leslie, Yelena, Brooke, Aj, Christ…\n",
            "$ nbhood_full       \u001b[3m\u001b[90m<fct>\u001b[39m\u001b[23m \"Brooklyn, Flatlands\", \"Manhattan, Upper West Side\"…\n",
            "$ coordinates       \u001b[3m\u001b[90m<fct>\u001b[39m\u001b[23m \"(40.63222, -73.93398)\", \"(40.78761, -73.96862)\", \"…\n",
            "$ room_type         \u001b[3m\u001b[90m<fct>\u001b[39m\u001b[23m Private room, Entire home/apt, Entire home/apt, Ent…\n",
            "$ price             \u001b[3m\u001b[90m<fct>\u001b[39m\u001b[23m $45, $135, $150, $86, $160, $150, $200, $224, $169,…\n",
            "$ nb_reviews        \u001b[3m\u001b[90m<int>\u001b[39m\u001b[23m 10, 1, 0, 5, 23, 203, 0, 2, 5, 8, 5, 2, 21, 0, 0, 0…\n",
            "$ last_review       \u001b[3m\u001b[90m<fct>\u001b[39m\u001b[23m 2018-12-12, 2019-06-30, , 2017-09-23, 2019-06-12, 2…\n",
            "$ reviews_per_month \u001b[3m\u001b[90m<dbl>\u001b[39m\u001b[23m 0.70, 1.00, NA, 0.13, 2.29, 2.22, NA, 0.08, 0.15, 0…\n",
            "$ availability_365  \u001b[3m\u001b[90m<int>\u001b[39m\u001b[23m 85, 145, 65, 0, 102, 300, 219, 353, 365, 9, 0, 24, …\n",
            "$ avg_rating        \u001b[3m\u001b[90m<dbl>\u001b[39m\u001b[23m 4.100954, 3.367600, NA, 4.763203, 3.822591, 4.47839…\n",
            "$ nb_stays          \u001b[3m\u001b[90m<dbl>\u001b[39m\u001b[23m 12.0, 1.2, NA, 6.0, 27.6, 243.6, NA, 2.4, 6.0, 9.6,…\n",
            "$ pct_5_stars       \u001b[3m\u001b[90m<dbl>\u001b[39m\u001b[23m 0.6094315, 0.7461346, NA, 0.7699471, 0.6493831, 0.7…\n",
            "$ listing_added     \u001b[3m\u001b[90m<fct>\u001b[39m\u001b[23m 2018-06-08, 2018-12-25, 2018-08-15, 2017-03-20, 202…\n"
          ],
          "name": "stdout"
        }
      ]
    },
    {
      "cell_type": "markdown",
      "metadata": {
        "id": "nV3pvDr161Ib",
        "colab_type": "text"
      },
      "source": [
        "4. Columns like `coordinates` and `price` are factors instead of numeric values.\n",
        "5. Columns with dates like `last_review` and `listing_added` are factors instead of the `Date` data type."
      ]
    },
    {
      "cell_type": "code",
      "metadata": {
        "id": "kgnARdUOkvfT",
        "colab_type": "code",
        "colab": {
          "base_uri": "https://localhost:8080/",
          "height": 833
        },
        "outputId": "95107174-e134-4007-827d-9aceb85d6403"
      },
      "source": [
        "# Examine summary statistics and missing values\n",
        "summary(airbnb)"
      ],
      "execution_count": 11,
      "outputs": [
        {
          "output_type": "display_data",
          "data": {
            "text/plain": [
              "       X           listing_id                                  name     \n",
              " Min.   :    1   Min.   :    3831                                :   5  \n",
              " 1st Qu.: 2506   1st Qu.: 9674772   Beautiful Brooklyn Brownstone:   5  \n",
              " Median : 5010   Median :20070296   New york Multi-unit building :   5  \n",
              " Mean   : 5010   Mean   :19276341   Hillside Hotel               :   4  \n",
              " 3rd Qu.: 7514   3rd Qu.:29338637   Home away from home          :   4  \n",
              " Max.   :10019   Max.   :36487245   Brooklyn Apartment           :   3  \n",
              "                                    (Other)                      :9993  \n",
              "    host_id                 host_name                          nbhood_full  \n",
              " Min.   :     2787   Michael     :  89   Brooklyn, Bedford-Stuyvesant: 777  \n",
              " 1st Qu.:  7910880   David       :  85   Brooklyn, Williamsburg      : 766  \n",
              " Median : 31651673   Sonder (NYC):  66   Manhattan, Harlem           : 541  \n",
              " Mean   : 67959227   Alex        :  52   Brooklyn, Bushwick          : 502  \n",
              " 3rd Qu.:107434423   Daniel      :  50   Manhattan, Hell's Kitchen   : 405  \n",
              " Max.   :274103383   John        :  47   Manhattan, Upper West Side  : 395  \n",
              "                     (Other)     :9630   (Other)                     :6633  \n",
              "                         coordinates                   room_type   \n",
              " (40.59211, -73.94126999999997):    2      Shared room      :  71  \n",
              " (40.66086, -73.96159)         :    2   Entire home/apt     :5120  \n",
              " (40.67359, -73.95812)         :    2   home                :  66  \n",
              " (40.682, -73.95681)           :    2   Private             :  89  \n",
              " (40.68842, -73.77677)         :    2   Private room        :4487  \n",
              " (40.69336, -73.94453)         :    2   PRIVATE ROOM        :  31  \n",
              " (Other)                       :10007   Shared room         : 155  \n",
              "     price        nb_reviews         last_review   reviews_per_month\n",
              " $150   : 416   Min.   :  0.00             :2075   Min.   : 0.010   \n",
              " $100   : 395   1st Qu.:  1.00   2019-06-23: 283   1st Qu.: 0.200   \n",
              " $200   : 292   Median :  5.00   2019-07-01: 273   Median : 0.710   \n",
              " $50    : 287   Mean   : 22.46   2019-06-30: 267   Mean   : 1.354   \n",
              " $60    : 287   3rd Qu.: 22.00   2019-06-24: 177   3rd Qu.: 2.000   \n",
              " $75    : 281   Max.   :510.00   2019-06-22: 146   Max.   :16.220   \n",
              " (Other):8061                    (Other)   :6798   NA's   :2075     \n",
              " availability_365   avg_rating       nb_stays       pct_5_stars    \n",
              " Min.   :  0.0    Min.   :3.001   Min.   :  1.20   Min.   :0.6000  \n",
              " 1st Qu.:  0.0    1st Qu.:3.520   1st Qu.:  3.60   1st Qu.:0.6556  \n",
              " Median : 44.0    Median :4.028   Median : 10.80   Median :0.7098  \n",
              " Mean   :112.3    Mean   :4.014   Mean   : 33.99   Mean   :0.7186  \n",
              " 3rd Qu.:226.0    3rd Qu.:4.516   3rd Qu.: 38.40   3rd Qu.:0.7640  \n",
              " Max.   :365.0    Max.   :5.181   Max.   :612.00   Max.   :0.9503  \n",
              "                  NA's   :2075    NA's   :2075     NA's   :2075    \n",
              "    listing_added \n",
              " 2018-12-18: 283  \n",
              " 2018-12-26: 273  \n",
              " 2018-12-25: 267  \n",
              " 2018-12-19: 177  \n",
              " 2018-12-17: 146  \n",
              " 2019-01-01: 146  \n",
              " (Other)   :8727  "
            ]
          },
          "metadata": {
            "tags": []
          }
        }
      ]
    },
    {
      "cell_type": "markdown",
      "metadata": {
        "id": "02k4nxc38ZXq",
        "colab_type": "text"
      },
      "source": [
        "6. 2075 missing values in `reviews_per_month`, `avg_rating`, `nb_stays`, and `pct_5_stars`."
      ]
    },
    {
      "cell_type": "code",
      "metadata": {
        "id": "3QvsJ8XCmkUP",
        "colab_type": "code",
        "colab": {
          "base_uri": "https://localhost:8080/",
          "height": 1000
        },
        "outputId": "54e88ae9-ae82-4fae-8b35-595cef2aed96"
      },
      "source": [
        "# Find data with duplicated listing_id\n",
        "airbnb %>%\n",
        "  filter(duplicated(listing_id))"
      ],
      "execution_count": 15,
      "outputs": [
        {
          "output_type": "display_data",
          "data": {
            "text/plain": [
              "   X    listing_id name                                               host_id  \n",
              "1  2256  7319856   450ft Square Studio in Gramercy NY                  11773680\n",
              "2  3008 17861841   THE CREATIVE COZY ROOM                              47591528\n",
              "3  3341 35646737   Private Cabins @ Chelsea, Manhattan                117365574\n",
              "4  3431 15027024   Newly renovated 1bd on lively & historic St Marks    8344620\n",
              "5  4188  4244242   Best Bedroom in Bedstuy/Bushwick. Ensuite bathroom  22023014\n",
              "6  5078 33831116   Sonder | Stock Exchange | Collected 1BR + Laundry  219517861\n",
              "7  5398 16518377   East Village 1BR Apt with all the amenities          3012457\n",
              "8  6069 22014840   Sunny Bedroom Only 1 Metro Stop to Manhattan        32093643\n",
              "9  6086 33346762   2BR Apartment in Brownstone Brooklyn!               50321289\n",
              "10 6133 23990868   1 Bedroom in Luxury Building                         4447548\n",
              "11 6314 32610834   Manhattan by the water!                             12132369\n",
              "12 6439 19477677   Huge sunny room next to subway!                     25038748\n",
              "13 6563   253806   Loft Suite @ The Box House Hotel                      417504\n",
              "14 6833 21106251   Private Bedroom in Great Brooklyn Apartment         25354313\n",
              "15 7770 26554879   East Village/Union Square Flat                      17400431\n",
              "16 7934  9078222   Prospect Park 3 bdrm, Sleeps 8 (#2)                 47219962\n",
              "17 8700  2044392   The heart of Williamsburg 2 bedroom                   620218\n",
              "18 9266 35801208   Comfy 2 bedroom Close To Manhattan                 256911412\n",
              "19 9323 31470004   Private bedroom/Bathroom in a 2 bedroom apartment   71241932\n",
              "20 9426 29844951   Cozy Home In Queens                                 49946447\n",
              "   host_name           nbhood_full                        \n",
              "1  Adam                Manhattan, Kips Bay                \n",
              "2  Janessa             Brooklyn, Sheepshead Bay           \n",
              "3  Maria               Manhattan, Chelsea                 \n",
              "4  Ethan               Manhattan, East Village            \n",
              "5  BrooklynSleeps      Brooklyn, Bedford-Stuyvesant       \n",
              "6  Sonder (NYC)        Manhattan, Financial District      \n",
              "7  Cody                Manhattan, East Village            \n",
              "8  Scarlett            Manhattan, Roosevelt Island        \n",
              "9  Avery               Brooklyn, Bedford-Stuyvesant       \n",
              "10 Grace               Brooklyn, Bedford-Stuyvesant       \n",
              "11 Omar                Manhattan, Kips Bay                \n",
              "12 Justin              Manhattan, Harlem                  \n",
              "13 The Box House Hotel Brooklyn, Greenpoint               \n",
              "14 Tommy               Brooklyn, Crown Heights            \n",
              "15 Bob                 Manhattan, East Village            \n",
              "16 Babajide            Brooklyn, Prospect-Lefferts Gardens\n",
              "17 Sarah               Brooklyn, Williamsburg             \n",
              "18 Taylor              Brooklyn, Williamsburg             \n",
              "19 Max                 Manhattan, East Village            \n",
              "20 Rah                 Queens, Jamaica                    \n",
              "   coordinates                    room_type       price nb_reviews last_review\n",
              "1  (40.73813, -73.98098)          Entire home/apt $280    4        2016-05-22 \n",
              "2  (40.59211, -73.94126999999997) Private room    $99    13        2019-05-23 \n",
              "3  (40.74946, -73.99627)          Private room    $85     1        2019-06-22 \n",
              "4  (40.72693, -73.98385)          Entire home/apt $180   10        2018-12-31 \n",
              "5  (40.69496, -73.93949)          Private room    $73   110        2019-06-23 \n",
              "6  (40.70621, -74.01199)          Entire home/apt $229    5        2019-06-15 \n",
              "7  (40.7235, -73.97963)           Entire home/apt $200    3        2018-07-10 \n",
              "8  (40.76211, -73.94887)          Private room    $70     2        2018-01-07 \n",
              "9  (40.682, -73.95681)            Entire home/apt $140    4        2019-06-14 \n",
              "10 (40.69336, -73.94453)          Entire home/apt $88     8        2019-06-16 \n",
              "11 (40.73767, -73.97384)          Entire home/apt $150    0                   \n",
              "12 (40.82119, -73.95583)          Private room    $70    11        2019-05-11 \n",
              "13 (40.73652, -73.95236)          Entire home/apt $199   43        2019-07-02 \n",
              "14 (40.67359, -73.95812)          Private room    $45     9        2019-06-22 \n",
              "15 (40.73177, -73.98691)          Entire home/apt $179   32        2019-06-26 \n",
              "16 (40.66086, -73.96159)          Entire home/apt $150  123        2019-07-01 \n",
              "17 (40.71257, -73.96149)          Entire home/apt $245    0                   \n",
              "18 (40.70469, -73.9369)           Entire home/apt $101    0                   \n",
              "19 (40.72544, -73.97818000000002) Private room    $2500   0                   \n",
              "20 (40.68842, -73.77677)          Private room    $50     1        2019-03-19 \n",
              "   reviews_per_month availability_365 avg_rating nb_stays pct_5_stars\n",
              "1  0.09              225              3.903764     4.8    0.7563810  \n",
              "2  0.52               82              4.806590    15.6    0.9374216  \n",
              "3  1.00              261              4.951714     1.2    0.6713879  \n",
              "4  0.30                0              3.869729    12.0    0.7725126  \n",
              "5  1.96              323              4.962314   132.0    0.8098820  \n",
              "6  1.92              350              4.026379     6.0    0.6017374  \n",
              "7  0.16                0              4.676670     3.6    0.6944427  \n",
              "8  0.11                0              4.024336     2.4    0.7194262  \n",
              "9  1.58                4              4.013393     4.8    0.7195908  \n",
              "10 0.56               18              4.164548     9.6    0.6401060  \n",
              "11   NA                9                    NA      NA           NA  \n",
              "12 0.45                0              3.074890    13.2    0.6316186  \n",
              "13 0.47               60              4.620238    51.6    0.8610863  \n",
              "14 0.43                0              3.779114    10.8    0.7381907  \n",
              "15 2.92               12              3.125513    38.4    0.6317645  \n",
              "16 2.74              263              3.466881   147.6    0.7381911  \n",
              "17   NA                0                    NA      NA           NA  \n",
              "18   NA               27                    NA      NA           NA  \n",
              "19   NA               90                    NA      NA           NA  \n",
              "20 0.27              311              4.792923     1.2    0.7012322  \n",
              "   listing_added\n",
              "1  2015-11-17   \n",
              "2  2018-11-17   \n",
              "3  2018-12-17   \n",
              "4  2018-06-27   \n",
              "5  2018-12-18   \n",
              "6  2018-12-10   \n",
              "7  2018-01-04   \n",
              "8  2017-07-04   \n",
              "9  2018-12-09   \n",
              "10 2018-12-11   \n",
              "11 2018-06-28   \n",
              "12 2018-11-05   \n",
              "13 2018-12-27   \n",
              "14 2018-12-17   \n",
              "15 2018-12-21   \n",
              "16 2018-12-26   \n",
              "17 2018-08-09   \n",
              "18 2018-05-03   \n",
              "19 2018-03-12   \n",
              "20 2018-09-13   "
            ],
            "text/latex": "A data.frame: 20 × 17\n\\begin{tabular}{lllllllllllllllll}\n X & listing\\_id & name & host\\_id & host\\_name & nbhood\\_full & coordinates & room\\_type & price & nb\\_reviews & last\\_review & reviews\\_per\\_month & availability\\_365 & avg\\_rating & nb\\_stays & pct\\_5\\_stars & listing\\_added\\\\\n <int> & <int> & <fct> & <int> & <fct> & <fct> & <fct> & <fct> & <fct> & <int> & <fct> & <dbl> & <int> & <dbl> & <dbl> & <dbl> & <fct>\\\\\n\\hline\n\t 2256 &  7319856 & 450ft Square Studio in Gramercy NY                 &  11773680 & Adam                & Manhattan, Kips Bay                 & (40.73813, -73.98098)          & Entire home/apt & \\$280  &   4 & 2016-05-22 & 0.09 & 225 & 3.903764 &   4.8 & 0.7563810 & 2015-11-17\\\\\n\t 3008 & 17861841 & THE CREATIVE COZY ROOM                             &  47591528 & Janessa             & Brooklyn, Sheepshead Bay            & (40.59211, -73.94126999999997) & Private room    & \\$99   &  13 & 2019-05-23 & 0.52 &  82 & 4.806590 &  15.6 & 0.9374216 & 2018-11-17\\\\\n\t 3341 & 35646737 & Private Cabins @ Chelsea, Manhattan                & 117365574 & Maria               & Manhattan, Chelsea                  & (40.74946, -73.99627)          & Private room    & \\$85   &   1 & 2019-06-22 & 1.00 & 261 & 4.951714 &   1.2 & 0.6713879 & 2018-12-17\\\\\n\t 3431 & 15027024 & Newly renovated 1bd on lively \\& historic St Marks  &   8344620 & Ethan               & Manhattan, East Village             & (40.72693, -73.98385)          & Entire home/apt & \\$180  &  10 & 2018-12-31 & 0.30 &   0 & 3.869729 &  12.0 & 0.7725126 & 2018-06-27\\\\\n\t 4188 &  4244242 & Best Bedroom in Bedstuy/Bushwick. Ensuite bathroom &  22023014 & BrooklynSleeps      & Brooklyn, Bedford-Stuyvesant        & (40.69496, -73.93949)          & Private room    & \\$73   & 110 & 2019-06-23 & 1.96 & 323 & 4.962314 & 132.0 & 0.8098820 & 2018-12-18\\\\\n\t 5078 & 33831116 & Sonder \\textbar{} Stock Exchange \\textbar{} Collected 1BR + Laundry  & 219517861 & Sonder (NYC)        & Manhattan, Financial District       & (40.70621, -74.01199)          & Entire home/apt & \\$229  &   5 & 2019-06-15 & 1.92 & 350 & 4.026379 &   6.0 & 0.6017374 & 2018-12-10\\\\\n\t 5398 & 16518377 & East Village 1BR Apt with all the amenities        &   3012457 & Cody                & Manhattan, East Village             & (40.7235, -73.97963)           & Entire home/apt & \\$200  &   3 & 2018-07-10 & 0.16 &   0 & 4.676670 &   3.6 & 0.6944427 & 2018-01-04\\\\\n\t 6069 & 22014840 & Sunny Bedroom Only 1 Metro Stop to Manhattan       &  32093643 & Scarlett            & Manhattan, Roosevelt Island         & (40.76211, -73.94887)          & Private room    & \\$70   &   2 & 2018-01-07 & 0.11 &   0 & 4.024336 &   2.4 & 0.7194262 & 2017-07-04\\\\\n\t 6086 & 33346762 & 2BR Apartment in Brownstone Brooklyn!              &  50321289 & Avery               & Brooklyn, Bedford-Stuyvesant        & (40.682, -73.95681)            & Entire home/apt & \\$140  &   4 & 2019-06-14 & 1.58 &   4 & 4.013393 &   4.8 & 0.7195908 & 2018-12-09\\\\\n\t 6133 & 23990868 & 1 Bedroom in Luxury Building                       &   4447548 & Grace               & Brooklyn, Bedford-Stuyvesant        & (40.69336, -73.94453)          & Entire home/apt & \\$88   &   8 & 2019-06-16 & 0.56 &  18 & 4.164548 &   9.6 & 0.6401060 & 2018-12-11\\\\\n\t 6314 & 32610834 & Manhattan by the water!                            &  12132369 & Omar                & Manhattan, Kips Bay                 & (40.73767, -73.97384)          & Entire home/apt & \\$150  &   0 &            &   NA &   9 &       NA &    NA &        NA & 2018-06-28\\\\\n\t 6439 & 19477677 & Huge sunny room next to subway!                    &  25038748 & Justin              & Manhattan, Harlem                   & (40.82119, -73.95583)          & Private room    & \\$70   &  11 & 2019-05-11 & 0.45 &   0 & 3.074890 &  13.2 & 0.6316186 & 2018-11-05\\\\\n\t 6563 &   253806 & Loft Suite @ The Box House Hotel                   &    417504 & The Box House Hotel & Brooklyn, Greenpoint                & (40.73652, -73.95236)          & Entire home/apt & \\$199  &  43 & 2019-07-02 & 0.47 &  60 & 4.620238 &  51.6 & 0.8610863 & 2018-12-27\\\\\n\t 6833 & 21106251 & Private Bedroom in Great Brooklyn Apartment        &  25354313 & Tommy               & Brooklyn, Crown Heights             & (40.67359, -73.95812)          & Private room    & \\$45   &   9 & 2019-06-22 & 0.43 &   0 & 3.779114 &  10.8 & 0.7381907 & 2018-12-17\\\\\n\t 7770 & 26554879 & East Village/Union Square Flat                     &  17400431 & Bob                 & Manhattan, East Village             & (40.73177, -73.98691)          & Entire home/apt & \\$179  &  32 & 2019-06-26 & 2.92 &  12 & 3.125513 &  38.4 & 0.6317645 & 2018-12-21\\\\\n\t 7934 &  9078222 & Prospect Park 3 bdrm, Sleeps 8 (\\#2)                &  47219962 & Babajide            & Brooklyn, Prospect-Lefferts Gardens & (40.66086, -73.96159)          & Entire home/apt & \\$150  & 123 & 2019-07-01 & 2.74 & 263 & 3.466881 & 147.6 & 0.7381911 & 2018-12-26\\\\\n\t 8700 &  2044392 & The heart of Williamsburg 2 bedroom                &    620218 & Sarah               & Brooklyn, Williamsburg              & (40.71257, -73.96149)          & Entire home/apt & \\$245  &   0 &            &   NA &   0 &       NA &    NA &        NA & 2018-08-09\\\\\n\t 9266 & 35801208 & Comfy 2 bedroom Close To Manhattan                 & 256911412 & Taylor              & Brooklyn, Williamsburg              & (40.70469, -73.9369)           & Entire home/apt & \\$101  &   0 &            &   NA &  27 &       NA &    NA &        NA & 2018-05-03\\\\\n\t 9323 & 31470004 & Private bedroom/Bathroom in a 2 bedroom apartment  &  71241932 & Max                 & Manhattan, East Village             & (40.72544, -73.97818000000002) & Private room    & \\$2500 &   0 &            &   NA &  90 &       NA &    NA &        NA & 2018-03-12\\\\\n\t 9426 & 29844951 & Cozy Home In Queens                                &  49946447 & Rah                 & Queens, Jamaica                     & (40.68842, -73.77677)          & Private room    & \\$50   &   1 & 2019-03-19 & 0.27 & 311 & 4.792923 &   1.2 & 0.7012322 & 2018-09-13\\\\\n\\end{tabular}\n",
            "text/markdown": "\nA data.frame: 20 × 17\n\n| X &lt;int&gt; | listing_id &lt;int&gt; | name &lt;fct&gt; | host_id &lt;int&gt; | host_name &lt;fct&gt; | nbhood_full &lt;fct&gt; | coordinates &lt;fct&gt; | room_type &lt;fct&gt; | price &lt;fct&gt; | nb_reviews &lt;int&gt; | last_review &lt;fct&gt; | reviews_per_month &lt;dbl&gt; | availability_365 &lt;int&gt; | avg_rating &lt;dbl&gt; | nb_stays &lt;dbl&gt; | pct_5_stars &lt;dbl&gt; | listing_added &lt;fct&gt; |\n|---|---|---|---|---|---|---|---|---|---|---|---|---|---|---|---|---|\n| 2256 |  7319856 | 450ft Square Studio in Gramercy NY                 |  11773680 | Adam                | Manhattan, Kips Bay                 | (40.73813, -73.98098)          | Entire home/apt | $280  |   4 | 2016-05-22 | 0.09 | 225 | 3.903764 |   4.8 | 0.7563810 | 2015-11-17 |\n| 3008 | 17861841 | THE CREATIVE COZY ROOM                             |  47591528 | Janessa             | Brooklyn, Sheepshead Bay            | (40.59211, -73.94126999999997) | Private room    | $99   |  13 | 2019-05-23 | 0.52 |  82 | 4.806590 |  15.6 | 0.9374216 | 2018-11-17 |\n| 3341 | 35646737 | Private Cabins @ Chelsea, Manhattan                | 117365574 | Maria               | Manhattan, Chelsea                  | (40.74946, -73.99627)          | Private room    | $85   |   1 | 2019-06-22 | 1.00 | 261 | 4.951714 |   1.2 | 0.6713879 | 2018-12-17 |\n| 3431 | 15027024 | Newly renovated 1bd on lively &amp; historic St Marks  |   8344620 | Ethan               | Manhattan, East Village             | (40.72693, -73.98385)          | Entire home/apt | $180  |  10 | 2018-12-31 | 0.30 |   0 | 3.869729 |  12.0 | 0.7725126 | 2018-06-27 |\n| 4188 |  4244242 | Best Bedroom in Bedstuy/Bushwick. Ensuite bathroom |  22023014 | BrooklynSleeps      | Brooklyn, Bedford-Stuyvesant        | (40.69496, -73.93949)          | Private room    | $73   | 110 | 2019-06-23 | 1.96 | 323 | 4.962314 | 132.0 | 0.8098820 | 2018-12-18 |\n| 5078 | 33831116 | Sonder | Stock Exchange | Collected 1BR + Laundry  | 219517861 | Sonder (NYC)        | Manhattan, Financial District       | (40.70621, -74.01199)          | Entire home/apt | $229  |   5 | 2019-06-15 | 1.92 | 350 | 4.026379 |   6.0 | 0.6017374 | 2018-12-10 |\n| 5398 | 16518377 | East Village 1BR Apt with all the amenities        |   3012457 | Cody                | Manhattan, East Village             | (40.7235, -73.97963)           | Entire home/apt | $200  |   3 | 2018-07-10 | 0.16 |   0 | 4.676670 |   3.6 | 0.6944427 | 2018-01-04 |\n| 6069 | 22014840 | Sunny Bedroom Only 1 Metro Stop to Manhattan       |  32093643 | Scarlett            | Manhattan, Roosevelt Island         | (40.76211, -73.94887)          | Private room    | $70   |   2 | 2018-01-07 | 0.11 |   0 | 4.024336 |   2.4 | 0.7194262 | 2017-07-04 |\n| 6086 | 33346762 | 2BR Apartment in Brownstone Brooklyn!              |  50321289 | Avery               | Brooklyn, Bedford-Stuyvesant        | (40.682, -73.95681)            | Entire home/apt | $140  |   4 | 2019-06-14 | 1.58 |   4 | 4.013393 |   4.8 | 0.7195908 | 2018-12-09 |\n| 6133 | 23990868 | 1 Bedroom in Luxury Building                       |   4447548 | Grace               | Brooklyn, Bedford-Stuyvesant        | (40.69336, -73.94453)          | Entire home/apt | $88   |   8 | 2019-06-16 | 0.56 |  18 | 4.164548 |   9.6 | 0.6401060 | 2018-12-11 |\n| 6314 | 32610834 | Manhattan by the water!                            |  12132369 | Omar                | Manhattan, Kips Bay                 | (40.73767, -73.97384)          | Entire home/apt | $150  |   0 | <!----> |   NA |   9 |       NA |    NA |        NA | 2018-06-28 |\n| 6439 | 19477677 | Huge sunny room next to subway!                    |  25038748 | Justin              | Manhattan, Harlem                   | (40.82119, -73.95583)          | Private room    | $70   |  11 | 2019-05-11 | 0.45 |   0 | 3.074890 |  13.2 | 0.6316186 | 2018-11-05 |\n| 6563 |   253806 | Loft Suite @ The Box House Hotel                   |    417504 | The Box House Hotel | Brooklyn, Greenpoint                | (40.73652, -73.95236)          | Entire home/apt | $199  |  43 | 2019-07-02 | 0.47 |  60 | 4.620238 |  51.6 | 0.8610863 | 2018-12-27 |\n| 6833 | 21106251 | Private Bedroom in Great Brooklyn Apartment        |  25354313 | Tommy               | Brooklyn, Crown Heights             | (40.67359, -73.95812)          | Private room    | $45   |   9 | 2019-06-22 | 0.43 |   0 | 3.779114 |  10.8 | 0.7381907 | 2018-12-17 |\n| 7770 | 26554879 | East Village/Union Square Flat                     |  17400431 | Bob                 | Manhattan, East Village             | (40.73177, -73.98691)          | Entire home/apt | $179  |  32 | 2019-06-26 | 2.92 |  12 | 3.125513 |  38.4 | 0.6317645 | 2018-12-21 |\n| 7934 |  9078222 | Prospect Park 3 bdrm, Sleeps 8 (#2)                |  47219962 | Babajide            | Brooklyn, Prospect-Lefferts Gardens | (40.66086, -73.96159)          | Entire home/apt | $150  | 123 | 2019-07-01 | 2.74 | 263 | 3.466881 | 147.6 | 0.7381911 | 2018-12-26 |\n| 8700 |  2044392 | The heart of Williamsburg 2 bedroom                |    620218 | Sarah               | Brooklyn, Williamsburg              | (40.71257, -73.96149)          | Entire home/apt | $245  |   0 | <!----> |   NA |   0 |       NA |    NA |        NA | 2018-08-09 |\n| 9266 | 35801208 | Comfy 2 bedroom Close To Manhattan                 | 256911412 | Taylor              | Brooklyn, Williamsburg              | (40.70469, -73.9369)           | Entire home/apt | $101  |   0 | <!----> |   NA |  27 |       NA |    NA |        NA | 2018-05-03 |\n| 9323 | 31470004 | Private bedroom/Bathroom in a 2 bedroom apartment  |  71241932 | Max                 | Manhattan, East Village             | (40.72544, -73.97818000000002) | Private room    | $2500 |   0 | <!----> |   NA |  90 |       NA |    NA |        NA | 2018-03-12 |\n| 9426 | 29844951 | Cozy Home In Queens                                |  49946447 | Rah                 | Queens, Jamaica                     | (40.68842, -73.77677)          | Private room    | $50   |   1 | 2019-03-19 | 0.27 | 311 | 4.792923 |   1.2 | 0.7012322 | 2018-09-13 |\n\n",
            "text/html": [
              "<table>\n",
              "<caption>A data.frame: 20 × 17</caption>\n",
              "<thead>\n",
              "\t<tr><th scope=col>X</th><th scope=col>listing_id</th><th scope=col>name</th><th scope=col>host_id</th><th scope=col>host_name</th><th scope=col>nbhood_full</th><th scope=col>coordinates</th><th scope=col>room_type</th><th scope=col>price</th><th scope=col>nb_reviews</th><th scope=col>last_review</th><th scope=col>reviews_per_month</th><th scope=col>availability_365</th><th scope=col>avg_rating</th><th scope=col>nb_stays</th><th scope=col>pct_5_stars</th><th scope=col>listing_added</th></tr>\n",
              "\t<tr><th scope=col>&lt;int&gt;</th><th scope=col>&lt;int&gt;</th><th scope=col>&lt;fct&gt;</th><th scope=col>&lt;int&gt;</th><th scope=col>&lt;fct&gt;</th><th scope=col>&lt;fct&gt;</th><th scope=col>&lt;fct&gt;</th><th scope=col>&lt;fct&gt;</th><th scope=col>&lt;fct&gt;</th><th scope=col>&lt;int&gt;</th><th scope=col>&lt;fct&gt;</th><th scope=col>&lt;dbl&gt;</th><th scope=col>&lt;int&gt;</th><th scope=col>&lt;dbl&gt;</th><th scope=col>&lt;dbl&gt;</th><th scope=col>&lt;dbl&gt;</th><th scope=col>&lt;fct&gt;</th></tr>\n",
              "</thead>\n",
              "<tbody>\n",
              "\t<tr><td>2256</td><td> 7319856</td><td>450ft Square Studio in Gramercy NY                </td><td> 11773680</td><td>Adam               </td><td>Manhattan, Kips Bay                </td><td>(40.73813, -73.98098)         </td><td>Entire home/apt</td><td>$280 </td><td>  4</td><td>2016-05-22</td><td>0.09</td><td>225</td><td>3.903764</td><td>  4.8</td><td>0.7563810</td><td>2015-11-17</td></tr>\n",
              "\t<tr><td>3008</td><td>17861841</td><td>THE CREATIVE COZY ROOM                            </td><td> 47591528</td><td>Janessa            </td><td>Brooklyn, Sheepshead Bay           </td><td>(40.59211, -73.94126999999997)</td><td>Private room   </td><td>$99  </td><td> 13</td><td>2019-05-23</td><td>0.52</td><td> 82</td><td>4.806590</td><td> 15.6</td><td>0.9374216</td><td>2018-11-17</td></tr>\n",
              "\t<tr><td>3341</td><td>35646737</td><td>Private Cabins @ Chelsea, Manhattan               </td><td>117365574</td><td>Maria              </td><td>Manhattan, Chelsea                 </td><td>(40.74946, -73.99627)         </td><td>Private room   </td><td>$85  </td><td>  1</td><td>2019-06-22</td><td>1.00</td><td>261</td><td>4.951714</td><td>  1.2</td><td>0.6713879</td><td>2018-12-17</td></tr>\n",
              "\t<tr><td>3431</td><td>15027024</td><td>Newly renovated 1bd on lively &amp; historic St Marks </td><td><span style=white-space:pre-wrap>  8344620</span></td><td><span style=white-space:pre-wrap>Ethan              </span></td><td><span style=white-space:pre-wrap>Manhattan, East Village            </span></td><td><span style=white-space:pre-wrap>(40.72693, -73.98385)         </span></td><td>Entire home/apt</td><td>$180 </td><td> 10</td><td>2018-12-31</td><td>0.30</td><td><span style=white-space:pre-wrap>  0</span></td><td>3.869729</td><td> 12.0</td><td>0.7725126</td><td>2018-06-27</td></tr>\n",
              "\t<tr><td>4188</td><td> 4244242</td><td>Best Bedroom in Bedstuy/Bushwick. Ensuite bathroom</td><td> 22023014</td><td>BrooklynSleeps     </td><td>Brooklyn, Bedford-Stuyvesant       </td><td>(40.69496, -73.93949)         </td><td>Private room   </td><td>$73  </td><td>110</td><td>2019-06-23</td><td>1.96</td><td>323</td><td>4.962314</td><td>132.0</td><td>0.8098820</td><td>2018-12-18</td></tr>\n",
              "\t<tr><td>5078</td><td>33831116</td><td>Sonder | Stock Exchange | Collected 1BR + Laundry </td><td>219517861</td><td>Sonder (NYC)       </td><td>Manhattan, Financial District      </td><td>(40.70621, -74.01199)         </td><td>Entire home/apt</td><td>$229 </td><td>  5</td><td>2019-06-15</td><td>1.92</td><td>350</td><td>4.026379</td><td>  6.0</td><td>0.6017374</td><td>2018-12-10</td></tr>\n",
              "\t<tr><td>5398</td><td>16518377</td><td>East Village 1BR Apt with all the amenities       </td><td>  3012457</td><td>Cody               </td><td>Manhattan, East Village            </td><td>(40.7235, -73.97963)          </td><td>Entire home/apt</td><td>$200 </td><td>  3</td><td>2018-07-10</td><td>0.16</td><td>  0</td><td>4.676670</td><td>  3.6</td><td>0.6944427</td><td>2018-01-04</td></tr>\n",
              "\t<tr><td>6069</td><td>22014840</td><td>Sunny Bedroom Only 1 Metro Stop to Manhattan      </td><td> 32093643</td><td>Scarlett           </td><td>Manhattan, Roosevelt Island        </td><td>(40.76211, -73.94887)         </td><td>Private room   </td><td>$70  </td><td>  2</td><td>2018-01-07</td><td>0.11</td><td>  0</td><td>4.024336</td><td>  2.4</td><td>0.7194262</td><td>2017-07-04</td></tr>\n",
              "\t<tr><td>6086</td><td>33346762</td><td>2BR Apartment in Brownstone Brooklyn!             </td><td> 50321289</td><td>Avery              </td><td>Brooklyn, Bedford-Stuyvesant       </td><td>(40.682, -73.95681)           </td><td>Entire home/apt</td><td>$140 </td><td>  4</td><td>2019-06-14</td><td>1.58</td><td>  4</td><td>4.013393</td><td>  4.8</td><td>0.7195908</td><td>2018-12-09</td></tr>\n",
              "\t<tr><td>6133</td><td>23990868</td><td>1 Bedroom in Luxury Building                      </td><td>  4447548</td><td>Grace              </td><td>Brooklyn, Bedford-Stuyvesant       </td><td>(40.69336, -73.94453)         </td><td>Entire home/apt</td><td>$88  </td><td>  8</td><td>2019-06-16</td><td>0.56</td><td> 18</td><td>4.164548</td><td>  9.6</td><td>0.6401060</td><td>2018-12-11</td></tr>\n",
              "\t<tr><td>6314</td><td>32610834</td><td>Manhattan by the water!                           </td><td> 12132369</td><td>Omar               </td><td>Manhattan, Kips Bay                </td><td>(40.73767, -73.97384)         </td><td>Entire home/apt</td><td>$150 </td><td>  0</td><td>          </td><td>  NA</td><td>  9</td><td>      NA</td><td>   NA</td><td>       NA</td><td>2018-06-28</td></tr>\n",
              "\t<tr><td>6439</td><td>19477677</td><td>Huge sunny room next to subway!                   </td><td> 25038748</td><td>Justin             </td><td>Manhattan, Harlem                  </td><td>(40.82119, -73.95583)         </td><td>Private room   </td><td>$70  </td><td> 11</td><td>2019-05-11</td><td>0.45</td><td>  0</td><td>3.074890</td><td> 13.2</td><td>0.6316186</td><td>2018-11-05</td></tr>\n",
              "\t<tr><td>6563</td><td>  253806</td><td>Loft Suite @ The Box House Hotel                  </td><td>   417504</td><td>The Box House Hotel</td><td>Brooklyn, Greenpoint               </td><td>(40.73652, -73.95236)         </td><td>Entire home/apt</td><td>$199 </td><td> 43</td><td>2019-07-02</td><td>0.47</td><td> 60</td><td>4.620238</td><td> 51.6</td><td>0.8610863</td><td>2018-12-27</td></tr>\n",
              "\t<tr><td>6833</td><td>21106251</td><td>Private Bedroom in Great Brooklyn Apartment       </td><td> 25354313</td><td>Tommy              </td><td>Brooklyn, Crown Heights            </td><td>(40.67359, -73.95812)         </td><td>Private room   </td><td>$45  </td><td>  9</td><td>2019-06-22</td><td>0.43</td><td>  0</td><td>3.779114</td><td> 10.8</td><td>0.7381907</td><td>2018-12-17</td></tr>\n",
              "\t<tr><td>7770</td><td>26554879</td><td>East Village/Union Square Flat                    </td><td> 17400431</td><td>Bob                </td><td>Manhattan, East Village            </td><td>(40.73177, -73.98691)         </td><td>Entire home/apt</td><td>$179 </td><td> 32</td><td>2019-06-26</td><td>2.92</td><td> 12</td><td>3.125513</td><td> 38.4</td><td>0.6317645</td><td>2018-12-21</td></tr>\n",
              "\t<tr><td>7934</td><td> 9078222</td><td>Prospect Park 3 bdrm, Sleeps 8 (#2)               </td><td> 47219962</td><td>Babajide           </td><td>Brooklyn, Prospect-Lefferts Gardens</td><td>(40.66086, -73.96159)         </td><td>Entire home/apt</td><td>$150 </td><td>123</td><td>2019-07-01</td><td>2.74</td><td>263</td><td>3.466881</td><td>147.6</td><td>0.7381911</td><td>2018-12-26</td></tr>\n",
              "\t<tr><td>8700</td><td> 2044392</td><td>The heart of Williamsburg 2 bedroom               </td><td>   620218</td><td>Sarah              </td><td>Brooklyn, Williamsburg             </td><td>(40.71257, -73.96149)         </td><td>Entire home/apt</td><td>$245 </td><td>  0</td><td>          </td><td>  NA</td><td>  0</td><td>      NA</td><td>   NA</td><td>       NA</td><td>2018-08-09</td></tr>\n",
              "\t<tr><td>9266</td><td>35801208</td><td>Comfy 2 bedroom Close To Manhattan                </td><td>256911412</td><td>Taylor             </td><td>Brooklyn, Williamsburg             </td><td>(40.70469, -73.9369)          </td><td>Entire home/apt</td><td>$101 </td><td>  0</td><td>          </td><td>  NA</td><td> 27</td><td>      NA</td><td>   NA</td><td>       NA</td><td>2018-05-03</td></tr>\n",
              "\t<tr><td>9323</td><td>31470004</td><td>Private bedroom/Bathroom in a 2 bedroom apartment </td><td> 71241932</td><td>Max                </td><td>Manhattan, East Village            </td><td>(40.72544, -73.97818000000002)</td><td>Private room   </td><td>$2500</td><td>  0</td><td>          </td><td>  NA</td><td> 90</td><td>      NA</td><td>   NA</td><td>       NA</td><td>2018-03-12</td></tr>\n",
              "\t<tr><td>9426</td><td>29844951</td><td>Cozy Home In Queens                               </td><td> 49946447</td><td>Rah                </td><td>Queens, Jamaica                    </td><td>(40.68842, -73.77677)         </td><td>Private room   </td><td>$50  </td><td>  1</td><td>2019-03-19</td><td>0.27</td><td>311</td><td>4.792923</td><td>  1.2</td><td>0.7012322</td><td>2018-09-13</td></tr>\n",
              "</tbody>\n",
              "</table>\n"
            ]
          },
          "metadata": {
            "tags": []
          }
        }
      ]
    },
    {
      "cell_type": "markdown",
      "metadata": {
        "id": "ijlxbkUeBLqA",
        "colab_type": "text"
      },
      "source": [
        "7. Duplicates: there are 17 rows whose `listing_id` already appeared earlier in the dataset."
      ]
    },
    {
      "cell_type": "code",
      "metadata": {
        "id": "KQnT8_WomsW1",
        "colab_type": "code",
        "colab": {}
      },
      "source": [
        ""
      ],
      "execution_count": 0,
      "outputs": []
    }
  ]
}