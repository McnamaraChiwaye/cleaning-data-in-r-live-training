{
  "nbformat": 4,
  "nbformat_minor": 0,
  "metadata": {
    "colab": {
      "name": "cleaning_data_in_R_solution.ipynb",
      "provenance": []
    },
    "kernelspec": {
      "name": "ir",
      "display_name": "R"
    }
  },
  "cells": [
    {
      "cell_type": "markdown",
      "metadata": {
        "id": "OJYbvo8eV-Rd",
        "colab_type": "text"
      },
      "source": [
        "<p align=\"center\">\n",
        "<img src=\"https://github.com/datacamp/r-live-training-template/blob/master/assets/datacamp.svg?raw=True\" alt = \"DataCamp icon\" width=\"50%\">\n",
        "<br>\n",
        "<h1 align=\"center\"><b>Cleaning Data in R Live Training</b></h1>\n",
        "</p>\n",
        "<br>\n",
        "\n",
        "\n",
        "Welcome to this hands-on training where you'll identify issues in a dataset and clean it from start to finish using R. It's often said that data scientists spend 80% of their time cleaning and manipulating data and only about 20% of their time analyzing it, so cleaning data is an important skill to master!\n",
        "\n",
        "In this session, you will:\n",
        "\n",
        "- Examine a dataset and identify its problem areas, and what needs to be done to fix them.\n",
        "-Convert between data types to make analysis easier.\n",
        "- Correct inconsistencies in categorical data.\n",
        "- Deal with missing data.\n",
        "- Perform data validation to ensure every value makes sense.\n",
        "\n",
        "## **The Dataset**\n",
        "\n",
        "The dataset we'll use is a CSV file named `nyc_airbnb.csv`, which contains data on [*Airbnb*](https://www.airbnb.com/) listings in New York City. It contains the following columns:\n",
        "\n",
        "- `listing_id`: The unique identifier for a listing\n",
        "- `name`: The description used on the listing\n",
        "- `host_id`: Unique identifier for a host\n",
        "- `host_name`: Name of host\n",
        "- `nbhood_full`: Name of borough and neighborhood\n",
        "- `coordinates`: Coordinates of listing _(latitude, longitude)_\n",
        "- `room_type`: Type of room \n",
        "- `price`: Price per night for listing\n",
        "- `nb_reviews`: Number of reviews received \n",
        "- `last_review`: Date of last review\n",
        "- `reviews_per_month`: Average number of reviews per month\n",
        "- `availability_365`: Number of days available per year\n",
        "- `avg_rating`: Average rating (from 0 to 5)\n",
        "- `avg_stays_per_month`: Average number of stays per month\n",
        "- `pct_5_stars`: Percent of reviews that were 5-stars\n",
        "- `listing_added`: Date when listing was added\n"
      ]
    },
    {
      "cell_type": "code",
      "metadata": {
        "id": "KUKG6fNMV_zf",
        "colab_type": "code",
        "cellView": "both",
        "colab": {
          "base_uri": "https://localhost:8080/",
          "height": 68
        },
        "outputId": "1d9f6a2c-190f-40bc-bcf7-342416f552a9"
      },
      "source": [
        "# Install non-tidyverse packages\n",
        "install.packages(\"visdat\")"
      ],
      "execution_count": 1,
      "outputs": [
        {
          "output_type": "stream",
          "text": [
            "Installing package into ‘/usr/local/lib/R/site-library’\n",
            "(as ‘lib’ is unspecified)\n",
            "\n"
          ],
          "name": "stderr"
        }
      ]
    },
    {
      "cell_type": "code",
      "metadata": {
        "id": "brr08aZX9Wss",
        "colab_type": "code",
        "colab": {
          "base_uri": "https://localhost:8080/",
          "height": 255
        },
        "outputId": "957bb50d-4da3-452d-c3ab-b7c36d5d791a"
      },
      "source": [
        "# Load packages\n",
        "library(readr)\n",
        "library(dplyr)\n",
        "library(stringr)\n",
        "library(visdat)\n",
        "library(tidyr)\n",
        "library(ggplot2)\n",
        "library(forcats)"
      ],
      "execution_count": 2,
      "outputs": [
        {
          "output_type": "stream",
          "text": [
            "\n",
            "Attaching package: ‘dplyr’\n",
            "\n",
            "\n",
            "The following objects are masked from ‘package:stats’:\n",
            "\n",
            "    filter, lag\n",
            "\n",
            "\n",
            "The following objects are masked from ‘package:base’:\n",
            "\n",
            "    intersect, setdiff, setequal, union\n",
            "\n",
            "\n"
          ],
          "name": "stderr"
        }
      ]
    },
    {
      "cell_type": "code",
      "metadata": {
        "id": "9VJyZeEo9M4O",
        "colab_type": "code",
        "colab": {
          "base_uri": "https://localhost:8080/",
          "height": 357
        },
        "outputId": "a779e464-2c96-499d-b392-79e70878a5cc"
      },
      "source": [
        "# Load dataset\n",
        "airbnb <- read_csv(\"https://raw.githubusercontent.com/datacamp/cleaning-data-in-r-live-training/master/assets/nyc_airbnb.csv\")"
      ],
      "execution_count": 3,
      "outputs": [
        {
          "output_type": "stream",
          "text": [
            "Parsed with column specification:\n",
            "cols(\n",
            "  listing_id = \u001b[32mcol_double()\u001b[39m,\n",
            "  description = \u001b[31mcol_character()\u001b[39m,\n",
            "  host_id = \u001b[32mcol_double()\u001b[39m,\n",
            "  host_name = \u001b[31mcol_character()\u001b[39m,\n",
            "  nbhood_full = \u001b[31mcol_character()\u001b[39m,\n",
            "  coordinates = \u001b[31mcol_character()\u001b[39m,\n",
            "  room_type = \u001b[31mcol_character()\u001b[39m,\n",
            "  price = \u001b[31mcol_character()\u001b[39m,\n",
            "  nb_reviews = \u001b[32mcol_double()\u001b[39m,\n",
            "  last_review = \u001b[31mcol_character()\u001b[39m,\n",
            "  reviews_per_month = \u001b[32mcol_double()\u001b[39m,\n",
            "  availability_365 = \u001b[32mcol_double()\u001b[39m,\n",
            "  avg_rating = \u001b[32mcol_double()\u001b[39m,\n",
            "  avg_stays_per_month = \u001b[32mcol_double()\u001b[39m,\n",
            "  pct_5_stars = \u001b[32mcol_double()\u001b[39m,\n",
            "  listing_added = \u001b[31mcol_character()\u001b[39m\n",
            ")\n",
            "\n"
          ],
          "name": "stderr"
        }
      ]
    },
    {
      "cell_type": "code",
      "metadata": {
        "id": "89DXT3Xl1SQ8",
        "colab_type": "code",
        "colab": {
          "base_uri": "https://localhost:8080/",
          "height": 513
        },
        "outputId": "877e21f3-0d74-4d1d-83a1-76c43134cdcc"
      },
      "source": [
        "# Examine the first few rows\n",
        "head(airbnb)"
      ],
      "execution_count": 4,
      "outputs": [
        {
          "output_type": "display_data",
          "data": {
            "text/plain": [
              "  listing_id description                                        host_id  \n",
              "1 13740704   Cozy,budget friendly, cable inc, private entrance!  20583125\n",
              "2 22005115   Two floor apartment near Central Park               82746113\n",
              "3 21667615   Beautiful 1BR in Brooklyn Heights                      78251\n",
              "4  6425850   Spacious, charming studio                           32715865\n",
              "5 22986519   Bedroom on the lively Lower East Side              154262349\n",
              "6   271954   Beautiful brownstone apartment                       1423798\n",
              "  host_name nbhood_full                  coordinates           room_type      \n",
              "1 Michel    Brooklyn, Flatlands          (40.63222, -73.93398) Private room   \n",
              "2 Cecilia   Manhattan, Upper West Side   (40.78761, -73.96862) Entire home/apt\n",
              "3 Leslie    Brooklyn, Brooklyn Heights   (40.7007, -73.99517)  Entire home/apt\n",
              "4 Yelena    Manhattan, Upper West Side   (40.79169, -73.97498) Entire home/apt\n",
              "5 Brooke    Manhattan, Lower East Side   (40.71884, -73.98354) Private room   \n",
              "6 Aj        Manhattan, Greenwich Village (40.73388, -73.99452) Entire home/apt\n",
              "  price nb_reviews last_review reviews_per_month availability_365 avg_rating\n",
              "1 $45    10        12/12/2018  0.70               85              4.100954  \n",
              "2 $135    1        06/30/2019  1.00              145              3.367600  \n",
              "3 $150    0        NA            NA               65                    NA  \n",
              "4 $86     5        09/23/2017  0.13                0              4.763203  \n",
              "5 $160   23        06/12/2019  2.29              102              3.822591  \n",
              "6 $150  203        06/20/2019  2.22              300              4.478396  \n",
              "  avg_stays_per_month pct_5_stars listing_added\n",
              "1  12.0               0.6094315   06/08/2018   \n",
              "2   1.2               0.7461346   12/25/2018   \n",
              "3    NA                      NA   08/15/2018   \n",
              "4   6.0               0.7699471   03/20/2017   \n",
              "5  27.6               0.6493831   10/23/2020   \n",
              "6 243.6               0.7434997   12/15/2018   "
            ],
            "text/latex": "A tibble: 6 × 16\n\\begin{tabular}{llllllllllllllll}\n listing\\_id & description & host\\_id & host\\_name & nbhood\\_full & coordinates & room\\_type & price & nb\\_reviews & last\\_review & reviews\\_per\\_month & availability\\_365 & avg\\_rating & avg\\_stays\\_per\\_month & pct\\_5\\_stars & listing\\_added\\\\\n <dbl> & <chr> & <dbl> & <chr> & <chr> & <chr> & <chr> & <chr> & <dbl> & <chr> & <dbl> & <dbl> & <dbl> & <dbl> & <dbl> & <chr>\\\\\n\\hline\n\t 13740704 & Cozy,budget friendly, cable inc, private entrance! &  20583125 & Michel  & Brooklyn, Flatlands          & (40.63222, -73.93398) & Private room    & \\$45  &  10 & 12/12/2018 & 0.70 &  85 & 4.100954 &  12.0 & 0.6094315 & 06/08/2018\\\\\n\t 22005115 & Two floor apartment near Central Park              &  82746113 & Cecilia & Manhattan, Upper West Side   & (40.78761, -73.96862) & Entire home/apt & \\$135 &   1 & 06/30/2019 & 1.00 & 145 & 3.367600 &   1.2 & 0.7461346 & 12/25/2018\\\\\n\t 21667615 & Beautiful 1BR in Brooklyn Heights                  &     78251 & Leslie  & Brooklyn, Brooklyn Heights   & (40.7007, -73.99517)  & Entire home/apt & \\$150 &   0 & NA         &   NA &  65 &       NA &    NA &        NA & 08/15/2018\\\\\n\t  6425850 & Spacious, charming studio                          &  32715865 & Yelena  & Manhattan, Upper West Side   & (40.79169, -73.97498) & Entire home/apt & \\$86  &   5 & 09/23/2017 & 0.13 &   0 & 4.763203 &   6.0 & 0.7699471 & 03/20/2017\\\\\n\t 22986519 & Bedroom on the lively Lower East Side              & 154262349 & Brooke  & Manhattan, Lower East Side   & (40.71884, -73.98354) & Private room    & \\$160 &  23 & 06/12/2019 & 2.29 & 102 & 3.822591 &  27.6 & 0.6493831 & 10/23/2020\\\\\n\t   271954 & Beautiful brownstone apartment                     &   1423798 & Aj      & Manhattan, Greenwich Village & (40.73388, -73.99452) & Entire home/apt & \\$150 & 203 & 06/20/2019 & 2.22 & 300 & 4.478396 & 243.6 & 0.7434997 & 12/15/2018\\\\\n\\end{tabular}\n",
            "text/markdown": "\nA tibble: 6 × 16\n\n| listing_id &lt;dbl&gt; | description &lt;chr&gt; | host_id &lt;dbl&gt; | host_name &lt;chr&gt; | nbhood_full &lt;chr&gt; | coordinates &lt;chr&gt; | room_type &lt;chr&gt; | price &lt;chr&gt; | nb_reviews &lt;dbl&gt; | last_review &lt;chr&gt; | reviews_per_month &lt;dbl&gt; | availability_365 &lt;dbl&gt; | avg_rating &lt;dbl&gt; | avg_stays_per_month &lt;dbl&gt; | pct_5_stars &lt;dbl&gt; | listing_added &lt;chr&gt; |\n|---|---|---|---|---|---|---|---|---|---|---|---|---|---|---|---|\n| 13740704 | Cozy,budget friendly, cable inc, private entrance! |  20583125 | Michel  | Brooklyn, Flatlands          | (40.63222, -73.93398) | Private room    | $45  |  10 | 12/12/2018 | 0.70 |  85 | 4.100954 |  12.0 | 0.6094315 | 06/08/2018 |\n| 22005115 | Two floor apartment near Central Park              |  82746113 | Cecilia | Manhattan, Upper West Side   | (40.78761, -73.96862) | Entire home/apt | $135 |   1 | 06/30/2019 | 1.00 | 145 | 3.367600 |   1.2 | 0.7461346 | 12/25/2018 |\n| 21667615 | Beautiful 1BR in Brooklyn Heights                  |     78251 | Leslie  | Brooklyn, Brooklyn Heights   | (40.7007, -73.99517)  | Entire home/apt | $150 |   0 | NA         |   NA |  65 |       NA |    NA |        NA | 08/15/2018 |\n|  6425850 | Spacious, charming studio                          |  32715865 | Yelena  | Manhattan, Upper West Side   | (40.79169, -73.97498) | Entire home/apt | $86  |   5 | 09/23/2017 | 0.13 |   0 | 4.763203 |   6.0 | 0.7699471 | 03/20/2017 |\n| 22986519 | Bedroom on the lively Lower East Side              | 154262349 | Brooke  | Manhattan, Lower East Side   | (40.71884, -73.98354) | Private room    | $160 |  23 | 06/12/2019 | 2.29 | 102 | 3.822591 |  27.6 | 0.6493831 | 10/23/2020 |\n|   271954 | Beautiful brownstone apartment                     |   1423798 | Aj      | Manhattan, Greenwich Village | (40.73388, -73.99452) | Entire home/apt | $150 | 203 | 06/20/2019 | 2.22 | 300 | 4.478396 | 243.6 | 0.7434997 | 12/15/2018 |\n\n",
            "text/html": [
              "<table>\n",
              "<caption>A tibble: 6 × 16</caption>\n",
              "<thead>\n",
              "\t<tr><th scope=col>listing_id</th><th scope=col>description</th><th scope=col>host_id</th><th scope=col>host_name</th><th scope=col>nbhood_full</th><th scope=col>coordinates</th><th scope=col>room_type</th><th scope=col>price</th><th scope=col>nb_reviews</th><th scope=col>last_review</th><th scope=col>reviews_per_month</th><th scope=col>availability_365</th><th scope=col>avg_rating</th><th scope=col>avg_stays_per_month</th><th scope=col>pct_5_stars</th><th scope=col>listing_added</th></tr>\n",
              "\t<tr><th scope=col>&lt;dbl&gt;</th><th scope=col>&lt;chr&gt;</th><th scope=col>&lt;dbl&gt;</th><th scope=col>&lt;chr&gt;</th><th scope=col>&lt;chr&gt;</th><th scope=col>&lt;chr&gt;</th><th scope=col>&lt;chr&gt;</th><th scope=col>&lt;chr&gt;</th><th scope=col>&lt;dbl&gt;</th><th scope=col>&lt;chr&gt;</th><th scope=col>&lt;dbl&gt;</th><th scope=col>&lt;dbl&gt;</th><th scope=col>&lt;dbl&gt;</th><th scope=col>&lt;dbl&gt;</th><th scope=col>&lt;dbl&gt;</th><th scope=col>&lt;chr&gt;</th></tr>\n",
              "</thead>\n",
              "<tbody>\n",
              "\t<tr><td>13740704</td><td>Cozy,budget friendly, cable inc, private entrance!</td><td> 20583125</td><td>Michel </td><td>Brooklyn, Flatlands         </td><td>(40.63222, -73.93398)</td><td>Private room   </td><td>$45 </td><td> 10</td><td>12/12/2018</td><td>0.70</td><td> 85</td><td>4.100954</td><td> 12.0</td><td>0.6094315</td><td>06/08/2018</td></tr>\n",
              "\t<tr><td>22005115</td><td>Two floor apartment near Central Park             </td><td> 82746113</td><td>Cecilia</td><td>Manhattan, Upper West Side  </td><td>(40.78761, -73.96862)</td><td>Entire home/apt</td><td>$135</td><td>  1</td><td>06/30/2019</td><td>1.00</td><td>145</td><td>3.367600</td><td>  1.2</td><td>0.7461346</td><td>12/25/2018</td></tr>\n",
              "\t<tr><td>21667615</td><td>Beautiful 1BR in Brooklyn Heights                 </td><td>    78251</td><td>Leslie </td><td>Brooklyn, Brooklyn Heights  </td><td>(40.7007, -73.99517) </td><td>Entire home/apt</td><td>$150</td><td>  0</td><td>NA        </td><td>  NA</td><td> 65</td><td>      NA</td><td>   NA</td><td>       NA</td><td>08/15/2018</td></tr>\n",
              "\t<tr><td> 6425850</td><td>Spacious, charming studio                         </td><td> 32715865</td><td>Yelena </td><td>Manhattan, Upper West Side  </td><td>(40.79169, -73.97498)</td><td>Entire home/apt</td><td>$86 </td><td>  5</td><td>09/23/2017</td><td>0.13</td><td>  0</td><td>4.763203</td><td>  6.0</td><td>0.7699471</td><td>03/20/2017</td></tr>\n",
              "\t<tr><td>22986519</td><td>Bedroom on the lively Lower East Side             </td><td>154262349</td><td>Brooke </td><td>Manhattan, Lower East Side  </td><td>(40.71884, -73.98354)</td><td>Private room   </td><td>$160</td><td> 23</td><td>06/12/2019</td><td>2.29</td><td>102</td><td>3.822591</td><td> 27.6</td><td>0.6493831</td><td>10/23/2020</td></tr>\n",
              "\t<tr><td>  271954</td><td>Beautiful brownstone apartment                    </td><td>  1423798</td><td>Aj     </td><td>Manhattan, Greenwich Village</td><td>(40.73388, -73.99452)</td><td>Entire home/apt</td><td>$150</td><td>203</td><td>06/20/2019</td><td>2.22</td><td>300</td><td>4.478396</td><td>243.6</td><td>0.7434997</td><td>12/15/2018</td></tr>\n",
              "</tbody>\n",
              "</table>\n"
            ]
          },
          "metadata": {
            "tags": []
          }
        }
      ]
    },
    {
      "cell_type": "markdown",
      "metadata": {
        "id": "kNE3y9ug1Zo5",
        "colab_type": "text"
      },
      "source": [
        "## **Diagnosing data cleaning problems**\n",
        "\n",
        "\n",
        "We'll need to get a good look at the data frame in order to identify any problems that may cause issues during an analysis. There are a variety of functions (both from base R and `dplyr`) that can help us with this:\n",
        "\n",
        "-  `head()` to look at the first few rows of the data\n",
        "- `glimpse()` to get a summary of the variables' data types\n",
        "- `summary()` to compute summary statistics of each variable and display the number of missing values\n",
        "- `duplicated()` to find duplicates\n"
      ]
    },
    {
      "cell_type": "code",
      "metadata": {
        "id": "uaC2Q_Gm3m1I",
        "colab_type": "code",
        "colab": {
          "base_uri": "https://localhost:8080/",
          "height": 513
        },
        "outputId": "cac2bc1b-b8c5-4e59-9961-fd3cd2c18df9"
      },
      "source": [
        "# Print the first few rows of data\n",
        "head(airbnb)"
      ],
      "execution_count": 5,
      "outputs": [
        {
          "output_type": "display_data",
          "data": {
            "text/plain": [
              "  listing_id description                                        host_id  \n",
              "1 13740704   Cozy,budget friendly, cable inc, private entrance!  20583125\n",
              "2 22005115   Two floor apartment near Central Park               82746113\n",
              "3 21667615   Beautiful 1BR in Brooklyn Heights                      78251\n",
              "4  6425850   Spacious, charming studio                           32715865\n",
              "5 22986519   Bedroom on the lively Lower East Side              154262349\n",
              "6   271954   Beautiful brownstone apartment                       1423798\n",
              "  host_name nbhood_full                  coordinates           room_type      \n",
              "1 Michel    Brooklyn, Flatlands          (40.63222, -73.93398) Private room   \n",
              "2 Cecilia   Manhattan, Upper West Side   (40.78761, -73.96862) Entire home/apt\n",
              "3 Leslie    Brooklyn, Brooklyn Heights   (40.7007, -73.99517)  Entire home/apt\n",
              "4 Yelena    Manhattan, Upper West Side   (40.79169, -73.97498) Entire home/apt\n",
              "5 Brooke    Manhattan, Lower East Side   (40.71884, -73.98354) Private room   \n",
              "6 Aj        Manhattan, Greenwich Village (40.73388, -73.99452) Entire home/apt\n",
              "  price nb_reviews last_review reviews_per_month availability_365 avg_rating\n",
              "1 $45    10        12/12/2018  0.70               85              4.100954  \n",
              "2 $135    1        06/30/2019  1.00              145              3.367600  \n",
              "3 $150    0        NA            NA               65                    NA  \n",
              "4 $86     5        09/23/2017  0.13                0              4.763203  \n",
              "5 $160   23        06/12/2019  2.29              102              3.822591  \n",
              "6 $150  203        06/20/2019  2.22              300              4.478396  \n",
              "  avg_stays_per_month pct_5_stars listing_added\n",
              "1  12.0               0.6094315   06/08/2018   \n",
              "2   1.2               0.7461346   12/25/2018   \n",
              "3    NA                      NA   08/15/2018   \n",
              "4   6.0               0.7699471   03/20/2017   \n",
              "5  27.6               0.6493831   10/23/2020   \n",
              "6 243.6               0.7434997   12/15/2018   "
            ],
            "text/latex": "A tibble: 6 × 16\n\\begin{tabular}{llllllllllllllll}\n listing\\_id & description & host\\_id & host\\_name & nbhood\\_full & coordinates & room\\_type & price & nb\\_reviews & last\\_review & reviews\\_per\\_month & availability\\_365 & avg\\_rating & avg\\_stays\\_per\\_month & pct\\_5\\_stars & listing\\_added\\\\\n <dbl> & <chr> & <dbl> & <chr> & <chr> & <chr> & <chr> & <chr> & <dbl> & <chr> & <dbl> & <dbl> & <dbl> & <dbl> & <dbl> & <chr>\\\\\n\\hline\n\t 13740704 & Cozy,budget friendly, cable inc, private entrance! &  20583125 & Michel  & Brooklyn, Flatlands          & (40.63222, -73.93398) & Private room    & \\$45  &  10 & 12/12/2018 & 0.70 &  85 & 4.100954 &  12.0 & 0.6094315 & 06/08/2018\\\\\n\t 22005115 & Two floor apartment near Central Park              &  82746113 & Cecilia & Manhattan, Upper West Side   & (40.78761, -73.96862) & Entire home/apt & \\$135 &   1 & 06/30/2019 & 1.00 & 145 & 3.367600 &   1.2 & 0.7461346 & 12/25/2018\\\\\n\t 21667615 & Beautiful 1BR in Brooklyn Heights                  &     78251 & Leslie  & Brooklyn, Brooklyn Heights   & (40.7007, -73.99517)  & Entire home/apt & \\$150 &   0 & NA         &   NA &  65 &       NA &    NA &        NA & 08/15/2018\\\\\n\t  6425850 & Spacious, charming studio                          &  32715865 & Yelena  & Manhattan, Upper West Side   & (40.79169, -73.97498) & Entire home/apt & \\$86  &   5 & 09/23/2017 & 0.13 &   0 & 4.763203 &   6.0 & 0.7699471 & 03/20/2017\\\\\n\t 22986519 & Bedroom on the lively Lower East Side              & 154262349 & Brooke  & Manhattan, Lower East Side   & (40.71884, -73.98354) & Private room    & \\$160 &  23 & 06/12/2019 & 2.29 & 102 & 3.822591 &  27.6 & 0.6493831 & 10/23/2020\\\\\n\t   271954 & Beautiful brownstone apartment                     &   1423798 & Aj      & Manhattan, Greenwich Village & (40.73388, -73.99452) & Entire home/apt & \\$150 & 203 & 06/20/2019 & 2.22 & 300 & 4.478396 & 243.6 & 0.7434997 & 12/15/2018\\\\\n\\end{tabular}\n",
            "text/markdown": "\nA tibble: 6 × 16\n\n| listing_id &lt;dbl&gt; | description &lt;chr&gt; | host_id &lt;dbl&gt; | host_name &lt;chr&gt; | nbhood_full &lt;chr&gt; | coordinates &lt;chr&gt; | room_type &lt;chr&gt; | price &lt;chr&gt; | nb_reviews &lt;dbl&gt; | last_review &lt;chr&gt; | reviews_per_month &lt;dbl&gt; | availability_365 &lt;dbl&gt; | avg_rating &lt;dbl&gt; | avg_stays_per_month &lt;dbl&gt; | pct_5_stars &lt;dbl&gt; | listing_added &lt;chr&gt; |\n|---|---|---|---|---|---|---|---|---|---|---|---|---|---|---|---|\n| 13740704 | Cozy,budget friendly, cable inc, private entrance! |  20583125 | Michel  | Brooklyn, Flatlands          | (40.63222, -73.93398) | Private room    | $45  |  10 | 12/12/2018 | 0.70 |  85 | 4.100954 |  12.0 | 0.6094315 | 06/08/2018 |\n| 22005115 | Two floor apartment near Central Park              |  82746113 | Cecilia | Manhattan, Upper West Side   | (40.78761, -73.96862) | Entire home/apt | $135 |   1 | 06/30/2019 | 1.00 | 145 | 3.367600 |   1.2 | 0.7461346 | 12/25/2018 |\n| 21667615 | Beautiful 1BR in Brooklyn Heights                  |     78251 | Leslie  | Brooklyn, Brooklyn Heights   | (40.7007, -73.99517)  | Entire home/apt | $150 |   0 | NA         |   NA |  65 |       NA |    NA |        NA | 08/15/2018 |\n|  6425850 | Spacious, charming studio                          |  32715865 | Yelena  | Manhattan, Upper West Side   | (40.79169, -73.97498) | Entire home/apt | $86  |   5 | 09/23/2017 | 0.13 |   0 | 4.763203 |   6.0 | 0.7699471 | 03/20/2017 |\n| 22986519 | Bedroom on the lively Lower East Side              | 154262349 | Brooke  | Manhattan, Lower East Side   | (40.71884, -73.98354) | Private room    | $160 |  23 | 06/12/2019 | 2.29 | 102 | 3.822591 |  27.6 | 0.6493831 | 10/23/2020 |\n|   271954 | Beautiful brownstone apartment                     |   1423798 | Aj      | Manhattan, Greenwich Village | (40.73388, -73.99452) | Entire home/apt | $150 | 203 | 06/20/2019 | 2.22 | 300 | 4.478396 | 243.6 | 0.7434997 | 12/15/2018 |\n\n",
            "text/html": [
              "<table>\n",
              "<caption>A tibble: 6 × 16</caption>\n",
              "<thead>\n",
              "\t<tr><th scope=col>listing_id</th><th scope=col>description</th><th scope=col>host_id</th><th scope=col>host_name</th><th scope=col>nbhood_full</th><th scope=col>coordinates</th><th scope=col>room_type</th><th scope=col>price</th><th scope=col>nb_reviews</th><th scope=col>last_review</th><th scope=col>reviews_per_month</th><th scope=col>availability_365</th><th scope=col>avg_rating</th><th scope=col>avg_stays_per_month</th><th scope=col>pct_5_stars</th><th scope=col>listing_added</th></tr>\n",
              "\t<tr><th scope=col>&lt;dbl&gt;</th><th scope=col>&lt;chr&gt;</th><th scope=col>&lt;dbl&gt;</th><th scope=col>&lt;chr&gt;</th><th scope=col>&lt;chr&gt;</th><th scope=col>&lt;chr&gt;</th><th scope=col>&lt;chr&gt;</th><th scope=col>&lt;chr&gt;</th><th scope=col>&lt;dbl&gt;</th><th scope=col>&lt;chr&gt;</th><th scope=col>&lt;dbl&gt;</th><th scope=col>&lt;dbl&gt;</th><th scope=col>&lt;dbl&gt;</th><th scope=col>&lt;dbl&gt;</th><th scope=col>&lt;dbl&gt;</th><th scope=col>&lt;chr&gt;</th></tr>\n",
              "</thead>\n",
              "<tbody>\n",
              "\t<tr><td>13740704</td><td>Cozy,budget friendly, cable inc, private entrance!</td><td> 20583125</td><td>Michel </td><td>Brooklyn, Flatlands         </td><td>(40.63222, -73.93398)</td><td>Private room   </td><td>$45 </td><td> 10</td><td>12/12/2018</td><td>0.70</td><td> 85</td><td>4.100954</td><td> 12.0</td><td>0.6094315</td><td>06/08/2018</td></tr>\n",
              "\t<tr><td>22005115</td><td>Two floor apartment near Central Park             </td><td> 82746113</td><td>Cecilia</td><td>Manhattan, Upper West Side  </td><td>(40.78761, -73.96862)</td><td>Entire home/apt</td><td>$135</td><td>  1</td><td>06/30/2019</td><td>1.00</td><td>145</td><td>3.367600</td><td>  1.2</td><td>0.7461346</td><td>12/25/2018</td></tr>\n",
              "\t<tr><td>21667615</td><td>Beautiful 1BR in Brooklyn Heights                 </td><td>    78251</td><td>Leslie </td><td>Brooklyn, Brooklyn Heights  </td><td>(40.7007, -73.99517) </td><td>Entire home/apt</td><td>$150</td><td>  0</td><td>NA        </td><td>  NA</td><td> 65</td><td>      NA</td><td>   NA</td><td>       NA</td><td>08/15/2018</td></tr>\n",
              "\t<tr><td> 6425850</td><td>Spacious, charming studio                         </td><td> 32715865</td><td>Yelena </td><td>Manhattan, Upper West Side  </td><td>(40.79169, -73.97498)</td><td>Entire home/apt</td><td>$86 </td><td>  5</td><td>09/23/2017</td><td>0.13</td><td>  0</td><td>4.763203</td><td>  6.0</td><td>0.7699471</td><td>03/20/2017</td></tr>\n",
              "\t<tr><td>22986519</td><td>Bedroom on the lively Lower East Side             </td><td>154262349</td><td>Brooke </td><td>Manhattan, Lower East Side  </td><td>(40.71884, -73.98354)</td><td>Private room   </td><td>$160</td><td> 23</td><td>06/12/2019</td><td>2.29</td><td>102</td><td>3.822591</td><td> 27.6</td><td>0.6493831</td><td>10/23/2020</td></tr>\n",
              "\t<tr><td>  271954</td><td>Beautiful brownstone apartment                    </td><td>  1423798</td><td>Aj     </td><td>Manhattan, Greenwich Village</td><td>(40.73388, -73.99452)</td><td>Entire home/apt</td><td>$150</td><td>203</td><td>06/20/2019</td><td>2.22</td><td>300</td><td>4.478396</td><td>243.6</td><td>0.7434997</td><td>12/15/2018</td></tr>\n",
              "</tbody>\n",
              "</table>\n"
            ]
          },
          "metadata": {
            "tags": []
          }
        }
      ]
    },
    {
      "cell_type": "markdown",
      "metadata": {
        "id": "L96ZwAjBunsI",
        "colab_type": "text"
      },
      "source": [
        "- **Observation 1:** The `coordinates` column contains multiple pieces of information: both latitude and longitude.\n",
        "- **Observation 2:** The `price` column is formatted with an unnecessary `$`."
      ]
    },
    {
      "cell_type": "code",
      "metadata": {
        "id": "ZO_jlHc74J62",
        "colab_type": "code",
        "colab": {
          "base_uri": "https://localhost:8080/",
          "height": 323
        },
        "outputId": "b8b24dec-d280-4475-b70a-a87dcd4a9a50"
      },
      "source": [
        "# Inspect data types\n",
        "glimpse(airbnb)"
      ],
      "execution_count": 6,
      "outputs": [
        {
          "output_type": "stream",
          "text": [
            "Rows: 10,019\n",
            "Columns: 16\n",
            "$ listing_id          \u001b[3m\u001b[90m<dbl>\u001b[39m\u001b[23m 13740704, 22005115, 21667615, 6425850, 22986519, …\n",
            "$ description         \u001b[3m\u001b[90m<chr>\u001b[39m\u001b[23m \"Cozy,budget friendly, cable inc, private entranc…\n",
            "$ host_id             \u001b[3m\u001b[90m<dbl>\u001b[39m\u001b[23m 20583125, 82746113, 78251, 32715865, 154262349, 1…\n",
            "$ host_name           \u001b[3m\u001b[90m<chr>\u001b[39m\u001b[23m \"Michel\", \"Cecilia\", \"Leslie\", \"Yelena\", \"Brooke\"…\n",
            "$ nbhood_full         \u001b[3m\u001b[90m<chr>\u001b[39m\u001b[23m \"Brooklyn, Flatlands\", \"Manhattan, Upper West Sid…\n",
            "$ coordinates         \u001b[3m\u001b[90m<chr>\u001b[39m\u001b[23m \"(40.63222, -73.93398)\", \"(40.78761, -73.96862)\",…\n",
            "$ room_type           \u001b[3m\u001b[90m<chr>\u001b[39m\u001b[23m \"Private room\", \"Entire home/apt\", \"Entire home/a…\n",
            "$ price               \u001b[3m\u001b[90m<chr>\u001b[39m\u001b[23m \"$45\", \"$135\", \"$150\", \"$86\", \"$160\", \"$150\", \"$2…\n",
            "$ nb_reviews          \u001b[3m\u001b[90m<dbl>\u001b[39m\u001b[23m 10, 1, 0, 5, 23, 203, 0, 2, 5, 8, 5, 2, 21, 0, 0,…\n",
            "$ last_review         \u001b[3m\u001b[90m<chr>\u001b[39m\u001b[23m \"12/12/2018\", \"06/30/2019\", NA, \"09/23/2017\", \"06…\n",
            "$ reviews_per_month   \u001b[3m\u001b[90m<dbl>\u001b[39m\u001b[23m 0.70, 1.00, NA, 0.13, 2.29, 2.22, NA, 0.08, 0.15,…\n",
            "$ availability_365    \u001b[3m\u001b[90m<dbl>\u001b[39m\u001b[23m 85, 145, 65, 0, 102, 300, 219, 353, 365, 9, 0, 24…\n",
            "$ avg_rating          \u001b[3m\u001b[90m<dbl>\u001b[39m\u001b[23m 4.100954, 3.367600, NA, 4.763203, 3.822591, 4.478…\n",
            "$ avg_stays_per_month \u001b[3m\u001b[90m<dbl>\u001b[39m\u001b[23m 12.0, 1.2, NA, 6.0, 27.6, 243.6, NA, 2.4, 6.0, 9.…\n",
            "$ pct_5_stars         \u001b[3m\u001b[90m<dbl>\u001b[39m\u001b[23m 0.6094315, 0.7461346, NA, 0.7699471, 0.6493831, 0…\n",
            "$ listing_added       \u001b[3m\u001b[90m<chr>\u001b[39m\u001b[23m \"06/08/2018\", \"12/25/2018\", \"08/15/2018\", \"03/20/…\n"
          ],
          "name": "stdout"
        }
      ]
    },
    {
      "cell_type": "markdown",
      "metadata": {
        "id": "5-1VcTFC4JpI",
        "colab_type": "text"
      },
      "source": [
        "- **Observation 3:** Columns like `coordinates` and `price` are factors instead of numeric values.\n",
        "- **Observation 4:** Columns with dates like `last_review` and `listing_added` are factors instead of the `Date` data type."
      ]
    },
    {
      "cell_type": "code",
      "metadata": {
        "id": "ewCibkuE4NP-",
        "colab_type": "code",
        "colab": {
          "base_uri": "https://localhost:8080/",
          "height": 561
        },
        "outputId": "f4738474-5476-4d06-98c3-ee3026cab107"
      },
      "source": [
        "# Examine summary statistics and missing values\n",
        "summary(airbnb)"
      ],
      "execution_count": 7,
      "outputs": [
        {
          "output_type": "display_data",
          "data": {
            "text/plain": [
              "   listing_id       description           host_id           host_name        \n",
              " Min.   :    3831   Length:10019       Min.   :     2787   Length:10019      \n",
              " 1st Qu.: 9674772   Class :character   1st Qu.:  7910880   Class :character  \n",
              " Median :20070296   Mode  :character   Median : 31651673   Mode  :character  \n",
              " Mean   :19276341                      Mean   : 67959227                     \n",
              " 3rd Qu.:29338637                      3rd Qu.:107434423                     \n",
              " Max.   :36487245                      Max.   :274103383                     \n",
              "                                                                             \n",
              " nbhood_full        coordinates         room_type            price          \n",
              " Length:10019       Length:10019       Length:10019       Length:10019      \n",
              " Class :character   Class :character   Class :character   Class :character  \n",
              " Mode  :character   Mode  :character   Mode  :character   Mode  :character  \n",
              "                                                                            \n",
              "                                                                            \n",
              "                                                                            \n",
              "                                                                            \n",
              "   nb_reviews     last_review        reviews_per_month availability_365\n",
              " Min.   :  0.00   Length:10019       Min.   : 0.010    Min.   :  0.0   \n",
              " 1st Qu.:  1.00   Class :character   1st Qu.: 0.200    1st Qu.:  0.0   \n",
              " Median :  5.00   Mode  :character   Median : 0.710    Median : 44.0   \n",
              " Mean   : 22.46                      Mean   : 1.354    Mean   :112.3   \n",
              " 3rd Qu.: 22.00                      3rd Qu.: 2.000    3rd Qu.:226.0   \n",
              " Max.   :510.00                      Max.   :16.220    Max.   :365.0   \n",
              "                                     NA's   :2075                      \n",
              "   avg_rating    avg_stays_per_month  pct_5_stars     listing_added     \n",
              " Min.   :3.001   Min.   :  1.20      Min.   :0.6000   Length:10019      \n",
              " 1st Qu.:3.520   1st Qu.:  3.60      1st Qu.:0.6556   Class :character  \n",
              " Median :4.028   Median : 10.80      Median :0.7098   Mode  :character  \n",
              " Mean   :4.014   Mean   : 33.99      Mean   :0.7186                     \n",
              " 3rd Qu.:4.516   3rd Qu.: 38.40      3rd Qu.:0.7640                     \n",
              " Max.   :5.181   Max.   :612.00      Max.   :0.9503                     \n",
              " NA's   :2075    NA's   :2075        NA's   :2075                       "
            ]
          },
          "metadata": {
            "tags": []
          }
        }
      ]
    },
    {
      "cell_type": "markdown",
      "metadata": {
        "id": "z-17MT7M4UbL",
        "colab_type": "text"
      },
      "source": [
        "- **Observation 5:** There are 2075 missing values in `reviews_per_month`, `avg_rating`, `nb_stays`, and `pct_5_stars`.\n",
        "- **Observation 6:** The max of `avg_rating` is above 5 (out of range value)\n",
        "- **Observation 7:** There are inconsistencies in the categories of `room_type`, i.e. `\"Private\"`, `\"Private room\"`, and `\"PRIVATE ROOM\"`."
      ]
    },
    {
      "cell_type": "code",
      "metadata": {
        "id": "6Kwp6THl4SIV",
        "colab_type": "code",
        "colab": {
          "base_uri": "https://localhost:8080/",
          "height": 34
        },
        "outputId": "f8fc1245-7861-495b-9ec9-4e0dd60130e2"
      },
      "source": [
        "# Count data with duplicated listing_id\n",
        "airbnb %>%\n",
        "  filter(duplicated(listing_id)) %>%\n",
        "  nrow()"
      ],
      "execution_count": 8,
      "outputs": [
        {
          "output_type": "display_data",
          "data": {
            "text/plain": [
              "[1] 20"
            ],
            "text/latex": "20",
            "text/markdown": "20",
            "text/html": [
              "20"
            ]
          },
          "metadata": {
            "tags": []
          }
        }
      ]
    },
    {
      "cell_type": "markdown",
      "metadata": {
        "id": "P-4i_B1kvfM6",
        "colab_type": "text"
      },
      "source": [
        "*A note on the `%>%` operator:*\n",
        "\n",
        "This is an operator commonly used in the Tidyverse to make code more readable. The `%>%` takes the result of whatever is before it and inserts it as the first argument in the subsequent function.\n",
        "\n",
        "We could do this exact same counting operation using the following, but the function calls aren't in the order they're being executed, which makes it difficult to understand what's going on. The `%>%` allows us to write the functions in the order that they're executed.\n",
        "```r\n",
        "nrow(filter(airbnb, duplicated(listing_id)))\n",
        "```"
      ]
    },
    {
      "cell_type": "markdown",
      "metadata": {
        "id": "h9A2KkvJ4hQO",
        "colab_type": "text"
      },
      "source": [
        "- **Observation 8:** There are 20 rows whose `listing_id` already appeared earlier in the dataset (duplicates)."
      ]
    },
    {
      "cell_type": "markdown",
      "metadata": {
        "id": "eeNuwD5-4lAJ",
        "colab_type": "text"
      },
      "source": [
        "## **What do we need to do?**\n",
        "\n",
        "**Data type issues**\n",
        "- **Task 1:** Split `coordinates` into latitude and longitude and convert `numeric` data type.\n",
        "- **Task 2:** Remove `$`s from `price` column and convert to `numeric`.\n",
        "- **Task 3:** Convert `last_review` and `listing_added` to `Date`.\n",
        "\n",
        "**Text & categorical data issues**\n",
        "- **Task 4:** Split `nbhood_full` into separate neighborhood and borough columns.\n",
        "- **Task 5:** Collapse the categories of `room_type` so that they're consistent.\n",
        "\n",
        "**Data range issues**\n",
        "- **Task 6:** Fix the `avg_rating` column so it doesn't exceed `5`.\n",
        "\n",
        "**Missing data issues**\n",
        "- **Task 7:** Further investigate the missing data and decide how to handle them.\n",
        "\n",
        "**Duplicate data issues**\n",
        "- **Task 8:** Further investigate duplicate data points and decide how to handle them.\n",
        "\n",
        "***But also...***\n",
        "- We need to validate our data using various sanity checks"
      ]
    },
    {
      "cell_type": "markdown",
      "metadata": {
        "id": "yvQmADZn4oxm",
        "colab_type": "text"
      },
      "source": [
        "---\n",
        "<center><h1><b>Q&A</b></h1></center>\n",
        "\n",
        "---"
      ]
    },
    {
      "cell_type": "markdown",
      "metadata": {
        "id": "TqqGD4jk4zRr",
        "colab_type": "text"
      },
      "source": [
        "## **Cleaning the data**\n"
      ]
    },
    {
      "cell_type": "markdown",
      "metadata": {
        "id": "nTZAQnQc4128",
        "colab_type": "text"
      },
      "source": [
        "### **Data type issues**\n"
      ]
    },
    {
      "cell_type": "code",
      "metadata": {
        "id": "WM0EhIT-4izJ",
        "colab_type": "code",
        "colab": {
          "base_uri": "https://localhost:8080/",
          "height": 513
        },
        "outputId": "4eb04137-7d2b-45cc-a09e-7d05d4d1ab9b"
      },
      "source": [
        "# Reminder: what does the data look like?\n",
        "head(airbnb)"
      ],
      "execution_count": 9,
      "outputs": [
        {
          "output_type": "display_data",
          "data": {
            "text/plain": [
              "  listing_id description                                        host_id  \n",
              "1 13740704   Cozy,budget friendly, cable inc, private entrance!  20583125\n",
              "2 22005115   Two floor apartment near Central Park               82746113\n",
              "3 21667615   Beautiful 1BR in Brooklyn Heights                      78251\n",
              "4  6425850   Spacious, charming studio                           32715865\n",
              "5 22986519   Bedroom on the lively Lower East Side              154262349\n",
              "6   271954   Beautiful brownstone apartment                       1423798\n",
              "  host_name nbhood_full                  coordinates           room_type      \n",
              "1 Michel    Brooklyn, Flatlands          (40.63222, -73.93398) Private room   \n",
              "2 Cecilia   Manhattan, Upper West Side   (40.78761, -73.96862) Entire home/apt\n",
              "3 Leslie    Brooklyn, Brooklyn Heights   (40.7007, -73.99517)  Entire home/apt\n",
              "4 Yelena    Manhattan, Upper West Side   (40.79169, -73.97498) Entire home/apt\n",
              "5 Brooke    Manhattan, Lower East Side   (40.71884, -73.98354) Private room   \n",
              "6 Aj        Manhattan, Greenwich Village (40.73388, -73.99452) Entire home/apt\n",
              "  price nb_reviews last_review reviews_per_month availability_365 avg_rating\n",
              "1 $45    10        12/12/2018  0.70               85              4.100954  \n",
              "2 $135    1        06/30/2019  1.00              145              3.367600  \n",
              "3 $150    0        NA            NA               65                    NA  \n",
              "4 $86     5        09/23/2017  0.13                0              4.763203  \n",
              "5 $160   23        06/12/2019  2.29              102              3.822591  \n",
              "6 $150  203        06/20/2019  2.22              300              4.478396  \n",
              "  avg_stays_per_month pct_5_stars listing_added\n",
              "1  12.0               0.6094315   06/08/2018   \n",
              "2   1.2               0.7461346   12/25/2018   \n",
              "3    NA                      NA   08/15/2018   \n",
              "4   6.0               0.7699471   03/20/2017   \n",
              "5  27.6               0.6493831   10/23/2020   \n",
              "6 243.6               0.7434997   12/15/2018   "
            ],
            "text/latex": "A tibble: 6 × 16\n\\begin{tabular}{llllllllllllllll}\n listing\\_id & description & host\\_id & host\\_name & nbhood\\_full & coordinates & room\\_type & price & nb\\_reviews & last\\_review & reviews\\_per\\_month & availability\\_365 & avg\\_rating & avg\\_stays\\_per\\_month & pct\\_5\\_stars & listing\\_added\\\\\n <dbl> & <chr> & <dbl> & <chr> & <chr> & <chr> & <chr> & <chr> & <dbl> & <chr> & <dbl> & <dbl> & <dbl> & <dbl> & <dbl> & <chr>\\\\\n\\hline\n\t 13740704 & Cozy,budget friendly, cable inc, private entrance! &  20583125 & Michel  & Brooklyn, Flatlands          & (40.63222, -73.93398) & Private room    & \\$45  &  10 & 12/12/2018 & 0.70 &  85 & 4.100954 &  12.0 & 0.6094315 & 06/08/2018\\\\\n\t 22005115 & Two floor apartment near Central Park              &  82746113 & Cecilia & Manhattan, Upper West Side   & (40.78761, -73.96862) & Entire home/apt & \\$135 &   1 & 06/30/2019 & 1.00 & 145 & 3.367600 &   1.2 & 0.7461346 & 12/25/2018\\\\\n\t 21667615 & Beautiful 1BR in Brooklyn Heights                  &     78251 & Leslie  & Brooklyn, Brooklyn Heights   & (40.7007, -73.99517)  & Entire home/apt & \\$150 &   0 & NA         &   NA &  65 &       NA &    NA &        NA & 08/15/2018\\\\\n\t  6425850 & Spacious, charming studio                          &  32715865 & Yelena  & Manhattan, Upper West Side   & (40.79169, -73.97498) & Entire home/apt & \\$86  &   5 & 09/23/2017 & 0.13 &   0 & 4.763203 &   6.0 & 0.7699471 & 03/20/2017\\\\\n\t 22986519 & Bedroom on the lively Lower East Side              & 154262349 & Brooke  & Manhattan, Lower East Side   & (40.71884, -73.98354) & Private room    & \\$160 &  23 & 06/12/2019 & 2.29 & 102 & 3.822591 &  27.6 & 0.6493831 & 10/23/2020\\\\\n\t   271954 & Beautiful brownstone apartment                     &   1423798 & Aj      & Manhattan, Greenwich Village & (40.73388, -73.99452) & Entire home/apt & \\$150 & 203 & 06/20/2019 & 2.22 & 300 & 4.478396 & 243.6 & 0.7434997 & 12/15/2018\\\\\n\\end{tabular}\n",
            "text/markdown": "\nA tibble: 6 × 16\n\n| listing_id &lt;dbl&gt; | description &lt;chr&gt; | host_id &lt;dbl&gt; | host_name &lt;chr&gt; | nbhood_full &lt;chr&gt; | coordinates &lt;chr&gt; | room_type &lt;chr&gt; | price &lt;chr&gt; | nb_reviews &lt;dbl&gt; | last_review &lt;chr&gt; | reviews_per_month &lt;dbl&gt; | availability_365 &lt;dbl&gt; | avg_rating &lt;dbl&gt; | avg_stays_per_month &lt;dbl&gt; | pct_5_stars &lt;dbl&gt; | listing_added &lt;chr&gt; |\n|---|---|---|---|---|---|---|---|---|---|---|---|---|---|---|---|\n| 13740704 | Cozy,budget friendly, cable inc, private entrance! |  20583125 | Michel  | Brooklyn, Flatlands          | (40.63222, -73.93398) | Private room    | $45  |  10 | 12/12/2018 | 0.70 |  85 | 4.100954 |  12.0 | 0.6094315 | 06/08/2018 |\n| 22005115 | Two floor apartment near Central Park              |  82746113 | Cecilia | Manhattan, Upper West Side   | (40.78761, -73.96862) | Entire home/apt | $135 |   1 | 06/30/2019 | 1.00 | 145 | 3.367600 |   1.2 | 0.7461346 | 12/25/2018 |\n| 21667615 | Beautiful 1BR in Brooklyn Heights                  |     78251 | Leslie  | Brooklyn, Brooklyn Heights   | (40.7007, -73.99517)  | Entire home/apt | $150 |   0 | NA         |   NA |  65 |       NA |    NA |        NA | 08/15/2018 |\n|  6425850 | Spacious, charming studio                          |  32715865 | Yelena  | Manhattan, Upper West Side   | (40.79169, -73.97498) | Entire home/apt | $86  |   5 | 09/23/2017 | 0.13 |   0 | 4.763203 |   6.0 | 0.7699471 | 03/20/2017 |\n| 22986519 | Bedroom on the lively Lower East Side              | 154262349 | Brooke  | Manhattan, Lower East Side   | (40.71884, -73.98354) | Private room    | $160 |  23 | 06/12/2019 | 2.29 | 102 | 3.822591 |  27.6 | 0.6493831 | 10/23/2020 |\n|   271954 | Beautiful brownstone apartment                     |   1423798 | Aj      | Manhattan, Greenwich Village | (40.73388, -73.99452) | Entire home/apt | $150 | 203 | 06/20/2019 | 2.22 | 300 | 4.478396 | 243.6 | 0.7434997 | 12/15/2018 |\n\n",
            "text/html": [
              "<table>\n",
              "<caption>A tibble: 6 × 16</caption>\n",
              "<thead>\n",
              "\t<tr><th scope=col>listing_id</th><th scope=col>description</th><th scope=col>host_id</th><th scope=col>host_name</th><th scope=col>nbhood_full</th><th scope=col>coordinates</th><th scope=col>room_type</th><th scope=col>price</th><th scope=col>nb_reviews</th><th scope=col>last_review</th><th scope=col>reviews_per_month</th><th scope=col>availability_365</th><th scope=col>avg_rating</th><th scope=col>avg_stays_per_month</th><th scope=col>pct_5_stars</th><th scope=col>listing_added</th></tr>\n",
              "\t<tr><th scope=col>&lt;dbl&gt;</th><th scope=col>&lt;chr&gt;</th><th scope=col>&lt;dbl&gt;</th><th scope=col>&lt;chr&gt;</th><th scope=col>&lt;chr&gt;</th><th scope=col>&lt;chr&gt;</th><th scope=col>&lt;chr&gt;</th><th scope=col>&lt;chr&gt;</th><th scope=col>&lt;dbl&gt;</th><th scope=col>&lt;chr&gt;</th><th scope=col>&lt;dbl&gt;</th><th scope=col>&lt;dbl&gt;</th><th scope=col>&lt;dbl&gt;</th><th scope=col>&lt;dbl&gt;</th><th scope=col>&lt;dbl&gt;</th><th scope=col>&lt;chr&gt;</th></tr>\n",
              "</thead>\n",
              "<tbody>\n",
              "\t<tr><td>13740704</td><td>Cozy,budget friendly, cable inc, private entrance!</td><td> 20583125</td><td>Michel </td><td>Brooklyn, Flatlands         </td><td>(40.63222, -73.93398)</td><td>Private room   </td><td>$45 </td><td> 10</td><td>12/12/2018</td><td>0.70</td><td> 85</td><td>4.100954</td><td> 12.0</td><td>0.6094315</td><td>06/08/2018</td></tr>\n",
              "\t<tr><td>22005115</td><td>Two floor apartment near Central Park             </td><td> 82746113</td><td>Cecilia</td><td>Manhattan, Upper West Side  </td><td>(40.78761, -73.96862)</td><td>Entire home/apt</td><td>$135</td><td>  1</td><td>06/30/2019</td><td>1.00</td><td>145</td><td>3.367600</td><td>  1.2</td><td>0.7461346</td><td>12/25/2018</td></tr>\n",
              "\t<tr><td>21667615</td><td>Beautiful 1BR in Brooklyn Heights                 </td><td>    78251</td><td>Leslie </td><td>Brooklyn, Brooklyn Heights  </td><td>(40.7007, -73.99517) </td><td>Entire home/apt</td><td>$150</td><td>  0</td><td>NA        </td><td>  NA</td><td> 65</td><td>      NA</td><td>   NA</td><td>       NA</td><td>08/15/2018</td></tr>\n",
              "\t<tr><td> 6425850</td><td>Spacious, charming studio                         </td><td> 32715865</td><td>Yelena </td><td>Manhattan, Upper West Side  </td><td>(40.79169, -73.97498)</td><td>Entire home/apt</td><td>$86 </td><td>  5</td><td>09/23/2017</td><td>0.13</td><td>  0</td><td>4.763203</td><td>  6.0</td><td>0.7699471</td><td>03/20/2017</td></tr>\n",
              "\t<tr><td>22986519</td><td>Bedroom on the lively Lower East Side             </td><td>154262349</td><td>Brooke </td><td>Manhattan, Lower East Side  </td><td>(40.71884, -73.98354)</td><td>Private room   </td><td>$160</td><td> 23</td><td>06/12/2019</td><td>2.29</td><td>102</td><td>3.822591</td><td> 27.6</td><td>0.6493831</td><td>10/23/2020</td></tr>\n",
              "\t<tr><td>  271954</td><td>Beautiful brownstone apartment                    </td><td>  1423798</td><td>Aj     </td><td>Manhattan, Greenwich Village</td><td>(40.73388, -73.99452)</td><td>Entire home/apt</td><td>$150</td><td>203</td><td>06/20/2019</td><td>2.22</td><td>300</td><td>4.478396</td><td>243.6</td><td>0.7434997</td><td>12/15/2018</td></tr>\n",
              "</tbody>\n",
              "</table>\n"
            ]
          },
          "metadata": {
            "tags": []
          }
        }
      ]
    },
    {
      "cell_type": "markdown",
      "metadata": {
        "id": "Uv34mfrn5ER-",
        "colab_type": "text"
      },
      "source": [
        "#### **Task 1:** Split `coordinates` into latitude and longitude and convert `numeric` data type.\n"
      ]
    },
    {
      "cell_type": "markdown",
      "metadata": {
        "id": "mbtP0UPt2cwP",
        "colab_type": "text"
      },
      "source": [
        "- `str_remove_all()` removes all instances of a substring from a string.\n",
        "- `str_split()` will split a string into multiple pieces based on a separation string.\n",
        "- `as.data.frame()` converts an object into a data frame. It automatically converts any strings to `factor`s, which is not what we want in this case, so we'll stop this behavior using `stringsAsFactors = FALSE`.\n",
        "- `rename()` takes arguments of the format `new_col_name = old_col_name` and renames the columns as such."
      ]
    },
    {
      "cell_type": "code",
      "metadata": {
        "id": "i6YA6Mcq5FAO",
        "colab_type": "code",
        "colab": {}
      },
      "source": [
        "# Create lat_lon columns\n",
        "\n",
        "lat_lon <- airbnb$coordinates %>%\n",
        "  # Remove left parentheses\n",
        "  str_remove_all(fixed(\"(\")) %>%\n",
        "  # Remove right parentheses\n",
        "  str_remove_all(fixed(\")\")) %>%\n",
        "  # Split latitude and longitude\n",
        "  str_split(\", \", simplify = TRUE) %>%\n",
        "  # Convert from matrix to data frame\n",
        "  as.data.frame(stringsAsFactors = FALSE) %>%\n",
        "  # Rename columns\n",
        "  rename(latitude = V1, longitude = V2)"
      ],
      "execution_count": 0,
      "outputs": []
    },
    {
      "cell_type": "markdown",
      "metadata": {
        "id": "SZ4rjulf3c1U",
        "colab_type": "text"
      },
      "source": [
        "- `cbind()` stands for column bind, which sticks two data frames together horizontally.\n",
        "\n",
        "<img src=\"https://raw.githubusercontent.com/datacamp/cleaning-data-in-r-live-training/master/assets/cbind.png\" width=\"500px;\"/>"
      ]
    },
    {
      "cell_type": "code",
      "metadata": {
        "id": "nLoVV0wx5HY0",
        "colab_type": "code",
        "colab": {}
      },
      "source": [
        "# Assign it to dataset\n",
        "\n",
        "airbnb <- airbnb %>%\n",
        "  # Combine lat_lon with original data frame\n",
        "  cbind(lat_lon) %>%\n",
        "  # Convert to numeric\n",
        "  mutate(latitude = as.numeric(latitude),\n",
        "        longitude = as.numeric(longitude)) %>%\n",
        "  # Remove coordinates column\n",
        "  select(-coordinates)"
      ],
      "execution_count": 0,
      "outputs": []
    },
    {
      "cell_type": "markdown",
      "metadata": {
        "id": "cTyOqtuf5MKA",
        "colab_type": "text"
      },
      "source": [
        "#### **Task 2:** Remove `$`s from `price` column and convert to `numeric`."
      ]
    },
    {
      "cell_type": "code",
      "metadata": {
        "id": "c7bo2KI65MuC",
        "colab_type": "code",
        "colab": {
          "base_uri": "https://localhost:8080/",
          "height": 0
        },
        "outputId": "365d81db-875d-4380-9a13-ce07034af207"
      },
      "source": [
        "# Remove $ and convert to numeric\n",
        "price_clean <- airbnb$price %>%\n",
        "  str_remove_all(fixed(\"$\")) %>%\n",
        "  as.numeric()"
      ],
      "execution_count": 12,
      "outputs": [
        {
          "output_type": "stream",
          "text": [
            "Warning message in function_list[[k]](value):\n",
            "“NAs introduced by coercion”\n"
          ],
          "name": "stderr"
        }
      ]
    },
    {
      "cell_type": "markdown",
      "metadata": {
        "id": "GZLstAby5OU6",
        "colab_type": "text"
      },
      "source": [
        "Notice we get a warning here that values are being converted to `NA`, so before we move on, we need to look into this further to ensure that the values are actually missing and we're not losing data by mistake.\n",
        "\n",
        "Let's take a look at the values of `price`.\n"
      ]
    },
    {
      "cell_type": "code",
      "metadata": {
        "id": "UPuE0iPw5U9h",
        "colab_type": "code",
        "colab": {
          "base_uri": "https://localhost:8080/",
          "height": 0
        },
        "outputId": "da9c7207-fb27-416c-bab2-7e3fff7cc737"
      },
      "source": [
        "# Look at values of price\n",
        "airbnb %>%\n",
        "  count(price, sort = TRUE)"
      ],
      "execution_count": 13,
      "outputs": [
        {
          "output_type": "display_data",
          "data": {
            "text/plain": [
              "    price n  \n",
              "1   $150  416\n",
              "2   $100  395\n",
              "3   $200  292\n",
              "4   $50   287\n",
              "5   $60   287\n",
              "6   $75   281\n",
              "7   $70   252\n",
              "8   $80   241\n",
              "9   $65   239\n",
              "10  $NA   238\n",
              "11  $120  231\n",
              "12  $250  212\n",
              "13  $55   212\n",
              "14  $125  210\n",
              "15  $90   182\n",
              "16  $45   176\n",
              "17  $85   165\n",
              "18  $99   148\n",
              "19  $110  141\n",
              "20  $40   138\n",
              "21  $175  135\n",
              "22  $95   129\n",
              "23  $180  119\n",
              "24  $140  111\n",
              "25  $130  107\n",
              "26  $300  105\n",
              "27  $115   99\n",
              "28  $35    95\n",
              "29  $135   94\n",
              "30  $160   88\n",
              "⋮   ⋮     ⋮  \n",
              "405 $583  1  \n",
              "406 $585  1  \n",
              "407 $616  1  \n",
              "408 $619  1  \n",
              "409 $625  1  \n",
              "410 $649  1  \n",
              "411 $672  1  \n",
              "412 $680  1  \n",
              "413 $689  1  \n",
              "414 $690  1  \n",
              "415 $714  1  \n",
              "416 $718  1  \n",
              "417 $737  1  \n",
              "418 $748  1  \n",
              "419 $766  1  \n",
              "420 $780  1  \n",
              "421 $785  1  \n",
              "422 $790  1  \n",
              "423 $795  1  \n",
              "424 $8000 1  \n",
              "425 $805  1  \n",
              "426 $820  1  \n",
              "427 $850  1  \n",
              "428 $890  1  \n",
              "429 $898  1  \n",
              "430 $899  1  \n",
              "431 $900  1  \n",
              "432 $920  1  \n",
              "433 $950  1  \n",
              "434 $990  1  "
            ],
            "text/latex": "A data.frame: 434 × 2\n\\begin{tabular}{ll}\n price & n\\\\\n <chr> & <int>\\\\\n\\hline\n\t \\$150 & 416\\\\\n\t \\$100 & 395\\\\\n\t \\$200 & 292\\\\\n\t \\$50  & 287\\\\\n\t \\$60  & 287\\\\\n\t \\$75  & 281\\\\\n\t \\$70  & 252\\\\\n\t \\$80  & 241\\\\\n\t \\$65  & 239\\\\\n\t \\$NA  & 238\\\\\n\t \\$120 & 231\\\\\n\t \\$250 & 212\\\\\n\t \\$55  & 212\\\\\n\t \\$125 & 210\\\\\n\t \\$90  & 182\\\\\n\t \\$45  & 176\\\\\n\t \\$85  & 165\\\\\n\t \\$99  & 148\\\\\n\t \\$110 & 141\\\\\n\t \\$40  & 138\\\\\n\t \\$175 & 135\\\\\n\t \\$95  & 129\\\\\n\t \\$180 & 119\\\\\n\t \\$140 & 111\\\\\n\t \\$130 & 107\\\\\n\t \\$300 & 105\\\\\n\t \\$115 &  99\\\\\n\t \\$35  &  95\\\\\n\t \\$135 &  94\\\\\n\t \\$160 &  88\\\\\n\t ⋮ & ⋮\\\\\n\t \\$583  & 1\\\\\n\t \\$585  & 1\\\\\n\t \\$616  & 1\\\\\n\t \\$619  & 1\\\\\n\t \\$625  & 1\\\\\n\t \\$649  & 1\\\\\n\t \\$672  & 1\\\\\n\t \\$680  & 1\\\\\n\t \\$689  & 1\\\\\n\t \\$690  & 1\\\\\n\t \\$714  & 1\\\\\n\t \\$718  & 1\\\\\n\t \\$737  & 1\\\\\n\t \\$748  & 1\\\\\n\t \\$766  & 1\\\\\n\t \\$780  & 1\\\\\n\t \\$785  & 1\\\\\n\t \\$790  & 1\\\\\n\t \\$795  & 1\\\\\n\t \\$8000 & 1\\\\\n\t \\$805  & 1\\\\\n\t \\$820  & 1\\\\\n\t \\$850  & 1\\\\\n\t \\$890  & 1\\\\\n\t \\$898  & 1\\\\\n\t \\$899  & 1\\\\\n\t \\$900  & 1\\\\\n\t \\$920  & 1\\\\\n\t \\$950  & 1\\\\\n\t \\$990  & 1\\\\\n\\end{tabular}\n",
            "text/markdown": "\nA data.frame: 434 × 2\n\n| price &lt;chr&gt; | n &lt;int&gt; |\n|---|---|\n| $150 | 416 |\n| $100 | 395 |\n| $200 | 292 |\n| $50  | 287 |\n| $60  | 287 |\n| $75  | 281 |\n| $70  | 252 |\n| $80  | 241 |\n| $65  | 239 |\n| $NA  | 238 |\n| $120 | 231 |\n| $250 | 212 |\n| $55  | 212 |\n| $125 | 210 |\n| $90  | 182 |\n| $45  | 176 |\n| $85  | 165 |\n| $99  | 148 |\n| $110 | 141 |\n| $40  | 138 |\n| $175 | 135 |\n| $95  | 129 |\n| $180 | 119 |\n| $140 | 111 |\n| $130 | 107 |\n| $300 | 105 |\n| $115 |  99 |\n| $35  |  95 |\n| $135 |  94 |\n| $160 |  88 |\n| ⋮ | ⋮ |\n| $583  | 1 |\n| $585  | 1 |\n| $616  | 1 |\n| $619  | 1 |\n| $625  | 1 |\n| $649  | 1 |\n| $672  | 1 |\n| $680  | 1 |\n| $689  | 1 |\n| $690  | 1 |\n| $714  | 1 |\n| $718  | 1 |\n| $737  | 1 |\n| $748  | 1 |\n| $766  | 1 |\n| $780  | 1 |\n| $785  | 1 |\n| $790  | 1 |\n| $795  | 1 |\n| $8000 | 1 |\n| $805  | 1 |\n| $820  | 1 |\n| $850  | 1 |\n| $890  | 1 |\n| $898  | 1 |\n| $899  | 1 |\n| $900  | 1 |\n| $920  | 1 |\n| $950  | 1 |\n| $990  | 1 |\n\n",
            "text/html": [
              "<table>\n",
              "<caption>A data.frame: 434 × 2</caption>\n",
              "<thead>\n",
              "\t<tr><th scope=col>price</th><th scope=col>n</th></tr>\n",
              "\t<tr><th scope=col>&lt;chr&gt;</th><th scope=col>&lt;int&gt;</th></tr>\n",
              "</thead>\n",
              "<tbody>\n",
              "\t<tr><td>$150</td><td>416</td></tr>\n",
              "\t<tr><td>$100</td><td>395</td></tr>\n",
              "\t<tr><td>$200</td><td>292</td></tr>\n",
              "\t<tr><td>$50 </td><td>287</td></tr>\n",
              "\t<tr><td>$60 </td><td>287</td></tr>\n",
              "\t<tr><td>$75 </td><td>281</td></tr>\n",
              "\t<tr><td>$70 </td><td>252</td></tr>\n",
              "\t<tr><td>$80 </td><td>241</td></tr>\n",
              "\t<tr><td>$65 </td><td>239</td></tr>\n",
              "\t<tr><td>$NA </td><td>238</td></tr>\n",
              "\t<tr><td>$120</td><td>231</td></tr>\n",
              "\t<tr><td>$250</td><td>212</td></tr>\n",
              "\t<tr><td>$55 </td><td>212</td></tr>\n",
              "\t<tr><td>$125</td><td>210</td></tr>\n",
              "\t<tr><td>$90 </td><td>182</td></tr>\n",
              "\t<tr><td>$45 </td><td>176</td></tr>\n",
              "\t<tr><td>$85 </td><td>165</td></tr>\n",
              "\t<tr><td>$99 </td><td>148</td></tr>\n",
              "\t<tr><td>$110</td><td>141</td></tr>\n",
              "\t<tr><td>$40 </td><td>138</td></tr>\n",
              "\t<tr><td>$175</td><td>135</td></tr>\n",
              "\t<tr><td>$95 </td><td>129</td></tr>\n",
              "\t<tr><td>$180</td><td>119</td></tr>\n",
              "\t<tr><td>$140</td><td>111</td></tr>\n",
              "\t<tr><td>$130</td><td>107</td></tr>\n",
              "\t<tr><td>$300</td><td>105</td></tr>\n",
              "\t<tr><td>$115</td><td> 99</td></tr>\n",
              "\t<tr><td>$35 </td><td> 95</td></tr>\n",
              "\t<tr><td>$135</td><td> 94</td></tr>\n",
              "\t<tr><td>$160</td><td> 88</td></tr>\n",
              "\t<tr><td>⋮</td><td>⋮</td></tr>\n",
              "\t<tr><td>$583 </td><td>1</td></tr>\n",
              "\t<tr><td>$585 </td><td>1</td></tr>\n",
              "\t<tr><td>$616 </td><td>1</td></tr>\n",
              "\t<tr><td>$619 </td><td>1</td></tr>\n",
              "\t<tr><td>$625 </td><td>1</td></tr>\n",
              "\t<tr><td>$649 </td><td>1</td></tr>\n",
              "\t<tr><td>$672 </td><td>1</td></tr>\n",
              "\t<tr><td>$680 </td><td>1</td></tr>\n",
              "\t<tr><td>$689 </td><td>1</td></tr>\n",
              "\t<tr><td>$690 </td><td>1</td></tr>\n",
              "\t<tr><td>$714 </td><td>1</td></tr>\n",
              "\t<tr><td>$718 </td><td>1</td></tr>\n",
              "\t<tr><td>$737 </td><td>1</td></tr>\n",
              "\t<tr><td>$748 </td><td>1</td></tr>\n",
              "\t<tr><td>$766 </td><td>1</td></tr>\n",
              "\t<tr><td>$780 </td><td>1</td></tr>\n",
              "\t<tr><td>$785 </td><td>1</td></tr>\n",
              "\t<tr><td>$790 </td><td>1</td></tr>\n",
              "\t<tr><td>$795 </td><td>1</td></tr>\n",
              "\t<tr><td>$8000</td><td>1</td></tr>\n",
              "\t<tr><td>$805 </td><td>1</td></tr>\n",
              "\t<tr><td>$820 </td><td>1</td></tr>\n",
              "\t<tr><td>$850 </td><td>1</td></tr>\n",
              "\t<tr><td>$890 </td><td>1</td></tr>\n",
              "\t<tr><td>$898 </td><td>1</td></tr>\n",
              "\t<tr><td>$899 </td><td>1</td></tr>\n",
              "\t<tr><td>$900 </td><td>1</td></tr>\n",
              "\t<tr><td>$920 </td><td>1</td></tr>\n",
              "\t<tr><td>$950 </td><td>1</td></tr>\n",
              "\t<tr><td>$990 </td><td>1</td></tr>\n",
              "</tbody>\n",
              "</table>\n"
            ]
          },
          "metadata": {
            "tags": []
          }
        }
      ]
    },
    {
      "cell_type": "markdown",
      "metadata": {
        "id": "EajADDBt57-C",
        "colab_type": "text"
      },
      "source": [
        "It looks like we have a non-standard representation of `NA` here, `$NA`, so these are getting coerced to `NA`s. This is the behavior we want, so we can ignore the warning."
      ]
    },
    {
      "cell_type": "code",
      "metadata": {
        "id": "Fpi0jcHn5zD1",
        "colab_type": "code",
        "colab": {}
      },
      "source": [
        "# Add to data frame\n",
        "airbnb <- airbnb %>%\n",
        "  mutate(price = price_clean)"
      ],
      "execution_count": 0,
      "outputs": []
    },
    {
      "cell_type": "markdown",
      "metadata": {
        "id": "anggnvoK8pvK",
        "colab_type": "text"
      },
      "source": [
        "#### **Task 3:** Convert `last_review` and `listing_added` to `Date`.\n",
        "\n",
        "Conversion to `Date` is done using `as.Date()`, which takes in a `format` argument. The `format` argument allows us to convert lots of different formats of dates to a `Date` type, like \"January 1, 2020\" or \"01-01-2020\". There are special symbols that we use to specify this. Here are a few of them, but you can find all the possible ones by typing `?strptime` into your console.\n",
        "\n",
        "<img src=\"https://raw.githubusercontent.com/datacamp/cleaning-data-in-r-live-training/master/assets/date_formats.png\" alt=\"%d = day number, %m = month number, %Y = 4 digit year, %y = 2 digit year, %B = month, %b = month abbreviation\" width=\"250px;\"/>\n",
        "\n",
        "A date like \"21 Oct 2020\" would be in the format `\"%d %b %Y\"`.\n"
      ]
    },
    {
      "cell_type": "code",
      "metadata": {
        "id": "c7BN8s568rKZ",
        "colab_type": "code",
        "colab": {}
      },
      "source": [
        "# Look up date formatting symbols\n",
        "?strptime"
      ],
      "execution_count": 0,
      "outputs": []
    },
    {
      "cell_type": "code",
      "metadata": {
        "id": "xodQb7XMrQz8",
        "colab_type": "code",
        "colab": {
          "base_uri": "https://localhost:8080/",
          "height": 0
        },
        "outputId": "b0feca27-c314-42da-f104-009fafda0e21"
      },
      "source": [
        "# Examine first rows of date columns\n",
        "airbnb %>%\n",
        "  select(last_review, listing_added) %>%\n",
        "  head()"
      ],
      "execution_count": 16,
      "outputs": [
        {
          "output_type": "display_data",
          "data": {
            "text/plain": [
              "  last_review listing_added\n",
              "1 12/12/2018  06/08/2018   \n",
              "2 06/30/2019  12/25/2018   \n",
              "3 NA          08/15/2018   \n",
              "4 09/23/2017  03/20/2017   \n",
              "5 06/12/2019  10/23/2020   \n",
              "6 06/20/2019  12/15/2018   "
            ],
            "text/latex": "A data.frame: 6 × 2\n\\begin{tabular}{r|ll}\n  & last\\_review & listing\\_added\\\\\n  & <chr> & <chr>\\\\\n\\hline\n\t1 & 12/12/2018 & 06/08/2018\\\\\n\t2 & 06/30/2019 & 12/25/2018\\\\\n\t3 & NA         & 08/15/2018\\\\\n\t4 & 09/23/2017 & 03/20/2017\\\\\n\t5 & 06/12/2019 & 10/23/2020\\\\\n\t6 & 06/20/2019 & 12/15/2018\\\\\n\\end{tabular}\n",
            "text/markdown": "\nA data.frame: 6 × 2\n\n| <!--/--> | last_review &lt;chr&gt; | listing_added &lt;chr&gt; |\n|---|---|---|\n| 1 | 12/12/2018 | 06/08/2018 |\n| 2 | 06/30/2019 | 12/25/2018 |\n| 3 | NA         | 08/15/2018 |\n| 4 | 09/23/2017 | 03/20/2017 |\n| 5 | 06/12/2019 | 10/23/2020 |\n| 6 | 06/20/2019 | 12/15/2018 |\n\n",
            "text/html": [
              "<table>\n",
              "<caption>A data.frame: 6 × 2</caption>\n",
              "<thead>\n",
              "\t<tr><th></th><th scope=col>last_review</th><th scope=col>listing_added</th></tr>\n",
              "\t<tr><th></th><th scope=col>&lt;chr&gt;</th><th scope=col>&lt;chr&gt;</th></tr>\n",
              "</thead>\n",
              "<tbody>\n",
              "\t<tr><th scope=row>1</th><td>12/12/2018</td><td>06/08/2018</td></tr>\n",
              "\t<tr><th scope=row>2</th><td>06/30/2019</td><td>12/25/2018</td></tr>\n",
              "\t<tr><th scope=row>3</th><td>NA        </td><td>08/15/2018</td></tr>\n",
              "\t<tr><th scope=row>4</th><td>09/23/2017</td><td>03/20/2017</td></tr>\n",
              "\t<tr><th scope=row>5</th><td>06/12/2019</td><td>10/23/2020</td></tr>\n",
              "\t<tr><th scope=row>6</th><td>06/20/2019</td><td>12/15/2018</td></tr>\n",
              "</tbody>\n",
              "</table>\n"
            ]
          },
          "metadata": {
            "tags": []
          }
        }
      ]
    },
    {
      "cell_type": "code",
      "metadata": {
        "id": "fa_9REcc8tGr",
        "colab_type": "code",
        "colab": {}
      },
      "source": [
        "# Convert strings to Dates\n",
        "airbnb <- airbnb %>%\n",
        "  mutate(last_review = as.Date(last_review, format = \"%m/%d/%Y\"),\n",
        "        listing_added = as.Date(listing_added, format = \"%m/%d/%Y\"))"
      ],
      "execution_count": 0,
      "outputs": []
    },
    {
      "cell_type": "markdown",
      "metadata": {
        "id": "-qmBgol6siVn",
        "colab_type": "text"
      },
      "source": [
        "---\n",
        "<center><h1><b>Q&A</b></h1></center>\n",
        "\n",
        "---"
      ]
    },
    {
      "cell_type": "markdown",
      "metadata": {
        "id": "Ffn4WAOJ8zEH",
        "colab_type": "text"
      },
      "source": [
        "### **Text & categorical data issues**\n"
      ]
    },
    {
      "cell_type": "markdown",
      "metadata": {
        "id": "qvMQ8wBV80qt",
        "colab_type": "text"
      },
      "source": [
        "#### **Task 4:** Split `nbhood_full` into separate `nbhood` and `borough` columns."
      ]
    },
    {
      "cell_type": "code",
      "metadata": {
        "id": "cVKSTOuw8y22",
        "colab_type": "code",
        "colab": {}
      },
      "source": [
        "# Split borough and neighborhood\n",
        "\n",
        "borough_nbhood <- airbnb$nbhood_full %>%\n",
        "  # Split column\n",
        "  str_split(\", \", simplify = TRUE) %>%\n",
        "  # Convert from matrix to data frame\n",
        "  as.data.frame() %>%\n",
        "  # Rename columns\n",
        "  rename(borough = V1, nbhood = V2)"
      ],
      "execution_count": 0,
      "outputs": []
    },
    {
      "cell_type": "code",
      "metadata": {
        "id": "E4B7YsYl83iY",
        "colab_type": "code",
        "colab": {}
      },
      "source": [
        "# Assign to airbnb\n",
        "\n",
        "airbnb <- airbnb %>%\n",
        "  # Combine borough_nbhood with data\n",
        "  cbind(borough_nbhood) %>%\n",
        "  # Remove nbhood_full\n",
        "  select(-nbhood_full)"
      ],
      "execution_count": 0,
      "outputs": []
    },
    {
      "cell_type": "markdown",
      "metadata": {
        "id": "Z8as3rzq9HHW",
        "colab_type": "text"
      },
      "source": [
        "#### **Task 5:** Collapse the categories of `room_type` so that they're consistent."
      ]
    },
    {
      "cell_type": "code",
      "metadata": {
        "id": "btgSaZR39HsF",
        "colab_type": "code",
        "colab": {
          "base_uri": "https://localhost:8080/",
          "height": 0
        },
        "outputId": "8ca57f1c-20cc-4c5c-b21d-720abf58e189"
      },
      "source": [
        "# Count categories of room_type\n",
        "airbnb %>%\n",
        "  count(room_type)"
      ],
      "execution_count": 20,
      "outputs": [
        {
          "output_type": "display_data",
          "data": {
            "text/plain": [
              "  room_type       n   \n",
              "1 Entire home/apt 5120\n",
              "2 home              66\n",
              "3 Private           89\n",
              "4 Private room    4487\n",
              "5 PRIVATE ROOM      31\n",
              "6 Shared room      226"
            ],
            "text/latex": "A data.frame: 6 × 2\n\\begin{tabular}{ll}\n room\\_type & n\\\\\n <chr> & <int>\\\\\n\\hline\n\t Entire home/apt & 5120\\\\\n\t home            &   66\\\\\n\t Private         &   89\\\\\n\t Private room    & 4487\\\\\n\t PRIVATE ROOM    &   31\\\\\n\t Shared room     &  226\\\\\n\\end{tabular}\n",
            "text/markdown": "\nA data.frame: 6 × 2\n\n| room_type &lt;chr&gt; | n &lt;int&gt; |\n|---|---|\n| Entire home/apt | 5120 |\n| home            |   66 |\n| Private         |   89 |\n| Private room    | 4487 |\n| PRIVATE ROOM    |   31 |\n| Shared room     |  226 |\n\n",
            "text/html": [
              "<table>\n",
              "<caption>A data.frame: 6 × 2</caption>\n",
              "<thead>\n",
              "\t<tr><th scope=col>room_type</th><th scope=col>n</th></tr>\n",
              "\t<tr><th scope=col>&lt;chr&gt;</th><th scope=col>&lt;int&gt;</th></tr>\n",
              "</thead>\n",
              "<tbody>\n",
              "\t<tr><td>Entire home/apt</td><td>5120</td></tr>\n",
              "\t<tr><td>home           </td><td>  66</td></tr>\n",
              "\t<tr><td>Private        </td><td>  89</td></tr>\n",
              "\t<tr><td>Private room   </td><td>4487</td></tr>\n",
              "\t<tr><td>PRIVATE ROOM   </td><td>  31</td></tr>\n",
              "\t<tr><td>Shared room    </td><td> 226</td></tr>\n",
              "</tbody>\n",
              "</table>\n"
            ]
          },
          "metadata": {
            "tags": []
          }
        }
      ]
    },
    {
      "cell_type": "markdown",
      "metadata": {
        "id": "COjZcTv40c10",
        "colab_type": "text"
      },
      "source": [
        "- `stringr::str_to_lower()` converts strings to all lowercase, so `\"PRIVATE ROOM\"` becomes `\"private room\"`. This saves us the pain of having to go through the dataset and find each different capitalized variation of `\"private room\"`.\n",
        "- `forcats::fct_collapse()` will combine multiple categories into one, which is useful when there are a few different values that mean the same thing."
      ]
    },
    {
      "cell_type": "code",
      "metadata": {
        "id": "6L8hfW7h9JEu",
        "colab_type": "code",
        "colab": {}
      },
      "source": [
        "# Collapse categorical variables\n",
        "\n",
        "room_type_clean <- airbnb$room_type %>%\n",
        "  # Change all to lowercase\n",
        "  str_to_lower() %>%\n",
        "  # Collapse categories\n",
        "  fct_collapse(private_room = c(\"private\", \"private room\"),\n",
        "                        entire_place = c(\"entire home/apt\", \"home\"),\n",
        "                        shared_room = \"shared room\")"
      ],
      "execution_count": 0,
      "outputs": []
    },
    {
      "cell_type": "code",
      "metadata": {
        "id": "H1WP-ARS9KUL",
        "colab_type": "code",
        "colab": {}
      },
      "source": [
        "# Add to data frame\n",
        "airbnb <- airbnb %>% \n",
        "  mutate(room_type = room_type_clean)"
      ],
      "execution_count": 0,
      "outputs": []
    },
    {
      "cell_type": "markdown",
      "metadata": {
        "id": "dxjRBpGRsmFi",
        "colab_type": "text"
      },
      "source": [
        "---\n",
        "<center><h1><b>Q&A</b></h1></center>\n",
        "\n",
        "---"
      ]
    },
    {
      "cell_type": "markdown",
      "metadata": {
        "id": "OmuXjJQd9OdC",
        "colab_type": "text"
      },
      "source": [
        "### **Data range issues**\n",
        "\n",
        "#### **Task 6:** Fix the `avg_rating` column so it doesn't exceed `5`."
      ]
    },
    {
      "cell_type": "code",
      "metadata": {
        "id": "pIYTw6eQ9OAU",
        "colab_type": "code",
        "colab": {
          "base_uri": "https://localhost:8080/",
          "height": 133
        },
        "outputId": "2986ae39-c1e3-4719-e368-e18dbc8b470d"
      },
      "source": [
        "# How many places with avg_rating above 5?\n",
        "airbnb %>%\n",
        "  filter(avg_rating > 5) %>%\n",
        "  count()"
      ],
      "execution_count": 23,
      "outputs": [
        {
          "output_type": "display_data",
          "data": {
            "text/plain": [
              "  n\n",
              "1 3"
            ],
            "text/latex": "A data.frame: 1 × 1\n\\begin{tabular}{l}\n n\\\\\n <int>\\\\\n\\hline\n\t 3\\\\\n\\end{tabular}\n",
            "text/markdown": "\nA data.frame: 1 × 1\n\n| n &lt;int&gt; |\n|---|\n| 3 |\n\n",
            "text/html": [
              "<table>\n",
              "<caption>A data.frame: 1 × 1</caption>\n",
              "<thead>\n",
              "\t<tr><th scope=col>n</th></tr>\n",
              "\t<tr><th scope=col>&lt;int&gt;</th></tr>\n",
              "</thead>\n",
              "<tbody>\n",
              "\t<tr><td>3</td></tr>\n",
              "</tbody>\n",
              "</table>\n"
            ]
          },
          "metadata": {
            "tags": []
          }
        }
      ]
    },
    {
      "cell_type": "code",
      "metadata": {
        "id": "TQLzv6eH9iTY",
        "colab_type": "code",
        "colab": {
          "base_uri": "https://localhost:8080/",
          "height": 348
        },
        "outputId": "7bdc1d22-f338-4b8a-db86-a0007196c359"
      },
      "source": [
        "# What does the data for these places look like?\n",
        "airbnb %>%\n",
        "  filter(avg_rating > 5)"
      ],
      "execution_count": 24,
      "outputs": [
        {
          "output_type": "display_data",
          "data": {
            "text/plain": [
              "  listing_id description                                host_id   host_name\n",
              "1 36411407   Brand new 1 bedroom steps from Soho!        33917435 Mike     \n",
              "2 36390226   Comfortable clean Bedstuy private room     267932490 Angela   \n",
              "3 36413632   Spacious 2BR in Beautiful Brooklyn Heights   6608220 Matt     \n",
              "  room_type    price nb_reviews last_review reviews_per_month availability_365\n",
              "1 entire_place 150   1          2019-07-06  1                  13             \n",
              "2 private_room  45   2          2019-07-08  2                  14             \n",
              "3 entire_place 550   1          2019-07-07  1                 230             \n",
              "  avg_rating avg_stays_per_month pct_5_stars listing_added latitude longitude\n",
              "1 5.017040   1.2                 0.8701607   2018-12-31    40.71825 -73.99019\n",
              "2 5.087091   2.4                 0.9503388   2019-01-02    40.69551 -73.93951\n",
              "3 5.181114   1.2                 0.8054182   2019-01-01    40.69827 -73.99649\n",
              "  borough   nbhood            \n",
              "1 Manhattan Lower East Side   \n",
              "2 Brooklyn  Bedford-Stuyvesant\n",
              "3 Brooklyn  Brooklyn Heights  "
            ],
            "text/latex": "A data.frame: 3 × 18\n\\begin{tabular}{llllllllllllllllll}\n listing\\_id & description & host\\_id & host\\_name & room\\_type & price & nb\\_reviews & last\\_review & reviews\\_per\\_month & availability\\_365 & avg\\_rating & avg\\_stays\\_per\\_month & pct\\_5\\_stars & listing\\_added & latitude & longitude & borough & nbhood\\\\\n <dbl> & <chr> & <dbl> & <chr> & <fct> & <dbl> & <dbl> & <date> & <dbl> & <dbl> & <dbl> & <dbl> & <dbl> & <date> & <dbl> & <dbl> & <fct> & <fct>\\\\\n\\hline\n\t 36411407 & Brand new 1 bedroom steps from Soho!       &  33917435 & Mike   & entire\\_place & 150 & 1 & 2019-07-06 & 1 &  13 & 5.017040 & 1.2 & 0.8701607 & 2018-12-31 & 40.71825 & -73.99019 & Manhattan & Lower East Side   \\\\\n\t 36390226 & Comfortable clean Bedstuy private room     & 267932490 & Angela & private\\_room &  45 & 2 & 2019-07-08 & 2 &  14 & 5.087091 & 2.4 & 0.9503388 & 2019-01-02 & 40.69551 & -73.93951 & Brooklyn  & Bedford-Stuyvesant\\\\\n\t 36413632 & Spacious 2BR in Beautiful Brooklyn Heights &   6608220 & Matt   & entire\\_place & 550 & 1 & 2019-07-07 & 1 & 230 & 5.181114 & 1.2 & 0.8054182 & 2019-01-01 & 40.69827 & -73.99649 & Brooklyn  & Brooklyn Heights  \\\\\n\\end{tabular}\n",
            "text/markdown": "\nA data.frame: 3 × 18\n\n| listing_id &lt;dbl&gt; | description &lt;chr&gt; | host_id &lt;dbl&gt; | host_name &lt;chr&gt; | room_type &lt;fct&gt; | price &lt;dbl&gt; | nb_reviews &lt;dbl&gt; | last_review &lt;date&gt; | reviews_per_month &lt;dbl&gt; | availability_365 &lt;dbl&gt; | avg_rating &lt;dbl&gt; | avg_stays_per_month &lt;dbl&gt; | pct_5_stars &lt;dbl&gt; | listing_added &lt;date&gt; | latitude &lt;dbl&gt; | longitude &lt;dbl&gt; | borough &lt;fct&gt; | nbhood &lt;fct&gt; |\n|---|---|---|---|---|---|---|---|---|---|---|---|---|---|---|---|---|---|\n| 36411407 | Brand new 1 bedroom steps from Soho!       |  33917435 | Mike   | entire_place | 150 | 1 | 2019-07-06 | 1 |  13 | 5.017040 | 1.2 | 0.8701607 | 2018-12-31 | 40.71825 | -73.99019 | Manhattan | Lower East Side    |\n| 36390226 | Comfortable clean Bedstuy private room     | 267932490 | Angela | private_room |  45 | 2 | 2019-07-08 | 2 |  14 | 5.087091 | 2.4 | 0.9503388 | 2019-01-02 | 40.69551 | -73.93951 | Brooklyn  | Bedford-Stuyvesant |\n| 36413632 | Spacious 2BR in Beautiful Brooklyn Heights |   6608220 | Matt   | entire_place | 550 | 1 | 2019-07-07 | 1 | 230 | 5.181114 | 1.2 | 0.8054182 | 2019-01-01 | 40.69827 | -73.99649 | Brooklyn  | Brooklyn Heights   |\n\n",
            "text/html": [
              "<table>\n",
              "<caption>A data.frame: 3 × 18</caption>\n",
              "<thead>\n",
              "\t<tr><th scope=col>listing_id</th><th scope=col>description</th><th scope=col>host_id</th><th scope=col>host_name</th><th scope=col>room_type</th><th scope=col>price</th><th scope=col>nb_reviews</th><th scope=col>last_review</th><th scope=col>reviews_per_month</th><th scope=col>availability_365</th><th scope=col>avg_rating</th><th scope=col>avg_stays_per_month</th><th scope=col>pct_5_stars</th><th scope=col>listing_added</th><th scope=col>latitude</th><th scope=col>longitude</th><th scope=col>borough</th><th scope=col>nbhood</th></tr>\n",
              "\t<tr><th scope=col>&lt;dbl&gt;</th><th scope=col>&lt;chr&gt;</th><th scope=col>&lt;dbl&gt;</th><th scope=col>&lt;chr&gt;</th><th scope=col>&lt;fct&gt;</th><th scope=col>&lt;dbl&gt;</th><th scope=col>&lt;dbl&gt;</th><th scope=col>&lt;date&gt;</th><th scope=col>&lt;dbl&gt;</th><th scope=col>&lt;dbl&gt;</th><th scope=col>&lt;dbl&gt;</th><th scope=col>&lt;dbl&gt;</th><th scope=col>&lt;dbl&gt;</th><th scope=col>&lt;date&gt;</th><th scope=col>&lt;dbl&gt;</th><th scope=col>&lt;dbl&gt;</th><th scope=col>&lt;fct&gt;</th><th scope=col>&lt;fct&gt;</th></tr>\n",
              "</thead>\n",
              "<tbody>\n",
              "\t<tr><td>36411407</td><td>Brand new 1 bedroom steps from Soho!      </td><td> 33917435</td><td>Mike  </td><td>entire_place</td><td>150</td><td>1</td><td>2019-07-06</td><td>1</td><td> 13</td><td>5.017040</td><td>1.2</td><td>0.8701607</td><td>2018-12-31</td><td>40.71825</td><td>-73.99019</td><td>Manhattan</td><td>Lower East Side   </td></tr>\n",
              "\t<tr><td>36390226</td><td>Comfortable clean Bedstuy private room    </td><td>267932490</td><td>Angela</td><td>private_room</td><td> 45</td><td>2</td><td>2019-07-08</td><td>2</td><td> 14</td><td>5.087091</td><td>2.4</td><td>0.9503388</td><td>2019-01-02</td><td>40.69551</td><td>-73.93951</td><td>Brooklyn </td><td>Bedford-Stuyvesant</td></tr>\n",
              "\t<tr><td>36413632</td><td>Spacious 2BR in Beautiful Brooklyn Heights</td><td>  6608220</td><td>Matt  </td><td>entire_place</td><td>550</td><td>1</td><td>2019-07-07</td><td>1</td><td>230</td><td>5.181114</td><td>1.2</td><td>0.8054182</td><td>2019-01-01</td><td>40.69827</td><td>-73.99649</td><td>Brooklyn </td><td>Brooklyn Heights  </td></tr>\n",
              "</tbody>\n",
              "</table>\n"
            ]
          },
          "metadata": {
            "tags": []
          }
        }
      ]
    },
    {
      "cell_type": "code",
      "metadata": {
        "id": "ep-80Dgg9f9S",
        "colab_type": "code",
        "colab": {}
      },
      "source": [
        "# Remove the rows with rating > 5\n",
        "airbnb <- airbnb %>%\n",
        "  filter(avg_rating <= 5 | is.na(avg_rating))"
      ],
      "execution_count": 0,
      "outputs": []
    },
    {
      "cell_type": "markdown",
      "metadata": {
        "id": "IN41DP969kiz",
        "colab_type": "text"
      },
      "source": [
        "### **Missing data issues**\n",
        "\n",
        "#### **Task 7:** Further investigate the missing data and decide how to handle them.\n",
        "\n",
        "When dealing with missing data, it's important to understand what type of missingness we might have in our data. Oftentimes, missing data can be related to other dynamics in the dataset and requires some domain knowledge to deal with them.\n",
        "\n",
        "The `visdat` package is useful for investigating missing data."
      ]
    },
    {
      "cell_type": "code",
      "metadata": {
        "id": "3MzzEMWY-EIE",
        "colab_type": "code",
        "colab": {
          "base_uri": "https://localhost:8080/",
          "height": 697
        },
        "outputId": "973336c6-d3b7-45cc-949a-25ef31eb1e2f"
      },
      "source": [
        "# See data frame summary again\n",
        "summary(airbnb)"
      ],
      "execution_count": 26,
      "outputs": [
        {
          "output_type": "display_data",
          "data": {
            "text/plain": [
              "   listing_id       description           host_id           host_name        \n",
              " Min.   :    3831   Length:10016       Min.   :     2787   Length:10016      \n",
              " 1st Qu.: 9667862   Class :character   1st Qu.:  7910992   Class :character  \n",
              " Median :20061946   Mode  :character   Median : 31640782   Mode  :character  \n",
              " Mean   :19271210                      Mean   : 67948786                     \n",
              " 3rd Qu.:29318355                      3rd Qu.:107434423                     \n",
              " Max.   :36487245                      Max.   :274103383                     \n",
              "                                                                             \n",
              "        room_type        price          nb_reviews      last_review        \n",
              " entire_place:5184   Min.   :   0.0   Min.   :  0.00   Min.   :2011-03-28  \n",
              " private_room:4606   1st Qu.:  69.0   1st Qu.:  1.00   1st Qu.:2018-07-16  \n",
              " shared_room : 226   Median : 106.0   Median :  5.00   Median :2019-05-19  \n",
              "                     Mean   : 150.9   Mean   : 22.47   Mean   :2018-10-07  \n",
              "                     3rd Qu.: 180.0   3rd Qu.: 22.00   3rd Qu.:2019-06-23  \n",
              "                     Max.   :8000.0   Max.   :510.00   Max.   :2019-07-08  \n",
              "                     NA's   :238                       NA's   :2075        \n",
              " reviews_per_month availability_365   avg_rating    avg_stays_per_month\n",
              " Min.   : 0.010    Min.   :  0.0    Min.   :3.001   Min.   :  1.2      \n",
              " 1st Qu.: 0.200    1st Qu.:  0.0    1st Qu.:3.520   1st Qu.:  3.6      \n",
              " Median : 0.700    Median : 44.0    Median :4.027   Median : 10.8      \n",
              " Mean   : 1.354    Mean   :112.3    Mean   :4.014   Mean   : 34.0      \n",
              " 3rd Qu.: 2.000    3rd Qu.:226.0    3rd Qu.:4.516   3rd Qu.: 38.4      \n",
              " Max.   :16.220    Max.   :365.0    Max.   :5.000   Max.   :612.0      \n",
              " NA's   :2075                       NA's   :2075    NA's   :2075       \n",
              "  pct_5_stars     listing_added           latitude       longitude     \n",
              " Min.   :0.6000   Min.   :2010-09-22   Min.   :40.51   Min.   :-74.24  \n",
              " 1st Qu.:0.6556   1st Qu.:2018-03-08   1st Qu.:40.69   1st Qu.:-73.98  \n",
              " Median :0.7097   Median :2018-09-09   Median :40.72   Median :-73.96  \n",
              " Mean   :0.7185   Mean   :2018-04-17   Mean   :40.73   Mean   :-73.95  \n",
              " 3rd Qu.:0.7639   3rd Qu.:2018-12-14   3rd Qu.:40.76   3rd Qu.:-73.94  \n",
              " Max.   :0.9400   Max.   :2020-10-23   Max.   :40.91   Max.   :-73.72  \n",
              " NA's   :2075                                                          \n",
              "          borough                    nbhood    \n",
              " Bronx        : 229   Bedford-Stuyvesant: 776  \n",
              " Brooklyn     :4084   Williamsburg      : 766  \n",
              " Manhattan    :4448   Harlem            : 541  \n",
              " Queens       :1182   Bushwick          : 502  \n",
              " Staten Island:  73   Hell's Kitchen    : 405  \n",
              "                      Upper West Side   : 395  \n",
              "                      (Other)           :6631  "
            ]
          },
          "metadata": {
            "tags": []
          }
        }
      ]
    },
    {
      "cell_type": "code",
      "metadata": {
        "id": "iJGJsy-e9n-p",
        "colab_type": "code",
        "colab": {
          "base_uri": "https://localhost:8080/",
          "height": 437
        },
        "outputId": "032294f8-6fb9-4af4-f06a-816926f7f19e"
      },
      "source": [
        "# Visualize missingness \n",
        "\n",
        "airbnb %>%\n",
        "  # Focus only on columns with missing values\n",
        "  select(price, last_review, reviews_per_month, avg_rating, avg_stays_per_month) %>%\n",
        "  # Visualize missing data\n",
        "  vis_miss()"
      ],
      "execution_count": 27,
      "outputs": [
        {
          "output_type": "display_data",
          "data": {
            "image/png": "[encoded data removed]",
            "text/plain": [
              "plot without title"
            ]
          },
          "metadata": {
            "tags": [],
            "image/png": {
              "width": 420,
              "height": 420
            },
            "text/plain": {
              "width": 420,
              "height": 420
            }
          }
        }
      ]
    },
    {
      "cell_type": "markdown",
      "metadata": {
        "id": "oUEJgSqM9kcI",
        "colab_type": "text"
      },
      "source": [
        "It looks like missingness of `last_review`, `reviews_per_month`, `avg_rating`, and `avg_stays_per_month` are related. This suggests that these are places that have never been visited before (therefore have no ratings, reviews, or stays).\n",
        "\n",
        "However, `price` is unrelated to the other columns, so we'll need to take a different approach for that."
      ]
    },
    {
      "cell_type": "code",
      "metadata": {
        "id": "iEf8rGc0AEnX",
        "colab_type": "code",
        "colab": {
          "base_uri": "https://localhost:8080/",
          "height": 159
        },
        "outputId": "159974d9-d259-4f8c-d5bb-02128f4c3fbd"
      },
      "source": [
        "# Sanity check that our hypothesis is correct\n",
        "airbnb %>%\n",
        "    filter(nb_reviews != 0,\n",
        "           is.na(reviews_per_month))\n",
        "airbnb %>%\n",
        "    filter(nb_reviews != 0,\n",
        "           is.na(avg_stays_per_month))"
      ],
      "execution_count": 28,
      "outputs": [
        {
          "output_type": "display_data",
          "data": {
            "text/plain": [
              "     listing_id description host_id host_name room_type price nb_reviews\n",
              "     last_review reviews_per_month availability_365 avg_rating\n",
              "     avg_stays_per_month pct_5_stars listing_added latitude longitude borough\n",
              "     nbhood"
            ],
            "text/latex": "A data.frame: 0 × 18\n\\begin{tabular}{llllllllllllllllll}\n listing\\_id & description & host\\_id & host\\_name & room\\_type & price & nb\\_reviews & last\\_review & reviews\\_per\\_month & availability\\_365 & avg\\_rating & avg\\_stays\\_per\\_month & pct\\_5\\_stars & listing\\_added & latitude & longitude & borough & nbhood\\\\\n <dbl> & <chr> & <dbl> & <chr> & <fct> & <dbl> & <dbl> & <date> & <dbl> & <dbl> & <dbl> & <dbl> & <dbl> & <date> & <dbl> & <dbl> & <fct> & <fct>\\\\\n\\hline\n\\end{tabular}\n",
            "text/markdown": "\nA data.frame: 0 × 18\n\n| listing_id &lt;dbl&gt; | description &lt;chr&gt; | host_id &lt;dbl&gt; | host_name &lt;chr&gt; | room_type &lt;fct&gt; | price &lt;dbl&gt; | nb_reviews &lt;dbl&gt; | last_review &lt;date&gt; | reviews_per_month &lt;dbl&gt; | availability_365 &lt;dbl&gt; | avg_rating &lt;dbl&gt; | avg_stays_per_month &lt;dbl&gt; | pct_5_stars &lt;dbl&gt; | listing_added &lt;date&gt; | latitude &lt;dbl&gt; | longitude &lt;dbl&gt; | borough &lt;fct&gt; | nbhood &lt;fct&gt; |\n|---|---|---|---|---|---|---|---|---|---|---|---|---|---|---|---|---|---|\n\n",
            "text/html": [
              "<table>\n",
              "<caption>A data.frame: 0 × 18</caption>\n",
              "<thead>\n",
              "\t<tr><th scope=col>listing_id</th><th scope=col>description</th><th scope=col>host_id</th><th scope=col>host_name</th><th scope=col>room_type</th><th scope=col>price</th><th scope=col>nb_reviews</th><th scope=col>last_review</th><th scope=col>reviews_per_month</th><th scope=col>availability_365</th><th scope=col>avg_rating</th><th scope=col>avg_stays_per_month</th><th scope=col>pct_5_stars</th><th scope=col>listing_added</th><th scope=col>latitude</th><th scope=col>longitude</th><th scope=col>borough</th><th scope=col>nbhood</th></tr>\n",
              "\t<tr><th scope=col>&lt;dbl&gt;</th><th scope=col>&lt;chr&gt;</th><th scope=col>&lt;dbl&gt;</th><th scope=col>&lt;chr&gt;</th><th scope=col>&lt;fct&gt;</th><th scope=col>&lt;dbl&gt;</th><th scope=col>&lt;dbl&gt;</th><th scope=col>&lt;date&gt;</th><th scope=col>&lt;dbl&gt;</th><th scope=col>&lt;dbl&gt;</th><th scope=col>&lt;dbl&gt;</th><th scope=col>&lt;dbl&gt;</th><th scope=col>&lt;dbl&gt;</th><th scope=col>&lt;date&gt;</th><th scope=col>&lt;dbl&gt;</th><th scope=col>&lt;dbl&gt;</th><th scope=col>&lt;fct&gt;</th><th scope=col>&lt;fct&gt;</th></tr>\n",
              "</thead>\n",
              "<tbody>\n",
              "</tbody>\n",
              "</table>\n"
            ]
          },
          "metadata": {
            "tags": []
          }
        },
        {
          "output_type": "display_data",
          "data": {
            "text/plain": [
              "     listing_id description host_id host_name room_type price nb_reviews\n",
              "     last_review reviews_per_month availability_365 avg_rating\n",
              "     avg_stays_per_month pct_5_stars listing_added latitude longitude borough\n",
              "     nbhood"
            ],
            "text/latex": "A data.frame: 0 × 18\n\\begin{tabular}{llllllllllllllllll}\n listing\\_id & description & host\\_id & host\\_name & room\\_type & price & nb\\_reviews & last\\_review & reviews\\_per\\_month & availability\\_365 & avg\\_rating & avg\\_stays\\_per\\_month & pct\\_5\\_stars & listing\\_added & latitude & longitude & borough & nbhood\\\\\n <dbl> & <chr> & <dbl> & <chr> & <fct> & <dbl> & <dbl> & <date> & <dbl> & <dbl> & <dbl> & <dbl> & <dbl> & <date> & <dbl> & <dbl> & <fct> & <fct>\\\\\n\\hline\n\\end{tabular}\n",
            "text/markdown": "\nA data.frame: 0 × 18\n\n| listing_id &lt;dbl&gt; | description &lt;chr&gt; | host_id &lt;dbl&gt; | host_name &lt;chr&gt; | room_type &lt;fct&gt; | price &lt;dbl&gt; | nb_reviews &lt;dbl&gt; | last_review &lt;date&gt; | reviews_per_month &lt;dbl&gt; | availability_365 &lt;dbl&gt; | avg_rating &lt;dbl&gt; | avg_stays_per_month &lt;dbl&gt; | pct_5_stars &lt;dbl&gt; | listing_added &lt;date&gt; | latitude &lt;dbl&gt; | longitude &lt;dbl&gt; | borough &lt;fct&gt; | nbhood &lt;fct&gt; |\n|---|---|---|---|---|---|---|---|---|---|---|---|---|---|---|---|---|---|\n\n",
            "text/html": [
              "<table>\n",
              "<caption>A data.frame: 0 × 18</caption>\n",
              "<thead>\n",
              "\t<tr><th scope=col>listing_id</th><th scope=col>description</th><th scope=col>host_id</th><th scope=col>host_name</th><th scope=col>room_type</th><th scope=col>price</th><th scope=col>nb_reviews</th><th scope=col>last_review</th><th scope=col>reviews_per_month</th><th scope=col>availability_365</th><th scope=col>avg_rating</th><th scope=col>avg_stays_per_month</th><th scope=col>pct_5_stars</th><th scope=col>listing_added</th><th scope=col>latitude</th><th scope=col>longitude</th><th scope=col>borough</th><th scope=col>nbhood</th></tr>\n",
              "\t<tr><th scope=col>&lt;dbl&gt;</th><th scope=col>&lt;chr&gt;</th><th scope=col>&lt;dbl&gt;</th><th scope=col>&lt;chr&gt;</th><th scope=col>&lt;fct&gt;</th><th scope=col>&lt;dbl&gt;</th><th scope=col>&lt;dbl&gt;</th><th scope=col>&lt;date&gt;</th><th scope=col>&lt;dbl&gt;</th><th scope=col>&lt;dbl&gt;</th><th scope=col>&lt;dbl&gt;</th><th scope=col>&lt;dbl&gt;</th><th scope=col>&lt;dbl&gt;</th><th scope=col>&lt;date&gt;</th><th scope=col>&lt;dbl&gt;</th><th scope=col>&lt;dbl&gt;</th><th scope=col>&lt;fct&gt;</th><th scope=col>&lt;fct&gt;</th></tr>\n",
              "</thead>\n",
              "<tbody>\n",
              "</tbody>\n",
              "</table>\n"
            ]
          },
          "metadata": {
            "tags": []
          }
        }
      ]
    },
    {
      "cell_type": "markdown",
      "metadata": {
        "id": "NG6AvsYaAFUY",
        "colab_type": "text"
      },
      "source": [
        "Now that we have a bit of evidence, we'll assume our hypothesis is true.\n",
        "- We'll set any missing values in `reviews_per_month` or `avg_stays_per_month` to `0`.\n",
        "    - Use `tidyr::replace_na()`\n",
        "- We'll leave `last_review` and `avg_rating` as `NA`.\n",
        "- We'll create a `logical` (`TRUE`/`FALSE`) column called `is_visited`, indicating whether or not the listing has been visited before."
      ]
    },
    {
      "cell_type": "code",
      "metadata": {
        "id": "wNrywTb6AHv9",
        "colab_type": "code",
        "colab": {
          "base_uri": "https://localhost:8080/",
          "height": 147
        },
        "outputId": "954323da-9db3-48b1-a791-b50bb662c3f9"
      },
      "source": [
        "# Replace missing data\n",
        "\n",
        "airbnb <- airbnb %>%\n",
        "    # Replace missing values in reviews_per_month or avg_stays_per_month with 0\n",
        "    replace_na(list(reviews_per_month = 0, avg_stays_per_month = 0)) %>%\n",
        "    # Create is_visited\n",
        "    mutate(is_visited = !is.na(avg_rating))"
      ],
      "execution_count": 29,
      "outputs": [
        {
          "output_type": "error",
          "ename": "ERROR",
          "evalue": "ignored",
          "traceback": [
            "Error in parse(text = x, srcfile = src): <text>:7:44: unexpected ')'\n6:     # Create is_visited\n7:     mutate(is_visited = !is.na(avg_rating)))\n                                              ^\nTraceback:\n"
          ]
        }
      ]
    },
    {
      "cell_type": "markdown",
      "metadata": {
        "id": "5AqWDSSosvJP",
        "colab_type": "text"
      },
      "source": [
        "---\n",
        "<center><h1><b>Q&A</b></h1></center>\n",
        "\n",
        "---"
      ]
    },
    {
      "cell_type": "markdown",
      "metadata": {
        "id": "f0bzE6YdAgb9",
        "colab_type": "text"
      },
      "source": [
        "**Treating the `price` column**\n",
        "\n",
        "There are lots of ways we could do this\n",
        "- Remove all rows with missing price values\n",
        "- Fill in missing prices with the overall average price\n",
        "- Fill in missing prices based on other columns like `borough` or `room_type`\n",
        "\n",
        "**Let's examine the relationship between `room_type` and `price`.**\n",
        "\n",
        "<img src='https://raw.githubusercontent.com/datacamp/cleaning-data-in-r-live-training/master/assets/boxplot.png' alt='Box plot diagram' width='350px;'>"
      ]
    },
    {
      "cell_type": "code",
      "metadata": {
        "id": "7gL-HXtyn5NA",
        "colab_type": "code",
        "colab": {
          "base_uri": "https://localhost:8080/",
          "height": 471
        },
        "outputId": "96ac7b57-b03d-4822-9e21-d6de3d47921d"
      },
      "source": [
        "# Create a boxplot showing the distribution of price for each room_type\n",
        "ggplot(airbnb, aes(x = room_type, y = price)) +\n",
        "    geom_boxplot() +\n",
        "    ylim(0, 1000)"
      ],
      "execution_count": 31,
      "outputs": [
        {
          "output_type": "stream",
          "text": [
            "Warning message:\n",
            "“Removed 291 rows containing non-finite values (stat_boxplot).”\n"
          ],
          "name": "stderr"
        },
        {
          "output_type": "display_data",
          "data": {
            "image/png": "[encoded data removed]",
            "text/plain": [
              "plot without title"
            ]
          },
          "metadata": {
            "tags": [],
            "image/png": {
              "width": 420,
              "height": 420
            },
            "text/plain": {
              "width": 420,
              "height": 420
            }
          }
        }
      ]
    },
    {
      "cell_type": "markdown",
      "metadata": {
        "id": "56R9HHVHzTtB",
        "colab_type": "text"
      },
      "source": [
        "We'll use *median* to summarize the `price` for each `room_type` since the distributions have a number of outliers, and median is more robust to outliers than mean.\n",
        "\n",
        "We'll use `ifelse()`, which takes arguments of the form: `ifelse(condition, value if true, value if false)`."
      ]
    },
    {
      "cell_type": "code",
      "metadata": {
        "id": "p9WXsu8VATVB",
        "colab_type": "code",
        "colab": {
          "base_uri": "https://localhost:8080/",
          "height": 1000
        },
        "outputId": "b9698b7c-40d0-4426-f8c6-4ba58c792c76"
      },
      "source": [
        "# Use a grouped mutate to fill in missing prices with median of their room_type\n",
        "airbnb %>%\n",
        "    group_by(room_type) %>%\n",
        "    mutate(price_filled = ifelse(is.na(price), median(price, na.rm = TRUE), price)) %>%\n",
        "    # Look at the values we filled in to make sure it looks how we want\n",
        "    filter(is.na(price)) %>%\n",
        "    select(listing_id, description, room_type, price, price_filled)"
      ],
      "execution_count": 32,
      "outputs": [
        {
          "output_type": "display_data",
          "data": {
            "text/plain": [
              "    listing_id description                                         room_type   \n",
              "1    7116071   30 Minutes to Manhattan / Sleeps 7                  entire_place\n",
              "2   13395955   Adorable Prospect Heights 1 Bedroom                 entire_place\n",
              "3   27903031   Prewar Gem in Middle of Everything!                 private_room\n",
              "4    1700471   CHARM Rm HAMILTON HEIGHTS Harlem                    private_room\n",
              "5   30235482   *Groovy Budget room for the traveler!               private_room\n",
              "6     518566   Gorgeous, charming Upper East private room          private_room\n",
              "7   26889078   Staten Island Garden Apartment Near Ferry           entire_place\n",
              "8   29586573   1-Bedroom in Bushwick for 2 in shared apartment     private_room\n",
              "9   12753144   Charming, Spacious 1 Bd-Great area!                 entire_place\n",
              "10  13974200   Sunny, Pre-War Brooklyn Share                       shared_room \n",
              "11  20173955   Cozy studio apartment Lower East Side / Lil Italy   entire_place\n",
              "12  13859196   Cozy Room In the Heart of Astoria                   private_room\n",
              "13  18602201   Gorgeous Cozy Getaway In Harlem 1 Block From Train  private_room\n",
              "14   7775711   1 bedroom in Bed-Stuy                               entire_place\n",
              "15  27637755   Unfinished basement unit under private house        entire_place\n",
              "16  30580793   Beautifully Renovated Mid Century Modern Bedroom    private_room\n",
              "17  27573704   Beautiful private room in luxury building           private_room\n",
              "18  29884848   private room for WOMEN ONLY near BX Little Italy    private_room\n",
              "19  20089288   #4 Cozy And Bright Room, 30 Minutes to Manhattan    private_room\n",
              "20  19910666   Large Studio in the HEART OF MANHATTAN              entire_place\n",
              "21  33431709   Shared apartment by the Central Park                shared_room \n",
              "22   7398507   Chic apartment on Central Park West                 entire_place\n",
              "23  15399008   Spacious room in relaxing 2 BDR UWS apartment       private_room\n",
              "24  16394488   Hip Luxury Stay w Private Bath 5 min to Manhattan   private_room\n",
              "25  22979825   Private large bedroom in Prime Williamsburg, BK     private_room\n",
              "26  35999335   Cozy private bedroom in Chinatown/Lower East Side   private_room\n",
              "27  15475362   1 Bedroom in Quiet Upper West Side                  entire_place\n",
              "28  22404730   Modern & Cozy 2Bedroom apt.\\n15min to Times Square. private_room\n",
              "29  20305785   Private spacious studio in Richmond Hill            entire_place\n",
              "30   8438775   Private BR & Bath near Central Park                 private_room\n",
              "⋮   ⋮          ⋮                                                   ⋮           \n",
              "209 34717733   TheGreystone                                        entire_place\n",
              "210   385190   Beautiful 1 bdrm, Inwood Manhattan                  private_room\n",
              "211 15340649   Huge Beautiful Loft in the Heart of Williamsburg    entire_place\n",
              "212 11659008   Safe, comfy convenient                              private_room\n",
              "213 26183582   Spacious 1-BR by Central Park/Museum Mile, Harlem   entire_place\n",
              "214 35465343   BedStuyBeauty                                       entire_place\n",
              "215  7724031   Apartment is in Washington heights                  private_room\n",
              "216 34403759   ( GREEN ROOM) Private in a Beautiful Town House     private_room\n",
              "217 21592157   Your private home in Manhattan, Upper Eastside.     private_room\n",
              "218 24397824   Cozy private Bedroom in upper Manhattan!            private_room\n",
              "219 12368099   Home 4 Medical Professionals-St Johns Hospital      private_room\n",
              "220 33446373   large room in a 4 bedroom (2bath) apartment         private_room\n",
              "221 18669801   Huge Private Room in New York 10minute to Midtown   private_room\n",
              "222 30592647   Private Bedroom w/ Bunk Bed - Great for Friends!    private_room\n",
              "223 10995738   Cozy Private Room                                   private_room\n",
              "224 12669603   Sunny Suite with Bath near Prospect Park            private_room\n",
              "225 25420704   place on the bay                                    private_room\n",
              "226  1068505   Relaxing and Roomy in Crown Heights                 private_room\n",
              "227 17893008   Exclusive 2 bedrooms in lovely apartment in Nolita  private_room\n",
              "228 23893916   Comfortable 2-Room Studio Apt with Backyard         entire_place\n",
              "229 34818201   Whole floor(2bedroom) for group in safe Area        entire_place\n",
              "230 20710508   1 bedroom in East Village (private ensuite)         private_room\n",
              "231  6155877   Solo traveler oasis                                 shared_room \n",
              "232 29967445   Cozy Studio NYC getaway                             entire_place\n",
              "233 36002857   Soho Comfort                                        entire_place\n",
              "234  1420559   Great 1BR apartment in a convenient location        entire_place\n",
              "235  6601120   Entire place in Williamsburg. Rustic Den.           entire_place\n",
              "236 18961150   Room with a view                                    entire_place\n",
              "237  1474752   Dope Williamsburg Apartment                         private_room\n",
              "238 22016391   Your own Loft/gallery in Bushwick!                  private_room\n",
              "    price price_filled\n",
              "1   NA    163         \n",
              "2   NA    163         \n",
              "3   NA     70         \n",
              "4   NA     70         \n",
              "5   NA     70         \n",
              "6   NA     70         \n",
              "7   NA    163         \n",
              "8   NA     70         \n",
              "9   NA    163         \n",
              "10  NA     50         \n",
              "11  NA    163         \n",
              "12  NA     70         \n",
              "13  NA     70         \n",
              "14  NA    163         \n",
              "15  NA    163         \n",
              "16  NA     70         \n",
              "17  NA     70         \n",
              "18  NA     70         \n",
              "19  NA     70         \n",
              "20  NA    163         \n",
              "21  NA     50         \n",
              "22  NA    163         \n",
              "23  NA     70         \n",
              "24  NA     70         \n",
              "25  NA     70         \n",
              "26  NA     70         \n",
              "27  NA    163         \n",
              "28  NA     70         \n",
              "29  NA    163         \n",
              "30  NA     70         \n",
              "⋮   ⋮     ⋮           \n",
              "209 NA    163         \n",
              "210 NA     70         \n",
              "211 NA    163         \n",
              "212 NA     70         \n",
              "213 NA    163         \n",
              "214 NA    163         \n",
              "215 NA     70         \n",
              "216 NA     70         \n",
              "217 NA     70         \n",
              "218 NA     70         \n",
              "219 NA     70         \n",
              "220 NA     70         \n",
              "221 NA     70         \n",
              "222 NA     70         \n",
              "223 NA     70         \n",
              "224 NA     70         \n",
              "225 NA     70         \n",
              "226 NA     70         \n",
              "227 NA     70         \n",
              "228 NA    163         \n",
              "229 NA    163         \n",
              "230 NA     70         \n",
              "231 NA     50         \n",
              "232 NA    163         \n",
              "233 NA    163         \n",
              "234 NA    163         \n",
              "235 NA    163         \n",
              "236 NA    163         \n",
              "237 NA     70         \n",
              "238 NA     70         "
            ],
            "text/latex": "A grouped\\_df: 238 × 5\n\\begin{tabular}{lllll}\n listing\\_id & description & room\\_type & price & price\\_filled\\\\\n <dbl> & <chr> & <fct> & <dbl> & <dbl>\\\\\n\\hline\n\t  7116071 & 30 Minutes to Manhattan / Sleeps 7                  & entire\\_place & NA & 163\\\\\n\t 13395955 & Adorable Prospect Heights 1 Bedroom                 & entire\\_place & NA & 163\\\\\n\t 27903031 & Prewar Gem in Middle of Everything!                 & private\\_room & NA &  70\\\\\n\t  1700471 & CHARM Rm HAMILTON HEIGHTS Harlem                    & private\\_room & NA &  70\\\\\n\t 30235482 & *Groovy Budget room for the traveler!               & private\\_room & NA &  70\\\\\n\t   518566 & Gorgeous, charming Upper East private room          & private\\_room & NA &  70\\\\\n\t 26889078 & Staten Island Garden Apartment Near Ferry           & entire\\_place & NA & 163\\\\\n\t 29586573 & 1-Bedroom in Bushwick for 2 in shared apartment     & private\\_room & NA &  70\\\\\n\t 12753144 & Charming, Spacious 1 Bd-Great area!                 & entire\\_place & NA & 163\\\\\n\t 13974200 & Sunny, Pre-War Brooklyn Share                       & shared\\_room  & NA &  50\\\\\n\t 20173955 & Cozy studio apartment Lower East Side / Lil Italy   & entire\\_place & NA & 163\\\\\n\t 13859196 & Cozy Room In the Heart of Astoria                   & private\\_room & NA &  70\\\\\n\t 18602201 & Gorgeous Cozy Getaway In Harlem 1 Block From Train  & private\\_room & NA &  70\\\\\n\t  7775711 & 1 bedroom in Bed-Stuy                               & entire\\_place & NA & 163\\\\\n\t 27637755 & Unfinished basement unit under private house        & entire\\_place & NA & 163\\\\\n\t 30580793 & Beautifully Renovated Mid Century Modern Bedroom    & private\\_room & NA &  70\\\\\n\t 27573704 & Beautiful private room in luxury building           & private\\_room & NA &  70\\\\\n\t 29884848 & private room for WOMEN ONLY near BX Little Italy    & private\\_room & NA &  70\\\\\n\t 20089288 & \\#4 Cozy And Bright Room, 30 Minutes to Manhattan    & private\\_room & NA &  70\\\\\n\t 19910666 & Large Studio in the HEART OF MANHATTAN              & entire\\_place & NA & 163\\\\\n\t 33431709 & Shared apartment by the Central Park                & shared\\_room  & NA &  50\\\\\n\t  7398507 & Chic apartment on Central Park West                 & entire\\_place & NA & 163\\\\\n\t 15399008 & Spacious room in relaxing 2 BDR UWS apartment       & private\\_room & NA &  70\\\\\n\t 16394488 & Hip Luxury Stay w Private Bath 5 min to Manhattan   & private\\_room & NA &  70\\\\\n\t 22979825 & Private large bedroom in Prime Williamsburg, BK     & private\\_room & NA &  70\\\\\n\t 35999335 & Cozy private bedroom in Chinatown/Lower East Side   & private\\_room & NA &  70\\\\\n\t 15475362 & 1 Bedroom in Quiet Upper West Side                  & entire\\_place & NA & 163\\\\\n\t 22404730 & Modern \\& Cozy 2Bedroom apt.\n15min to Times Square. & private\\_room & NA &  70\\\\\n\t 20305785 & Private spacious studio in Richmond Hill            & entire\\_place & NA & 163\\\\\n\t  8438775 & Private BR \\& Bath near Central Park                 & private\\_room & NA &  70\\\\\n\t ⋮ & ⋮ & ⋮ & ⋮ & ⋮\\\\\n\t 34717733 & TheGreystone                                       & entire\\_place & NA & 163\\\\\n\t   385190 & Beautiful 1 bdrm, Inwood Manhattan                 & private\\_room & NA &  70\\\\\n\t 15340649 & Huge Beautiful Loft in the Heart of Williamsburg   & entire\\_place & NA & 163\\\\\n\t 11659008 & Safe, comfy convenient                             & private\\_room & NA &  70\\\\\n\t 26183582 & Spacious 1-BR by Central Park/Museum Mile, Harlem  & entire\\_place & NA & 163\\\\\n\t 35465343 & BedStuyBeauty                                      & entire\\_place & NA & 163\\\\\n\t  7724031 & Apartment is in Washington heights                 & private\\_room & NA &  70\\\\\n\t 34403759 & ( GREEN ROOM) Private in a Beautiful Town House    & private\\_room & NA &  70\\\\\n\t 21592157 & Your private home in Manhattan, Upper Eastside.    & private\\_room & NA &  70\\\\\n\t 24397824 & Cozy private Bedroom in upper Manhattan!           & private\\_room & NA &  70\\\\\n\t 12368099 & Home 4 Medical Professionals-St Johns Hospital     & private\\_room & NA &  70\\\\\n\t 33446373 & large room in a 4 bedroom (2bath) apartment        & private\\_room & NA &  70\\\\\n\t 18669801 & Huge Private Room in New York 10minute to Midtown  & private\\_room & NA &  70\\\\\n\t 30592647 & Private Bedroom w/ Bunk Bed - Great for Friends!   & private\\_room & NA &  70\\\\\n\t 10995738 & Cozy Private Room                                  & private\\_room & NA &  70\\\\\n\t 12669603 & Sunny Suite with Bath near Prospect Park           & private\\_room & NA &  70\\\\\n\t 25420704 & place on the bay                                   & private\\_room & NA &  70\\\\\n\t  1068505 & Relaxing and Roomy in Crown Heights                & private\\_room & NA &  70\\\\\n\t 17893008 & Exclusive 2 bedrooms in lovely apartment in Nolita & private\\_room & NA &  70\\\\\n\t 23893916 & Comfortable 2-Room Studio Apt with Backyard        & entire\\_place & NA & 163\\\\\n\t 34818201 & Whole floor(2bedroom) for group in safe Area       & entire\\_place & NA & 163\\\\\n\t 20710508 & 1 bedroom in East Village (private ensuite)        & private\\_room & NA &  70\\\\\n\t  6155877 & Solo traveler oasis                                & shared\\_room  & NA &  50\\\\\n\t 29967445 & Cozy Studio NYC getaway                            & entire\\_place & NA & 163\\\\\n\t 36002857 & Soho Comfort                                       & entire\\_place & NA & 163\\\\\n\t  1420559 & Great 1BR apartment in a convenient location       & entire\\_place & NA & 163\\\\\n\t  6601120 & Entire place in Williamsburg. Rustic Den.          & entire\\_place & NA & 163\\\\\n\t 18961150 & Room with a view                                   & entire\\_place & NA & 163\\\\\n\t  1474752 & Dope Williamsburg Apartment                        & private\\_room & NA &  70\\\\\n\t 22016391 & Your own Loft/gallery in Bushwick!                 & private\\_room & NA &  70\\\\\n\\end{tabular}\n",
            "text/markdown": "\nA grouped_df: 238 × 5\n\n| listing_id &lt;dbl&gt; | description &lt;chr&gt; | room_type &lt;fct&gt; | price &lt;dbl&gt; | price_filled &lt;dbl&gt; |\n|---|---|---|---|---|\n|  7116071 | 30 Minutes to Manhattan / Sleeps 7                  | entire_place | NA | 163 |\n| 13395955 | Adorable Prospect Heights 1 Bedroom                 | entire_place | NA | 163 |\n| 27903031 | Prewar Gem in Middle of Everything!                 | private_room | NA |  70 |\n|  1700471 | CHARM Rm HAMILTON HEIGHTS Harlem                    | private_room | NA |  70 |\n| 30235482 | *Groovy Budget room for the traveler!               | private_room | NA |  70 |\n|   518566 | Gorgeous, charming Upper East private room          | private_room | NA |  70 |\n| 26889078 | Staten Island Garden Apartment Near Ferry           | entire_place | NA | 163 |\n| 29586573 | 1-Bedroom in Bushwick for 2 in shared apartment     | private_room | NA |  70 |\n| 12753144 | Charming, Spacious 1 Bd-Great area!                 | entire_place | NA | 163 |\n| 13974200 | Sunny, Pre-War Brooklyn Share                       | shared_room  | NA |  50 |\n| 20173955 | Cozy studio apartment Lower East Side / Lil Italy   | entire_place | NA | 163 |\n| 13859196 | Cozy Room In the Heart of Astoria                   | private_room | NA |  70 |\n| 18602201 | Gorgeous Cozy Getaway In Harlem 1 Block From Train  | private_room | NA |  70 |\n|  7775711 | 1 bedroom in Bed-Stuy                               | entire_place | NA | 163 |\n| 27637755 | Unfinished basement unit under private house        | entire_place | NA | 163 |\n| 30580793 | Beautifully Renovated Mid Century Modern Bedroom    | private_room | NA |  70 |\n| 27573704 | Beautiful private room in luxury building           | private_room | NA |  70 |\n| 29884848 | private room for WOMEN ONLY near BX Little Italy    | private_room | NA |  70 |\n| 20089288 | #4 Cozy And Bright Room, 30 Minutes to Manhattan    | private_room | NA |  70 |\n| 19910666 | Large Studio in the HEART OF MANHATTAN              | entire_place | NA | 163 |\n| 33431709 | Shared apartment by the Central Park                | shared_room  | NA |  50 |\n|  7398507 | Chic apartment on Central Park West                 | entire_place | NA | 163 |\n| 15399008 | Spacious room in relaxing 2 BDR UWS apartment       | private_room | NA |  70 |\n| 16394488 | Hip Luxury Stay w Private Bath 5 min to Manhattan   | private_room | NA |  70 |\n| 22979825 | Private large bedroom in Prime Williamsburg, BK     | private_room | NA |  70 |\n| 35999335 | Cozy private bedroom in Chinatown/Lower East Side   | private_room | NA |  70 |\n| 15475362 | 1 Bedroom in Quiet Upper West Side                  | entire_place | NA | 163 |\n| 22404730 | Modern &amp; Cozy 2Bedroom apt.\n15min to Times Square. | private_room | NA |  70 |\n| 20305785 | Private spacious studio in Richmond Hill            | entire_place | NA | 163 |\n|  8438775 | Private BR &amp; Bath near Central Park                 | private_room | NA |  70 |\n| ⋮ | ⋮ | ⋮ | ⋮ | ⋮ |\n| 34717733 | TheGreystone                                       | entire_place | NA | 163 |\n|   385190 | Beautiful 1 bdrm, Inwood Manhattan                 | private_room | NA |  70 |\n| 15340649 | Huge Beautiful Loft in the Heart of Williamsburg   | entire_place | NA | 163 |\n| 11659008 | Safe, comfy convenient                             | private_room | NA |  70 |\n| 26183582 | Spacious 1-BR by Central Park/Museum Mile, Harlem  | entire_place | NA | 163 |\n| 35465343 | BedStuyBeauty                                      | entire_place | NA | 163 |\n|  7724031 | Apartment is in Washington heights                 | private_room | NA |  70 |\n| 34403759 | ( GREEN ROOM) Private in a Beautiful Town House    | private_room | NA |  70 |\n| 21592157 | Your private home in Manhattan, Upper Eastside.    | private_room | NA |  70 |\n| 24397824 | Cozy private Bedroom in upper Manhattan!           | private_room | NA |  70 |\n| 12368099 | Home 4 Medical Professionals-St Johns Hospital     | private_room | NA |  70 |\n| 33446373 | large room in a 4 bedroom (2bath) apartment        | private_room | NA |  70 |\n| 18669801 | Huge Private Room in New York 10minute to Midtown  | private_room | NA |  70 |\n| 30592647 | Private Bedroom w/ Bunk Bed - Great for Friends!   | private_room | NA |  70 |\n| 10995738 | Cozy Private Room                                  | private_room | NA |  70 |\n| 12669603 | Sunny Suite with Bath near Prospect Park           | private_room | NA |  70 |\n| 25420704 | place on the bay                                   | private_room | NA |  70 |\n|  1068505 | Relaxing and Roomy in Crown Heights                | private_room | NA |  70 |\n| 17893008 | Exclusive 2 bedrooms in lovely apartment in Nolita | private_room | NA |  70 |\n| 23893916 | Comfortable 2-Room Studio Apt with Backyard        | entire_place | NA | 163 |\n| 34818201 | Whole floor(2bedroom) for group in safe Area       | entire_place | NA | 163 |\n| 20710508 | 1 bedroom in East Village (private ensuite)        | private_room | NA |  70 |\n|  6155877 | Solo traveler oasis                                | shared_room  | NA |  50 |\n| 29967445 | Cozy Studio NYC getaway                            | entire_place | NA | 163 |\n| 36002857 | Soho Comfort                                       | entire_place | NA | 163 |\n|  1420559 | Great 1BR apartment in a convenient location       | entire_place | NA | 163 |\n|  6601120 | Entire place in Williamsburg. Rustic Den.          | entire_place | NA | 163 |\n| 18961150 | Room with a view                                   | entire_place | NA | 163 |\n|  1474752 | Dope Williamsburg Apartment                        | private_room | NA |  70 |\n| 22016391 | Your own Loft/gallery in Bushwick!                 | private_room | NA |  70 |\n\n",
            "text/html": [
              "<table>\n",
              "<caption>A grouped_df: 238 × 5</caption>\n",
              "<thead>\n",
              "\t<tr><th scope=col>listing_id</th><th scope=col>description</th><th scope=col>room_type</th><th scope=col>price</th><th scope=col>price_filled</th></tr>\n",
              "\t<tr><th scope=col>&lt;dbl&gt;</th><th scope=col>&lt;chr&gt;</th><th scope=col>&lt;fct&gt;</th><th scope=col>&lt;dbl&gt;</th><th scope=col>&lt;dbl&gt;</th></tr>\n",
              "</thead>\n",
              "<tbody>\n",
              "\t<tr><td> 7116071</td><td>30 Minutes to Manhattan / Sleeps 7                 </td><td>entire_place</td><td>NA</td><td>163</td></tr>\n",
              "\t<tr><td>13395955</td><td>Adorable Prospect Heights 1 Bedroom                </td><td>entire_place</td><td>NA</td><td>163</td></tr>\n",
              "\t<tr><td>27903031</td><td>Prewar Gem in Middle of Everything!                </td><td>private_room</td><td>NA</td><td> 70</td></tr>\n",
              "\t<tr><td> 1700471</td><td>CHARM Rm HAMILTON HEIGHTS Harlem                   </td><td>private_room</td><td>NA</td><td> 70</td></tr>\n",
              "\t<tr><td>30235482</td><td>*Groovy Budget room for the traveler!              </td><td>private_room</td><td>NA</td><td> 70</td></tr>\n",
              "\t<tr><td>  518566</td><td>Gorgeous, charming Upper East private room         </td><td>private_room</td><td>NA</td><td> 70</td></tr>\n",
              "\t<tr><td>26889078</td><td>Staten Island Garden Apartment Near Ferry          </td><td>entire_place</td><td>NA</td><td>163</td></tr>\n",
              "\t<tr><td>29586573</td><td>1-Bedroom in Bushwick for 2 in shared apartment    </td><td>private_room</td><td>NA</td><td> 70</td></tr>\n",
              "\t<tr><td>12753144</td><td>Charming, Spacious 1 Bd-Great area!                </td><td>entire_place</td><td>NA</td><td>163</td></tr>\n",
              "\t<tr><td>13974200</td><td>Sunny, Pre-War Brooklyn Share                      </td><td>shared_room </td><td>NA</td><td> 50</td></tr>\n",
              "\t<tr><td>20173955</td><td>Cozy studio apartment Lower East Side / Lil Italy  </td><td>entire_place</td><td>NA</td><td>163</td></tr>\n",
              "\t<tr><td>13859196</td><td>Cozy Room In the Heart of Astoria                  </td><td>private_room</td><td>NA</td><td> 70</td></tr>\n",
              "\t<tr><td>18602201</td><td>Gorgeous Cozy Getaway In Harlem 1 Block From Train </td><td>private_room</td><td>NA</td><td> 70</td></tr>\n",
              "\t<tr><td> 7775711</td><td>1 bedroom in Bed-Stuy                              </td><td>entire_place</td><td>NA</td><td>163</td></tr>\n",
              "\t<tr><td>27637755</td><td>Unfinished basement unit under private house       </td><td>entire_place</td><td>NA</td><td>163</td></tr>\n",
              "\t<tr><td>30580793</td><td>Beautifully Renovated Mid Century Modern Bedroom   </td><td>private_room</td><td>NA</td><td> 70</td></tr>\n",
              "\t<tr><td>27573704</td><td>Beautiful private room in luxury building          </td><td>private_room</td><td>NA</td><td> 70</td></tr>\n",
              "\t<tr><td>29884848</td><td>private room for WOMEN ONLY near BX Little Italy   </td><td>private_room</td><td>NA</td><td> 70</td></tr>\n",
              "\t<tr><td>20089288</td><td>#4 Cozy And Bright Room, 30 Minutes to Manhattan   </td><td>private_room</td><td>NA</td><td> 70</td></tr>\n",
              "\t<tr><td>19910666</td><td>Large Studio in the HEART OF MANHATTAN             </td><td>entire_place</td><td>NA</td><td>163</td></tr>\n",
              "\t<tr><td>33431709</td><td>Shared apartment by the Central Park               </td><td>shared_room </td><td>NA</td><td> 50</td></tr>\n",
              "\t<tr><td> 7398507</td><td>Chic apartment on Central Park West                </td><td>entire_place</td><td>NA</td><td>163</td></tr>\n",
              "\t<tr><td>15399008</td><td>Spacious room in relaxing 2 BDR UWS apartment      </td><td>private_room</td><td>NA</td><td> 70</td></tr>\n",
              "\t<tr><td>16394488</td><td>Hip Luxury Stay w Private Bath 5 min to Manhattan  </td><td>private_room</td><td>NA</td><td> 70</td></tr>\n",
              "\t<tr><td>22979825</td><td>Private large bedroom in Prime Williamsburg, BK    </td><td>private_room</td><td>NA</td><td> 70</td></tr>\n",
              "\t<tr><td>35999335</td><td>Cozy private bedroom in Chinatown/Lower East Side  </td><td>private_room</td><td>NA</td><td> 70</td></tr>\n",
              "\t<tr><td>15475362</td><td>1 Bedroom in Quiet Upper West Side                 </td><td>entire_place</td><td>NA</td><td>163</td></tr>\n",
              "\t<tr><td>22404730</td><td>Modern &amp; Cozy 2Bedroom apt.\n",
              "15min to Times Square.</td><td>private_room</td><td>NA</td><td> 70</td></tr>\n",
              "\t<tr><td>20305785</td><td>Private spacious studio in Richmond Hill           </td><td>entire_place</td><td>NA</td><td>163</td></tr>\n",
              "\t<tr><td> 8438775</td><td><span style=white-space:pre-wrap>Private BR &amp; Bath near Central Park                </span></td><td>private_room</td><td>NA</td><td> 70</td></tr>\n",
              "\t<tr><td>⋮</td><td>⋮</td><td>⋮</td><td>⋮</td><td>⋮</td></tr>\n",
              "\t<tr><td>34717733</td><td>TheGreystone                                      </td><td>entire_place</td><td>NA</td><td>163</td></tr>\n",
              "\t<tr><td>  385190</td><td>Beautiful 1 bdrm, Inwood Manhattan                </td><td>private_room</td><td>NA</td><td> 70</td></tr>\n",
              "\t<tr><td>15340649</td><td>Huge Beautiful Loft in the Heart of Williamsburg  </td><td>entire_place</td><td>NA</td><td>163</td></tr>\n",
              "\t<tr><td>11659008</td><td>Safe, comfy convenient                            </td><td>private_room</td><td>NA</td><td> 70</td></tr>\n",
              "\t<tr><td>26183582</td><td>Spacious 1-BR by Central Park/Museum Mile, Harlem </td><td>entire_place</td><td>NA</td><td>163</td></tr>\n",
              "\t<tr><td>35465343</td><td>BedStuyBeauty                                     </td><td>entire_place</td><td>NA</td><td>163</td></tr>\n",
              "\t<tr><td> 7724031</td><td>Apartment is in Washington heights                </td><td>private_room</td><td>NA</td><td> 70</td></tr>\n",
              "\t<tr><td>34403759</td><td>( GREEN ROOM) Private in a Beautiful Town House   </td><td>private_room</td><td>NA</td><td> 70</td></tr>\n",
              "\t<tr><td>21592157</td><td>Your private home in Manhattan, Upper Eastside.   </td><td>private_room</td><td>NA</td><td> 70</td></tr>\n",
              "\t<tr><td>24397824</td><td>Cozy private Bedroom in upper Manhattan!          </td><td>private_room</td><td>NA</td><td> 70</td></tr>\n",
              "\t<tr><td>12368099</td><td>Home 4 Medical Professionals-St Johns Hospital    </td><td>private_room</td><td>NA</td><td> 70</td></tr>\n",
              "\t<tr><td>33446373</td><td>large room in a 4 bedroom (2bath) apartment       </td><td>private_room</td><td>NA</td><td> 70</td></tr>\n",
              "\t<tr><td>18669801</td><td>Huge Private Room in New York 10minute to Midtown </td><td>private_room</td><td>NA</td><td> 70</td></tr>\n",
              "\t<tr><td>30592647</td><td>Private Bedroom w/ Bunk Bed - Great for Friends!  </td><td>private_room</td><td>NA</td><td> 70</td></tr>\n",
              "\t<tr><td>10995738</td><td>Cozy Private Room                                 </td><td>private_room</td><td>NA</td><td> 70</td></tr>\n",
              "\t<tr><td>12669603</td><td>Sunny Suite with Bath near Prospect Park          </td><td>private_room</td><td>NA</td><td> 70</td></tr>\n",
              "\t<tr><td>25420704</td><td>place on the bay                                  </td><td>private_room</td><td>NA</td><td> 70</td></tr>\n",
              "\t<tr><td> 1068505</td><td>Relaxing and Roomy in Crown Heights               </td><td>private_room</td><td>NA</td><td> 70</td></tr>\n",
              "\t<tr><td>17893008</td><td>Exclusive 2 bedrooms in lovely apartment in Nolita</td><td>private_room</td><td>NA</td><td> 70</td></tr>\n",
              "\t<tr><td>23893916</td><td>Comfortable 2-Room Studio Apt with Backyard       </td><td>entire_place</td><td>NA</td><td>163</td></tr>\n",
              "\t<tr><td>34818201</td><td>Whole floor(2bedroom) for group in safe Area      </td><td>entire_place</td><td>NA</td><td>163</td></tr>\n",
              "\t<tr><td>20710508</td><td>1 bedroom in East Village (private ensuite)       </td><td>private_room</td><td>NA</td><td> 70</td></tr>\n",
              "\t<tr><td> 6155877</td><td>Solo traveler oasis                               </td><td>shared_room </td><td>NA</td><td> 50</td></tr>\n",
              "\t<tr><td>29967445</td><td>Cozy Studio NYC getaway                           </td><td>entire_place</td><td>NA</td><td>163</td></tr>\n",
              "\t<tr><td>36002857</td><td>Soho Comfort                                      </td><td>entire_place</td><td>NA</td><td>163</td></tr>\n",
              "\t<tr><td> 1420559</td><td>Great 1BR apartment in a convenient location      </td><td>entire_place</td><td>NA</td><td>163</td></tr>\n",
              "\t<tr><td> 6601120</td><td>Entire place in Williamsburg. Rustic Den.         </td><td>entire_place</td><td>NA</td><td>163</td></tr>\n",
              "\t<tr><td>18961150</td><td>Room with a view                                  </td><td>entire_place</td><td>NA</td><td>163</td></tr>\n",
              "\t<tr><td> 1474752</td><td>Dope Williamsburg Apartment                       </td><td>private_room</td><td>NA</td><td> 70</td></tr>\n",
              "\t<tr><td>22016391</td><td>Your own Loft/gallery in Bushwick!                </td><td>private_room</td><td>NA</td><td> 70</td></tr>\n",
              "</tbody>\n",
              "</table>\n"
            ]
          },
          "metadata": {
            "tags": []
          }
        }
      ]
    },
    {
      "cell_type": "code",
      "metadata": {
        "id": "81Nz4NgKp4dA",
        "colab_type": "code",
        "colab": {}
      },
      "source": [
        "# Overwrite price column in original data frame\n",
        "airbnb <- airbnb %>%\n",
        "    group_by(room_type) %>%\n",
        "    mutate(price = ifelse(is.na(price), median(price, na.rm = TRUE), price)) %>%\n",
        "    ungroup()"
      ],
      "execution_count": 0,
      "outputs": []
    },
    {
      "cell_type": "markdown",
      "metadata": {
        "id": "q0VKNaqevJj5",
        "colab_type": "text"
      },
      "source": [
        "### **Duplicate data issues**\n",
        "\n",
        "\n",
        "#### **Task 8:** Further investigate duplicate data points and decide how to handle them."
      ]
    },
    {
      "cell_type": "code",
      "metadata": {
        "id": "M7xKT9BmvJB6",
        "colab_type": "code",
        "colab": {}
      },
      "source": [
        "# Find duplicated listing_ids\n",
        "duplicate_ids <- airbnb %>% \n",
        "    count(listing_id) %>% \n",
        "     filter(n > 1)"
      ],
      "execution_count": 0,
      "outputs": []
    },
    {
      "cell_type": "code",
      "metadata": {
        "id": "QJ9-GIlCwTHS",
        "colab_type": "code",
        "colab": {
          "base_uri": "https://localhost:8080/",
          "height": 1000
        },
        "outputId": "08e86e3c-b27e-401c-f71d-9b8d7e4beaa6"
      },
      "source": [
        "# Look at duplicated data\n",
        "airbnb %>%\n",
        "    filter(listing_id %in% duplicate_ids$listing_id) %>%\n",
        "    arrange(listing_id)"
      ],
      "execution_count": 35,
      "outputs": [
        {
          "output_type": "display_data",
          "data": {
            "text/plain": [
              "   listing_id description                                        host_id  \n",
              "1    253806   Loft Suite @ The Box House Hotel                      417504\n",
              "2    253806   Loft Suite @ The Box House Hotel                      417504\n",
              "3   2044392   The heart of Williamsburg 2 bedroom                   620218\n",
              "4   2044392   The heart of Williamsburg 2 bedroom                   620218\n",
              "5   4244242   Best Bedroom in Bedstuy/Bushwick. Ensuite bathroom  22023014\n",
              "6   4244242   Best Bedroom in Bedstuy/Bushwick. Ensuite bathroom  22023014\n",
              "7   7319856   450ft Square Studio in Gramercy NY                  11773680\n",
              "8   7319856   450ft Square Studio in Gramercy NY                  11773680\n",
              "9   9078222   Prospect Park 3 bdrm, Sleeps 8 (#2)                 47219962\n",
              "10  9078222   Prospect Park 3 bdrm, Sleeps 8 (#2)                 47219962\n",
              "11 15027024   Newly renovated 1bd on lively & historic St Marks    8344620\n",
              "12 15027024   Newly renovated 1bd on lively & historic St Marks    8344620\n",
              "13 16518377   East Village 1BR Apt with all the amenities          3012457\n",
              "14 16518377   East Village 1BR Apt with all the amenities          3012457\n",
              "15 17861841   THE CREATIVE COZY ROOM                              47591528\n",
              "16 17861841   THE CREATIVE COZY ROOM                              47591528\n",
              "17 19477677   Huge sunny room next to subway!                     25038748\n",
              "18 19477677   Huge sunny room next to subway!                     25038748\n",
              "19 21106251   Private Bedroom in Great Brooklyn Apartment         25354313\n",
              "20 21106251   Private Bedroom in Great Brooklyn Apartment         25354313\n",
              "21 22014840   Sunny Bedroom Only 1 Metro Stop to Manhattan        32093643\n",
              "22 22014840   Sunny Bedroom Only 1 Metro Stop to Manhattan        32093643\n",
              "23 23990868   1 Bedroom in Luxury Building                         4447548\n",
              "24 23990868   1 Bedroom in Luxury Building                         4447548\n",
              "25 26554879   East Village/Union Square Flat                      17400431\n",
              "26 26554879   East Village/Union Square Flat                      17400431\n",
              "27 29844951   Cozy Home In Queens                                 49946447\n",
              "28 29844951   Cozy Home In Queens                                 49946447\n",
              "29 31470004   Private bedroom/Bathroom in a 2 bedroom apartment   71241932\n",
              "30 31470004   Private bedroom/Bathroom in a 2 bedroom apartment   71241932\n",
              "31 32610834   Manhattan by the water!                             12132369\n",
              "32 32610834   Manhattan by the water!                             12132369\n",
              "33 33346762   2BR Apartment in Brownstone Brooklyn!               50321289\n",
              "34 33346762   2BR Apartment in Brownstone Brooklyn!               50321289\n",
              "35 33831116   Sonder | Stock Exchange | Collected 1BR + Laundry  219517861\n",
              "36 33831116   Sonder | Stock Exchange | Collected 1BR + Laundry  219517861\n",
              "37 35646737   Private Cabins @ Chelsea, Manhattan                117365574\n",
              "38 35646737   Private Cabins @ Chelsea, Manhattan                117365574\n",
              "39 35801208   Comfy 2 bedroom Close To Manhattan                 256911412\n",
              "40 35801208   Comfy 2 bedroom Close To Manhattan                 256911412\n",
              "   host_name           room_type    price nb_reviews last_review\n",
              "1  The Box House Hotel entire_place  199   43        2019-07-02 \n",
              "2  The Box House Hotel entire_place  199   43        2019-07-02 \n",
              "3  Sarah               entire_place  250    0        <NA>       \n",
              "4  Sarah               entire_place  245    0        <NA>       \n",
              "5  BrooklynSleeps      private_room   70  110        2019-06-23 \n",
              "6  BrooklynSleeps      private_room   73  110        2019-06-23 \n",
              "7  Adam                entire_place  289    4        2016-05-22 \n",
              "8  Adam                entire_place  280    4        2016-05-22 \n",
              "9  Babajide            entire_place  154  123        2019-07-01 \n",
              "10 Babajide            entire_place  150  123        2019-07-01 \n",
              "11 Ethan               entire_place  180   10        2018-12-31 \n",
              "12 Ethan               entire_place  180   10        2018-12-31 \n",
              "13 Cody                entire_place  200    3        2018-07-10 \n",
              "14 Cody                entire_place  200    3        2018-07-10 \n",
              "15 Janessa             private_room   99   13        2019-05-23 \n",
              "16 Janessa             private_room   99   13        2019-05-23 \n",
              "17 Justin              private_room   70   11        2019-05-11 \n",
              "18 Justin              private_room   70   11        2019-05-11 \n",
              "19 Tommy               private_room   45    9        2019-06-22 \n",
              "20 Tommy               private_room   45    9        2019-06-22 \n",
              "21 Scarlett            private_room   70    2        2018-01-07 \n",
              "22 Scarlett            private_room   70    2        2018-01-07 \n",
              "23 Grace               entire_place   88    8        2019-06-16 \n",
              "24 Grace               entire_place   88    8        2019-06-16 \n",
              "25 Bob                 entire_place  179   32        2019-06-26 \n",
              "26 Bob                 entire_place  179   32        2019-06-26 \n",
              "27 Rah                 private_room   50    1        2019-03-19 \n",
              "28 Rah                 private_room   50    1        2019-03-19 \n",
              "29 Max                 private_room 2500    0        <NA>       \n",
              "30 Max                 private_room 2500    0        <NA>       \n",
              "31 Omar                entire_place  150    0        <NA>       \n",
              "32 Omar                entire_place  150    0        <NA>       \n",
              "33 Avery               entire_place  140    4        2019-06-14 \n",
              "34 Avery               entire_place  140    4        2019-06-14 \n",
              "35 Sonder (NYC)        entire_place  229    5        2019-06-15 \n",
              "36 Sonder (NYC)        entire_place  229    5        2019-06-15 \n",
              "37 Maria               private_room   85    1        2019-06-22 \n",
              "38 Maria               private_room   85    1        2019-06-22 \n",
              "39 Taylor              entire_place  101    0        <NA>       \n",
              "40 Taylor              entire_place  101    0        <NA>       \n",
              "   reviews_per_month availability_365 avg_rating avg_stays_per_month\n",
              "1  0.47               60              4.620238    51.6              \n",
              "2  0.47               60              4.620238    51.6              \n",
              "3    NA                0                    NA      NA              \n",
              "4    NA                0                    NA      NA              \n",
              "5  1.96              323              4.962314   132.0              \n",
              "6  1.96              323              4.962314   132.0              \n",
              "7  0.09              225              3.903764     4.8              \n",
              "8  0.09              225              3.903764     4.8              \n",
              "9  2.74              263              3.466881   147.6              \n",
              "10 2.74              263              3.466881   147.6              \n",
              "11 0.30                0              3.969729    12.0              \n",
              "12 0.30                0              3.869729    12.0              \n",
              "13 0.16                0              4.676670     3.6              \n",
              "14 0.16                0              4.676670     3.6              \n",
              "15 0.52               82              4.806590    15.6              \n",
              "16 0.52               82              4.806590    15.6              \n",
              "17 0.45                0              3.074890    13.2              \n",
              "18 0.45                0              3.074890    13.2              \n",
              "19 0.43                0              3.779114    10.8              \n",
              "20 0.43                0              3.779114    10.8              \n",
              "21 0.11                0              4.024336     2.4              \n",
              "22 0.11                0              4.024336     2.4              \n",
              "23 0.56               18              4.164548     9.6              \n",
              "24 0.56               18              4.164548     9.6              \n",
              "25 2.92               12              3.125513    38.4              \n",
              "26 2.92               12              3.125513    38.4              \n",
              "27 0.27              311              4.792923     1.2              \n",
              "28 0.27              311              4.792923     1.2              \n",
              "29   NA               90                    NA      NA              \n",
              "30   NA               90                    NA      NA              \n",
              "31   NA                9                    NA      NA              \n",
              "32   NA                9                    NA      NA              \n",
              "33 1.58                4              4.013393     4.8              \n",
              "34 1.58                4              4.013393     4.8              \n",
              "35 1.92              350              4.026379     6.0              \n",
              "36 1.92              350              4.026379     6.0              \n",
              "37 1.00              261              4.951714     1.2              \n",
              "38 1.00              261              4.951714     1.2              \n",
              "39   NA               27                    NA      NA              \n",
              "40   NA               27                    NA      NA              \n",
              "   pct_5_stars listing_added latitude longitude borough  \n",
              "1  0.8610863   2018-12-27    40.73652 -73.95236 Brooklyn \n",
              "2  0.8610863   2018-12-27    40.73652 -73.95236 Brooklyn \n",
              "3         NA   2018-05-24    40.71257 -73.96149 Brooklyn \n",
              "4         NA   2018-08-09    40.71257 -73.96149 Brooklyn \n",
              "5  0.8098820   2018-12-18    40.69496 -73.93949 Brooklyn \n",
              "6  0.8098820   2018-12-18    40.69496 -73.93949 Brooklyn \n",
              "7  0.7563810   2015-11-17    40.73813 -73.98098 Manhattan\n",
              "8  0.7563810   2015-11-17    40.73813 -73.98098 Manhattan\n",
              "9  0.7381911   2018-12-26    40.66086 -73.96159 Brooklyn \n",
              "10 0.7381911   2018-12-26    40.66086 -73.96159 Brooklyn \n",
              "11 0.7725126   2018-06-27    40.72693 -73.98385 Manhattan\n",
              "12 0.7725126   2018-06-27    40.72693 -73.98385 Manhattan\n",
              "13 0.6944427   2018-01-04    40.72350 -73.97963 Manhattan\n",
              "14 0.6944427   2018-01-04    40.72350 -73.97963 Manhattan\n",
              "15 0.9374216   2018-11-17    40.59211 -73.94127 Brooklyn \n",
              "16 0.9374216   2018-11-17    40.59211 -73.94127 Brooklyn \n",
              "17 0.6316186   2018-11-05    40.82119 -73.95583 Manhattan\n",
              "18 0.6316186   2018-11-05    40.82119 -73.95583 Manhattan\n",
              "19 0.7381907   2018-12-17    40.67359 -73.95812 Brooklyn \n",
              "20 0.7381907   2018-12-17    40.67359 -73.95812 Brooklyn \n",
              "21 0.7194262   2017-07-04    40.76211 -73.94887 Manhattan\n",
              "22 0.7194262   2017-07-04    40.76211 -73.94887 Manhattan\n",
              "23 0.6401060   2018-12-11    40.69336 -73.94453 Brooklyn \n",
              "24 0.6401060   2018-12-11    40.69336 -73.94453 Brooklyn \n",
              "25 0.6317645   2018-12-21    40.73177 -73.98691 Manhattan\n",
              "26 0.6317645   2018-12-21    40.73177 -73.98691 Manhattan\n",
              "27 0.7012322   2018-09-13    40.68842 -73.77677 Queens   \n",
              "28 0.7012322   2018-09-13    40.68842 -73.77677 Queens   \n",
              "29        NA   2018-04-09    40.72544 -73.97818 Manhattan\n",
              "30        NA   2018-03-12    40.72544 -73.97818 Manhattan\n",
              "31        NA   2018-06-28    40.73767 -73.97384 Manhattan\n",
              "32        NA   2018-06-28    40.73767 -73.97384 Manhattan\n",
              "33 0.7195908   2018-12-09    40.68200 -73.95681 Brooklyn \n",
              "34 0.7195908   2018-12-09    40.68200 -73.95681 Brooklyn \n",
              "35 0.6017374   2018-12-10    40.70621 -74.01199 Manhattan\n",
              "36 0.6017374   2018-12-10    40.70621 -74.01199 Manhattan\n",
              "37 0.6713879   2018-12-17    40.74946 -73.99627 Manhattan\n",
              "38 0.6713879   2018-12-17    40.74946 -73.99627 Manhattan\n",
              "39        NA   2018-10-17    40.70469 -73.93690 Brooklyn \n",
              "40        NA   2018-05-03    40.70469 -73.93690 Brooklyn \n",
              "   nbhood                   \n",
              "1  Greenpoint               \n",
              "2  Greenpoint               \n",
              "3  Williamsburg             \n",
              "4  Williamsburg             \n",
              "5  Bedford-Stuyvesant       \n",
              "6  Bedford-Stuyvesant       \n",
              "7  Kips Bay                 \n",
              "8  Kips Bay                 \n",
              "9  Prospect-Lefferts Gardens\n",
              "10 Prospect-Lefferts Gardens\n",
              "11 East Village             \n",
              "12 East Village             \n",
              "13 East Village             \n",
              "14 East Village             \n",
              "15 Sheepshead Bay           \n",
              "16 Sheepshead Bay           \n",
              "17 Harlem                   \n",
              "18 Harlem                   \n",
              "19 Crown Heights            \n",
              "20 Crown Heights            \n",
              "21 Roosevelt Island         \n",
              "22 Roosevelt Island         \n",
              "23 Bedford-Stuyvesant       \n",
              "24 Bedford-Stuyvesant       \n",
              "25 East Village             \n",
              "26 East Village             \n",
              "27 Jamaica                  \n",
              "28 Jamaica                  \n",
              "29 East Village             \n",
              "30 East Village             \n",
              "31 Kips Bay                 \n",
              "32 Kips Bay                 \n",
              "33 Bedford-Stuyvesant       \n",
              "34 Bedford-Stuyvesant       \n",
              "35 Financial District       \n",
              "36 Financial District       \n",
              "37 Chelsea                  \n",
              "38 Chelsea                  \n",
              "39 Williamsburg             \n",
              "40 Williamsburg             "
            ],
            "text/latex": "A tibble: 40 × 18\n\\begin{tabular}{llllllllllllllllll}\n listing\\_id & description & host\\_id & host\\_name & room\\_type & price & nb\\_reviews & last\\_review & reviews\\_per\\_month & availability\\_365 & avg\\_rating & avg\\_stays\\_per\\_month & pct\\_5\\_stars & listing\\_added & latitude & longitude & borough & nbhood\\\\\n <dbl> & <chr> & <dbl> & <chr> & <fct> & <dbl> & <dbl> & <date> & <dbl> & <dbl> & <dbl> & <dbl> & <dbl> & <date> & <dbl> & <dbl> & <fct> & <fct>\\\\\n\\hline\n\t   253806 & Loft Suite @ The Box House Hotel                   &    417504 & The Box House Hotel & entire\\_place &  199 &  43 & 2019-07-02 & 0.47 &  60 & 4.620238 &  51.6 & 0.8610863 & 2018-12-27 & 40.73652 & -73.95236 & Brooklyn  & Greenpoint               \\\\\n\t   253806 & Loft Suite @ The Box House Hotel                   &    417504 & The Box House Hotel & entire\\_place &  199 &  43 & 2019-07-02 & 0.47 &  60 & 4.620238 &  51.6 & 0.8610863 & 2018-12-27 & 40.73652 & -73.95236 & Brooklyn  & Greenpoint               \\\\\n\t  2044392 & The heart of Williamsburg 2 bedroom                &    620218 & Sarah               & entire\\_place &  250 &   0 & NA &   NA &   0 &       NA &    NA &        NA & 2018-05-24 & 40.71257 & -73.96149 & Brooklyn  & Williamsburg             \\\\\n\t  2044392 & The heart of Williamsburg 2 bedroom                &    620218 & Sarah               & entire\\_place &  245 &   0 & NA &   NA &   0 &       NA &    NA &        NA & 2018-08-09 & 40.71257 & -73.96149 & Brooklyn  & Williamsburg             \\\\\n\t  4244242 & Best Bedroom in Bedstuy/Bushwick. Ensuite bathroom &  22023014 & BrooklynSleeps      & private\\_room &   70 & 110 & 2019-06-23 & 1.96 & 323 & 4.962314 & 132.0 & 0.8098820 & 2018-12-18 & 40.69496 & -73.93949 & Brooklyn  & Bedford-Stuyvesant       \\\\\n\t  4244242 & Best Bedroom in Bedstuy/Bushwick. Ensuite bathroom &  22023014 & BrooklynSleeps      & private\\_room &   73 & 110 & 2019-06-23 & 1.96 & 323 & 4.962314 & 132.0 & 0.8098820 & 2018-12-18 & 40.69496 & -73.93949 & Brooklyn  & Bedford-Stuyvesant       \\\\\n\t  7319856 & 450ft Square Studio in Gramercy NY                 &  11773680 & Adam                & entire\\_place &  289 &   4 & 2016-05-22 & 0.09 & 225 & 3.903764 &   4.8 & 0.7563810 & 2015-11-17 & 40.73813 & -73.98098 & Manhattan & Kips Bay                 \\\\\n\t  7319856 & 450ft Square Studio in Gramercy NY                 &  11773680 & Adam                & entire\\_place &  280 &   4 & 2016-05-22 & 0.09 & 225 & 3.903764 &   4.8 & 0.7563810 & 2015-11-17 & 40.73813 & -73.98098 & Manhattan & Kips Bay                 \\\\\n\t  9078222 & Prospect Park 3 bdrm, Sleeps 8 (\\#2)                &  47219962 & Babajide            & entire\\_place &  154 & 123 & 2019-07-01 & 2.74 & 263 & 3.466881 & 147.6 & 0.7381911 & 2018-12-26 & 40.66086 & -73.96159 & Brooklyn  & Prospect-Lefferts Gardens\\\\\n\t  9078222 & Prospect Park 3 bdrm, Sleeps 8 (\\#2)                &  47219962 & Babajide            & entire\\_place &  150 & 123 & 2019-07-01 & 2.74 & 263 & 3.466881 & 147.6 & 0.7381911 & 2018-12-26 & 40.66086 & -73.96159 & Brooklyn  & Prospect-Lefferts Gardens\\\\\n\t 15027024 & Newly renovated 1bd on lively \\& historic St Marks  &   8344620 & Ethan               & entire\\_place &  180 &  10 & 2018-12-31 & 0.30 &   0 & 3.969729 &  12.0 & 0.7725126 & 2018-06-27 & 40.72693 & -73.98385 & Manhattan & East Village             \\\\\n\t 15027024 & Newly renovated 1bd on lively \\& historic St Marks  &   8344620 & Ethan               & entire\\_place &  180 &  10 & 2018-12-31 & 0.30 &   0 & 3.869729 &  12.0 & 0.7725126 & 2018-06-27 & 40.72693 & -73.98385 & Manhattan & East Village             \\\\\n\t 16518377 & East Village 1BR Apt with all the amenities        &   3012457 & Cody                & entire\\_place &  200 &   3 & 2018-07-10 & 0.16 &   0 & 4.676670 &   3.6 & 0.6944427 & 2018-01-04 & 40.72350 & -73.97963 & Manhattan & East Village             \\\\\n\t 16518377 & East Village 1BR Apt with all the amenities        &   3012457 & Cody                & entire\\_place &  200 &   3 & 2018-07-10 & 0.16 &   0 & 4.676670 &   3.6 & 0.6944427 & 2018-01-04 & 40.72350 & -73.97963 & Manhattan & East Village             \\\\\n\t 17861841 & THE CREATIVE COZY ROOM                             &  47591528 & Janessa             & private\\_room &   99 &  13 & 2019-05-23 & 0.52 &  82 & 4.806590 &  15.6 & 0.9374216 & 2018-11-17 & 40.59211 & -73.94127 & Brooklyn  & Sheepshead Bay           \\\\\n\t 17861841 & THE CREATIVE COZY ROOM                             &  47591528 & Janessa             & private\\_room &   99 &  13 & 2019-05-23 & 0.52 &  82 & 4.806590 &  15.6 & 0.9374216 & 2018-11-17 & 40.59211 & -73.94127 & Brooklyn  & Sheepshead Bay           \\\\\n\t 19477677 & Huge sunny room next to subway!                    &  25038748 & Justin              & private\\_room &   70 &  11 & 2019-05-11 & 0.45 &   0 & 3.074890 &  13.2 & 0.6316186 & 2018-11-05 & 40.82119 & -73.95583 & Manhattan & Harlem                   \\\\\n\t 19477677 & Huge sunny room next to subway!                    &  25038748 & Justin              & private\\_room &   70 &  11 & 2019-05-11 & 0.45 &   0 & 3.074890 &  13.2 & 0.6316186 & 2018-11-05 & 40.82119 & -73.95583 & Manhattan & Harlem                   \\\\\n\t 21106251 & Private Bedroom in Great Brooklyn Apartment        &  25354313 & Tommy               & private\\_room &   45 &   9 & 2019-06-22 & 0.43 &   0 & 3.779114 &  10.8 & 0.7381907 & 2018-12-17 & 40.67359 & -73.95812 & Brooklyn  & Crown Heights            \\\\\n\t 21106251 & Private Bedroom in Great Brooklyn Apartment        &  25354313 & Tommy               & private\\_room &   45 &   9 & 2019-06-22 & 0.43 &   0 & 3.779114 &  10.8 & 0.7381907 & 2018-12-17 & 40.67359 & -73.95812 & Brooklyn  & Crown Heights            \\\\\n\t 22014840 & Sunny Bedroom Only 1 Metro Stop to Manhattan       &  32093643 & Scarlett            & private\\_room &   70 &   2 & 2018-01-07 & 0.11 &   0 & 4.024336 &   2.4 & 0.7194262 & 2017-07-04 & 40.76211 & -73.94887 & Manhattan & Roosevelt Island         \\\\\n\t 22014840 & Sunny Bedroom Only 1 Metro Stop to Manhattan       &  32093643 & Scarlett            & private\\_room &   70 &   2 & 2018-01-07 & 0.11 &   0 & 4.024336 &   2.4 & 0.7194262 & 2017-07-04 & 40.76211 & -73.94887 & Manhattan & Roosevelt Island         \\\\\n\t 23990868 & 1 Bedroom in Luxury Building                       &   4447548 & Grace               & entire\\_place &   88 &   8 & 2019-06-16 & 0.56 &  18 & 4.164548 &   9.6 & 0.6401060 & 2018-12-11 & 40.69336 & -73.94453 & Brooklyn  & Bedford-Stuyvesant       \\\\\n\t 23990868 & 1 Bedroom in Luxury Building                       &   4447548 & Grace               & entire\\_place &   88 &   8 & 2019-06-16 & 0.56 &  18 & 4.164548 &   9.6 & 0.6401060 & 2018-12-11 & 40.69336 & -73.94453 & Brooklyn  & Bedford-Stuyvesant       \\\\\n\t 26554879 & East Village/Union Square Flat                     &  17400431 & Bob                 & entire\\_place &  179 &  32 & 2019-06-26 & 2.92 &  12 & 3.125513 &  38.4 & 0.6317645 & 2018-12-21 & 40.73177 & -73.98691 & Manhattan & East Village             \\\\\n\t 26554879 & East Village/Union Square Flat                     &  17400431 & Bob                 & entire\\_place &  179 &  32 & 2019-06-26 & 2.92 &  12 & 3.125513 &  38.4 & 0.6317645 & 2018-12-21 & 40.73177 & -73.98691 & Manhattan & East Village             \\\\\n\t 29844951 & Cozy Home In Queens                                &  49946447 & Rah                 & private\\_room &   50 &   1 & 2019-03-19 & 0.27 & 311 & 4.792923 &   1.2 & 0.7012322 & 2018-09-13 & 40.68842 & -73.77677 & Queens    & Jamaica                  \\\\\n\t 29844951 & Cozy Home In Queens                                &  49946447 & Rah                 & private\\_room &   50 &   1 & 2019-03-19 & 0.27 & 311 & 4.792923 &   1.2 & 0.7012322 & 2018-09-13 & 40.68842 & -73.77677 & Queens    & Jamaica                  \\\\\n\t 31470004 & Private bedroom/Bathroom in a 2 bedroom apartment  &  71241932 & Max                 & private\\_room & 2500 &   0 & NA &   NA &  90 &       NA &    NA &        NA & 2018-04-09 & 40.72544 & -73.97818 & Manhattan & East Village             \\\\\n\t 31470004 & Private bedroom/Bathroom in a 2 bedroom apartment  &  71241932 & Max                 & private\\_room & 2500 &   0 & NA &   NA &  90 &       NA &    NA &        NA & 2018-03-12 & 40.72544 & -73.97818 & Manhattan & East Village             \\\\\n\t 32610834 & Manhattan by the water!                            &  12132369 & Omar                & entire\\_place &  150 &   0 & NA &   NA &   9 &       NA &    NA &        NA & 2018-06-28 & 40.73767 & -73.97384 & Manhattan & Kips Bay                 \\\\\n\t 32610834 & Manhattan by the water!                            &  12132369 & Omar                & entire\\_place &  150 &   0 & NA &   NA &   9 &       NA &    NA &        NA & 2018-06-28 & 40.73767 & -73.97384 & Manhattan & Kips Bay                 \\\\\n\t 33346762 & 2BR Apartment in Brownstone Brooklyn!              &  50321289 & Avery               & entire\\_place &  140 &   4 & 2019-06-14 & 1.58 &   4 & 4.013393 &   4.8 & 0.7195908 & 2018-12-09 & 40.68200 & -73.95681 & Brooklyn  & Bedford-Stuyvesant       \\\\\n\t 33346762 & 2BR Apartment in Brownstone Brooklyn!              &  50321289 & Avery               & entire\\_place &  140 &   4 & 2019-06-14 & 1.58 &   4 & 4.013393 &   4.8 & 0.7195908 & 2018-12-09 & 40.68200 & -73.95681 & Brooklyn  & Bedford-Stuyvesant       \\\\\n\t 33831116 & Sonder \\textbar{} Stock Exchange \\textbar{} Collected 1BR + Laundry  & 219517861 & Sonder (NYC)        & entire\\_place &  229 &   5 & 2019-06-15 & 1.92 & 350 & 4.026379 &   6.0 & 0.6017374 & 2018-12-10 & 40.70621 & -74.01199 & Manhattan & Financial District       \\\\\n\t 33831116 & Sonder \\textbar{} Stock Exchange \\textbar{} Collected 1BR + Laundry  & 219517861 & Sonder (NYC)        & entire\\_place &  229 &   5 & 2019-06-15 & 1.92 & 350 & 4.026379 &   6.0 & 0.6017374 & 2018-12-10 & 40.70621 & -74.01199 & Manhattan & Financial District       \\\\\n\t 35646737 & Private Cabins @ Chelsea, Manhattan                & 117365574 & Maria               & private\\_room &   85 &   1 & 2019-06-22 & 1.00 & 261 & 4.951714 &   1.2 & 0.6713879 & 2018-12-17 & 40.74946 & -73.99627 & Manhattan & Chelsea                  \\\\\n\t 35646737 & Private Cabins @ Chelsea, Manhattan                & 117365574 & Maria               & private\\_room &   85 &   1 & 2019-06-22 & 1.00 & 261 & 4.951714 &   1.2 & 0.6713879 & 2018-12-17 & 40.74946 & -73.99627 & Manhattan & Chelsea                  \\\\\n\t 35801208 & Comfy 2 bedroom Close To Manhattan                 & 256911412 & Taylor              & entire\\_place &  101 &   0 & NA &   NA &  27 &       NA &    NA &        NA & 2018-10-17 & 40.70469 & -73.93690 & Brooklyn  & Williamsburg             \\\\\n\t 35801208 & Comfy 2 bedroom Close To Manhattan                 & 256911412 & Taylor              & entire\\_place &  101 &   0 & NA &   NA &  27 &       NA &    NA &        NA & 2018-05-03 & 40.70469 & -73.93690 & Brooklyn  & Williamsburg             \\\\\n\\end{tabular}\n",
            "text/markdown": "\nA tibble: 40 × 18\n\n| listing_id &lt;dbl&gt; | description &lt;chr&gt; | host_id &lt;dbl&gt; | host_name &lt;chr&gt; | room_type &lt;fct&gt; | price &lt;dbl&gt; | nb_reviews &lt;dbl&gt; | last_review &lt;date&gt; | reviews_per_month &lt;dbl&gt; | availability_365 &lt;dbl&gt; | avg_rating &lt;dbl&gt; | avg_stays_per_month &lt;dbl&gt; | pct_5_stars &lt;dbl&gt; | listing_added &lt;date&gt; | latitude &lt;dbl&gt; | longitude &lt;dbl&gt; | borough &lt;fct&gt; | nbhood &lt;fct&gt; |\n|---|---|---|---|---|---|---|---|---|---|---|---|---|---|---|---|---|---|\n|   253806 | Loft Suite @ The Box House Hotel                   |    417504 | The Box House Hotel | entire_place |  199 |  43 | 2019-07-02 | 0.47 |  60 | 4.620238 |  51.6 | 0.8610863 | 2018-12-27 | 40.73652 | -73.95236 | Brooklyn  | Greenpoint                |\n|   253806 | Loft Suite @ The Box House Hotel                   |    417504 | The Box House Hotel | entire_place |  199 |  43 | 2019-07-02 | 0.47 |  60 | 4.620238 |  51.6 | 0.8610863 | 2018-12-27 | 40.73652 | -73.95236 | Brooklyn  | Greenpoint                |\n|  2044392 | The heart of Williamsburg 2 bedroom                |    620218 | Sarah               | entire_place |  250 |   0 | NA |   NA |   0 |       NA |    NA |        NA | 2018-05-24 | 40.71257 | -73.96149 | Brooklyn  | Williamsburg              |\n|  2044392 | The heart of Williamsburg 2 bedroom                |    620218 | Sarah               | entire_place |  245 |   0 | NA |   NA |   0 |       NA |    NA |        NA | 2018-08-09 | 40.71257 | -73.96149 | Brooklyn  | Williamsburg              |\n|  4244242 | Best Bedroom in Bedstuy/Bushwick. Ensuite bathroom |  22023014 | BrooklynSleeps      | private_room |   70 | 110 | 2019-06-23 | 1.96 | 323 | 4.962314 | 132.0 | 0.8098820 | 2018-12-18 | 40.69496 | -73.93949 | Brooklyn  | Bedford-Stuyvesant        |\n|  4244242 | Best Bedroom in Bedstuy/Bushwick. Ensuite bathroom |  22023014 | BrooklynSleeps      | private_room |   73 | 110 | 2019-06-23 | 1.96 | 323 | 4.962314 | 132.0 | 0.8098820 | 2018-12-18 | 40.69496 | -73.93949 | Brooklyn  | Bedford-Stuyvesant        |\n|  7319856 | 450ft Square Studio in Gramercy NY                 |  11773680 | Adam                | entire_place |  289 |   4 | 2016-05-22 | 0.09 | 225 | 3.903764 |   4.8 | 0.7563810 | 2015-11-17 | 40.73813 | -73.98098 | Manhattan | Kips Bay                  |\n|  7319856 | 450ft Square Studio in Gramercy NY                 |  11773680 | Adam                | entire_place |  280 |   4 | 2016-05-22 | 0.09 | 225 | 3.903764 |   4.8 | 0.7563810 | 2015-11-17 | 40.73813 | -73.98098 | Manhattan | Kips Bay                  |\n|  9078222 | Prospect Park 3 bdrm, Sleeps 8 (#2)                |  47219962 | Babajide            | entire_place |  154 | 123 | 2019-07-01 | 2.74 | 263 | 3.466881 | 147.6 | 0.7381911 | 2018-12-26 | 40.66086 | -73.96159 | Brooklyn  | Prospect-Lefferts Gardens |\n|  9078222 | Prospect Park 3 bdrm, Sleeps 8 (#2)                |  47219962 | Babajide            | entire_place |  150 | 123 | 2019-07-01 | 2.74 | 263 | 3.466881 | 147.6 | 0.7381911 | 2018-12-26 | 40.66086 | -73.96159 | Brooklyn  | Prospect-Lefferts Gardens |\n| 15027024 | Newly renovated 1bd on lively &amp; historic St Marks  |   8344620 | Ethan               | entire_place |  180 |  10 | 2018-12-31 | 0.30 |   0 | 3.969729 |  12.0 | 0.7725126 | 2018-06-27 | 40.72693 | -73.98385 | Manhattan | East Village              |\n| 15027024 | Newly renovated 1bd on lively &amp; historic St Marks  |   8344620 | Ethan               | entire_place |  180 |  10 | 2018-12-31 | 0.30 |   0 | 3.869729 |  12.0 | 0.7725126 | 2018-06-27 | 40.72693 | -73.98385 | Manhattan | East Village              |\n| 16518377 | East Village 1BR Apt with all the amenities        |   3012457 | Cody                | entire_place |  200 |   3 | 2018-07-10 | 0.16 |   0 | 4.676670 |   3.6 | 0.6944427 | 2018-01-04 | 40.72350 | -73.97963 | Manhattan | East Village              |\n| 16518377 | East Village 1BR Apt with all the amenities        |   3012457 | Cody                | entire_place |  200 |   3 | 2018-07-10 | 0.16 |   0 | 4.676670 |   3.6 | 0.6944427 | 2018-01-04 | 40.72350 | -73.97963 | Manhattan | East Village              |\n| 17861841 | THE CREATIVE COZY ROOM                             |  47591528 | Janessa             | private_room |   99 |  13 | 2019-05-23 | 0.52 |  82 | 4.806590 |  15.6 | 0.9374216 | 2018-11-17 | 40.59211 | -73.94127 | Brooklyn  | Sheepshead Bay            |\n| 17861841 | THE CREATIVE COZY ROOM                             |  47591528 | Janessa             | private_room |   99 |  13 | 2019-05-23 | 0.52 |  82 | 4.806590 |  15.6 | 0.9374216 | 2018-11-17 | 40.59211 | -73.94127 | Brooklyn  | Sheepshead Bay            |\n| 19477677 | Huge sunny room next to subway!                    |  25038748 | Justin              | private_room |   70 |  11 | 2019-05-11 | 0.45 |   0 | 3.074890 |  13.2 | 0.6316186 | 2018-11-05 | 40.82119 | -73.95583 | Manhattan | Harlem                    |\n| 19477677 | Huge sunny room next to subway!                    |  25038748 | Justin              | private_room |   70 |  11 | 2019-05-11 | 0.45 |   0 | 3.074890 |  13.2 | 0.6316186 | 2018-11-05 | 40.82119 | -73.95583 | Manhattan | Harlem                    |\n| 21106251 | Private Bedroom in Great Brooklyn Apartment        |  25354313 | Tommy               | private_room |   45 |   9 | 2019-06-22 | 0.43 |   0 | 3.779114 |  10.8 | 0.7381907 | 2018-12-17 | 40.67359 | -73.95812 | Brooklyn  | Crown Heights             |\n| 21106251 | Private Bedroom in Great Brooklyn Apartment        |  25354313 | Tommy               | private_room |   45 |   9 | 2019-06-22 | 0.43 |   0 | 3.779114 |  10.8 | 0.7381907 | 2018-12-17 | 40.67359 | -73.95812 | Brooklyn  | Crown Heights             |\n| 22014840 | Sunny Bedroom Only 1 Metro Stop to Manhattan       |  32093643 | Scarlett            | private_room |   70 |   2 | 2018-01-07 | 0.11 |   0 | 4.024336 |   2.4 | 0.7194262 | 2017-07-04 | 40.76211 | -73.94887 | Manhattan | Roosevelt Island          |\n| 22014840 | Sunny Bedroom Only 1 Metro Stop to Manhattan       |  32093643 | Scarlett            | private_room |   70 |   2 | 2018-01-07 | 0.11 |   0 | 4.024336 |   2.4 | 0.7194262 | 2017-07-04 | 40.76211 | -73.94887 | Manhattan | Roosevelt Island          |\n| 23990868 | 1 Bedroom in Luxury Building                       |   4447548 | Grace               | entire_place |   88 |   8 | 2019-06-16 | 0.56 |  18 | 4.164548 |   9.6 | 0.6401060 | 2018-12-11 | 40.69336 | -73.94453 | Brooklyn  | Bedford-Stuyvesant        |\n| 23990868 | 1 Bedroom in Luxury Building                       |   4447548 | Grace               | entire_place |   88 |   8 | 2019-06-16 | 0.56 |  18 | 4.164548 |   9.6 | 0.6401060 | 2018-12-11 | 40.69336 | -73.94453 | Brooklyn  | Bedford-Stuyvesant        |\n| 26554879 | East Village/Union Square Flat                     |  17400431 | Bob                 | entire_place |  179 |  32 | 2019-06-26 | 2.92 |  12 | 3.125513 |  38.4 | 0.6317645 | 2018-12-21 | 40.73177 | -73.98691 | Manhattan | East Village              |\n| 26554879 | East Village/Union Square Flat                     |  17400431 | Bob                 | entire_place |  179 |  32 | 2019-06-26 | 2.92 |  12 | 3.125513 |  38.4 | 0.6317645 | 2018-12-21 | 40.73177 | -73.98691 | Manhattan | East Village              |\n| 29844951 | Cozy Home In Queens                                |  49946447 | Rah                 | private_room |   50 |   1 | 2019-03-19 | 0.27 | 311 | 4.792923 |   1.2 | 0.7012322 | 2018-09-13 | 40.68842 | -73.77677 | Queens    | Jamaica                   |\n| 29844951 | Cozy Home In Queens                                |  49946447 | Rah                 | private_room |   50 |   1 | 2019-03-19 | 0.27 | 311 | 4.792923 |   1.2 | 0.7012322 | 2018-09-13 | 40.68842 | -73.77677 | Queens    | Jamaica                   |\n| 31470004 | Private bedroom/Bathroom in a 2 bedroom apartment  |  71241932 | Max                 | private_room | 2500 |   0 | NA |   NA |  90 |       NA |    NA |        NA | 2018-04-09 | 40.72544 | -73.97818 | Manhattan | East Village              |\n| 31470004 | Private bedroom/Bathroom in a 2 bedroom apartment  |  71241932 | Max                 | private_room | 2500 |   0 | NA |   NA |  90 |       NA |    NA |        NA | 2018-03-12 | 40.72544 | -73.97818 | Manhattan | East Village              |\n| 32610834 | Manhattan by the water!                            |  12132369 | Omar                | entire_place |  150 |   0 | NA |   NA |   9 |       NA |    NA |        NA | 2018-06-28 | 40.73767 | -73.97384 | Manhattan | Kips Bay                  |\n| 32610834 | Manhattan by the water!                            |  12132369 | Omar                | entire_place |  150 |   0 | NA |   NA |   9 |       NA |    NA |        NA | 2018-06-28 | 40.73767 | -73.97384 | Manhattan | Kips Bay                  |\n| 33346762 | 2BR Apartment in Brownstone Brooklyn!              |  50321289 | Avery               | entire_place |  140 |   4 | 2019-06-14 | 1.58 |   4 | 4.013393 |   4.8 | 0.7195908 | 2018-12-09 | 40.68200 | -73.95681 | Brooklyn  | Bedford-Stuyvesant        |\n| 33346762 | 2BR Apartment in Brownstone Brooklyn!              |  50321289 | Avery               | entire_place |  140 |   4 | 2019-06-14 | 1.58 |   4 | 4.013393 |   4.8 | 0.7195908 | 2018-12-09 | 40.68200 | -73.95681 | Brooklyn  | Bedford-Stuyvesant        |\n| 33831116 | Sonder | Stock Exchange | Collected 1BR + Laundry  | 219517861 | Sonder (NYC)        | entire_place |  229 |   5 | 2019-06-15 | 1.92 | 350 | 4.026379 |   6.0 | 0.6017374 | 2018-12-10 | 40.70621 | -74.01199 | Manhattan | Financial District        |\n| 33831116 | Sonder | Stock Exchange | Collected 1BR + Laundry  | 219517861 | Sonder (NYC)        | entire_place |  229 |   5 | 2019-06-15 | 1.92 | 350 | 4.026379 |   6.0 | 0.6017374 | 2018-12-10 | 40.70621 | -74.01199 | Manhattan | Financial District        |\n| 35646737 | Private Cabins @ Chelsea, Manhattan                | 117365574 | Maria               | private_room |   85 |   1 | 2019-06-22 | 1.00 | 261 | 4.951714 |   1.2 | 0.6713879 | 2018-12-17 | 40.74946 | -73.99627 | Manhattan | Chelsea                   |\n| 35646737 | Private Cabins @ Chelsea, Manhattan                | 117365574 | Maria               | private_room |   85 |   1 | 2019-06-22 | 1.00 | 261 | 4.951714 |   1.2 | 0.6713879 | 2018-12-17 | 40.74946 | -73.99627 | Manhattan | Chelsea                   |\n| 35801208 | Comfy 2 bedroom Close To Manhattan                 | 256911412 | Taylor              | entire_place |  101 |   0 | NA |   NA |  27 |       NA |    NA |        NA | 2018-10-17 | 40.70469 | -73.93690 | Brooklyn  | Williamsburg              |\n| 35801208 | Comfy 2 bedroom Close To Manhattan                 | 256911412 | Taylor              | entire_place |  101 |   0 | NA |   NA |  27 |       NA |    NA |        NA | 2018-05-03 | 40.70469 | -73.93690 | Brooklyn  | Williamsburg              |\n\n",
            "text/html": [
              "<table>\n",
              "<caption>A tibble: 40 × 18</caption>\n",
              "<thead>\n",
              "\t<tr><th scope=col>listing_id</th><th scope=col>description</th><th scope=col>host_id</th><th scope=col>host_name</th><th scope=col>room_type</th><th scope=col>price</th><th scope=col>nb_reviews</th><th scope=col>last_review</th><th scope=col>reviews_per_month</th><th scope=col>availability_365</th><th scope=col>avg_rating</th><th scope=col>avg_stays_per_month</th><th scope=col>pct_5_stars</th><th scope=col>listing_added</th><th scope=col>latitude</th><th scope=col>longitude</th><th scope=col>borough</th><th scope=col>nbhood</th></tr>\n",
              "\t<tr><th scope=col>&lt;dbl&gt;</th><th scope=col>&lt;chr&gt;</th><th scope=col>&lt;dbl&gt;</th><th scope=col>&lt;chr&gt;</th><th scope=col>&lt;fct&gt;</th><th scope=col>&lt;dbl&gt;</th><th scope=col>&lt;dbl&gt;</th><th scope=col>&lt;date&gt;</th><th scope=col>&lt;dbl&gt;</th><th scope=col>&lt;dbl&gt;</th><th scope=col>&lt;dbl&gt;</th><th scope=col>&lt;dbl&gt;</th><th scope=col>&lt;dbl&gt;</th><th scope=col>&lt;date&gt;</th><th scope=col>&lt;dbl&gt;</th><th scope=col>&lt;dbl&gt;</th><th scope=col>&lt;fct&gt;</th><th scope=col>&lt;fct&gt;</th></tr>\n",
              "</thead>\n",
              "<tbody>\n",
              "\t<tr><td>  253806</td><td>Loft Suite @ The Box House Hotel                  </td><td>   417504</td><td>The Box House Hotel</td><td>entire_place</td><td> 199</td><td> 43</td><td>2019-07-02</td><td>0.47</td><td> 60</td><td>4.620238</td><td> 51.6</td><td>0.8610863</td><td>2018-12-27</td><td>40.73652</td><td>-73.95236</td><td>Brooklyn </td><td>Greenpoint               </td></tr>\n",
              "\t<tr><td>  253806</td><td>Loft Suite @ The Box House Hotel                  </td><td>   417504</td><td>The Box House Hotel</td><td>entire_place</td><td> 199</td><td> 43</td><td>2019-07-02</td><td>0.47</td><td> 60</td><td>4.620238</td><td> 51.6</td><td>0.8610863</td><td>2018-12-27</td><td>40.73652</td><td>-73.95236</td><td>Brooklyn </td><td>Greenpoint               </td></tr>\n",
              "\t<tr><td> 2044392</td><td>The heart of Williamsburg 2 bedroom               </td><td>   620218</td><td>Sarah              </td><td>entire_place</td><td> 250</td><td>  0</td><td>NA</td><td>  NA</td><td>  0</td><td>      NA</td><td>   NA</td><td>       NA</td><td>2018-05-24</td><td>40.71257</td><td>-73.96149</td><td>Brooklyn </td><td>Williamsburg             </td></tr>\n",
              "\t<tr><td> 2044392</td><td>The heart of Williamsburg 2 bedroom               </td><td>   620218</td><td>Sarah              </td><td>entire_place</td><td> 245</td><td>  0</td><td>NA</td><td>  NA</td><td>  0</td><td>      NA</td><td>   NA</td><td>       NA</td><td>2018-08-09</td><td>40.71257</td><td>-73.96149</td><td>Brooklyn </td><td>Williamsburg             </td></tr>\n",
              "\t<tr><td> 4244242</td><td>Best Bedroom in Bedstuy/Bushwick. Ensuite bathroom</td><td> 22023014</td><td>BrooklynSleeps     </td><td>private_room</td><td>  70</td><td>110</td><td>2019-06-23</td><td>1.96</td><td>323</td><td>4.962314</td><td>132.0</td><td>0.8098820</td><td>2018-12-18</td><td>40.69496</td><td>-73.93949</td><td>Brooklyn </td><td>Bedford-Stuyvesant       </td></tr>\n",
              "\t<tr><td> 4244242</td><td>Best Bedroom in Bedstuy/Bushwick. Ensuite bathroom</td><td> 22023014</td><td>BrooklynSleeps     </td><td>private_room</td><td>  73</td><td>110</td><td>2019-06-23</td><td>1.96</td><td>323</td><td>4.962314</td><td>132.0</td><td>0.8098820</td><td>2018-12-18</td><td>40.69496</td><td>-73.93949</td><td>Brooklyn </td><td>Bedford-Stuyvesant       </td></tr>\n",
              "\t<tr><td> 7319856</td><td>450ft Square Studio in Gramercy NY                </td><td> 11773680</td><td>Adam               </td><td>entire_place</td><td> 289</td><td>  4</td><td>2016-05-22</td><td>0.09</td><td>225</td><td>3.903764</td><td>  4.8</td><td>0.7563810</td><td>2015-11-17</td><td>40.73813</td><td>-73.98098</td><td>Manhattan</td><td>Kips Bay                 </td></tr>\n",
              "\t<tr><td> 7319856</td><td>450ft Square Studio in Gramercy NY                </td><td> 11773680</td><td>Adam               </td><td>entire_place</td><td> 280</td><td>  4</td><td>2016-05-22</td><td>0.09</td><td>225</td><td>3.903764</td><td>  4.8</td><td>0.7563810</td><td>2015-11-17</td><td>40.73813</td><td>-73.98098</td><td>Manhattan</td><td>Kips Bay                 </td></tr>\n",
              "\t<tr><td> 9078222</td><td>Prospect Park 3 bdrm, Sleeps 8 (#2)               </td><td> 47219962</td><td>Babajide           </td><td>entire_place</td><td> 154</td><td>123</td><td>2019-07-01</td><td>2.74</td><td>263</td><td>3.466881</td><td>147.6</td><td>0.7381911</td><td>2018-12-26</td><td>40.66086</td><td>-73.96159</td><td>Brooklyn </td><td>Prospect-Lefferts Gardens</td></tr>\n",
              "\t<tr><td> 9078222</td><td>Prospect Park 3 bdrm, Sleeps 8 (#2)               </td><td> 47219962</td><td>Babajide           </td><td>entire_place</td><td> 150</td><td>123</td><td>2019-07-01</td><td>2.74</td><td>263</td><td>3.466881</td><td>147.6</td><td>0.7381911</td><td>2018-12-26</td><td>40.66086</td><td>-73.96159</td><td>Brooklyn </td><td>Prospect-Lefferts Gardens</td></tr>\n",
              "\t<tr><td>15027024</td><td>Newly renovated 1bd on lively &amp; historic St Marks </td><td><span style=white-space:pre-wrap>  8344620</span></td><td><span style=white-space:pre-wrap>Ethan              </span></td><td>entire_place</td><td> 180</td><td> 10</td><td>2018-12-31</td><td>0.30</td><td><span style=white-space:pre-wrap>  0</span></td><td>3.969729</td><td> 12.0</td><td>0.7725126</td><td>2018-06-27</td><td>40.72693</td><td>-73.98385</td><td>Manhattan</td><td><span style=white-space:pre-wrap>East Village             </span></td></tr>\n",
              "\t<tr><td>15027024</td><td>Newly renovated 1bd on lively &amp; historic St Marks </td><td><span style=white-space:pre-wrap>  8344620</span></td><td><span style=white-space:pre-wrap>Ethan              </span></td><td>entire_place</td><td> 180</td><td> 10</td><td>2018-12-31</td><td>0.30</td><td><span style=white-space:pre-wrap>  0</span></td><td>3.869729</td><td> 12.0</td><td>0.7725126</td><td>2018-06-27</td><td>40.72693</td><td>-73.98385</td><td>Manhattan</td><td><span style=white-space:pre-wrap>East Village             </span></td></tr>\n",
              "\t<tr><td>16518377</td><td>East Village 1BR Apt with all the amenities       </td><td>  3012457</td><td>Cody               </td><td>entire_place</td><td> 200</td><td>  3</td><td>2018-07-10</td><td>0.16</td><td>  0</td><td>4.676670</td><td>  3.6</td><td>0.6944427</td><td>2018-01-04</td><td>40.72350</td><td>-73.97963</td><td>Manhattan</td><td>East Village             </td></tr>\n",
              "\t<tr><td>16518377</td><td>East Village 1BR Apt with all the amenities       </td><td>  3012457</td><td>Cody               </td><td>entire_place</td><td> 200</td><td>  3</td><td>2018-07-10</td><td>0.16</td><td>  0</td><td>4.676670</td><td>  3.6</td><td>0.6944427</td><td>2018-01-04</td><td>40.72350</td><td>-73.97963</td><td>Manhattan</td><td>East Village             </td></tr>\n",
              "\t<tr><td>17861841</td><td>THE CREATIVE COZY ROOM                            </td><td> 47591528</td><td>Janessa            </td><td>private_room</td><td>  99</td><td> 13</td><td>2019-05-23</td><td>0.52</td><td> 82</td><td>4.806590</td><td> 15.6</td><td>0.9374216</td><td>2018-11-17</td><td>40.59211</td><td>-73.94127</td><td>Brooklyn </td><td>Sheepshead Bay           </td></tr>\n",
              "\t<tr><td>17861841</td><td>THE CREATIVE COZY ROOM                            </td><td> 47591528</td><td>Janessa            </td><td>private_room</td><td>  99</td><td> 13</td><td>2019-05-23</td><td>0.52</td><td> 82</td><td>4.806590</td><td> 15.6</td><td>0.9374216</td><td>2018-11-17</td><td>40.59211</td><td>-73.94127</td><td>Brooklyn </td><td>Sheepshead Bay           </td></tr>\n",
              "\t<tr><td>19477677</td><td>Huge sunny room next to subway!                   </td><td> 25038748</td><td>Justin             </td><td>private_room</td><td>  70</td><td> 11</td><td>2019-05-11</td><td>0.45</td><td>  0</td><td>3.074890</td><td> 13.2</td><td>0.6316186</td><td>2018-11-05</td><td>40.82119</td><td>-73.95583</td><td>Manhattan</td><td>Harlem                   </td></tr>\n",
              "\t<tr><td>19477677</td><td>Huge sunny room next to subway!                   </td><td> 25038748</td><td>Justin             </td><td>private_room</td><td>  70</td><td> 11</td><td>2019-05-11</td><td>0.45</td><td>  0</td><td>3.074890</td><td> 13.2</td><td>0.6316186</td><td>2018-11-05</td><td>40.82119</td><td>-73.95583</td><td>Manhattan</td><td>Harlem                   </td></tr>\n",
              "\t<tr><td>21106251</td><td>Private Bedroom in Great Brooklyn Apartment       </td><td> 25354313</td><td>Tommy              </td><td>private_room</td><td>  45</td><td>  9</td><td>2019-06-22</td><td>0.43</td><td>  0</td><td>3.779114</td><td> 10.8</td><td>0.7381907</td><td>2018-12-17</td><td>40.67359</td><td>-73.95812</td><td>Brooklyn </td><td>Crown Heights            </td></tr>\n",
              "\t<tr><td>21106251</td><td>Private Bedroom in Great Brooklyn Apartment       </td><td> 25354313</td><td>Tommy              </td><td>private_room</td><td>  45</td><td>  9</td><td>2019-06-22</td><td>0.43</td><td>  0</td><td>3.779114</td><td> 10.8</td><td>0.7381907</td><td>2018-12-17</td><td>40.67359</td><td>-73.95812</td><td>Brooklyn </td><td>Crown Heights            </td></tr>\n",
              "\t<tr><td>22014840</td><td>Sunny Bedroom Only 1 Metro Stop to Manhattan      </td><td> 32093643</td><td>Scarlett           </td><td>private_room</td><td>  70</td><td>  2</td><td>2018-01-07</td><td>0.11</td><td>  0</td><td>4.024336</td><td>  2.4</td><td>0.7194262</td><td>2017-07-04</td><td>40.76211</td><td>-73.94887</td><td>Manhattan</td><td>Roosevelt Island         </td></tr>\n",
              "\t<tr><td>22014840</td><td>Sunny Bedroom Only 1 Metro Stop to Manhattan      </td><td> 32093643</td><td>Scarlett           </td><td>private_room</td><td>  70</td><td>  2</td><td>2018-01-07</td><td>0.11</td><td>  0</td><td>4.024336</td><td>  2.4</td><td>0.7194262</td><td>2017-07-04</td><td>40.76211</td><td>-73.94887</td><td>Manhattan</td><td>Roosevelt Island         </td></tr>\n",
              "\t<tr><td>23990868</td><td>1 Bedroom in Luxury Building                      </td><td>  4447548</td><td>Grace              </td><td>entire_place</td><td>  88</td><td>  8</td><td>2019-06-16</td><td>0.56</td><td> 18</td><td>4.164548</td><td>  9.6</td><td>0.6401060</td><td>2018-12-11</td><td>40.69336</td><td>-73.94453</td><td>Brooklyn </td><td>Bedford-Stuyvesant       </td></tr>\n",
              "\t<tr><td>23990868</td><td>1 Bedroom in Luxury Building                      </td><td>  4447548</td><td>Grace              </td><td>entire_place</td><td>  88</td><td>  8</td><td>2019-06-16</td><td>0.56</td><td> 18</td><td>4.164548</td><td>  9.6</td><td>0.6401060</td><td>2018-12-11</td><td>40.69336</td><td>-73.94453</td><td>Brooklyn </td><td>Bedford-Stuyvesant       </td></tr>\n",
              "\t<tr><td>26554879</td><td>East Village/Union Square Flat                    </td><td> 17400431</td><td>Bob                </td><td>entire_place</td><td> 179</td><td> 32</td><td>2019-06-26</td><td>2.92</td><td> 12</td><td>3.125513</td><td> 38.4</td><td>0.6317645</td><td>2018-12-21</td><td>40.73177</td><td>-73.98691</td><td>Manhattan</td><td>East Village             </td></tr>\n",
              "\t<tr><td>26554879</td><td>East Village/Union Square Flat                    </td><td> 17400431</td><td>Bob                </td><td>entire_place</td><td> 179</td><td> 32</td><td>2019-06-26</td><td>2.92</td><td> 12</td><td>3.125513</td><td> 38.4</td><td>0.6317645</td><td>2018-12-21</td><td>40.73177</td><td>-73.98691</td><td>Manhattan</td><td>East Village             </td></tr>\n",
              "\t<tr><td>29844951</td><td>Cozy Home In Queens                               </td><td> 49946447</td><td>Rah                </td><td>private_room</td><td>  50</td><td>  1</td><td>2019-03-19</td><td>0.27</td><td>311</td><td>4.792923</td><td>  1.2</td><td>0.7012322</td><td>2018-09-13</td><td>40.68842</td><td>-73.77677</td><td>Queens   </td><td>Jamaica                  </td></tr>\n",
              "\t<tr><td>29844951</td><td>Cozy Home In Queens                               </td><td> 49946447</td><td>Rah                </td><td>private_room</td><td>  50</td><td>  1</td><td>2019-03-19</td><td>0.27</td><td>311</td><td>4.792923</td><td>  1.2</td><td>0.7012322</td><td>2018-09-13</td><td>40.68842</td><td>-73.77677</td><td>Queens   </td><td>Jamaica                  </td></tr>\n",
              "\t<tr><td>31470004</td><td>Private bedroom/Bathroom in a 2 bedroom apartment </td><td> 71241932</td><td>Max                </td><td>private_room</td><td>2500</td><td>  0</td><td>NA</td><td>  NA</td><td> 90</td><td>      NA</td><td>   NA</td><td>       NA</td><td>2018-04-09</td><td>40.72544</td><td>-73.97818</td><td>Manhattan</td><td>East Village             </td></tr>\n",
              "\t<tr><td>31470004</td><td>Private bedroom/Bathroom in a 2 bedroom apartment </td><td> 71241932</td><td>Max                </td><td>private_room</td><td>2500</td><td>  0</td><td>NA</td><td>  NA</td><td> 90</td><td>      NA</td><td>   NA</td><td>       NA</td><td>2018-03-12</td><td>40.72544</td><td>-73.97818</td><td>Manhattan</td><td>East Village             </td></tr>\n",
              "\t<tr><td>32610834</td><td>Manhattan by the water!                           </td><td> 12132369</td><td>Omar               </td><td>entire_place</td><td> 150</td><td>  0</td><td>NA</td><td>  NA</td><td>  9</td><td>      NA</td><td>   NA</td><td>       NA</td><td>2018-06-28</td><td>40.73767</td><td>-73.97384</td><td>Manhattan</td><td>Kips Bay                 </td></tr>\n",
              "\t<tr><td>32610834</td><td>Manhattan by the water!                           </td><td> 12132369</td><td>Omar               </td><td>entire_place</td><td> 150</td><td>  0</td><td>NA</td><td>  NA</td><td>  9</td><td>      NA</td><td>   NA</td><td>       NA</td><td>2018-06-28</td><td>40.73767</td><td>-73.97384</td><td>Manhattan</td><td>Kips Bay                 </td></tr>\n",
              "\t<tr><td>33346762</td><td>2BR Apartment in Brownstone Brooklyn!             </td><td> 50321289</td><td>Avery              </td><td>entire_place</td><td> 140</td><td>  4</td><td>2019-06-14</td><td>1.58</td><td>  4</td><td>4.013393</td><td>  4.8</td><td>0.7195908</td><td>2018-12-09</td><td>40.68200</td><td>-73.95681</td><td>Brooklyn </td><td>Bedford-Stuyvesant       </td></tr>\n",
              "\t<tr><td>33346762</td><td>2BR Apartment in Brownstone Brooklyn!             </td><td> 50321289</td><td>Avery              </td><td>entire_place</td><td> 140</td><td>  4</td><td>2019-06-14</td><td>1.58</td><td>  4</td><td>4.013393</td><td>  4.8</td><td>0.7195908</td><td>2018-12-09</td><td>40.68200</td><td>-73.95681</td><td>Brooklyn </td><td>Bedford-Stuyvesant       </td></tr>\n",
              "\t<tr><td>33831116</td><td>Sonder | Stock Exchange | Collected 1BR + Laundry </td><td>219517861</td><td>Sonder (NYC)       </td><td>entire_place</td><td> 229</td><td>  5</td><td>2019-06-15</td><td>1.92</td><td>350</td><td>4.026379</td><td>  6.0</td><td>0.6017374</td><td>2018-12-10</td><td>40.70621</td><td>-74.01199</td><td>Manhattan</td><td>Financial District       </td></tr>\n",
              "\t<tr><td>33831116</td><td>Sonder | Stock Exchange | Collected 1BR + Laundry </td><td>219517861</td><td>Sonder (NYC)       </td><td>entire_place</td><td> 229</td><td>  5</td><td>2019-06-15</td><td>1.92</td><td>350</td><td>4.026379</td><td>  6.0</td><td>0.6017374</td><td>2018-12-10</td><td>40.70621</td><td>-74.01199</td><td>Manhattan</td><td>Financial District       </td></tr>\n",
              "\t<tr><td>35646737</td><td>Private Cabins @ Chelsea, Manhattan               </td><td>117365574</td><td>Maria              </td><td>private_room</td><td>  85</td><td>  1</td><td>2019-06-22</td><td>1.00</td><td>261</td><td>4.951714</td><td>  1.2</td><td>0.6713879</td><td>2018-12-17</td><td>40.74946</td><td>-73.99627</td><td>Manhattan</td><td>Chelsea                  </td></tr>\n",
              "\t<tr><td>35646737</td><td>Private Cabins @ Chelsea, Manhattan               </td><td>117365574</td><td>Maria              </td><td>private_room</td><td>  85</td><td>  1</td><td>2019-06-22</td><td>1.00</td><td>261</td><td>4.951714</td><td>  1.2</td><td>0.6713879</td><td>2018-12-17</td><td>40.74946</td><td>-73.99627</td><td>Manhattan</td><td>Chelsea                  </td></tr>\n",
              "\t<tr><td>35801208</td><td>Comfy 2 bedroom Close To Manhattan                </td><td>256911412</td><td>Taylor             </td><td>entire_place</td><td> 101</td><td>  0</td><td>NA</td><td>  NA</td><td> 27</td><td>      NA</td><td>   NA</td><td>       NA</td><td>2018-10-17</td><td>40.70469</td><td>-73.93690</td><td>Brooklyn </td><td>Williamsburg             </td></tr>\n",
              "\t<tr><td>35801208</td><td>Comfy 2 bedroom Close To Manhattan                </td><td>256911412</td><td>Taylor             </td><td>entire_place</td><td> 101</td><td>  0</td><td>NA</td><td>  NA</td><td> 27</td><td>      NA</td><td>   NA</td><td>       NA</td><td>2018-05-03</td><td>40.70469</td><td>-73.93690</td><td>Brooklyn </td><td>Williamsburg             </td></tr>\n",
              "</tbody>\n",
              "</table>\n"
            ]
          },
          "metadata": {
            "tags": []
          }
        }
      ]
    },
    {
      "cell_type": "markdown",
      "metadata": {
        "id": "NzS7pD1oH8xt",
        "colab_type": "text"
      },
      "source": [
        "***Full duplicates***: All values match.\n",
        "- To handle these, we can just remove all copies but one\n",
        "\n",
        "***Partial duplicates***: Identifying values (like `listing_id`) match, but one or more of the others don't. Here, we have inconsistent values in `price`, `avg_rating`, and `listing_added`.\n",
        "- We can remove them, pick a random copy to keep, or aggregate any inconsistent values. We'll aggregate using `mean()` for `price` and `avg_rating`, and `max()` for `listing_added`."
      ]
    },
    {
      "cell_type": "code",
      "metadata": {
        "id": "dm1orY71FasD",
        "colab_type": "code",
        "colab": {}
      },
      "source": [
        "# Remove full duplicates\n",
        "airbnb <- airbnb %>%\n",
        "    distinct()"
      ],
      "execution_count": 0,
      "outputs": []
    },
    {
      "cell_type": "code",
      "metadata": {
        "id": "5cL8XRLTJLlp",
        "colab_type": "code",
        "colab": {}
      },
      "source": [
        "# Aggregate partial duplicates using grouped mutate\n",
        "airbnb <- airbnb %>%\n",
        "    group_by(listing_id) %>%\n",
        "    # Overwrite columns with aggregations\n",
        "    mutate(price = mean(price),\n",
        "          avg_rating = mean(avg_rating),\n",
        "          listing_added = max(listing_added)) %>%\n",
        "    # Remove duplicates based only on listing_id\n",
        "    distinct(listing_id, .keep_all = TRUE)"
      ],
      "execution_count": 0,
      "outputs": []
    },
    {
      "cell_type": "code",
      "metadata": {
        "id": "97ZBCGtRKln5",
        "colab_type": "code",
        "colab": {
          "base_uri": "https://localhost:8080/",
          "height": 95
        },
        "outputId": "c9fc8417-4b95-4e88-dba6-8fa551e8de5a"
      },
      "source": [
        "# Check that no duplicates remain\n",
        "airbnb %>% \n",
        "    count(listing_id) %>% \n",
        "     filter(n > 1)"
      ],
      "execution_count": 38,
      "outputs": [
        {
          "output_type": "display_data",
          "data": {
            "text/plain": [
              "     listing_id n"
            ],
            "text/latex": "A grouped\\_df: 0 × 2\n\\begin{tabular}{ll}\n listing\\_id & n\\\\\n <dbl> & <int>\\\\\n\\hline\n\\end{tabular}\n",
            "text/markdown": "\nA grouped_df: 0 × 2\n\n| listing_id &lt;dbl&gt; | n &lt;int&gt; |\n|---|---|\n\n",
            "text/html": [
              "<table>\n",
              "<caption>A grouped_df: 0 × 2</caption>\n",
              "<thead>\n",
              "\t<tr><th scope=col>listing_id</th><th scope=col>n</th></tr>\n",
              "\t<tr><th scope=col>&lt;dbl&gt;</th><th scope=col>&lt;int&gt;</th></tr>\n",
              "</thead>\n",
              "<tbody>\n",
              "</tbody>\n",
              "</table>\n"
            ]
          },
          "metadata": {
            "tags": []
          }
        }
      ]
    },
    {
      "cell_type": "markdown",
      "metadata": {
        "id": "-68kSoZ-K97W",
        "colab_type": "text"
      },
      "source": [
        "### Take-home practice: **Sanity Checks**\n",
        "*The data should be consistent both with itself, as well as with what we know about the world.*\n",
        "\n",
        "- **Is the data consistent with itself?**\n",
        "    - Are there any `last_review` dates before `listing_added` dates?\n",
        "- **Is the data consistent with what we know about the world?**\n",
        "    - Are there any `last_review` dates in the future?\n",
        "    - Are there any `listing_added` dates in the future?\n",
        "\n"
      ]
    },
    {
      "cell_type": "markdown",
      "metadata": {
        "id": "n8_8P2fXNbxZ",
        "colab_type": "text"
      },
      "source": [
        "---\n",
        "<center><h1><b>Q&A</b></h1></center>\n",
        "\n",
        "---"
      ]
    }
  ]
}