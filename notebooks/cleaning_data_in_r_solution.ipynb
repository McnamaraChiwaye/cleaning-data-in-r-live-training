{
  "nbformat": 4,
  "nbformat_minor": 0,
  "metadata": {
    "colab": {
      "name": "student_notebook.ipynb",
      "provenance": []
    },
    "kernelspec": {
      "name": "ir",
      "display_name": "R"
    }
  },
  "cells": [
    {
      "cell_type": "markdown",
      "metadata": {
        "id": "OJYbvo8eV-Rd",
        "colab_type": "text"
      },
      "source": [
        "<p align=\"center\">\n",
        "<img src=\"https://github.com/datacamp/r-live-training-template/blob/master/assets/datacamp.svg?raw=True\" alt = \"DataCamp icon\" width=\"50%\">\n",
        "<br>\n",
        "<h1 align=\"center\">Cleaning Data in R Live Training</h1>\n",
        "</p>\n",
        "<br>\n",
        "\n",
        "\n",
        "Welcome to this hands-on training where you'll identify issues in a dataset and clean it from start to finish using R. It's often said that data scientists spend 80% of their time cleaning and manipulating data and only about 20% of their time analyzing it, so cleaning data is an important skill to master!\n",
        "\n",
        "In this session, you will:\n",
        "\n",
        "- Examine a dataset and identify its problem areas, and what needs to be done to fix them.\n",
        "-Convert between data types to make analysis easier.\n",
        "- Correct inconsistencies in categorical data.\n",
        "- Deal with missing data.\n",
        "- Perform data validation to ensure every value makes sense.\n",
        "\n",
        "## **The Dataset**\n",
        "\n",
        "The dataset we'll use is a CSV file named `nyc_airbnb.csv`, which contains data on [*Airbnb*](https://www.airbnb.com/) listings in New York City. It contains the following columns:\n",
        "\n",
        "- `listing_id`: The unique identifier for a listing\n",
        "- `name`: The description used on the listing\n",
        "- `host_id`: Unique identifier for a host\n",
        "- `host_name`: Name of host\n",
        "- `nbhood_full`: Name of borough and neighborhood\n",
        "- `coordinates`: Coordinates of listing _(latitude, longitude)_\n",
        "- `room_type`: Type of room \n",
        "- `price`: Price per night for listing\n",
        "- `nb_reviews`: Number of reviews received \n",
        "- `last_review`: Date of last review\n",
        "- `reviews_per_month`: Average number of reviews per month\n",
        "- `availability_365`: Number of days available per year\n",
        "- `avg_rating`: Average rating (from 0 to 5)\n",
        "- `avg_stays_per_month`: Average number of stays per month\n",
        "- `pct_5_stars`: Percent of reviews that were 5-stars\n",
        "- `listing_added`: Date when listing was added\n"
      ]
    },
    {
      "cell_type": "code",
      "metadata": {
        "id": "KUKG6fNMV_zf",
        "colab_type": "code",
        "cellView": "both",
        "colab": {
          "base_uri": "https://localhost:8080/",
          "height": 221
        },
        "outputId": "b1060a9c-ffd9-4b39-8a72-b0e2755e41de"
      },
      "source": [
        "# Install packages\n",
        "install.packages(\"readr\")\n",
        "install.packages(\"dplyr\")\n",
        "install.packages(\"stringr\")\n",
        "install.packages(\"ggplot2\")"
      ],
      "execution_count": 61,
      "outputs": [
        {
          "output_type": "stream",
          "text": [
            "Installing package into ‘/usr/local/lib/R/site-library’\n",
            "(as ‘lib’ is unspecified)\n",
            "\n",
            "Installing package into ‘/usr/local/lib/R/site-library’\n",
            "(as ‘lib’ is unspecified)\n",
            "\n",
            "Installing package into ‘/usr/local/lib/R/site-library’\n",
            "(as ‘lib’ is unspecified)\n",
            "\n",
            "Installing package into ‘/usr/local/lib/R/site-library’\n",
            "(as ‘lib’ is unspecified)\n",
            "\n"
          ],
          "name": "stderr"
        }
      ]
    },
    {
      "cell_type": "code",
      "metadata": {
        "id": "brr08aZX9Wss",
        "colab_type": "code",
        "colab": {}
      },
      "source": [
        "# Load packages\n",
        "library(readr)\n",
        "library(dplyr)\n",
        "library(stringr)\n",
        "library(ggplot2)"
      ],
      "execution_count": 0,
      "outputs": []
    },
    {
      "cell_type": "code",
      "metadata": {
        "id": "9VJyZeEo9M4O",
        "colab_type": "code",
        "outputId": "69c6c7f0-537e-43ce-f6b3-1b090037d1a9",
        "colab": {
          "base_uri": "https://localhost:8080/",
          "height": 357
        }
      },
      "source": [
        "# Load dataset\n",
        "airbnb <- read_csv(\"https://raw.githubusercontent.com/datacamp/cleaning-data-in-r-live-training/master/assets/nyc_airbnb.csv\")"
      ],
      "execution_count": 63,
      "outputs": [
        {
          "output_type": "stream",
          "text": [
            "Parsed with column specification:\n",
            "cols(\n",
            "  listing_id = \u001b[32mcol_double()\u001b[39m,\n",
            "  description = \u001b[31mcol_character()\u001b[39m,\n",
            "  host_id = \u001b[32mcol_double()\u001b[39m,\n",
            "  host_name = \u001b[31mcol_character()\u001b[39m,\n",
            "  nbhood_full = \u001b[31mcol_character()\u001b[39m,\n",
            "  coordinates = \u001b[31mcol_character()\u001b[39m,\n",
            "  room_type = \u001b[31mcol_character()\u001b[39m,\n",
            "  price = \u001b[31mcol_character()\u001b[39m,\n",
            "  nb_reviews = \u001b[32mcol_double()\u001b[39m,\n",
            "  last_review = \u001b[31mcol_character()\u001b[39m,\n",
            "  reviews_per_month = \u001b[32mcol_double()\u001b[39m,\n",
            "  availability_365 = \u001b[32mcol_double()\u001b[39m,\n",
            "  avg_rating = \u001b[32mcol_double()\u001b[39m,\n",
            "  avg_stays_per_month = \u001b[32mcol_double()\u001b[39m,\n",
            "  pct_5_stars = \u001b[32mcol_double()\u001b[39m,\n",
            "  listing_added = \u001b[31mcol_character()\u001b[39m\n",
            ")\n",
            "\n"
          ],
          "name": "stderr"
        }
      ]
    },
    {
      "cell_type": "code",
      "metadata": {
        "id": "1xTZWvUgBvKl",
        "colab_type": "code",
        "outputId": "af566b72-47c6-4f7d-d66a-cc9b9f8f83c7",
        "colab": {
          "base_uri": "https://localhost:8080/",
          "height": 513
        }
      },
      "source": [
        "head(airbnb)"
      ],
      "execution_count": 64,
      "outputs": [
        {
          "output_type": "display_data",
          "data": {
            "text/plain": [
              "  listing_id description                                        host_id  \n",
              "1 13740704   Cozy,budget friendly, cable inc, private entrance!  20583125\n",
              "2 22005115   Two floor apartment near Central Park               82746113\n",
              "3 21667615   Beautiful 1BR in Brooklyn Heights                      78251\n",
              "4  6425850   Spacious, charming studio                           32715865\n",
              "5 22986519   Bedroom on the lively Lower East Side              154262349\n",
              "6   271954   Beautiful brownstone apartment                       1423798\n",
              "  host_name nbhood_full                  coordinates           room_type      \n",
              "1 Michel    Brooklyn, Flatlands          (40.63222, -73.93398) Private room   \n",
              "2 Cecilia   Manhattan, Upper West Side   (40.78761, -73.96862) Entire home/apt\n",
              "3 Leslie    Brooklyn, Brooklyn Heights   (40.7007, -73.99517)  Entire home/apt\n",
              "4 Yelena    Manhattan, Upper West Side   (40.79169, -73.97498) Entire home/apt\n",
              "5 Brooke    Manhattan, Lower East Side   (40.71884, -73.98354) Private room   \n",
              "6 Aj        Manhattan, Greenwich Village (40.73388, -73.99452) Entire home/apt\n",
              "  price nb_reviews last_review reviews_per_month availability_365 avg_rating\n",
              "1 $45    10        12/12/2018  0.70               85              4.100954  \n",
              "2 $135    1        06/30/2019  1.00              145              3.367600  \n",
              "3 $150    0        NA            NA               65                    NA  \n",
              "4 $86     5        09/23/2017  0.13                0              4.763203  \n",
              "5 $160   23        06/12/2019  2.29              102              3.822591  \n",
              "6 $150  203        06/20/2019  2.22              300              4.478396  \n",
              "  avg_stays_per_month pct_5_stars listing_added\n",
              "1  12.0               0.6094315   06/08/2018   \n",
              "2   1.2               0.7461346   12/25/2018   \n",
              "3    NA                      NA   08/15/2018   \n",
              "4   6.0               0.7699471   03/20/2017   \n",
              "5  27.6               0.6493831   10/23/2020   \n",
              "6 243.6               0.7434997   12/15/2018   "
            ],
            "text/latex": "A tibble: 6 × 16\n\\begin{tabular}{llllllllllllllll}\n listing\\_id & description & host\\_id & host\\_name & nbhood\\_full & coordinates & room\\_type & price & nb\\_reviews & last\\_review & reviews\\_per\\_month & availability\\_365 & avg\\_rating & avg\\_stays\\_per\\_month & pct\\_5\\_stars & listing\\_added\\\\\n <dbl> & <chr> & <dbl> & <chr> & <chr> & <chr> & <chr> & <chr> & <dbl> & <chr> & <dbl> & <dbl> & <dbl> & <dbl> & <dbl> & <chr>\\\\\n\\hline\n\t 13740704 & Cozy,budget friendly, cable inc, private entrance! &  20583125 & Michel  & Brooklyn, Flatlands          & (40.63222, -73.93398) & Private room    & \\$45  &  10 & 12/12/2018 & 0.70 &  85 & 4.100954 &  12.0 & 0.6094315 & 06/08/2018\\\\\n\t 22005115 & Two floor apartment near Central Park              &  82746113 & Cecilia & Manhattan, Upper West Side   & (40.78761, -73.96862) & Entire home/apt & \\$135 &   1 & 06/30/2019 & 1.00 & 145 & 3.367600 &   1.2 & 0.7461346 & 12/25/2018\\\\\n\t 21667615 & Beautiful 1BR in Brooklyn Heights                  &     78251 & Leslie  & Brooklyn, Brooklyn Heights   & (40.7007, -73.99517)  & Entire home/apt & \\$150 &   0 & NA         &   NA &  65 &       NA &    NA &        NA & 08/15/2018\\\\\n\t  6425850 & Spacious, charming studio                          &  32715865 & Yelena  & Manhattan, Upper West Side   & (40.79169, -73.97498) & Entire home/apt & \\$86  &   5 & 09/23/2017 & 0.13 &   0 & 4.763203 &   6.0 & 0.7699471 & 03/20/2017\\\\\n\t 22986519 & Bedroom on the lively Lower East Side              & 154262349 & Brooke  & Manhattan, Lower East Side   & (40.71884, -73.98354) & Private room    & \\$160 &  23 & 06/12/2019 & 2.29 & 102 & 3.822591 &  27.6 & 0.6493831 & 10/23/2020\\\\\n\t   271954 & Beautiful brownstone apartment                     &   1423798 & Aj      & Manhattan, Greenwich Village & (40.73388, -73.99452) & Entire home/apt & \\$150 & 203 & 06/20/2019 & 2.22 & 300 & 4.478396 & 243.6 & 0.7434997 & 12/15/2018\\\\\n\\end{tabular}\n",
            "text/markdown": "\nA tibble: 6 × 16\n\n| listing_id &lt;dbl&gt; | description &lt;chr&gt; | host_id &lt;dbl&gt; | host_name &lt;chr&gt; | nbhood_full &lt;chr&gt; | coordinates &lt;chr&gt; | room_type &lt;chr&gt; | price &lt;chr&gt; | nb_reviews &lt;dbl&gt; | last_review &lt;chr&gt; | reviews_per_month &lt;dbl&gt; | availability_365 &lt;dbl&gt; | avg_rating &lt;dbl&gt; | avg_stays_per_month &lt;dbl&gt; | pct_5_stars &lt;dbl&gt; | listing_added &lt;chr&gt; |\n|---|---|---|---|---|---|---|---|---|---|---|---|---|---|---|---|\n| 13740704 | Cozy,budget friendly, cable inc, private entrance! |  20583125 | Michel  | Brooklyn, Flatlands          | (40.63222, -73.93398) | Private room    | $45  |  10 | 12/12/2018 | 0.70 |  85 | 4.100954 |  12.0 | 0.6094315 | 06/08/2018 |\n| 22005115 | Two floor apartment near Central Park              |  82746113 | Cecilia | Manhattan, Upper West Side   | (40.78761, -73.96862) | Entire home/apt | $135 |   1 | 06/30/2019 | 1.00 | 145 | 3.367600 |   1.2 | 0.7461346 | 12/25/2018 |\n| 21667615 | Beautiful 1BR in Brooklyn Heights                  |     78251 | Leslie  | Brooklyn, Brooklyn Heights   | (40.7007, -73.99517)  | Entire home/apt | $150 |   0 | NA         |   NA |  65 |       NA |    NA |        NA | 08/15/2018 |\n|  6425850 | Spacious, charming studio                          |  32715865 | Yelena  | Manhattan, Upper West Side   | (40.79169, -73.97498) | Entire home/apt | $86  |   5 | 09/23/2017 | 0.13 |   0 | 4.763203 |   6.0 | 0.7699471 | 03/20/2017 |\n| 22986519 | Bedroom on the lively Lower East Side              | 154262349 | Brooke  | Manhattan, Lower East Side   | (40.71884, -73.98354) | Private room    | $160 |  23 | 06/12/2019 | 2.29 | 102 | 3.822591 |  27.6 | 0.6493831 | 10/23/2020 |\n|   271954 | Beautiful brownstone apartment                     |   1423798 | Aj      | Manhattan, Greenwich Village | (40.73388, -73.99452) | Entire home/apt | $150 | 203 | 06/20/2019 | 2.22 | 300 | 4.478396 | 243.6 | 0.7434997 | 12/15/2018 |\n\n",
            "text/html": [
              "<table>\n",
              "<caption>A tibble: 6 × 16</caption>\n",
              "<thead>\n",
              "\t<tr><th scope=col>listing_id</th><th scope=col>description</th><th scope=col>host_id</th><th scope=col>host_name</th><th scope=col>nbhood_full</th><th scope=col>coordinates</th><th scope=col>room_type</th><th scope=col>price</th><th scope=col>nb_reviews</th><th scope=col>last_review</th><th scope=col>reviews_per_month</th><th scope=col>availability_365</th><th scope=col>avg_rating</th><th scope=col>avg_stays_per_month</th><th scope=col>pct_5_stars</th><th scope=col>listing_added</th></tr>\n",
              "\t<tr><th scope=col>&lt;dbl&gt;</th><th scope=col>&lt;chr&gt;</th><th scope=col>&lt;dbl&gt;</th><th scope=col>&lt;chr&gt;</th><th scope=col>&lt;chr&gt;</th><th scope=col>&lt;chr&gt;</th><th scope=col>&lt;chr&gt;</th><th scope=col>&lt;chr&gt;</th><th scope=col>&lt;dbl&gt;</th><th scope=col>&lt;chr&gt;</th><th scope=col>&lt;dbl&gt;</th><th scope=col>&lt;dbl&gt;</th><th scope=col>&lt;dbl&gt;</th><th scope=col>&lt;dbl&gt;</th><th scope=col>&lt;dbl&gt;</th><th scope=col>&lt;chr&gt;</th></tr>\n",
              "</thead>\n",
              "<tbody>\n",
              "\t<tr><td>13740704</td><td>Cozy,budget friendly, cable inc, private entrance!</td><td> 20583125</td><td>Michel </td><td>Brooklyn, Flatlands         </td><td>(40.63222, -73.93398)</td><td>Private room   </td><td>$45 </td><td> 10</td><td>12/12/2018</td><td>0.70</td><td> 85</td><td>4.100954</td><td> 12.0</td><td>0.6094315</td><td>06/08/2018</td></tr>\n",
              "\t<tr><td>22005115</td><td>Two floor apartment near Central Park             </td><td> 82746113</td><td>Cecilia</td><td>Manhattan, Upper West Side  </td><td>(40.78761, -73.96862)</td><td>Entire home/apt</td><td>$135</td><td>  1</td><td>06/30/2019</td><td>1.00</td><td>145</td><td>3.367600</td><td>  1.2</td><td>0.7461346</td><td>12/25/2018</td></tr>\n",
              "\t<tr><td>21667615</td><td>Beautiful 1BR in Brooklyn Heights                 </td><td>    78251</td><td>Leslie </td><td>Brooklyn, Brooklyn Heights  </td><td>(40.7007, -73.99517) </td><td>Entire home/apt</td><td>$150</td><td>  0</td><td>NA        </td><td>  NA</td><td> 65</td><td>      NA</td><td>   NA</td><td>       NA</td><td>08/15/2018</td></tr>\n",
              "\t<tr><td> 6425850</td><td>Spacious, charming studio                         </td><td> 32715865</td><td>Yelena </td><td>Manhattan, Upper West Side  </td><td>(40.79169, -73.97498)</td><td>Entire home/apt</td><td>$86 </td><td>  5</td><td>09/23/2017</td><td>0.13</td><td>  0</td><td>4.763203</td><td>  6.0</td><td>0.7699471</td><td>03/20/2017</td></tr>\n",
              "\t<tr><td>22986519</td><td>Bedroom on the lively Lower East Side             </td><td>154262349</td><td>Brooke </td><td>Manhattan, Lower East Side  </td><td>(40.71884, -73.98354)</td><td>Private room   </td><td>$160</td><td> 23</td><td>06/12/2019</td><td>2.29</td><td>102</td><td>3.822591</td><td> 27.6</td><td>0.6493831</td><td>10/23/2020</td></tr>\n",
              "\t<tr><td>  271954</td><td>Beautiful brownstone apartment                    </td><td>  1423798</td><td>Aj     </td><td>Manhattan, Greenwich Village</td><td>(40.73388, -73.99452)</td><td>Entire home/apt</td><td>$150</td><td>203</td><td>06/20/2019</td><td>2.22</td><td>300</td><td>4.478396</td><td>243.6</td><td>0.7434997</td><td>12/15/2018</td></tr>\n",
              "</tbody>\n",
              "</table>\n"
            ]
          },
          "metadata": {
            "tags": []
          }
        }
      ]
    },
    {
      "cell_type": "markdown",
      "metadata": {
        "id": "7TUv-fAzjqjk",
        "colab_type": "text"
      },
      "source": [
        "## Diagnosing data cleaning problems\n",
        "\n",
        "We'll need to get a good look at the data frame in order to identify any problems that may cause issues during an analysis. There are a variety of functions (both from base R and `dplyr`) that can help us with this:\n",
        "\n",
        "1. `head()` to look at the first few rows of the data\n",
        "2. `glimpse()` to get a summary of the variables' data types\n",
        "3. `summary()` to compute summary statistics of each variable and display the number of missing values\n",
        "4. `duplicated()` to find duplicates\n"
      ]
    },
    {
      "cell_type": "code",
      "metadata": {
        "id": "dKZGrzUPYrCX",
        "colab_type": "code",
        "outputId": "42bfc4e7-2a7e-439a-9bc4-e58e6d96949d",
        "colab": {
          "base_uri": "https://localhost:8080/",
          "height": 513
        }
      },
      "source": [
        "# Print the first few rows of data\n",
        "head(airbnb)"
      ],
      "execution_count": 65,
      "outputs": [
        {
          "output_type": "display_data",
          "data": {
            "text/plain": [
              "  listing_id description                                        host_id  \n",
              "1 13740704   Cozy,budget friendly, cable inc, private entrance!  20583125\n",
              "2 22005115   Two floor apartment near Central Park               82746113\n",
              "3 21667615   Beautiful 1BR in Brooklyn Heights                      78251\n",
              "4  6425850   Spacious, charming studio                           32715865\n",
              "5 22986519   Bedroom on the lively Lower East Side              154262349\n",
              "6   271954   Beautiful brownstone apartment                       1423798\n",
              "  host_name nbhood_full                  coordinates           room_type      \n",
              "1 Michel    Brooklyn, Flatlands          (40.63222, -73.93398) Private room   \n",
              "2 Cecilia   Manhattan, Upper West Side   (40.78761, -73.96862) Entire home/apt\n",
              "3 Leslie    Brooklyn, Brooklyn Heights   (40.7007, -73.99517)  Entire home/apt\n",
              "4 Yelena    Manhattan, Upper West Side   (40.79169, -73.97498) Entire home/apt\n",
              "5 Brooke    Manhattan, Lower East Side   (40.71884, -73.98354) Private room   \n",
              "6 Aj        Manhattan, Greenwich Village (40.73388, -73.99452) Entire home/apt\n",
              "  price nb_reviews last_review reviews_per_month availability_365 avg_rating\n",
              "1 $45    10        12/12/2018  0.70               85              4.100954  \n",
              "2 $135    1        06/30/2019  1.00              145              3.367600  \n",
              "3 $150    0        NA            NA               65                    NA  \n",
              "4 $86     5        09/23/2017  0.13                0              4.763203  \n",
              "5 $160   23        06/12/2019  2.29              102              3.822591  \n",
              "6 $150  203        06/20/2019  2.22              300              4.478396  \n",
              "  avg_stays_per_month pct_5_stars listing_added\n",
              "1  12.0               0.6094315   06/08/2018   \n",
              "2   1.2               0.7461346   12/25/2018   \n",
              "3    NA                      NA   08/15/2018   \n",
              "4   6.0               0.7699471   03/20/2017   \n",
              "5  27.6               0.6493831   10/23/2020   \n",
              "6 243.6               0.7434997   12/15/2018   "
            ],
            "text/latex": "A tibble: 6 × 16\n\\begin{tabular}{llllllllllllllll}\n listing\\_id & description & host\\_id & host\\_name & nbhood\\_full & coordinates & room\\_type & price & nb\\_reviews & last\\_review & reviews\\_per\\_month & availability\\_365 & avg\\_rating & avg\\_stays\\_per\\_month & pct\\_5\\_stars & listing\\_added\\\\\n <dbl> & <chr> & <dbl> & <chr> & <chr> & <chr> & <chr> & <chr> & <dbl> & <chr> & <dbl> & <dbl> & <dbl> & <dbl> & <dbl> & <chr>\\\\\n\\hline\n\t 13740704 & Cozy,budget friendly, cable inc, private entrance! &  20583125 & Michel  & Brooklyn, Flatlands          & (40.63222, -73.93398) & Private room    & \\$45  &  10 & 12/12/2018 & 0.70 &  85 & 4.100954 &  12.0 & 0.6094315 & 06/08/2018\\\\\n\t 22005115 & Two floor apartment near Central Park              &  82746113 & Cecilia & Manhattan, Upper West Side   & (40.78761, -73.96862) & Entire home/apt & \\$135 &   1 & 06/30/2019 & 1.00 & 145 & 3.367600 &   1.2 & 0.7461346 & 12/25/2018\\\\\n\t 21667615 & Beautiful 1BR in Brooklyn Heights                  &     78251 & Leslie  & Brooklyn, Brooklyn Heights   & (40.7007, -73.99517)  & Entire home/apt & \\$150 &   0 & NA         &   NA &  65 &       NA &    NA &        NA & 08/15/2018\\\\\n\t  6425850 & Spacious, charming studio                          &  32715865 & Yelena  & Manhattan, Upper West Side   & (40.79169, -73.97498) & Entire home/apt & \\$86  &   5 & 09/23/2017 & 0.13 &   0 & 4.763203 &   6.0 & 0.7699471 & 03/20/2017\\\\\n\t 22986519 & Bedroom on the lively Lower East Side              & 154262349 & Brooke  & Manhattan, Lower East Side   & (40.71884, -73.98354) & Private room    & \\$160 &  23 & 06/12/2019 & 2.29 & 102 & 3.822591 &  27.6 & 0.6493831 & 10/23/2020\\\\\n\t   271954 & Beautiful brownstone apartment                     &   1423798 & Aj      & Manhattan, Greenwich Village & (40.73388, -73.99452) & Entire home/apt & \\$150 & 203 & 06/20/2019 & 2.22 & 300 & 4.478396 & 243.6 & 0.7434997 & 12/15/2018\\\\\n\\end{tabular}\n",
            "text/markdown": "\nA tibble: 6 × 16\n\n| listing_id &lt;dbl&gt; | description &lt;chr&gt; | host_id &lt;dbl&gt; | host_name &lt;chr&gt; | nbhood_full &lt;chr&gt; | coordinates &lt;chr&gt; | room_type &lt;chr&gt; | price &lt;chr&gt; | nb_reviews &lt;dbl&gt; | last_review &lt;chr&gt; | reviews_per_month &lt;dbl&gt; | availability_365 &lt;dbl&gt; | avg_rating &lt;dbl&gt; | avg_stays_per_month &lt;dbl&gt; | pct_5_stars &lt;dbl&gt; | listing_added &lt;chr&gt; |\n|---|---|---|---|---|---|---|---|---|---|---|---|---|---|---|---|\n| 13740704 | Cozy,budget friendly, cable inc, private entrance! |  20583125 | Michel  | Brooklyn, Flatlands          | (40.63222, -73.93398) | Private room    | $45  |  10 | 12/12/2018 | 0.70 |  85 | 4.100954 |  12.0 | 0.6094315 | 06/08/2018 |\n| 22005115 | Two floor apartment near Central Park              |  82746113 | Cecilia | Manhattan, Upper West Side   | (40.78761, -73.96862) | Entire home/apt | $135 |   1 | 06/30/2019 | 1.00 | 145 | 3.367600 |   1.2 | 0.7461346 | 12/25/2018 |\n| 21667615 | Beautiful 1BR in Brooklyn Heights                  |     78251 | Leslie  | Brooklyn, Brooklyn Heights   | (40.7007, -73.99517)  | Entire home/apt | $150 |   0 | NA         |   NA |  65 |       NA |    NA |        NA | 08/15/2018 |\n|  6425850 | Spacious, charming studio                          |  32715865 | Yelena  | Manhattan, Upper West Side   | (40.79169, -73.97498) | Entire home/apt | $86  |   5 | 09/23/2017 | 0.13 |   0 | 4.763203 |   6.0 | 0.7699471 | 03/20/2017 |\n| 22986519 | Bedroom on the lively Lower East Side              | 154262349 | Brooke  | Manhattan, Lower East Side   | (40.71884, -73.98354) | Private room    | $160 |  23 | 06/12/2019 | 2.29 | 102 | 3.822591 |  27.6 | 0.6493831 | 10/23/2020 |\n|   271954 | Beautiful brownstone apartment                     |   1423798 | Aj      | Manhattan, Greenwich Village | (40.73388, -73.99452) | Entire home/apt | $150 | 203 | 06/20/2019 | 2.22 | 300 | 4.478396 | 243.6 | 0.7434997 | 12/15/2018 |\n\n",
            "text/html": [
              "<table>\n",
              "<caption>A tibble: 6 × 16</caption>\n",
              "<thead>\n",
              "\t<tr><th scope=col>listing_id</th><th scope=col>description</th><th scope=col>host_id</th><th scope=col>host_name</th><th scope=col>nbhood_full</th><th scope=col>coordinates</th><th scope=col>room_type</th><th scope=col>price</th><th scope=col>nb_reviews</th><th scope=col>last_review</th><th scope=col>reviews_per_month</th><th scope=col>availability_365</th><th scope=col>avg_rating</th><th scope=col>avg_stays_per_month</th><th scope=col>pct_5_stars</th><th scope=col>listing_added</th></tr>\n",
              "\t<tr><th scope=col>&lt;dbl&gt;</th><th scope=col>&lt;chr&gt;</th><th scope=col>&lt;dbl&gt;</th><th scope=col>&lt;chr&gt;</th><th scope=col>&lt;chr&gt;</th><th scope=col>&lt;chr&gt;</th><th scope=col>&lt;chr&gt;</th><th scope=col>&lt;chr&gt;</th><th scope=col>&lt;dbl&gt;</th><th scope=col>&lt;chr&gt;</th><th scope=col>&lt;dbl&gt;</th><th scope=col>&lt;dbl&gt;</th><th scope=col>&lt;dbl&gt;</th><th scope=col>&lt;dbl&gt;</th><th scope=col>&lt;dbl&gt;</th><th scope=col>&lt;chr&gt;</th></tr>\n",
              "</thead>\n",
              "<tbody>\n",
              "\t<tr><td>13740704</td><td>Cozy,budget friendly, cable inc, private entrance!</td><td> 20583125</td><td>Michel </td><td>Brooklyn, Flatlands         </td><td>(40.63222, -73.93398)</td><td>Private room   </td><td>$45 </td><td> 10</td><td>12/12/2018</td><td>0.70</td><td> 85</td><td>4.100954</td><td> 12.0</td><td>0.6094315</td><td>06/08/2018</td></tr>\n",
              "\t<tr><td>22005115</td><td>Two floor apartment near Central Park             </td><td> 82746113</td><td>Cecilia</td><td>Manhattan, Upper West Side  </td><td>(40.78761, -73.96862)</td><td>Entire home/apt</td><td>$135</td><td>  1</td><td>06/30/2019</td><td>1.00</td><td>145</td><td>3.367600</td><td>  1.2</td><td>0.7461346</td><td>12/25/2018</td></tr>\n",
              "\t<tr><td>21667615</td><td>Beautiful 1BR in Brooklyn Heights                 </td><td>    78251</td><td>Leslie </td><td>Brooklyn, Brooklyn Heights  </td><td>(40.7007, -73.99517) </td><td>Entire home/apt</td><td>$150</td><td>  0</td><td>NA        </td><td>  NA</td><td> 65</td><td>      NA</td><td>   NA</td><td>       NA</td><td>08/15/2018</td></tr>\n",
              "\t<tr><td> 6425850</td><td>Spacious, charming studio                         </td><td> 32715865</td><td>Yelena </td><td>Manhattan, Upper West Side  </td><td>(40.79169, -73.97498)</td><td>Entire home/apt</td><td>$86 </td><td>  5</td><td>09/23/2017</td><td>0.13</td><td>  0</td><td>4.763203</td><td>  6.0</td><td>0.7699471</td><td>03/20/2017</td></tr>\n",
              "\t<tr><td>22986519</td><td>Bedroom on the lively Lower East Side             </td><td>154262349</td><td>Brooke </td><td>Manhattan, Lower East Side  </td><td>(40.71884, -73.98354)</td><td>Private room   </td><td>$160</td><td> 23</td><td>06/12/2019</td><td>2.29</td><td>102</td><td>3.822591</td><td> 27.6</td><td>0.6493831</td><td>10/23/2020</td></tr>\n",
              "\t<tr><td>  271954</td><td>Beautiful brownstone apartment                    </td><td>  1423798</td><td>Aj     </td><td>Manhattan, Greenwich Village</td><td>(40.73388, -73.99452)</td><td>Entire home/apt</td><td>$150</td><td>203</td><td>06/20/2019</td><td>2.22</td><td>300</td><td>4.478396</td><td>243.6</td><td>0.7434997</td><td>12/15/2018</td></tr>\n",
              "</tbody>\n",
              "</table>\n"
            ]
          },
          "metadata": {
            "tags": []
          }
        }
      ]
    },
    {
      "cell_type": "markdown",
      "metadata": {
        "id": "jVf20GPO2X7o",
        "colab_type": "text"
      },
      "source": [
        "**Problems so far:**\n",
        "1. Multiple pieces of information in one value:\n",
        "  - `coordinates` are easier to work with when separated into latitude and longitude\n",
        "  - `nbhood_full` contains both the borough name (i.e. Manhattan, Brooklyn, etc.) and the neighborhood name (i.e. Lower East Side)\n",
        "2. `price` has a $ attached"
      ]
    },
    {
      "cell_type": "code",
      "metadata": {
        "id": "cYHT-9womfZl",
        "colab_type": "code",
        "outputId": "8eed4bfb-2b71-408d-e1bb-4c5d09425f5c",
        "colab": {
          "base_uri": "https://localhost:8080/",
          "height": 323
        }
      },
      "source": [
        "# Inspect data types\n",
        "glimpse(airbnb)"
      ],
      "execution_count": 66,
      "outputs": [
        {
          "output_type": "stream",
          "text": [
            "Rows: 10,019\n",
            "Columns: 16\n",
            "$ listing_id          \u001b[3m\u001b[90m<dbl>\u001b[39m\u001b[23m 13740704, 22005115, 21667615, 6425850, 22986519, …\n",
            "$ description         \u001b[3m\u001b[90m<chr>\u001b[39m\u001b[23m \"Cozy,budget friendly, cable inc, private entranc…\n",
            "$ host_id             \u001b[3m\u001b[90m<dbl>\u001b[39m\u001b[23m 20583125, 82746113, 78251, 32715865, 154262349, 1…\n",
            "$ host_name           \u001b[3m\u001b[90m<chr>\u001b[39m\u001b[23m \"Michel\", \"Cecilia\", \"Leslie\", \"Yelena\", \"Brooke\"…\n",
            "$ nbhood_full         \u001b[3m\u001b[90m<chr>\u001b[39m\u001b[23m \"Brooklyn, Flatlands\", \"Manhattan, Upper West Sid…\n",
            "$ coordinates         \u001b[3m\u001b[90m<chr>\u001b[39m\u001b[23m \"(40.63222, -73.93398)\", \"(40.78761, -73.96862)\",…\n",
            "$ room_type           \u001b[3m\u001b[90m<chr>\u001b[39m\u001b[23m \"Private room\", \"Entire home/apt\", \"Entire home/a…\n",
            "$ price               \u001b[3m\u001b[90m<chr>\u001b[39m\u001b[23m \"$45\", \"$135\", \"$150\", \"$86\", \"$160\", \"$150\", \"$2…\n",
            "$ nb_reviews          \u001b[3m\u001b[90m<dbl>\u001b[39m\u001b[23m 10, 1, 0, 5, 23, 203, 0, 2, 5, 8, 5, 2, 21, 0, 0,…\n",
            "$ last_review         \u001b[3m\u001b[90m<chr>\u001b[39m\u001b[23m \"12/12/2018\", \"06/30/2019\", NA, \"09/23/2017\", \"06…\n",
            "$ reviews_per_month   \u001b[3m\u001b[90m<dbl>\u001b[39m\u001b[23m 0.70, 1.00, NA, 0.13, 2.29, 2.22, NA, 0.08, 0.15,…\n",
            "$ availability_365    \u001b[3m\u001b[90m<dbl>\u001b[39m\u001b[23m 85, 145, 65, 0, 102, 300, 219, 353, 365, 9, 0, 24…\n",
            "$ avg_rating          \u001b[3m\u001b[90m<dbl>\u001b[39m\u001b[23m 4.100954, 3.367600, NA, 4.763203, 3.822591, 4.478…\n",
            "$ avg_stays_per_month \u001b[3m\u001b[90m<dbl>\u001b[39m\u001b[23m 12.0, 1.2, NA, 6.0, 27.6, 243.6, NA, 2.4, 6.0, 9.…\n",
            "$ pct_5_stars         \u001b[3m\u001b[90m<dbl>\u001b[39m\u001b[23m 0.6094315, 0.7461346, NA, 0.7699471, 0.6493831, 0…\n",
            "$ listing_added       \u001b[3m\u001b[90m<chr>\u001b[39m\u001b[23m \"06/08/2018\", \"12/25/2018\", \"08/15/2018\", \"03/20/…\n"
          ],
          "name": "stdout"
        }
      ]
    },
    {
      "cell_type": "markdown",
      "metadata": {
        "id": "nV3pvDr161Ib",
        "colab_type": "text"
      },
      "source": [
        "3. Columns like `coordinates` and `price` are factors instead of numeric values.\n",
        "4. Columns with dates like `last_review` and `listing_added` are factors instead of the `Date` data type."
      ]
    },
    {
      "cell_type": "code",
      "metadata": {
        "id": "kgnARdUOkvfT",
        "colab_type": "code",
        "outputId": "95107174-e134-4007-827d-9aceb85d6403",
        "colab": {
          "base_uri": "https://localhost:8080/",
          "height": 833
        }
      },
      "source": [
        "# Examine summary statistics and missing values\n",
        "summary(airbnb)"
      ],
      "execution_count": 0,
      "outputs": [
        {
          "output_type": "display_data",
          "data": {
            "text/plain": [
              "       X           listing_id                                  name     \n",
              " Min.   :    1   Min.   :    3831                                :   5  \n",
              " 1st Qu.: 2506   1st Qu.: 9674772   Beautiful Brooklyn Brownstone:   5  \n",
              " Median : 5010   Median :20070296   New york Multi-unit building :   5  \n",
              " Mean   : 5010   Mean   :19276341   Hillside Hotel               :   4  \n",
              " 3rd Qu.: 7514   3rd Qu.:29338637   Home away from home          :   4  \n",
              " Max.   :10019   Max.   :36487245   Brooklyn Apartment           :   3  \n",
              "                                    (Other)                      :9993  \n",
              "    host_id                 host_name                          nbhood_full  \n",
              " Min.   :     2787   Michael     :  89   Brooklyn, Bedford-Stuyvesant: 777  \n",
              " 1st Qu.:  7910880   David       :  85   Brooklyn, Williamsburg      : 766  \n",
              " Median : 31651673   Sonder (NYC):  66   Manhattan, Harlem           : 541  \n",
              " Mean   : 67959227   Alex        :  52   Brooklyn, Bushwick          : 502  \n",
              " 3rd Qu.:107434423   Daniel      :  50   Manhattan, Hell's Kitchen   : 405  \n",
              " Max.   :274103383   John        :  47   Manhattan, Upper West Side  : 395  \n",
              "                     (Other)     :9630   (Other)                     :6633  \n",
              "                         coordinates                   room_type   \n",
              " (40.59211, -73.94126999999997):    2      Shared room      :  71  \n",
              " (40.66086, -73.96159)         :    2   Entire home/apt     :5120  \n",
              " (40.67359, -73.95812)         :    2   home                :  66  \n",
              " (40.682, -73.95681)           :    2   Private             :  89  \n",
              " (40.68842, -73.77677)         :    2   Private room        :4487  \n",
              " (40.69336, -73.94453)         :    2   PRIVATE ROOM        :  31  \n",
              " (Other)                       :10007   Shared room         : 155  \n",
              "     price        nb_reviews         last_review   reviews_per_month\n",
              " $150   : 416   Min.   :  0.00             :2075   Min.   : 0.010   \n",
              " $100   : 395   1st Qu.:  1.00   2019-06-23: 283   1st Qu.: 0.200   \n",
              " $200   : 292   Median :  5.00   2019-07-01: 273   Median : 0.710   \n",
              " $50    : 287   Mean   : 22.46   2019-06-30: 267   Mean   : 1.354   \n",
              " $60    : 287   3rd Qu.: 22.00   2019-06-24: 177   3rd Qu.: 2.000   \n",
              " $75    : 281   Max.   :510.00   2019-06-22: 146   Max.   :16.220   \n",
              " (Other):8061                    (Other)   :6798   NA's   :2075     \n",
              " availability_365   avg_rating       nb_stays       pct_5_stars    \n",
              " Min.   :  0.0    Min.   :3.001   Min.   :  1.20   Min.   :0.6000  \n",
              " 1st Qu.:  0.0    1st Qu.:3.520   1st Qu.:  3.60   1st Qu.:0.6556  \n",
              " Median : 44.0    Median :4.028   Median : 10.80   Median :0.7098  \n",
              " Mean   :112.3    Mean   :4.014   Mean   : 33.99   Mean   :0.7186  \n",
              " 3rd Qu.:226.0    3rd Qu.:4.516   3rd Qu.: 38.40   3rd Qu.:0.7640  \n",
              " Max.   :365.0    Max.   :5.181   Max.   :612.00   Max.   :0.9503  \n",
              "                  NA's   :2075    NA's   :2075     NA's   :2075    \n",
              "    listing_added \n",
              " 2018-12-18: 283  \n",
              " 2018-12-26: 273  \n",
              " 2018-12-25: 267  \n",
              " 2018-12-19: 177  \n",
              " 2018-12-17: 146  \n",
              " 2019-01-01: 146  \n",
              " (Other)   :8727  "
            ]
          },
          "metadata": {
            "tags": []
          }
        }
      ]
    },
    {
      "cell_type": "markdown",
      "metadata": {
        "id": "02k4nxc38ZXq",
        "colab_type": "text"
      },
      "source": [
        "5. There are 2075 missing values in `reviews_per_month`, `avg_rating`, `nb_stays`, and `pct_5_stars`.\n",
        "6. The max of `avg_rating` is above 5 (out of range value)\n",
        "7. There are inconsistencies in the categories of `room_type`, i.e. `\"Private\"`, `\"Private room\"`, and `\"PRIVATE ROOM\"`."
      ]
    },
    {
      "cell_type": "code",
      "metadata": {
        "id": "3QvsJ8XCmkUP",
        "colab_type": "code",
        "outputId": "69727bf0-cd15-42e6-9a42-5ee0d34ba9a2",
        "colab": {
          "base_uri": "https://localhost:8080/",
          "height": 1000
        }
      },
      "source": [
        "# Find data with duplicated listing_id\n",
        "airbnb %>%\n",
        "  filter(duplicated(listing_id))"
      ],
      "execution_count": 0,
      "outputs": [
        {
          "output_type": "display_data",
          "data": {
            "text/plain": [
              "   listing_id description                                        host_id  \n",
              "1   7319856   450ft Square Studio in Gramercy NY                  11773680\n",
              "2  17861841   THE CREATIVE COZY ROOM                              47591528\n",
              "3  35646737   Private Cabins @ Chelsea, Manhattan                117365574\n",
              "4  15027024   Newly renovated 1bd on lively & historic St Marks    8344620\n",
              "5   4244242   Best Bedroom in Bedstuy/Bushwick. Ensuite bathroom  22023014\n",
              "6  33831116   Sonder | Stock Exchange | Collected 1BR + Laundry  219517861\n",
              "7  16518377   East Village 1BR Apt with all the amenities          3012457\n",
              "8  22014840   Sunny Bedroom Only 1 Metro Stop to Manhattan        32093643\n",
              "9  33346762   2BR Apartment in Brownstone Brooklyn!               50321289\n",
              "10 23990868   1 Bedroom in Luxury Building                         4447548\n",
              "11 32610834   Manhattan by the water!                             12132369\n",
              "12 19477677   Huge sunny room next to subway!                     25038748\n",
              "13   253806   Loft Suite @ The Box House Hotel                      417504\n",
              "14 21106251   Private Bedroom in Great Brooklyn Apartment         25354313\n",
              "15 26554879   East Village/Union Square Flat                      17400431\n",
              "16  9078222   Prospect Park 3 bdrm, Sleeps 8 (#2)                 47219962\n",
              "17  2044392   The heart of Williamsburg 2 bedroom                   620218\n",
              "18 35801208   Comfy 2 bedroom Close To Manhattan                 256911412\n",
              "19 31470004   Private bedroom/Bathroom in a 2 bedroom apartment   71241932\n",
              "20 29844951   Cozy Home In Queens                                 49946447\n",
              "   host_name           nbhood_full                        \n",
              "1  Adam                Manhattan, Kips Bay                \n",
              "2  Janessa             Brooklyn, Sheepshead Bay           \n",
              "3  Maria               Manhattan, Chelsea                 \n",
              "4  Ethan               Manhattan, East Village            \n",
              "5  BrooklynSleeps      Brooklyn, Bedford-Stuyvesant       \n",
              "6  Sonder (NYC)        Manhattan, Financial District      \n",
              "7  Cody                Manhattan, East Village            \n",
              "8  Scarlett            Manhattan, Roosevelt Island        \n",
              "9  Avery               Brooklyn, Bedford-Stuyvesant       \n",
              "10 Grace               Brooklyn, Bedford-Stuyvesant       \n",
              "11 Omar                Manhattan, Kips Bay                \n",
              "12 Justin              Manhattan, Harlem                  \n",
              "13 The Box House Hotel Brooklyn, Greenpoint               \n",
              "14 Tommy               Brooklyn, Crown Heights            \n",
              "15 Bob                 Manhattan, East Village            \n",
              "16 Babajide            Brooklyn, Prospect-Lefferts Gardens\n",
              "17 Sarah               Brooklyn, Williamsburg             \n",
              "18 Taylor              Brooklyn, Williamsburg             \n",
              "19 Max                 Manhattan, East Village            \n",
              "20 Rah                 Queens, Jamaica                    \n",
              "   coordinates                    room_type       price nb_reviews last_review\n",
              "1  (40.73813, -73.98098)          Entire home/apt $280    4        2016-05-22 \n",
              "2  (40.59211, -73.94126999999997) Private room    $99    13        2019-05-23 \n",
              "3  (40.74946, -73.99627)          Private room    $85     1        2019-06-22 \n",
              "4  (40.72693, -73.98385)          Entire home/apt $180   10        2018-12-31 \n",
              "5  (40.69496, -73.93949)          Private room    $73   110        2019-06-23 \n",
              "6  (40.70621, -74.01199)          Entire home/apt $229    5        2019-06-15 \n",
              "7  (40.7235, -73.97963)           Entire home/apt $200    3        2018-07-10 \n",
              "8  (40.76211, -73.94887)          Private room    $70     2        2018-01-07 \n",
              "9  (40.682, -73.95681)            Entire home/apt $140    4        2019-06-14 \n",
              "10 (40.69336, -73.94453)          Entire home/apt $88     8        2019-06-16 \n",
              "11 (40.73767, -73.97384)          Entire home/apt $150    0        <NA>       \n",
              "12 (40.82119, -73.95583)          Private room    $70    11        2019-05-11 \n",
              "13 (40.73652, -73.95236)          Entire home/apt $199   43        2019-07-02 \n",
              "14 (40.67359, -73.95812)          Private room    $45     9        2019-06-22 \n",
              "15 (40.73177, -73.98691)          Entire home/apt $179   32        2019-06-26 \n",
              "16 (40.66086, -73.96159)          Entire home/apt $150  123        2019-07-01 \n",
              "17 (40.71257, -73.96149)          Entire home/apt $245    0        <NA>       \n",
              "18 (40.70469, -73.9369)           Entire home/apt $101    0        <NA>       \n",
              "19 (40.72544, -73.97818000000002) Private room    $2500   0        <NA>       \n",
              "20 (40.68842, -73.77677)          Private room    $50     1        2019-03-19 \n",
              "   reviews_per_month availability_365 avg_rating nb_stays pct_5_stars\n",
              "1  0.09              225              3.903764     4.8    0.7563810  \n",
              "2  0.52               82              4.806590    15.6    0.9374216  \n",
              "3  1.00              261              4.951714     1.2    0.6713879  \n",
              "4  0.30                0              3.869729    12.0    0.7725126  \n",
              "5  1.96              323              4.962314   132.0    0.8098820  \n",
              "6  1.92              350              4.026379     6.0    0.6017374  \n",
              "7  0.16                0              4.676670     3.6    0.6944427  \n",
              "8  0.11                0              4.024336     2.4    0.7194262  \n",
              "9  1.58                4              4.013393     4.8    0.7195908  \n",
              "10 0.56               18              4.164548     9.6    0.6401060  \n",
              "11   NA                9                    NA      NA           NA  \n",
              "12 0.45                0              3.074890    13.2    0.6316186  \n",
              "13 0.47               60              4.620238    51.6    0.8610863  \n",
              "14 0.43                0              3.779114    10.8    0.7381907  \n",
              "15 2.92               12              3.125513    38.4    0.6317645  \n",
              "16 2.74              263              3.466881   147.6    0.7381911  \n",
              "17   NA                0                    NA      NA           NA  \n",
              "18   NA               27                    NA      NA           NA  \n",
              "19   NA               90                    NA      NA           NA  \n",
              "20 0.27              311              4.792923     1.2    0.7012322  \n",
              "   listing_added\n",
              "1  2015-11-17   \n",
              "2  2018-11-17   \n",
              "3  2018-12-17   \n",
              "4  2018-06-27   \n",
              "5  2018-12-18   \n",
              "6  2018-12-10   \n",
              "7  2018-01-04   \n",
              "8  2017-07-04   \n",
              "9  2018-12-09   \n",
              "10 2018-12-11   \n",
              "11 2018-06-28   \n",
              "12 2018-11-05   \n",
              "13 2018-12-27   \n",
              "14 2018-12-17   \n",
              "15 2018-12-21   \n",
              "16 2018-12-26   \n",
              "17 2018-08-09   \n",
              "18 2018-05-03   \n",
              "19 2018-03-12   \n",
              "20 2018-09-13   "
            ],
            "text/latex": "A spec\\_tbl\\_df: 20 × 16\n\\begin{tabular}{llllllllllllllll}\n listing\\_id & description & host\\_id & host\\_name & nbhood\\_full & coordinates & room\\_type & price & nb\\_reviews & last\\_review & reviews\\_per\\_month & availability\\_365 & avg\\_rating & nb\\_stays & pct\\_5\\_stars & listing\\_added\\\\\n <dbl> & <chr> & <dbl> & <chr> & <chr> & <chr> & <chr> & <chr> & <dbl> & <date> & <dbl> & <dbl> & <dbl> & <dbl> & <dbl> & <date>\\\\\n\\hline\n\t  7319856 & 450ft Square Studio in Gramercy NY                 &  11773680 & Adam                & Manhattan, Kips Bay                 & (40.73813, -73.98098)          & Entire home/apt & \\$280  &   4 & 2016-05-22 & 0.09 & 225 & 3.903764 &   4.8 & 0.7563810 & 2015-11-17\\\\\n\t 17861841 & THE CREATIVE COZY ROOM                             &  47591528 & Janessa             & Brooklyn, Sheepshead Bay            & (40.59211, -73.94126999999997) & Private room    & \\$99   &  13 & 2019-05-23 & 0.52 &  82 & 4.806590 &  15.6 & 0.9374216 & 2018-11-17\\\\\n\t 35646737 & Private Cabins @ Chelsea, Manhattan                & 117365574 & Maria               & Manhattan, Chelsea                  & (40.74946, -73.99627)          & Private room    & \\$85   &   1 & 2019-06-22 & 1.00 & 261 & 4.951714 &   1.2 & 0.6713879 & 2018-12-17\\\\\n\t 15027024 & Newly renovated 1bd on lively \\& historic St Marks  &   8344620 & Ethan               & Manhattan, East Village             & (40.72693, -73.98385)          & Entire home/apt & \\$180  &  10 & 2018-12-31 & 0.30 &   0 & 3.869729 &  12.0 & 0.7725126 & 2018-06-27\\\\\n\t  4244242 & Best Bedroom in Bedstuy/Bushwick. Ensuite bathroom &  22023014 & BrooklynSleeps      & Brooklyn, Bedford-Stuyvesant        & (40.69496, -73.93949)          & Private room    & \\$73   & 110 & 2019-06-23 & 1.96 & 323 & 4.962314 & 132.0 & 0.8098820 & 2018-12-18\\\\\n\t 33831116 & Sonder \\textbar{} Stock Exchange \\textbar{} Collected 1BR + Laundry  & 219517861 & Sonder (NYC)        & Manhattan, Financial District       & (40.70621, -74.01199)          & Entire home/apt & \\$229  &   5 & 2019-06-15 & 1.92 & 350 & 4.026379 &   6.0 & 0.6017374 & 2018-12-10\\\\\n\t 16518377 & East Village 1BR Apt with all the amenities        &   3012457 & Cody                & Manhattan, East Village             & (40.7235, -73.97963)           & Entire home/apt & \\$200  &   3 & 2018-07-10 & 0.16 &   0 & 4.676670 &   3.6 & 0.6944427 & 2018-01-04\\\\\n\t 22014840 & Sunny Bedroom Only 1 Metro Stop to Manhattan       &  32093643 & Scarlett            & Manhattan, Roosevelt Island         & (40.76211, -73.94887)          & Private room    & \\$70   &   2 & 2018-01-07 & 0.11 &   0 & 4.024336 &   2.4 & 0.7194262 & 2017-07-04\\\\\n\t 33346762 & 2BR Apartment in Brownstone Brooklyn!              &  50321289 & Avery               & Brooklyn, Bedford-Stuyvesant        & (40.682, -73.95681)            & Entire home/apt & \\$140  &   4 & 2019-06-14 & 1.58 &   4 & 4.013393 &   4.8 & 0.7195908 & 2018-12-09\\\\\n\t 23990868 & 1 Bedroom in Luxury Building                       &   4447548 & Grace               & Brooklyn, Bedford-Stuyvesant        & (40.69336, -73.94453)          & Entire home/apt & \\$88   &   8 & 2019-06-16 & 0.56 &  18 & 4.164548 &   9.6 & 0.6401060 & 2018-12-11\\\\\n\t 32610834 & Manhattan by the water!                            &  12132369 & Omar                & Manhattan, Kips Bay                 & (40.73767, -73.97384)          & Entire home/apt & \\$150  &   0 & NA &   NA &   9 &       NA &    NA &        NA & 2018-06-28\\\\\n\t 19477677 & Huge sunny room next to subway!                    &  25038748 & Justin              & Manhattan, Harlem                   & (40.82119, -73.95583)          & Private room    & \\$70   &  11 & 2019-05-11 & 0.45 &   0 & 3.074890 &  13.2 & 0.6316186 & 2018-11-05\\\\\n\t   253806 & Loft Suite @ The Box House Hotel                   &    417504 & The Box House Hotel & Brooklyn, Greenpoint                & (40.73652, -73.95236)          & Entire home/apt & \\$199  &  43 & 2019-07-02 & 0.47 &  60 & 4.620238 &  51.6 & 0.8610863 & 2018-12-27\\\\\n\t 21106251 & Private Bedroom in Great Brooklyn Apartment        &  25354313 & Tommy               & Brooklyn, Crown Heights             & (40.67359, -73.95812)          & Private room    & \\$45   &   9 & 2019-06-22 & 0.43 &   0 & 3.779114 &  10.8 & 0.7381907 & 2018-12-17\\\\\n\t 26554879 & East Village/Union Square Flat                     &  17400431 & Bob                 & Manhattan, East Village             & (40.73177, -73.98691)          & Entire home/apt & \\$179  &  32 & 2019-06-26 & 2.92 &  12 & 3.125513 &  38.4 & 0.6317645 & 2018-12-21\\\\\n\t  9078222 & Prospect Park 3 bdrm, Sleeps 8 (\\#2)                &  47219962 & Babajide            & Brooklyn, Prospect-Lefferts Gardens & (40.66086, -73.96159)          & Entire home/apt & \\$150  & 123 & 2019-07-01 & 2.74 & 263 & 3.466881 & 147.6 & 0.7381911 & 2018-12-26\\\\\n\t  2044392 & The heart of Williamsburg 2 bedroom                &    620218 & Sarah               & Brooklyn, Williamsburg              & (40.71257, -73.96149)          & Entire home/apt & \\$245  &   0 & NA &   NA &   0 &       NA &    NA &        NA & 2018-08-09\\\\\n\t 35801208 & Comfy 2 bedroom Close To Manhattan                 & 256911412 & Taylor              & Brooklyn, Williamsburg              & (40.70469, -73.9369)           & Entire home/apt & \\$101  &   0 & NA &   NA &  27 &       NA &    NA &        NA & 2018-05-03\\\\\n\t 31470004 & Private bedroom/Bathroom in a 2 bedroom apartment  &  71241932 & Max                 & Manhattan, East Village             & (40.72544, -73.97818000000002) & Private room    & \\$2500 &   0 & NA &   NA &  90 &       NA &    NA &        NA & 2018-03-12\\\\\n\t 29844951 & Cozy Home In Queens                                &  49946447 & Rah                 & Queens, Jamaica                     & (40.68842, -73.77677)          & Private room    & \\$50   &   1 & 2019-03-19 & 0.27 & 311 & 4.792923 &   1.2 & 0.7012322 & 2018-09-13\\\\\n\\end{tabular}\n",
            "text/markdown": "\nA spec_tbl_df: 20 × 16\n\n| listing_id &lt;dbl&gt; | description &lt;chr&gt; | host_id &lt;dbl&gt; | host_name &lt;chr&gt; | nbhood_full &lt;chr&gt; | coordinates &lt;chr&gt; | room_type &lt;chr&gt; | price &lt;chr&gt; | nb_reviews &lt;dbl&gt; | last_review &lt;date&gt; | reviews_per_month &lt;dbl&gt; | availability_365 &lt;dbl&gt; | avg_rating &lt;dbl&gt; | nb_stays &lt;dbl&gt; | pct_5_stars &lt;dbl&gt; | listing_added &lt;date&gt; |\n|---|---|---|---|---|---|---|---|---|---|---|---|---|---|---|---|\n|  7319856 | 450ft Square Studio in Gramercy NY                 |  11773680 | Adam                | Manhattan, Kips Bay                 | (40.73813, -73.98098)          | Entire home/apt | $280  |   4 | 2016-05-22 | 0.09 | 225 | 3.903764 |   4.8 | 0.7563810 | 2015-11-17 |\n| 17861841 | THE CREATIVE COZY ROOM                             |  47591528 | Janessa             | Brooklyn, Sheepshead Bay            | (40.59211, -73.94126999999997) | Private room    | $99   |  13 | 2019-05-23 | 0.52 |  82 | 4.806590 |  15.6 | 0.9374216 | 2018-11-17 |\n| 35646737 | Private Cabins @ Chelsea, Manhattan                | 117365574 | Maria               | Manhattan, Chelsea                  | (40.74946, -73.99627)          | Private room    | $85   |   1 | 2019-06-22 | 1.00 | 261 | 4.951714 |   1.2 | 0.6713879 | 2018-12-17 |\n| 15027024 | Newly renovated 1bd on lively &amp; historic St Marks  |   8344620 | Ethan               | Manhattan, East Village             | (40.72693, -73.98385)          | Entire home/apt | $180  |  10 | 2018-12-31 | 0.30 |   0 | 3.869729 |  12.0 | 0.7725126 | 2018-06-27 |\n|  4244242 | Best Bedroom in Bedstuy/Bushwick. Ensuite bathroom |  22023014 | BrooklynSleeps      | Brooklyn, Bedford-Stuyvesant        | (40.69496, -73.93949)          | Private room    | $73   | 110 | 2019-06-23 | 1.96 | 323 | 4.962314 | 132.0 | 0.8098820 | 2018-12-18 |\n| 33831116 | Sonder | Stock Exchange | Collected 1BR + Laundry  | 219517861 | Sonder (NYC)        | Manhattan, Financial District       | (40.70621, -74.01199)          | Entire home/apt | $229  |   5 | 2019-06-15 | 1.92 | 350 | 4.026379 |   6.0 | 0.6017374 | 2018-12-10 |\n| 16518377 | East Village 1BR Apt with all the amenities        |   3012457 | Cody                | Manhattan, East Village             | (40.7235, -73.97963)           | Entire home/apt | $200  |   3 | 2018-07-10 | 0.16 |   0 | 4.676670 |   3.6 | 0.6944427 | 2018-01-04 |\n| 22014840 | Sunny Bedroom Only 1 Metro Stop to Manhattan       |  32093643 | Scarlett            | Manhattan, Roosevelt Island         | (40.76211, -73.94887)          | Private room    | $70   |   2 | 2018-01-07 | 0.11 |   0 | 4.024336 |   2.4 | 0.7194262 | 2017-07-04 |\n| 33346762 | 2BR Apartment in Brownstone Brooklyn!              |  50321289 | Avery               | Brooklyn, Bedford-Stuyvesant        | (40.682, -73.95681)            | Entire home/apt | $140  |   4 | 2019-06-14 | 1.58 |   4 | 4.013393 |   4.8 | 0.7195908 | 2018-12-09 |\n| 23990868 | 1 Bedroom in Luxury Building                       |   4447548 | Grace               | Brooklyn, Bedford-Stuyvesant        | (40.69336, -73.94453)          | Entire home/apt | $88   |   8 | 2019-06-16 | 0.56 |  18 | 4.164548 |   9.6 | 0.6401060 | 2018-12-11 |\n| 32610834 | Manhattan by the water!                            |  12132369 | Omar                | Manhattan, Kips Bay                 | (40.73767, -73.97384)          | Entire home/apt | $150  |   0 | NA |   NA |   9 |       NA |    NA |        NA | 2018-06-28 |\n| 19477677 | Huge sunny room next to subway!                    |  25038748 | Justin              | Manhattan, Harlem                   | (40.82119, -73.95583)          | Private room    | $70   |  11 | 2019-05-11 | 0.45 |   0 | 3.074890 |  13.2 | 0.6316186 | 2018-11-05 |\n|   253806 | Loft Suite @ The Box House Hotel                   |    417504 | The Box House Hotel | Brooklyn, Greenpoint                | (40.73652, -73.95236)          | Entire home/apt | $199  |  43 | 2019-07-02 | 0.47 |  60 | 4.620238 |  51.6 | 0.8610863 | 2018-12-27 |\n| 21106251 | Private Bedroom in Great Brooklyn Apartment        |  25354313 | Tommy               | Brooklyn, Crown Heights             | (40.67359, -73.95812)          | Private room    | $45   |   9 | 2019-06-22 | 0.43 |   0 | 3.779114 |  10.8 | 0.7381907 | 2018-12-17 |\n| 26554879 | East Village/Union Square Flat                     |  17400431 | Bob                 | Manhattan, East Village             | (40.73177, -73.98691)          | Entire home/apt | $179  |  32 | 2019-06-26 | 2.92 |  12 | 3.125513 |  38.4 | 0.6317645 | 2018-12-21 |\n|  9078222 | Prospect Park 3 bdrm, Sleeps 8 (#2)                |  47219962 | Babajide            | Brooklyn, Prospect-Lefferts Gardens | (40.66086, -73.96159)          | Entire home/apt | $150  | 123 | 2019-07-01 | 2.74 | 263 | 3.466881 | 147.6 | 0.7381911 | 2018-12-26 |\n|  2044392 | The heart of Williamsburg 2 bedroom                |    620218 | Sarah               | Brooklyn, Williamsburg              | (40.71257, -73.96149)          | Entire home/apt | $245  |   0 | NA |   NA |   0 |       NA |    NA |        NA | 2018-08-09 |\n| 35801208 | Comfy 2 bedroom Close To Manhattan                 | 256911412 | Taylor              | Brooklyn, Williamsburg              | (40.70469, -73.9369)           | Entire home/apt | $101  |   0 | NA |   NA |  27 |       NA |    NA |        NA | 2018-05-03 |\n| 31470004 | Private bedroom/Bathroom in a 2 bedroom apartment  |  71241932 | Max                 | Manhattan, East Village             | (40.72544, -73.97818000000002) | Private room    | $2500 |   0 | NA |   NA |  90 |       NA |    NA |        NA | 2018-03-12 |\n| 29844951 | Cozy Home In Queens                                |  49946447 | Rah                 | Queens, Jamaica                     | (40.68842, -73.77677)          | Private room    | $50   |   1 | 2019-03-19 | 0.27 | 311 | 4.792923 |   1.2 | 0.7012322 | 2018-09-13 |\n\n",
            "text/html": [
              "<table>\n",
              "<caption>A spec_tbl_df: 20 × 16</caption>\n",
              "<thead>\n",
              "\t<tr><th scope=col>listing_id</th><th scope=col>description</th><th scope=col>host_id</th><th scope=col>host_name</th><th scope=col>nbhood_full</th><th scope=col>coordinates</th><th scope=col>room_type</th><th scope=col>price</th><th scope=col>nb_reviews</th><th scope=col>last_review</th><th scope=col>reviews_per_month</th><th scope=col>availability_365</th><th scope=col>avg_rating</th><th scope=col>nb_stays</th><th scope=col>pct_5_stars</th><th scope=col>listing_added</th></tr>\n",
              "\t<tr><th scope=col>&lt;dbl&gt;</th><th scope=col>&lt;chr&gt;</th><th scope=col>&lt;dbl&gt;</th><th scope=col>&lt;chr&gt;</th><th scope=col>&lt;chr&gt;</th><th scope=col>&lt;chr&gt;</th><th scope=col>&lt;chr&gt;</th><th scope=col>&lt;chr&gt;</th><th scope=col>&lt;dbl&gt;</th><th scope=col>&lt;date&gt;</th><th scope=col>&lt;dbl&gt;</th><th scope=col>&lt;dbl&gt;</th><th scope=col>&lt;dbl&gt;</th><th scope=col>&lt;dbl&gt;</th><th scope=col>&lt;dbl&gt;</th><th scope=col>&lt;date&gt;</th></tr>\n",
              "</thead>\n",
              "<tbody>\n",
              "\t<tr><td> 7319856</td><td>450ft Square Studio in Gramercy NY                </td><td> 11773680</td><td>Adam               </td><td>Manhattan, Kips Bay                </td><td>(40.73813, -73.98098)         </td><td>Entire home/apt</td><td>$280 </td><td>  4</td><td>2016-05-22</td><td>0.09</td><td>225</td><td>3.903764</td><td>  4.8</td><td>0.7563810</td><td>2015-11-17</td></tr>\n",
              "\t<tr><td>17861841</td><td>THE CREATIVE COZY ROOM                            </td><td> 47591528</td><td>Janessa            </td><td>Brooklyn, Sheepshead Bay           </td><td>(40.59211, -73.94126999999997)</td><td>Private room   </td><td>$99  </td><td> 13</td><td>2019-05-23</td><td>0.52</td><td> 82</td><td>4.806590</td><td> 15.6</td><td>0.9374216</td><td>2018-11-17</td></tr>\n",
              "\t<tr><td>35646737</td><td>Private Cabins @ Chelsea, Manhattan               </td><td>117365574</td><td>Maria              </td><td>Manhattan, Chelsea                 </td><td>(40.74946, -73.99627)         </td><td>Private room   </td><td>$85  </td><td>  1</td><td>2019-06-22</td><td>1.00</td><td>261</td><td>4.951714</td><td>  1.2</td><td>0.6713879</td><td>2018-12-17</td></tr>\n",
              "\t<tr><td>15027024</td><td>Newly renovated 1bd on lively &amp; historic St Marks </td><td><span style=white-space:pre-wrap>  8344620</span></td><td><span style=white-space:pre-wrap>Ethan              </span></td><td><span style=white-space:pre-wrap>Manhattan, East Village            </span></td><td><span style=white-space:pre-wrap>(40.72693, -73.98385)         </span></td><td>Entire home/apt</td><td>$180 </td><td> 10</td><td>2018-12-31</td><td>0.30</td><td><span style=white-space:pre-wrap>  0</span></td><td>3.869729</td><td> 12.0</td><td>0.7725126</td><td>2018-06-27</td></tr>\n",
              "\t<tr><td> 4244242</td><td>Best Bedroom in Bedstuy/Bushwick. Ensuite bathroom</td><td> 22023014</td><td>BrooklynSleeps     </td><td>Brooklyn, Bedford-Stuyvesant       </td><td>(40.69496, -73.93949)         </td><td>Private room   </td><td>$73  </td><td>110</td><td>2019-06-23</td><td>1.96</td><td>323</td><td>4.962314</td><td>132.0</td><td>0.8098820</td><td>2018-12-18</td></tr>\n",
              "\t<tr><td>33831116</td><td>Sonder | Stock Exchange | Collected 1BR + Laundry </td><td>219517861</td><td>Sonder (NYC)       </td><td>Manhattan, Financial District      </td><td>(40.70621, -74.01199)         </td><td>Entire home/apt</td><td>$229 </td><td>  5</td><td>2019-06-15</td><td>1.92</td><td>350</td><td>4.026379</td><td>  6.0</td><td>0.6017374</td><td>2018-12-10</td></tr>\n",
              "\t<tr><td>16518377</td><td>East Village 1BR Apt with all the amenities       </td><td>  3012457</td><td>Cody               </td><td>Manhattan, East Village            </td><td>(40.7235, -73.97963)          </td><td>Entire home/apt</td><td>$200 </td><td>  3</td><td>2018-07-10</td><td>0.16</td><td>  0</td><td>4.676670</td><td>  3.6</td><td>0.6944427</td><td>2018-01-04</td></tr>\n",
              "\t<tr><td>22014840</td><td>Sunny Bedroom Only 1 Metro Stop to Manhattan      </td><td> 32093643</td><td>Scarlett           </td><td>Manhattan, Roosevelt Island        </td><td>(40.76211, -73.94887)         </td><td>Private room   </td><td>$70  </td><td>  2</td><td>2018-01-07</td><td>0.11</td><td>  0</td><td>4.024336</td><td>  2.4</td><td>0.7194262</td><td>2017-07-04</td></tr>\n",
              "\t<tr><td>33346762</td><td>2BR Apartment in Brownstone Brooklyn!             </td><td> 50321289</td><td>Avery              </td><td>Brooklyn, Bedford-Stuyvesant       </td><td>(40.682, -73.95681)           </td><td>Entire home/apt</td><td>$140 </td><td>  4</td><td>2019-06-14</td><td>1.58</td><td>  4</td><td>4.013393</td><td>  4.8</td><td>0.7195908</td><td>2018-12-09</td></tr>\n",
              "\t<tr><td>23990868</td><td>1 Bedroom in Luxury Building                      </td><td>  4447548</td><td>Grace              </td><td>Brooklyn, Bedford-Stuyvesant       </td><td>(40.69336, -73.94453)         </td><td>Entire home/apt</td><td>$88  </td><td>  8</td><td>2019-06-16</td><td>0.56</td><td> 18</td><td>4.164548</td><td>  9.6</td><td>0.6401060</td><td>2018-12-11</td></tr>\n",
              "\t<tr><td>32610834</td><td>Manhattan by the water!                           </td><td> 12132369</td><td>Omar               </td><td>Manhattan, Kips Bay                </td><td>(40.73767, -73.97384)         </td><td>Entire home/apt</td><td>$150 </td><td>  0</td><td>NA</td><td>  NA</td><td>  9</td><td>      NA</td><td>   NA</td><td>       NA</td><td>2018-06-28</td></tr>\n",
              "\t<tr><td>19477677</td><td>Huge sunny room next to subway!                   </td><td> 25038748</td><td>Justin             </td><td>Manhattan, Harlem                  </td><td>(40.82119, -73.95583)         </td><td>Private room   </td><td>$70  </td><td> 11</td><td>2019-05-11</td><td>0.45</td><td>  0</td><td>3.074890</td><td> 13.2</td><td>0.6316186</td><td>2018-11-05</td></tr>\n",
              "\t<tr><td>  253806</td><td>Loft Suite @ The Box House Hotel                  </td><td>   417504</td><td>The Box House Hotel</td><td>Brooklyn, Greenpoint               </td><td>(40.73652, -73.95236)         </td><td>Entire home/apt</td><td>$199 </td><td> 43</td><td>2019-07-02</td><td>0.47</td><td> 60</td><td>4.620238</td><td> 51.6</td><td>0.8610863</td><td>2018-12-27</td></tr>\n",
              "\t<tr><td>21106251</td><td>Private Bedroom in Great Brooklyn Apartment       </td><td> 25354313</td><td>Tommy              </td><td>Brooklyn, Crown Heights            </td><td>(40.67359, -73.95812)         </td><td>Private room   </td><td>$45  </td><td>  9</td><td>2019-06-22</td><td>0.43</td><td>  0</td><td>3.779114</td><td> 10.8</td><td>0.7381907</td><td>2018-12-17</td></tr>\n",
              "\t<tr><td>26554879</td><td>East Village/Union Square Flat                    </td><td> 17400431</td><td>Bob                </td><td>Manhattan, East Village            </td><td>(40.73177, -73.98691)         </td><td>Entire home/apt</td><td>$179 </td><td> 32</td><td>2019-06-26</td><td>2.92</td><td> 12</td><td>3.125513</td><td> 38.4</td><td>0.6317645</td><td>2018-12-21</td></tr>\n",
              "\t<tr><td> 9078222</td><td>Prospect Park 3 bdrm, Sleeps 8 (#2)               </td><td> 47219962</td><td>Babajide           </td><td>Brooklyn, Prospect-Lefferts Gardens</td><td>(40.66086, -73.96159)         </td><td>Entire home/apt</td><td>$150 </td><td>123</td><td>2019-07-01</td><td>2.74</td><td>263</td><td>3.466881</td><td>147.6</td><td>0.7381911</td><td>2018-12-26</td></tr>\n",
              "\t<tr><td> 2044392</td><td>The heart of Williamsburg 2 bedroom               </td><td>   620218</td><td>Sarah              </td><td>Brooklyn, Williamsburg             </td><td>(40.71257, -73.96149)         </td><td>Entire home/apt</td><td>$245 </td><td>  0</td><td>NA</td><td>  NA</td><td>  0</td><td>      NA</td><td>   NA</td><td>       NA</td><td>2018-08-09</td></tr>\n",
              "\t<tr><td>35801208</td><td>Comfy 2 bedroom Close To Manhattan                </td><td>256911412</td><td>Taylor             </td><td>Brooklyn, Williamsburg             </td><td>(40.70469, -73.9369)          </td><td>Entire home/apt</td><td>$101 </td><td>  0</td><td>NA</td><td>  NA</td><td> 27</td><td>      NA</td><td>   NA</td><td>       NA</td><td>2018-05-03</td></tr>\n",
              "\t<tr><td>31470004</td><td>Private bedroom/Bathroom in a 2 bedroom apartment </td><td> 71241932</td><td>Max                </td><td>Manhattan, East Village            </td><td>(40.72544, -73.97818000000002)</td><td>Private room   </td><td>$2500</td><td>  0</td><td>NA</td><td>  NA</td><td> 90</td><td>      NA</td><td>   NA</td><td>       NA</td><td>2018-03-12</td></tr>\n",
              "\t<tr><td>29844951</td><td>Cozy Home In Queens                               </td><td> 49946447</td><td>Rah                </td><td>Queens, Jamaica                    </td><td>(40.68842, -73.77677)         </td><td>Private room   </td><td>$50  </td><td>  1</td><td>2019-03-19</td><td>0.27</td><td>311</td><td>4.792923</td><td>  1.2</td><td>0.7012322</td><td>2018-09-13</td></tr>\n",
              "</tbody>\n",
              "</table>\n"
            ]
          },
          "metadata": {
            "tags": []
          }
        }
      ]
    },
    {
      "cell_type": "markdown",
      "metadata": {
        "id": "ijlxbkUeBLqA",
        "colab_type": "text"
      },
      "source": [
        "8. Duplicates: there are 17 rows whose `listing_id` already appeared earlier in the dataset."
      ]
    },
    {
      "cell_type": "markdown",
      "metadata": {
        "id": "yANqCMZJPMH4",
        "colab_type": "text"
      },
      "source": [
        "## What do we need to do?\n",
        "\n",
        "**Data type issues**\n",
        "1. Split `coordinates` into latitude and longitude and convert `numeric` data type.\n",
        "2. Remove `$`s from `price` column and convert to `numeric`.\n",
        "3. Convert `last_review` and `listing_added` to `Date`.\n",
        "\n",
        "**Text & categorical data issues**\n",
        "4. Split `nbhood_full` into separate neighborhood and borough columns.\n",
        "5. Collapse the categories of `room_type` so that they're consistent.\n",
        "\n",
        "**Data range issues**\n",
        "6. Fix the `rating` column so it doesn't exceed `5`.\n",
        "\n",
        "**Missing data issues**\n",
        "7. Further investigate the missing data and decide how to handle them.\n",
        "\n",
        "**Duplicate data issues**\n",
        "8. Further investigate duplicate data points and decide how to handle them.\n",
        "\n",
        "***But also...***\n",
        "- We need to validate our data using various sanity checks"
      ]
    },
    {
      "cell_type": "markdown",
      "metadata": {
        "id": "fxHNWD_5UysA",
        "colab_type": "text"
      },
      "source": [
        "# **Q & A**"
      ]
    },
    {
      "cell_type": "markdown",
      "metadata": {
        "id": "zNVG6_ywVSzS",
        "colab_type": "text"
      },
      "source": [
        "## Cleaning the data\n"
      ]
    },
    {
      "cell_type": "markdown",
      "metadata": {
        "id": "Zk4Mu-69Vl5P",
        "colab_type": "text"
      },
      "source": [
        "### Data type issues"
      ]
    },
    {
      "cell_type": "code",
      "metadata": {
        "id": "Js1RrBaYW1Ui",
        "colab_type": "code",
        "colab": {}
      },
      "source": [
        "# What does the data look like?\n",
        "head(airbnb)"
      ],
      "execution_count": 0,
      "outputs": []
    },
    {
      "cell_type": "markdown",
      "metadata": {
        "id": "e7KoThx1WTPQ",
        "colab_type": "text"
      },
      "source": [
        "#### **Task 1:** Split `coordinates` into latitude and longitude and convert `numeric` data type.\n"
      ]
    },
    {
      "cell_type": "code",
      "metadata": {
        "id": "KQnT8_WomsW1",
        "colab_type": "code",
        "colab": {}
      },
      "source": [
        "lat_lon <- airbnb$coordinates %>%\n",
        "  # Remove left parentheses\n",
        "  str_remove_all(fixed(\"(\")) %>%\n",
        "  # Remove right parentheses\n",
        "  str_remove_all(fixed(\")\")) %>%\n",
        "  # Split latitude and longitude\n",
        "  str_split(\", \", simplify = TRUE) %>%\n",
        "  # Convert from matrix to data frame\n",
        "  as.data.frame(stringsAsFactors = FALSE) %>%\n",
        "  # Rename columns\n",
        "  rename(latitude = V1, longitude = V2)"
      ],
      "execution_count": 0,
      "outputs": []
    },
    {
      "cell_type": "code",
      "metadata": {
        "id": "YovTmIGaQpqp",
        "colab_type": "code",
        "colab": {}
      },
      "source": [
        "airbnb <- airbnb %>%\n",
        "  # Combine lat_lon with original data frame\n",
        "  cbind(lat_lon) %>%\n",
        "  # Convert to numeric\n",
        "  mutate(latitude = as.numeric(latitude),\n",
        "        longitude = as.numeric(longitude)) %>%\n",
        "  # Remove coordinates column\n",
        "  select(-coordinates)"
      ],
      "execution_count": 0,
      "outputs": []
    },
    {
      "cell_type": "markdown",
      "metadata": {
        "id": "iZnGDIm8bJ6c",
        "colab_type": "text"
      },
      "source": [
        "#### **Task 2:** Remove `$`s from `price` column and convert to `numeric`."
      ]
    },
    {
      "cell_type": "code",
      "metadata": {
        "id": "jQp0WCFObH4i",
        "colab_type": "code",
        "colab": {}
      },
      "source": [
        "# Remove $, save as price\n",
        "price_clean <- airbnb$price %>%\n",
        "  str_remove_all(fixed(\"$\"))"
      ],
      "execution_count": 0,
      "outputs": []
    },
    {
      "cell_type": "code",
      "metadata": {
        "id": "4-HhTpMqb7bQ",
        "colab_type": "code",
        "colab": {
          "base_uri": "https://localhost:8080/",
          "height": 51
        },
        "outputId": "f891a2df-0c3f-46bd-9cae-c4b77e1132c0"
      },
      "source": [
        "# Convert to numeric and add to data frame\n",
        "airbnb <- airbnb %>%\n",
        "  mutate(price = as.numeric(price_clean))"
      ],
      "execution_count": 70,
      "outputs": [
        {
          "output_type": "stream",
          "text": [
            "Warning message:\n",
            "“NAs introduced by coercion”\n"
          ],
          "name": "stderr"
        }
      ]
    },
    {
      "cell_type": "markdown",
      "metadata": {
        "id": "cKV_MjlIcGJi",
        "colab_type": "text"
      },
      "source": [
        "#### **Task 3:** Convert `last_review` and `listing_added` to `Date`.\n",
        "\n",
        "<img src=\"https://raw.githubusercontent.com/datacamp/cleaning-data-in-r-live-training/master/assets/date_formats.png\" alt=\"%d = day number, %m = month number, %Y = 4 digit year, %y = 2 digit year, %B = month, %b = month abbreviation\" style=\"width: 200px;\"/>"
      ]
    },
    {
      "cell_type": "code",
      "metadata": {
        "id": "C-ugolABg3rT",
        "colab_type": "code",
        "colab": {
          "base_uri": "https://localhost:8080/",
          "height": 1000
        },
        "outputId": "bb205c99-3a87-48d8-9141-2f1f207d907d"
      },
      "source": [
        "airbnb %>%\n",
        "  mutate(last_review = as.Date(last_review, format = \"%m/%d/%Y\"))"
      ],
      "execution_count": 79,
      "outputs": [
        {
          "output_type": "display_data",
          "data": {
            "text/plain": [
              "      listing_id description                                        host_id  \n",
              "1     13740704   Cozy,budget friendly, cable inc, private entrance!  20583125\n",
              "2     22005115   Two floor apartment near Central Park               82746113\n",
              "3     21667615   Beautiful 1BR in Brooklyn Heights                      78251\n",
              "4      6425850   Spacious, charming studio                           32715865\n",
              "5     22986519   Bedroom on the lively Lower East Side              154262349\n",
              "6       271954   Beautiful brownstone apartment                       1423798\n",
              "7     33473567   Hamilton Heights Full Floor Garden Apt              33388853\n",
              "8     14218742   Luxury/3bedroom/3bthrm/Privateprkng/beach/rstrnts   78824908\n",
              "9     15125599   Beautiful One Bedroom Apartment Near Central Park    3191545\n",
              "10    24553891   Enjoy all of Manhattan. Big Apple! A Mini-MOMA!     68557372\n",
              "11    26386759   Cozy and extremely well located Bushwick room       86892036\n",
              "12    34446664   Home away from home                                260038086\n",
              "13    18048473   #3 Private  Quadruple  Room  20mnts from Manhattan  42093468\n",
              "14     6336480   Available in August only. One room with twin bed.   12459436\n",
              "15    20572019   Brooklyn home available                            145219249\n",
              "16    35831474   Large Apt with Patio, walking to Times Square!!!!!  79008205\n",
              "17    21698446   Private Room In Manhattan!                          32798079\n",
              "18    33635065   Sonder | Stock Exchange | Cozy 1BR + Laundry       219517861\n",
              "19     1479113   Spacious, quiet room with private full bathroom.      176836\n",
              "20    14817574   Spacious Room in the heart of Greenwich Village!    88398053\n",
              "21    26398320   Cozy room w/ private balcony and incredible views!  45448756\n",
              "22     6654984   Beautiful apartment in trendy Brooklyn               5417600\n",
              "23    20655740   Penthouse Studio with Queen Bed & Private Rooftop    6655660\n",
              "24    21324522   Brownstone Duplex with Private Outdoor Patio!       12337318\n",
              "25    35389003   Live good live cheap in Manhattan                  109231531\n",
              "26     9823806   Spacious 1BD-1 Block to Bedford L!                  18195071\n",
              "27    11532518   1 Bedroom Apt East Village/USQ                      24319977\n",
              "28    13885982   The Bushwick Museum                                 11841497\n",
              "29    23514583   Luxury High Line Chelsea Doorman, Roof Deck/Gym     19043062\n",
              "30    25328184   Bedstuy Fly!  Two Bedroom Garden Apartment.          1417893\n",
              "⋮     ⋮          ⋮                                                  ⋮        \n",
              "9990   3642801   Cozy Brooklyn  studio, 30 min to Manhattan           2052361\n",
              "9991  33884349   Comfy Bronx home away from home                     54136018\n",
              "9992  36347051   Beautiful Large Bedroom in the Heart of Harlem     273101668\n",
              "9993  35805262   Discounted! Quiet 1 BR next to Times Square         10745276\n",
              "9994  22452129   Private Guest Bedroom with beautiful back yard.    164516331\n",
              "9995  28011594   Large Bedroom Steps from Subway (Ground Flr Room)   29582232\n",
              "9996  28390924   Comfortable rooms 15 minutes to Manhattan           49568280\n",
              "9997  24834058   Queens C Place                                     156716488\n",
              "9998  27505253   Private room with king sized bed in Brooklyn.          31378\n",
              "9999  10013750   Beautiful Garden Rooms In Lower East Side           20222376\n",
              "10000 14200676   Ideal Bushwick, 2 bdrm, basement, private garden      309088\n",
              "10001 16687716   Gorgeous Large Room near LGA                        14730722\n",
              "10002 18390907   Sun-soaked, charming Brooklyn home                   3695964\n",
              "10003 14570963   Gorgeous Modern Penthouse Terrace by Central Park   47984525\n",
              "10004 26422007   Spacious one bedroom with gym and roof top         198674086\n",
              "10005  9486332   Brand New Upper East Side!                          49167534\n",
              "10006 13802521   Very Clean, Comfortable Room Available              26022066\n",
              "10007  2560559   Sunny Private Room Near Prospect Pk                  2766490\n",
              "10008 30539229   Heart of Little Italy / Soho                        49223549\n",
              "10009 17224797   Quiet Apt in the Upper West Side near Central Park 115567902\n",
              "10010  1474752   Dope Williamsburg Apartment                          2259113\n",
              "10011 22016391   Your own Loft/gallery in Bushwick!                  43872938\n",
              "10012   165461   Couldn't Be Closer To Columbia Uni2                   867225\n",
              "10013   397420   New York Host who knows The Most                     1985717\n",
              "10014 23979192   Huge, bright 1 bed w/ priv yard in Crown Heights!   15538912\n",
              "10015 22307861   Lovely 1BR Harlem apartment                         16004068\n",
              "10016   953275   Apartment For Your Holidays in NYC!                  4460034\n",
              "10017  3452835   Artsy, Garden Getaway in Central Brooklyn             666862\n",
              "10018 23540194   Immaculate townhouse in Clinton Hill, Brooklyn      67176930\n",
              "10019 32876011   Private room in a perfect location in the city      59583716\n",
              "      host_name         nbhood_full                         room_type      \n",
              "1     Michel            Brooklyn, Flatlands                 Private room   \n",
              "2     Cecilia           Manhattan, Upper West Side          Entire home/apt\n",
              "3     Leslie            Brooklyn, Brooklyn Heights          Entire home/apt\n",
              "4     Yelena            Manhattan, Upper West Side          Entire home/apt\n",
              "5     Brooke            Manhattan, Lower East Side          Private room   \n",
              "6     Aj                Manhattan, Greenwich Village        Entire home/apt\n",
              "7     Christine         Manhattan, Harlem                   Entire home/apt\n",
              "8     Ilona             Brooklyn, Sheepshead Bay            Entire home/apt\n",
              "9     Kyle              Manhattan, Theater District         Entire home/apt\n",
              "10    Shannon           Manhattan, Harlem                   Entire home/apt\n",
              "11    Michael           Brooklyn, Bushwick                  Private room   \n",
              "12    Kimberly          Queens, Laurelton                   Entire home/apt\n",
              "13    Tsotne (Tut)      Bronx, Mott Haven                   Private room   \n",
              "14    Zena              Queens, Flushing                    Private room   \n",
              "15    Dovber            Brooklyn, Crown Heights             Entire home/apt\n",
              "16    Josh              Manhattan, Midtown                  Entire home/apt\n",
              "17    Mike & Kevin      Manhattan, Harlem                   Private room   \n",
              "18    Sonder (NYC)      Manhattan, Financial District       Entire home/apt\n",
              "19    Gil               Manhattan, Lower East Side          Private room   \n",
              "20    Colleen           Manhattan, Greenwich Village        Private        \n",
              "21    Lucia             Manhattan, East Village             Private room   \n",
              "22    Elvira            Brooklyn, Park Slope                Entire home/apt\n",
              "23    Kate              Manhattan, Lower East Side          Entire home/apt\n",
              "24    Andrew            Manhattan, Harlem                   Entire home/apt\n",
              "25    Sophia            Manhattan, Washington Heights       Private room   \n",
              "26    Ben               Brooklyn, Williamsburg              Entire home/apt\n",
              "27    Charles           Manhattan, East Village             Entire home/apt\n",
              "28    Amanda            Brooklyn, Bushwick                  Private room   \n",
              "29    Regi              Manhattan, Chelsea                  Entire home/apt\n",
              "30    Ingrid            Brooklyn, Bedford-Stuyvesant        Entire home/apt\n",
              "⋮     ⋮                 ⋮                                   ⋮              \n",
              "9990  Katya             Brooklyn, Prospect-Lefferts Gardens Entire home/apt\n",
              "9991  Louise            Bronx, Kingsbridge                  Private room   \n",
              "9992  Betty             Manhattan, Harlem                   Private        \n",
              "9993  Kortney William   Manhattan, Hell's Kitchen           Entire home/apt\n",
              "9994  Hamza             Brooklyn, Bedford-Stuyvesant        Private room   \n",
              "9995  Lee And Teri      Brooklyn, Flatbush                  Private room   \n",
              "9996  Hakan             Queens, Ditmars Steinway            Private room   \n",
              "9997  Christine         Queens, South Ozone Park            Private room   \n",
              "9998  Kristine          Brooklyn, Crown Heights             Private room   \n",
              "9999  Olya              Manhattan, Lower East Side          Private room   \n",
              "10000 Alexandre         Brooklyn, Bushwick                  Entire home/apt\n",
              "10001 Omar £ Jacqueline Queens, East Elmhurst               Private room   \n",
              "10002 Elie              Brooklyn, Bedford-Stuyvesant        Entire home/apt\n",
              "10003 Jennie            Manhattan, Upper West Side          Entire home/apt\n",
              "10004 J                 Manhattan, Upper West Side          Entire home/apt\n",
              "10005 Andrea            Manhattan, Upper East Side          Entire home/apt\n",
              "10006 Yakup             Brooklyn, Midwood                   Private room   \n",
              "10007 Daisy             Brooklyn, Crown Heights             Private room   \n",
              "10008 Michael           Manhattan, Little Italy             Entire home/apt\n",
              "10009 Élodie            Manhattan, Upper West Side          Entire home/apt\n",
              "10010 Ange              Brooklyn, Williamsburg              Private room   \n",
              "10011 Shir              Brooklyn, Bushwick                  Private room   \n",
              "10012 Rahul             Manhattan, Morningside Heights      Private room   \n",
              "10013 Darktalia         Manhattan, Harlem                   Private room   \n",
              "10014 Michelle          Brooklyn, Crown Heights             Entire home/apt\n",
              "10015 Rachel            Manhattan, Harlem                   Entire home/apt\n",
              "10016 Alain             Manhattan, East Harlem              Entire home/apt\n",
              "10017 Amy               Brooklyn, Clinton Hill              Entire home/apt\n",
              "10018 Sophie            Brooklyn, Clinton Hill              Entire home/apt\n",
              "10019 Shai              Manhattan, Upper East Side          Private room   \n",
              "      price nb_reviews last_review reviews_per_month availability_365\n",
              "1      45    10        2018-12-12  0.70               85             \n",
              "2     135     1        2019-06-30  1.00              145             \n",
              "3     150     0        <NA>          NA               65             \n",
              "4      86     5        2017-09-23  0.13                0             \n",
              "5     160    23        2019-06-12  2.29              102             \n",
              "6     150   203        2019-06-20  2.22              300             \n",
              "7     200     0        <NA>          NA              219             \n",
              "8     224     2        2018-06-22  0.08              353             \n",
              "9     169     5        2017-06-25  0.15              365             \n",
              "10     75     8        2019-04-24  0.66                9             \n",
              "11     50     5        2018-07-29  0.41                0             \n",
              "12    254     2        2019-06-03  1.46               24             \n",
              "13     41    21        2019-06-20  0.78              334             \n",
              "14     49     0        <NA>          NA               27             \n",
              "15    350     0        <NA>          NA                0             \n",
              "16    165     0        <NA>          NA              330             \n",
              "17     98    94        2019-07-03  4.65              117             \n",
              "18    230     6        2019-06-20  2.28              327             \n",
              "19     49    90        2019-01-01  1.29                0             \n",
              "20     99     5        2017-08-20  0.15                0             \n",
              "21     99     5        2019-05-20  0.43               11             \n",
              "22    200     4        2018-06-16  0.14              173             \n",
              "23    275    17        2019-05-22  0.76              171             \n",
              "24    200    38        2019-06-10  1.89              101             \n",
              "25     90     0        <NA>          NA              179             \n",
              "26    160     0        <NA>          NA                0             \n",
              "27    200     0        <NA>          NA                0             \n",
              "28     55     3        2016-07-29  0.08                0             \n",
              "29    150    21        2019-06-19  1.46                5             \n",
              "30    160    52        2019-06-22  3.90               37             \n",
              "⋮     ⋮     ⋮          ⋮           ⋮                 ⋮               \n",
              "9990   80   24         2019-06-23  0.40               19             \n",
              "9991   35    8         2019-06-27  8.00               48             \n",
              "9992   60    0         <NA>          NA               72             \n",
              "9993  225    0         <NA>          NA              270             \n",
              "9994   85   33         2018-09-30  1.86                0             \n",
              "9995   68   42         2019-06-08  3.96               47             \n",
              "9996   95    0         <NA>          NA              177             \n",
              "9997   48   15         2019-07-02  1.18              365             \n",
              "9998  100   12         2019-05-10  1.24                2             \n",
              "9999   75   17         2019-06-19  0.46              128             \n",
              "10000 150   18         2018-05-28  0.53                0             \n",
              "10001  90    9         2018-09-02  0.34                0             \n",
              "10002 200   37         2019-06-14  1.53                5             \n",
              "10003 375   34         2019-05-27  0.98                7             \n",
              "10004 200    1         2018-11-30  0.14              365             \n",
              "10005 175    0         <NA>          NA                0             \n",
              "10006  50   10         2019-04-28  0.30                0             \n",
              "10007  50    1         2016-01-03  0.02                0             \n",
              "10008 250    0         <NA>          NA                0             \n",
              "10009 160   22         2019-03-22  0.75                0             \n",
              "10010  NA   23         2019-05-06  0.32              159             \n",
              "10011  NA    3         2018-04-09  0.17                0             \n",
              "10012  75   57         2019-01-01  0.59              201             \n",
              "10013  85    6         2017-09-05  0.07              363             \n",
              "10014  77    3         2018-09-23  0.20                0             \n",
              "10015 105    4         2018-05-28  0.21                0             \n",
              "10016 125   50         2018-05-06  0.66              188             \n",
              "10017 100   45         2016-11-27  0.98                0             \n",
              "10018 450    2         2019-05-31  0.17               99             \n",
              "10019  90    1         2019-03-12  0.25                8             \n",
              "      avg_rating avg_stays_per_month pct_5_stars listing_added latitude\n",
              "1     4.100954    12.0               0.6094315   06/08/2018    40.63222\n",
              "2     3.367600     1.2               0.7461346   12/25/2018    40.78761\n",
              "3           NA      NA                      NA   08/15/2018    40.70070\n",
              "4     4.763203     6.0               0.7699471   03/20/2017    40.79169\n",
              "5     3.822591    27.6               0.6493831   10/23/2020    40.71884\n",
              "6     4.478396   243.6               0.7434997   12/15/2018    40.73388\n",
              "7           NA      NA                      NA   05/05/2018    40.83090\n",
              "8     4.091228     2.4               0.6903933   12/17/2017    40.58531\n",
              "9     3.562947     6.0               0.7045380   12/20/2016    40.76100\n",
              "10    4.695769     9.6               0.7500734   10/19/2018    40.80667\n",
              "11    3.260108     6.0               0.6951742   01/23/2018    40.70103\n",
              "12    3.750804     2.4               0.7732289   11/28/2018    40.66880\n",
              "13    4.315455    25.2               0.6373133   12/15/2018    40.81217\n",
              "14          NA      NA                      NA   06/01/2018    40.73627\n",
              "15          NA      NA                      NA   07/20/2018    40.66592\n",
              "16          NA      NA                      NA   10/14/2018    40.75225\n",
              "17    3.035046   112.8               0.6494436   12/28/2018    40.81691\n",
              "18    4.203225     7.2               0.6904392   12/15/2018    40.70710\n",
              "19    3.347610   108.0               0.7058617   06/28/2018    40.71501\n",
              "20    4.847749     6.0               0.6377123   02/14/2017    40.72807\n",
              "21    3.411370     6.0               0.6742734   11/14/2018    40.72777\n",
              "22    3.088651     4.8               0.6410035   12/11/2017    40.67376\n",
              "23    3.620231    20.4               0.6066024   11/16/2018    40.71798\n",
              "24    4.185765    45.6               0.6396073   12/05/2018    40.82296\n",
              "25          NA      NA                      NA   05/23/2018    40.84414\n",
              "26          NA      NA                      NA   06/16/2018    40.71481\n",
              "27          NA      NA                      NA   07/01/2018    40.72895\n",
              "28    3.207637     3.6               0.7301396   01/24/2016    40.70112\n",
              "29    4.969093    25.2               0.8677525   12/14/2018    40.74057\n",
              "30    4.418134    62.4               0.7033453   12/17/2018    40.68902\n",
              "⋮     ⋮          ⋮                   ⋮           ⋮             ⋮       \n",
              "9990  4.697801   28.8                0.8047054   12/18/2018    40.65530\n",
              "9991  3.958748    9.6                0.6212383   12/22/2018    40.86925\n",
              "9992        NA     NA                       NA   04/18/2018    40.83225\n",
              "9993        NA     NA                       NA   08/02/2018    40.75993\n",
              "9994  4.133026   39.6                0.7225106   03/27/2018    40.68108\n",
              "9995  4.700073   50.4                0.8470263   12/03/2018    40.64184\n",
              "9996        NA     NA                       NA   06/09/2018    40.77699\n",
              "9997  3.891295   18.0                0.6150650   12/27/2018    40.66872\n",
              "9998  4.395860   14.4                0.7540085   11/04/2018    40.67194\n",
              "9999  3.973207   20.4                0.6203997   12/14/2018    40.71814\n",
              "10000 4.344998   21.6                0.6968992   11/22/2017    40.69633\n",
              "10001 4.761593   10.8                0.8837302   02/27/2018    40.76441\n",
              "10002 3.028024   44.4                0.7587201   12/09/2018    40.68741\n",
              "10003 4.984237   40.8                0.8193433   11/21/2018    40.78783\n",
              "10004 4.377948    1.2                0.6288449   05/27/2018    40.79560\n",
              "10005       NA     NA                       NA   02/26/2018    40.77281\n",
              "10006 4.597951   12.0                0.8646470   10/23/2018    40.61295\n",
              "10007 4.753029    1.2                0.6329486   06/30/2015    40.68027\n",
              "10008       NA     NA                       NA   02/15/2018    40.72007\n",
              "10009 4.110276   26.4                0.7004524   09/16/2018    40.78141\n",
              "10010 3.962641   27.6                0.7347836   10/31/2018    40.71215\n",
              "10011 3.472408    3.6                0.6331992   10/04/2017    40.69264\n",
              "10012 3.272092   68.4                0.6799128   06/28/2018    40.80525\n",
              "10013 3.927216    7.2                0.6093334   03/02/2017    40.82703\n",
              "10014 4.719189    3.6                0.6084610   03/20/2018    40.67395\n",
              "10015 4.757555    4.8                0.6392230   11/22/2017    40.80379\n",
              "10016 4.344704   60.0                0.6487781   10/31/2017    40.79531\n",
              "10017 3.966214   54.0                0.6317133   05/24/2016    40.68266\n",
              "10018 4.078581    2.4                0.7033598   11/25/2018    40.68832\n",
              "10019 4.069096    1.2                0.7202495   09/06/2018    40.76174\n",
              "      longitude\n",
              "1     -73.93398\n",
              "2     -73.96862\n",
              "3     -73.99517\n",
              "4     -73.97498\n",
              "5     -73.98354\n",
              "6     -73.99452\n",
              "7     -73.94308\n",
              "8     -73.93811\n",
              "9     -73.98522\n",
              "10    -73.95182\n",
              "11    -73.91901\n",
              "12    -73.74384\n",
              "13    -73.91777\n",
              "14    -73.81305\n",
              "15    -73.94266\n",
              "16    -73.97107\n",
              "17    -73.93735\n",
              "18    -74.01194\n",
              "19    -73.98061\n",
              "20    -73.99925\n",
              "21    -73.98568\n",
              "22    -73.98397\n",
              "23    -73.98418\n",
              "24    -73.94545\n",
              "25    -73.94099\n",
              "26    -73.95475\n",
              "27    -73.98558\n",
              "28    -73.93086\n",
              "29    -74.00263\n",
              "30    -73.92838\n",
              "⋮     ⋮        \n",
              "9990  -73.95816\n",
              "9991  -73.89974\n",
              "9992  -73.94496\n",
              "9993  -73.99074\n",
              "9994  -73.92729\n",
              "9995  -73.96420\n",
              "9996  -73.91354\n",
              "9997  -73.79417\n",
              "9998  -73.96208\n",
              "9999  -73.99166\n",
              "10000 -73.92143\n",
              "10001 -73.88943\n",
              "10002 -73.95582\n",
              "10003 -73.97422\n",
              "10004 -73.96702\n",
              "10005 -73.95822\n",
              "10006 -73.95366\n",
              "10007 -73.96379\n",
              "10008 -73.99695\n",
              "10009 -73.97681\n",
              "10010 -73.95637\n",
              "10011 -73.90485\n",
              "10012 -73.95916\n",
              "10013 -73.94311\n",
              "10014 -73.94874\n",
              "10015 -73.95257\n",
              "10016 -73.93330\n",
              "10017 -73.96743\n",
              "10018 -73.96366\n",
              "10019 -73.96625"
            ],
            "text/latex": "A data.frame: 10019 × 17\n\\begin{tabular}{lllllllllllllllll}\n listing\\_id & description & host\\_id & host\\_name & nbhood\\_full & room\\_type & price & nb\\_reviews & last\\_review & reviews\\_per\\_month & availability\\_365 & avg\\_rating & avg\\_stays\\_per\\_month & pct\\_5\\_stars & listing\\_added & latitude & longitude\\\\\n <dbl> & <chr> & <dbl> & <chr> & <chr> & <chr> & <dbl> & <dbl> & <date> & <dbl> & <dbl> & <dbl> & <dbl> & <dbl> & <chr> & <dbl> & <dbl>\\\\\n\\hline\n\t 13740704 & Cozy,budget friendly, cable inc, private entrance! &  20583125 & Michel       & Brooklyn, Flatlands           & Private room    &  45 &  10 & 2018-12-12 & 0.70 &  85 & 4.100954 &  12.0 & 0.6094315 & 06/08/2018 & 40.63222 & -73.93398\\\\\n\t 22005115 & Two floor apartment near Central Park              &  82746113 & Cecilia      & Manhattan, Upper West Side    & Entire home/apt & 135 &   1 & 2019-06-30 & 1.00 & 145 & 3.367600 &   1.2 & 0.7461346 & 12/25/2018 & 40.78761 & -73.96862\\\\\n\t 21667615 & Beautiful 1BR in Brooklyn Heights                  &     78251 & Leslie       & Brooklyn, Brooklyn Heights    & Entire home/apt & 150 &   0 & NA &   NA &  65 &       NA &    NA &        NA & 08/15/2018 & 40.70070 & -73.99517\\\\\n\t  6425850 & Spacious, charming studio                          &  32715865 & Yelena       & Manhattan, Upper West Side    & Entire home/apt &  86 &   5 & 2017-09-23 & 0.13 &   0 & 4.763203 &   6.0 & 0.7699471 & 03/20/2017 & 40.79169 & -73.97498\\\\\n\t 22986519 & Bedroom on the lively Lower East Side              & 154262349 & Brooke       & Manhattan, Lower East Side    & Private room    & 160 &  23 & 2019-06-12 & 2.29 & 102 & 3.822591 &  27.6 & 0.6493831 & 10/23/2020 & 40.71884 & -73.98354\\\\\n\t   271954 & Beautiful brownstone apartment                     &   1423798 & Aj           & Manhattan, Greenwich Village  & Entire home/apt & 150 & 203 & 2019-06-20 & 2.22 & 300 & 4.478396 & 243.6 & 0.7434997 & 12/15/2018 & 40.73388 & -73.99452\\\\\n\t 33473567 & Hamilton Heights Full Floor Garden Apt             &  33388853 & Christine    & Manhattan, Harlem             & Entire home/apt & 200 &   0 & NA &   NA & 219 &       NA &    NA &        NA & 05/05/2018 & 40.83090 & -73.94308\\\\\n\t 14218742 & Luxury/3bedroom/3bthrm/Privateprkng/beach/rstrnts  &  78824908 & Ilona        & Brooklyn, Sheepshead Bay      & Entire home/apt & 224 &   2 & 2018-06-22 & 0.08 & 353 & 4.091228 &   2.4 & 0.6903933 & 12/17/2017 & 40.58531 & -73.93811\\\\\n\t 15125599 & Beautiful One Bedroom Apartment Near Central Park  &   3191545 & Kyle         & Manhattan, Theater District   & Entire home/apt & 169 &   5 & 2017-06-25 & 0.15 & 365 & 3.562947 &   6.0 & 0.7045380 & 12/20/2016 & 40.76100 & -73.98522\\\\\n\t 24553891 & Enjoy all of Manhattan. Big Apple! A Mini-MOMA!    &  68557372 & Shannon      & Manhattan, Harlem             & Entire home/apt &  75 &   8 & 2019-04-24 & 0.66 &   9 & 4.695769 &   9.6 & 0.7500734 & 10/19/2018 & 40.80667 & -73.95182\\\\\n\t 26386759 & Cozy and extremely well located Bushwick room      &  86892036 & Michael      & Brooklyn, Bushwick            & Private room    &  50 &   5 & 2018-07-29 & 0.41 &   0 & 3.260108 &   6.0 & 0.6951742 & 01/23/2018 & 40.70103 & -73.91901\\\\\n\t 34446664 & Home away from home                                & 260038086 & Kimberly     & Queens, Laurelton             & Entire home/apt & 254 &   2 & 2019-06-03 & 1.46 &  24 & 3.750804 &   2.4 & 0.7732289 & 11/28/2018 & 40.66880 & -73.74384\\\\\n\t 18048473 & \\#3 Private  Quadruple  Room  20mnts from Manhattan &  42093468 & Tsotne (Tut) & Bronx, Mott Haven             & Private room    &  41 &  21 & 2019-06-20 & 0.78 & 334 & 4.315455 &  25.2 & 0.6373133 & 12/15/2018 & 40.81217 & -73.91777\\\\\n\t  6336480 & Available in August only. One room with twin bed.  &  12459436 & Zena         & Queens, Flushing              & Private room    &  49 &   0 & NA &   NA &  27 &       NA &    NA &        NA & 06/01/2018 & 40.73627 & -73.81305\\\\\n\t 20572019 & Brooklyn home available                            & 145219249 & Dovber       & Brooklyn, Crown Heights       & Entire home/apt & 350 &   0 & NA &   NA &   0 &       NA &    NA &        NA & 07/20/2018 & 40.66592 & -73.94266\\\\\n\t 35831474 & Large Apt with Patio, walking to Times Square!!!!! &  79008205 & Josh         & Manhattan, Midtown            & Entire home/apt & 165 &   0 & NA &   NA & 330 &       NA &    NA &        NA & 10/14/2018 & 40.75225 & -73.97107\\\\\n\t 21698446 & Private Room In Manhattan!                         &  32798079 & Mike \\& Kevin & Manhattan, Harlem             & Private room    &  98 &  94 & 2019-07-03 & 4.65 & 117 & 3.035046 & 112.8 & 0.6494436 & 12/28/2018 & 40.81691 & -73.93735\\\\\n\t 33635065 & Sonder \\textbar{} Stock Exchange \\textbar{} Cozy 1BR + Laundry       & 219517861 & Sonder (NYC) & Manhattan, Financial District & Entire home/apt & 230 &   6 & 2019-06-20 & 2.28 & 327 & 4.203225 &   7.2 & 0.6904392 & 12/15/2018 & 40.70710 & -74.01194\\\\\n\t  1479113 & Spacious, quiet room with private full bathroom.   &    176836 & Gil          & Manhattan, Lower East Side    & Private room    &  49 &  90 & 2019-01-01 & 1.29 &   0 & 3.347610 & 108.0 & 0.7058617 & 06/28/2018 & 40.71501 & -73.98061\\\\\n\t 14817574 & Spacious Room in the heart of Greenwich Village!   &  88398053 & Colleen      & Manhattan, Greenwich Village  & Private         &  99 &   5 & 2017-08-20 & 0.15 &   0 & 4.847749 &   6.0 & 0.6377123 & 02/14/2017 & 40.72807 & -73.99925\\\\\n\t 26398320 & Cozy room w/ private balcony and incredible views! &  45448756 & Lucia        & Manhattan, East Village       & Private room    &  99 &   5 & 2019-05-20 & 0.43 &  11 & 3.411370 &   6.0 & 0.6742734 & 11/14/2018 & 40.72777 & -73.98568\\\\\n\t  6654984 & Beautiful apartment in trendy Brooklyn             &   5417600 & Elvira       & Brooklyn, Park Slope          & Entire home/apt & 200 &   4 & 2018-06-16 & 0.14 & 173 & 3.088651 &   4.8 & 0.6410035 & 12/11/2017 & 40.67376 & -73.98397\\\\\n\t 20655740 & Penthouse Studio with Queen Bed \\& Private Rooftop  &   6655660 & Kate         & Manhattan, Lower East Side    & Entire home/apt & 275 &  17 & 2019-05-22 & 0.76 & 171 & 3.620231 &  20.4 & 0.6066024 & 11/16/2018 & 40.71798 & -73.98418\\\\\n\t 21324522 & Brownstone Duplex with Private Outdoor Patio!      &  12337318 & Andrew       & Manhattan, Harlem             & Entire home/apt & 200 &  38 & 2019-06-10 & 1.89 & 101 & 4.185765 &  45.6 & 0.6396073 & 12/05/2018 & 40.82296 & -73.94545\\\\\n\t 35389003 & Live good live cheap in Manhattan                  & 109231531 & Sophia       & Manhattan, Washington Heights & Private room    &  90 &   0 & NA &   NA & 179 &       NA &    NA &        NA & 05/23/2018 & 40.84414 & -73.94099\\\\\n\t  9823806 & Spacious 1BD-1 Block to Bedford L!                 &  18195071 & Ben          & Brooklyn, Williamsburg        & Entire home/apt & 160 &   0 & NA &   NA &   0 &       NA &    NA &        NA & 06/16/2018 & 40.71481 & -73.95475\\\\\n\t 11532518 & 1 Bedroom Apt East Village/USQ                     &  24319977 & Charles      & Manhattan, East Village       & Entire home/apt & 200 &   0 & NA &   NA &   0 &       NA &    NA &        NA & 07/01/2018 & 40.72895 & -73.98558\\\\\n\t 13885982 & The Bushwick Museum                                &  11841497 & Amanda       & Brooklyn, Bushwick            & Private room    &  55 &   3 & 2016-07-29 & 0.08 &   0 & 3.207637 &   3.6 & 0.7301396 & 01/24/2016 & 40.70112 & -73.93086\\\\\n\t 23514583 & Luxury High Line Chelsea Doorman, Roof Deck/Gym    &  19043062 & Regi         & Manhattan, Chelsea            & Entire home/apt & 150 &  21 & 2019-06-19 & 1.46 &   5 & 4.969093 &  25.2 & 0.8677525 & 12/14/2018 & 40.74057 & -74.00263\\\\\n\t 25328184 & Bedstuy Fly!  Two Bedroom Garden Apartment.        &   1417893 & Ingrid       & Brooklyn, Bedford-Stuyvesant  & Entire home/apt & 160 &  52 & 2019-06-22 & 3.90 &  37 & 4.418134 &  62.4 & 0.7033453 & 12/17/2018 & 40.68902 & -73.92838\\\\\n\t ⋮ & ⋮ & ⋮ & ⋮ & ⋮ & ⋮ & ⋮ & ⋮ & ⋮ & ⋮ & ⋮ & ⋮ & ⋮ & ⋮ & ⋮ & ⋮ & ⋮\\\\\n\t  3642801 & Cozy Brooklyn  studio, 30 min to Manhattan         &   2052361 & Katya             & Brooklyn, Prospect-Lefferts Gardens & Entire home/apt &  80 & 24 & 2019-06-23 & 0.40 &  19 & 4.697801 & 28.8 & 0.8047054 & 12/18/2018 & 40.65530 & -73.95816\\\\\n\t 33884349 & Comfy Bronx home away from home                    &  54136018 & Louise            & Bronx, Kingsbridge                  & Private room    &  35 &  8 & 2019-06-27 & 8.00 &  48 & 3.958748 &  9.6 & 0.6212383 & 12/22/2018 & 40.86925 & -73.89974\\\\\n\t 36347051 & Beautiful Large Bedroom in the Heart of Harlem     & 273101668 & Betty             & Manhattan, Harlem                   & Private         &  60 &  0 & NA &   NA &  72 &       NA &   NA &        NA & 04/18/2018 & 40.83225 & -73.94496\\\\\n\t 35805262 & Discounted! Quiet 1 BR next to Times Square        &  10745276 & Kortney William   & Manhattan, Hell's Kitchen           & Entire home/apt & 225 &  0 & NA &   NA & 270 &       NA &   NA &        NA & 08/02/2018 & 40.75993 & -73.99074\\\\\n\t 22452129 & Private Guest Bedroom with beautiful back yard.    & 164516331 & Hamza             & Brooklyn, Bedford-Stuyvesant        & Private room    &  85 & 33 & 2018-09-30 & 1.86 &   0 & 4.133026 & 39.6 & 0.7225106 & 03/27/2018 & 40.68108 & -73.92729\\\\\n\t 28011594 & Large Bedroom Steps from Subway (Ground Flr Room)  &  29582232 & Lee And Teri      & Brooklyn, Flatbush                  & Private room    &  68 & 42 & 2019-06-08 & 3.96 &  47 & 4.700073 & 50.4 & 0.8470263 & 12/03/2018 & 40.64184 & -73.96420\\\\\n\t 28390924 & Comfortable rooms 15 minutes to Manhattan          &  49568280 & Hakan             & Queens, Ditmars Steinway            & Private room    &  95 &  0 & NA &   NA & 177 &       NA &   NA &        NA & 06/09/2018 & 40.77699 & -73.91354\\\\\n\t 24834058 & Queens C Place                                     & 156716488 & Christine         & Queens, South Ozone Park            & Private room    &  48 & 15 & 2019-07-02 & 1.18 & 365 & 3.891295 & 18.0 & 0.6150650 & 12/27/2018 & 40.66872 & -73.79417\\\\\n\t 27505253 & Private room with king sized bed in Brooklyn.      &     31378 & Kristine          & Brooklyn, Crown Heights             & Private room    & 100 & 12 & 2019-05-10 & 1.24 &   2 & 4.395860 & 14.4 & 0.7540085 & 11/04/2018 & 40.67194 & -73.96208\\\\\n\t 10013750 & Beautiful Garden Rooms In Lower East Side          &  20222376 & Olya              & Manhattan, Lower East Side          & Private room    &  75 & 17 & 2019-06-19 & 0.46 & 128 & 3.973207 & 20.4 & 0.6203997 & 12/14/2018 & 40.71814 & -73.99166\\\\\n\t 14200676 & Ideal Bushwick, 2 bdrm, basement, private garden   &    309088 & Alexandre         & Brooklyn, Bushwick                  & Entire home/apt & 150 & 18 & 2018-05-28 & 0.53 &   0 & 4.344998 & 21.6 & 0.6968992 & 11/22/2017 & 40.69633 & -73.92143\\\\\n\t 16687716 & Gorgeous Large Room near LGA                       &  14730722 & Omar £ Jacqueline & Queens, East Elmhurst               & Private room    &  90 &  9 & 2018-09-02 & 0.34 &   0 & 4.761593 & 10.8 & 0.8837302 & 02/27/2018 & 40.76441 & -73.88943\\\\\n\t 18390907 & Sun-soaked, charming Brooklyn home                 &   3695964 & Elie              & Brooklyn, Bedford-Stuyvesant        & Entire home/apt & 200 & 37 & 2019-06-14 & 1.53 &   5 & 3.028024 & 44.4 & 0.7587201 & 12/09/2018 & 40.68741 & -73.95582\\\\\n\t 14570963 & Gorgeous Modern Penthouse Terrace by Central Park  &  47984525 & Jennie            & Manhattan, Upper West Side          & Entire home/apt & 375 & 34 & 2019-05-27 & 0.98 &   7 & 4.984237 & 40.8 & 0.8193433 & 11/21/2018 & 40.78783 & -73.97422\\\\\n\t 26422007 & Spacious one bedroom with gym and roof top         & 198674086 & J                 & Manhattan, Upper West Side          & Entire home/apt & 200 &  1 & 2018-11-30 & 0.14 & 365 & 4.377948 &  1.2 & 0.6288449 & 05/27/2018 & 40.79560 & -73.96702\\\\\n\t  9486332 & Brand New Upper East Side!                         &  49167534 & Andrea            & Manhattan, Upper East Side          & Entire home/apt & 175 &  0 & NA &   NA &   0 &       NA &   NA &        NA & 02/26/2018 & 40.77281 & -73.95822\\\\\n\t 13802521 & Very Clean, Comfortable Room Available             &  26022066 & Yakup             & Brooklyn, Midwood                   & Private room    &  50 & 10 & 2019-04-28 & 0.30 &   0 & 4.597951 & 12.0 & 0.8646470 & 10/23/2018 & 40.61295 & -73.95366\\\\\n\t  2560559 & Sunny Private Room Near Prospect Pk                &   2766490 & Daisy             & Brooklyn, Crown Heights             & Private room    &  50 &  1 & 2016-01-03 & 0.02 &   0 & 4.753029 &  1.2 & 0.6329486 & 06/30/2015 & 40.68027 & -73.96379\\\\\n\t 30539229 & Heart of Little Italy / Soho                       &  49223549 & Michael           & Manhattan, Little Italy             & Entire home/apt & 250 &  0 & NA &   NA &   0 &       NA &   NA &        NA & 02/15/2018 & 40.72007 & -73.99695\\\\\n\t 17224797 & Quiet Apt in the Upper West Side near Central Park & 115567902 & Élodie            & Manhattan, Upper West Side          & Entire home/apt & 160 & 22 & 2019-03-22 & 0.75 &   0 & 4.110276 & 26.4 & 0.7004524 & 09/16/2018 & 40.78141 & -73.97681\\\\\n\t  1474752 & Dope Williamsburg Apartment                        &   2259113 & Ange              & Brooklyn, Williamsburg              & Private room    &  NA & 23 & 2019-05-06 & 0.32 & 159 & 3.962641 & 27.6 & 0.7347836 & 10/31/2018 & 40.71215 & -73.95637\\\\\n\t 22016391 & Your own Loft/gallery in Bushwick!                 &  43872938 & Shir              & Brooklyn, Bushwick                  & Private room    &  NA &  3 & 2018-04-09 & 0.17 &   0 & 3.472408 &  3.6 & 0.6331992 & 10/04/2017 & 40.69264 & -73.90485\\\\\n\t   165461 & Couldn't Be Closer To Columbia Uni2                &    867225 & Rahul             & Manhattan, Morningside Heights      & Private room    &  75 & 57 & 2019-01-01 & 0.59 & 201 & 3.272092 & 68.4 & 0.6799128 & 06/28/2018 & 40.80525 & -73.95916\\\\\n\t   397420 & New York Host who knows The Most                   &   1985717 & Darktalia         & Manhattan, Harlem                   & Private room    &  85 &  6 & 2017-09-05 & 0.07 & 363 & 3.927216 &  7.2 & 0.6093334 & 03/02/2017 & 40.82703 & -73.94311\\\\\n\t 23979192 & Huge, bright 1 bed w/ priv yard in Crown Heights!  &  15538912 & Michelle          & Brooklyn, Crown Heights             & Entire home/apt &  77 &  3 & 2018-09-23 & 0.20 &   0 & 4.719189 &  3.6 & 0.6084610 & 03/20/2018 & 40.67395 & -73.94874\\\\\n\t 22307861 & Lovely 1BR Harlem apartment                        &  16004068 & Rachel            & Manhattan, Harlem                   & Entire home/apt & 105 &  4 & 2018-05-28 & 0.21 &   0 & 4.757555 &  4.8 & 0.6392230 & 11/22/2017 & 40.80379 & -73.95257\\\\\n\t   953275 & Apartment For Your Holidays in NYC!                &   4460034 & Alain             & Manhattan, East Harlem              & Entire home/apt & 125 & 50 & 2018-05-06 & 0.66 & 188 & 4.344704 & 60.0 & 0.6487781 & 10/31/2017 & 40.79531 & -73.93330\\\\\n\t  3452835 & Artsy, Garden Getaway in Central Brooklyn          &    666862 & Amy               & Brooklyn, Clinton Hill              & Entire home/apt & 100 & 45 & 2016-11-27 & 0.98 &   0 & 3.966214 & 54.0 & 0.6317133 & 05/24/2016 & 40.68266 & -73.96743\\\\\n\t 23540194 & Immaculate townhouse in Clinton Hill, Brooklyn     &  67176930 & Sophie            & Brooklyn, Clinton Hill              & Entire home/apt & 450 &  2 & 2019-05-31 & 0.17 &  99 & 4.078581 &  2.4 & 0.7033598 & 11/25/2018 & 40.68832 & -73.96366\\\\\n\t 32876011 & Private room in a perfect location in the city     &  59583716 & Shai              & Manhattan, Upper East Side          & Private room    &  90 &  1 & 2019-03-12 & 0.25 &   8 & 4.069096 &  1.2 & 0.7202495 & 09/06/2018 & 40.76174 & -73.96625\\\\\n\\end{tabular}\n",
            "text/markdown": "\nA data.frame: 10019 × 17\n\n| listing_id &lt;dbl&gt; | description &lt;chr&gt; | host_id &lt;dbl&gt; | host_name &lt;chr&gt; | nbhood_full &lt;chr&gt; | room_type &lt;chr&gt; | price &lt;dbl&gt; | nb_reviews &lt;dbl&gt; | last_review &lt;date&gt; | reviews_per_month &lt;dbl&gt; | availability_365 &lt;dbl&gt; | avg_rating &lt;dbl&gt; | avg_stays_per_month &lt;dbl&gt; | pct_5_stars &lt;dbl&gt; | listing_added &lt;chr&gt; | latitude &lt;dbl&gt; | longitude &lt;dbl&gt; |\n|---|---|---|---|---|---|---|---|---|---|---|---|---|---|---|---|---|\n| 13740704 | Cozy,budget friendly, cable inc, private entrance! |  20583125 | Michel       | Brooklyn, Flatlands           | Private room    |  45 |  10 | 2018-12-12 | 0.70 |  85 | 4.100954 |  12.0 | 0.6094315 | 06/08/2018 | 40.63222 | -73.93398 |\n| 22005115 | Two floor apartment near Central Park              |  82746113 | Cecilia      | Manhattan, Upper West Side    | Entire home/apt | 135 |   1 | 2019-06-30 | 1.00 | 145 | 3.367600 |   1.2 | 0.7461346 | 12/25/2018 | 40.78761 | -73.96862 |\n| 21667615 | Beautiful 1BR in Brooklyn Heights                  |     78251 | Leslie       | Brooklyn, Brooklyn Heights    | Entire home/apt | 150 |   0 | NA |   NA |  65 |       NA |    NA |        NA | 08/15/2018 | 40.70070 | -73.99517 |\n|  6425850 | Spacious, charming studio                          |  32715865 | Yelena       | Manhattan, Upper West Side    | Entire home/apt |  86 |   5 | 2017-09-23 | 0.13 |   0 | 4.763203 |   6.0 | 0.7699471 | 03/20/2017 | 40.79169 | -73.97498 |\n| 22986519 | Bedroom on the lively Lower East Side              | 154262349 | Brooke       | Manhattan, Lower East Side    | Private room    | 160 |  23 | 2019-06-12 | 2.29 | 102 | 3.822591 |  27.6 | 0.6493831 | 10/23/2020 | 40.71884 | -73.98354 |\n|   271954 | Beautiful brownstone apartment                     |   1423798 | Aj           | Manhattan, Greenwich Village  | Entire home/apt | 150 | 203 | 2019-06-20 | 2.22 | 300 | 4.478396 | 243.6 | 0.7434997 | 12/15/2018 | 40.73388 | -73.99452 |\n| 33473567 | Hamilton Heights Full Floor Garden Apt             |  33388853 | Christine    | Manhattan, Harlem             | Entire home/apt | 200 |   0 | NA |   NA | 219 |       NA |    NA |        NA | 05/05/2018 | 40.83090 | -73.94308 |\n| 14218742 | Luxury/3bedroom/3bthrm/Privateprkng/beach/rstrnts  |  78824908 | Ilona        | Brooklyn, Sheepshead Bay      | Entire home/apt | 224 |   2 | 2018-06-22 | 0.08 | 353 | 4.091228 |   2.4 | 0.6903933 | 12/17/2017 | 40.58531 | -73.93811 |\n| 15125599 | Beautiful One Bedroom Apartment Near Central Park  |   3191545 | Kyle         | Manhattan, Theater District   | Entire home/apt | 169 |   5 | 2017-06-25 | 0.15 | 365 | 3.562947 |   6.0 | 0.7045380 | 12/20/2016 | 40.76100 | -73.98522 |\n| 24553891 | Enjoy all of Manhattan. Big Apple! A Mini-MOMA!    |  68557372 | Shannon      | Manhattan, Harlem             | Entire home/apt |  75 |   8 | 2019-04-24 | 0.66 |   9 | 4.695769 |   9.6 | 0.7500734 | 10/19/2018 | 40.80667 | -73.95182 |\n| 26386759 | Cozy and extremely well located Bushwick room      |  86892036 | Michael      | Brooklyn, Bushwick            | Private room    |  50 |   5 | 2018-07-29 | 0.41 |   0 | 3.260108 |   6.0 | 0.6951742 | 01/23/2018 | 40.70103 | -73.91901 |\n| 34446664 | Home away from home                                | 260038086 | Kimberly     | Queens, Laurelton             | Entire home/apt | 254 |   2 | 2019-06-03 | 1.46 |  24 | 3.750804 |   2.4 | 0.7732289 | 11/28/2018 | 40.66880 | -73.74384 |\n| 18048473 | #3 Private  Quadruple  Room  20mnts from Manhattan |  42093468 | Tsotne (Tut) | Bronx, Mott Haven             | Private room    |  41 |  21 | 2019-06-20 | 0.78 | 334 | 4.315455 |  25.2 | 0.6373133 | 12/15/2018 | 40.81217 | -73.91777 |\n|  6336480 | Available in August only. One room with twin bed.  |  12459436 | Zena         | Queens, Flushing              | Private room    |  49 |   0 | NA |   NA |  27 |       NA |    NA |        NA | 06/01/2018 | 40.73627 | -73.81305 |\n| 20572019 | Brooklyn home available                            | 145219249 | Dovber       | Brooklyn, Crown Heights       | Entire home/apt | 350 |   0 | NA |   NA |   0 |       NA |    NA |        NA | 07/20/2018 | 40.66592 | -73.94266 |\n| 35831474 | Large Apt with Patio, walking to Times Square!!!!! |  79008205 | Josh         | Manhattan, Midtown            | Entire home/apt | 165 |   0 | NA |   NA | 330 |       NA |    NA |        NA | 10/14/2018 | 40.75225 | -73.97107 |\n| 21698446 | Private Room In Manhattan!                         |  32798079 | Mike &amp; Kevin | Manhattan, Harlem             | Private room    |  98 |  94 | 2019-07-03 | 4.65 | 117 | 3.035046 | 112.8 | 0.6494436 | 12/28/2018 | 40.81691 | -73.93735 |\n| 33635065 | Sonder | Stock Exchange | Cozy 1BR + Laundry       | 219517861 | Sonder (NYC) | Manhattan, Financial District | Entire home/apt | 230 |   6 | 2019-06-20 | 2.28 | 327 | 4.203225 |   7.2 | 0.6904392 | 12/15/2018 | 40.70710 | -74.01194 |\n|  1479113 | Spacious, quiet room with private full bathroom.   |    176836 | Gil          | Manhattan, Lower East Side    | Private room    |  49 |  90 | 2019-01-01 | 1.29 |   0 | 3.347610 | 108.0 | 0.7058617 | 06/28/2018 | 40.71501 | -73.98061 |\n| 14817574 | Spacious Room in the heart of Greenwich Village!   |  88398053 | Colleen      | Manhattan, Greenwich Village  | Private         |  99 |   5 | 2017-08-20 | 0.15 |   0 | 4.847749 |   6.0 | 0.6377123 | 02/14/2017 | 40.72807 | -73.99925 |\n| 26398320 | Cozy room w/ private balcony and incredible views! |  45448756 | Lucia        | Manhattan, East Village       | Private room    |  99 |   5 | 2019-05-20 | 0.43 |  11 | 3.411370 |   6.0 | 0.6742734 | 11/14/2018 | 40.72777 | -73.98568 |\n|  6654984 | Beautiful apartment in trendy Brooklyn             |   5417600 | Elvira       | Brooklyn, Park Slope          | Entire home/apt | 200 |   4 | 2018-06-16 | 0.14 | 173 | 3.088651 |   4.8 | 0.6410035 | 12/11/2017 | 40.67376 | -73.98397 |\n| 20655740 | Penthouse Studio with Queen Bed &amp; Private Rooftop  |   6655660 | Kate         | Manhattan, Lower East Side    | Entire home/apt | 275 |  17 | 2019-05-22 | 0.76 | 171 | 3.620231 |  20.4 | 0.6066024 | 11/16/2018 | 40.71798 | -73.98418 |\n| 21324522 | Brownstone Duplex with Private Outdoor Patio!      |  12337318 | Andrew       | Manhattan, Harlem             | Entire home/apt | 200 |  38 | 2019-06-10 | 1.89 | 101 | 4.185765 |  45.6 | 0.6396073 | 12/05/2018 | 40.82296 | -73.94545 |\n| 35389003 | Live good live cheap in Manhattan                  | 109231531 | Sophia       | Manhattan, Washington Heights | Private room    |  90 |   0 | NA |   NA | 179 |       NA |    NA |        NA | 05/23/2018 | 40.84414 | -73.94099 |\n|  9823806 | Spacious 1BD-1 Block to Bedford L!                 |  18195071 | Ben          | Brooklyn, Williamsburg        | Entire home/apt | 160 |   0 | NA |   NA |   0 |       NA |    NA |        NA | 06/16/2018 | 40.71481 | -73.95475 |\n| 11532518 | 1 Bedroom Apt East Village/USQ                     |  24319977 | Charles      | Manhattan, East Village       | Entire home/apt | 200 |   0 | NA |   NA |   0 |       NA |    NA |        NA | 07/01/2018 | 40.72895 | -73.98558 |\n| 13885982 | The Bushwick Museum                                |  11841497 | Amanda       | Brooklyn, Bushwick            | Private room    |  55 |   3 | 2016-07-29 | 0.08 |   0 | 3.207637 |   3.6 | 0.7301396 | 01/24/2016 | 40.70112 | -73.93086 |\n| 23514583 | Luxury High Line Chelsea Doorman, Roof Deck/Gym    |  19043062 | Regi         | Manhattan, Chelsea            | Entire home/apt | 150 |  21 | 2019-06-19 | 1.46 |   5 | 4.969093 |  25.2 | 0.8677525 | 12/14/2018 | 40.74057 | -74.00263 |\n| 25328184 | Bedstuy Fly!  Two Bedroom Garden Apartment.        |   1417893 | Ingrid       | Brooklyn, Bedford-Stuyvesant  | Entire home/apt | 160 |  52 | 2019-06-22 | 3.90 |  37 | 4.418134 |  62.4 | 0.7033453 | 12/17/2018 | 40.68902 | -73.92838 |\n| ⋮ | ⋮ | ⋮ | ⋮ | ⋮ | ⋮ | ⋮ | ⋮ | ⋮ | ⋮ | ⋮ | ⋮ | ⋮ | ⋮ | ⋮ | ⋮ | ⋮ |\n|  3642801 | Cozy Brooklyn  studio, 30 min to Manhattan         |   2052361 | Katya             | Brooklyn, Prospect-Lefferts Gardens | Entire home/apt |  80 | 24 | 2019-06-23 | 0.40 |  19 | 4.697801 | 28.8 | 0.8047054 | 12/18/2018 | 40.65530 | -73.95816 |\n| 33884349 | Comfy Bronx home away from home                    |  54136018 | Louise            | Bronx, Kingsbridge                  | Private room    |  35 |  8 | 2019-06-27 | 8.00 |  48 | 3.958748 |  9.6 | 0.6212383 | 12/22/2018 | 40.86925 | -73.89974 |\n| 36347051 | Beautiful Large Bedroom in the Heart of Harlem     | 273101668 | Betty             | Manhattan, Harlem                   | Private         |  60 |  0 | NA |   NA |  72 |       NA |   NA |        NA | 04/18/2018 | 40.83225 | -73.94496 |\n| 35805262 | Discounted! Quiet 1 BR next to Times Square        |  10745276 | Kortney William   | Manhattan, Hell's Kitchen           | Entire home/apt | 225 |  0 | NA |   NA | 270 |       NA |   NA |        NA | 08/02/2018 | 40.75993 | -73.99074 |\n| 22452129 | Private Guest Bedroom with beautiful back yard.    | 164516331 | Hamza             | Brooklyn, Bedford-Stuyvesant        | Private room    |  85 | 33 | 2018-09-30 | 1.86 |   0 | 4.133026 | 39.6 | 0.7225106 | 03/27/2018 | 40.68108 | -73.92729 |\n| 28011594 | Large Bedroom Steps from Subway (Ground Flr Room)  |  29582232 | Lee And Teri      | Brooklyn, Flatbush                  | Private room    |  68 | 42 | 2019-06-08 | 3.96 |  47 | 4.700073 | 50.4 | 0.8470263 | 12/03/2018 | 40.64184 | -73.96420 |\n| 28390924 | Comfortable rooms 15 minutes to Manhattan          |  49568280 | Hakan             | Queens, Ditmars Steinway            | Private room    |  95 |  0 | NA |   NA | 177 |       NA |   NA |        NA | 06/09/2018 | 40.77699 | -73.91354 |\n| 24834058 | Queens C Place                                     | 156716488 | Christine         | Queens, South Ozone Park            | Private room    |  48 | 15 | 2019-07-02 | 1.18 | 365 | 3.891295 | 18.0 | 0.6150650 | 12/27/2018 | 40.66872 | -73.79417 |\n| 27505253 | Private room with king sized bed in Brooklyn.      |     31378 | Kristine          | Brooklyn, Crown Heights             | Private room    | 100 | 12 | 2019-05-10 | 1.24 |   2 | 4.395860 | 14.4 | 0.7540085 | 11/04/2018 | 40.67194 | -73.96208 |\n| 10013750 | Beautiful Garden Rooms In Lower East Side          |  20222376 | Olya              | Manhattan, Lower East Side          | Private room    |  75 | 17 | 2019-06-19 | 0.46 | 128 | 3.973207 | 20.4 | 0.6203997 | 12/14/2018 | 40.71814 | -73.99166 |\n| 14200676 | Ideal Bushwick, 2 bdrm, basement, private garden   |    309088 | Alexandre         | Brooklyn, Bushwick                  | Entire home/apt | 150 | 18 | 2018-05-28 | 0.53 |   0 | 4.344998 | 21.6 | 0.6968992 | 11/22/2017 | 40.69633 | -73.92143 |\n| 16687716 | Gorgeous Large Room near LGA                       |  14730722 | Omar £ Jacqueline | Queens, East Elmhurst               | Private room    |  90 |  9 | 2018-09-02 | 0.34 |   0 | 4.761593 | 10.8 | 0.8837302 | 02/27/2018 | 40.76441 | -73.88943 |\n| 18390907 | Sun-soaked, charming Brooklyn home                 |   3695964 | Elie              | Brooklyn, Bedford-Stuyvesant        | Entire home/apt | 200 | 37 | 2019-06-14 | 1.53 |   5 | 3.028024 | 44.4 | 0.7587201 | 12/09/2018 | 40.68741 | -73.95582 |\n| 14570963 | Gorgeous Modern Penthouse Terrace by Central Park  |  47984525 | Jennie            | Manhattan, Upper West Side          | Entire home/apt | 375 | 34 | 2019-05-27 | 0.98 |   7 | 4.984237 | 40.8 | 0.8193433 | 11/21/2018 | 40.78783 | -73.97422 |\n| 26422007 | Spacious one bedroom with gym and roof top         | 198674086 | J                 | Manhattan, Upper West Side          | Entire home/apt | 200 |  1 | 2018-11-30 | 0.14 | 365 | 4.377948 |  1.2 | 0.6288449 | 05/27/2018 | 40.79560 | -73.96702 |\n|  9486332 | Brand New Upper East Side!                         |  49167534 | Andrea            | Manhattan, Upper East Side          | Entire home/apt | 175 |  0 | NA |   NA |   0 |       NA |   NA |        NA | 02/26/2018 | 40.77281 | -73.95822 |\n| 13802521 | Very Clean, Comfortable Room Available             |  26022066 | Yakup             | Brooklyn, Midwood                   | Private room    |  50 | 10 | 2019-04-28 | 0.30 |   0 | 4.597951 | 12.0 | 0.8646470 | 10/23/2018 | 40.61295 | -73.95366 |\n|  2560559 | Sunny Private Room Near Prospect Pk                |   2766490 | Daisy             | Brooklyn, Crown Heights             | Private room    |  50 |  1 | 2016-01-03 | 0.02 |   0 | 4.753029 |  1.2 | 0.6329486 | 06/30/2015 | 40.68027 | -73.96379 |\n| 30539229 | Heart of Little Italy / Soho                       |  49223549 | Michael           | Manhattan, Little Italy             | Entire home/apt | 250 |  0 | NA |   NA |   0 |       NA |   NA |        NA | 02/15/2018 | 40.72007 | -73.99695 |\n| 17224797 | Quiet Apt in the Upper West Side near Central Park | 115567902 | Élodie            | Manhattan, Upper West Side          | Entire home/apt | 160 | 22 | 2019-03-22 | 0.75 |   0 | 4.110276 | 26.4 | 0.7004524 | 09/16/2018 | 40.78141 | -73.97681 |\n|  1474752 | Dope Williamsburg Apartment                        |   2259113 | Ange              | Brooklyn, Williamsburg              | Private room    |  NA | 23 | 2019-05-06 | 0.32 | 159 | 3.962641 | 27.6 | 0.7347836 | 10/31/2018 | 40.71215 | -73.95637 |\n| 22016391 | Your own Loft/gallery in Bushwick!                 |  43872938 | Shir              | Brooklyn, Bushwick                  | Private room    |  NA |  3 | 2018-04-09 | 0.17 |   0 | 3.472408 |  3.6 | 0.6331992 | 10/04/2017 | 40.69264 | -73.90485 |\n|   165461 | Couldn't Be Closer To Columbia Uni2                |    867225 | Rahul             | Manhattan, Morningside Heights      | Private room    |  75 | 57 | 2019-01-01 | 0.59 | 201 | 3.272092 | 68.4 | 0.6799128 | 06/28/2018 | 40.80525 | -73.95916 |\n|   397420 | New York Host who knows The Most                   |   1985717 | Darktalia         | Manhattan, Harlem                   | Private room    |  85 |  6 | 2017-09-05 | 0.07 | 363 | 3.927216 |  7.2 | 0.6093334 | 03/02/2017 | 40.82703 | -73.94311 |\n| 23979192 | Huge, bright 1 bed w/ priv yard in Crown Heights!  |  15538912 | Michelle          | Brooklyn, Crown Heights             | Entire home/apt |  77 |  3 | 2018-09-23 | 0.20 |   0 | 4.719189 |  3.6 | 0.6084610 | 03/20/2018 | 40.67395 | -73.94874 |\n| 22307861 | Lovely 1BR Harlem apartment                        |  16004068 | Rachel            | Manhattan, Harlem                   | Entire home/apt | 105 |  4 | 2018-05-28 | 0.21 |   0 | 4.757555 |  4.8 | 0.6392230 | 11/22/2017 | 40.80379 | -73.95257 |\n|   953275 | Apartment For Your Holidays in NYC!                |   4460034 | Alain             | Manhattan, East Harlem              | Entire home/apt | 125 | 50 | 2018-05-06 | 0.66 | 188 | 4.344704 | 60.0 | 0.6487781 | 10/31/2017 | 40.79531 | -73.93330 |\n|  3452835 | Artsy, Garden Getaway in Central Brooklyn          |    666862 | Amy               | Brooklyn, Clinton Hill              | Entire home/apt | 100 | 45 | 2016-11-27 | 0.98 |   0 | 3.966214 | 54.0 | 0.6317133 | 05/24/2016 | 40.68266 | -73.96743 |\n| 23540194 | Immaculate townhouse in Clinton Hill, Brooklyn     |  67176930 | Sophie            | Brooklyn, Clinton Hill              | Entire home/apt | 450 |  2 | 2019-05-31 | 0.17 |  99 | 4.078581 |  2.4 | 0.7033598 | 11/25/2018 | 40.68832 | -73.96366 |\n| 32876011 | Private room in a perfect location in the city     |  59583716 | Shai              | Manhattan, Upper East Side          | Private room    |  90 |  1 | 2019-03-12 | 0.25 |   8 | 4.069096 |  1.2 | 0.7202495 | 09/06/2018 | 40.76174 | -73.96625 |\n\n",
            "text/html": [
              "<table>\n",
              "<caption>A data.frame: 10019 × 17</caption>\n",
              "<thead>\n",
              "\t<tr><th scope=col>listing_id</th><th scope=col>description</th><th scope=col>host_id</th><th scope=col>host_name</th><th scope=col>nbhood_full</th><th scope=col>room_type</th><th scope=col>price</th><th scope=col>nb_reviews</th><th scope=col>last_review</th><th scope=col>reviews_per_month</th><th scope=col>availability_365</th><th scope=col>avg_rating</th><th scope=col>avg_stays_per_month</th><th scope=col>pct_5_stars</th><th scope=col>listing_added</th><th scope=col>latitude</th><th scope=col>longitude</th></tr>\n",
              "\t<tr><th scope=col>&lt;dbl&gt;</th><th scope=col>&lt;chr&gt;</th><th scope=col>&lt;dbl&gt;</th><th scope=col>&lt;chr&gt;</th><th scope=col>&lt;chr&gt;</th><th scope=col>&lt;chr&gt;</th><th scope=col>&lt;dbl&gt;</th><th scope=col>&lt;dbl&gt;</th><th scope=col>&lt;date&gt;</th><th scope=col>&lt;dbl&gt;</th><th scope=col>&lt;dbl&gt;</th><th scope=col>&lt;dbl&gt;</th><th scope=col>&lt;dbl&gt;</th><th scope=col>&lt;dbl&gt;</th><th scope=col>&lt;chr&gt;</th><th scope=col>&lt;dbl&gt;</th><th scope=col>&lt;dbl&gt;</th></tr>\n",
              "</thead>\n",
              "<tbody>\n",
              "\t<tr><td>13740704</td><td>Cozy,budget friendly, cable inc, private entrance!</td><td> 20583125</td><td>Michel      </td><td>Brooklyn, Flatlands          </td><td>Private room   </td><td> 45</td><td> 10</td><td>2018-12-12</td><td>0.70</td><td> 85</td><td>4.100954</td><td> 12.0</td><td>0.6094315</td><td>06/08/2018</td><td>40.63222</td><td>-73.93398</td></tr>\n",
              "\t<tr><td>22005115</td><td>Two floor apartment near Central Park             </td><td> 82746113</td><td>Cecilia     </td><td>Manhattan, Upper West Side   </td><td>Entire home/apt</td><td>135</td><td>  1</td><td>2019-06-30</td><td>1.00</td><td>145</td><td>3.367600</td><td>  1.2</td><td>0.7461346</td><td>12/25/2018</td><td>40.78761</td><td>-73.96862</td></tr>\n",
              "\t<tr><td>21667615</td><td>Beautiful 1BR in Brooklyn Heights                 </td><td>    78251</td><td>Leslie      </td><td>Brooklyn, Brooklyn Heights   </td><td>Entire home/apt</td><td>150</td><td>  0</td><td>NA</td><td>  NA</td><td> 65</td><td>      NA</td><td>   NA</td><td>       NA</td><td>08/15/2018</td><td>40.70070</td><td>-73.99517</td></tr>\n",
              "\t<tr><td> 6425850</td><td>Spacious, charming studio                         </td><td> 32715865</td><td>Yelena      </td><td>Manhattan, Upper West Side   </td><td>Entire home/apt</td><td> 86</td><td>  5</td><td>2017-09-23</td><td>0.13</td><td>  0</td><td>4.763203</td><td>  6.0</td><td>0.7699471</td><td>03/20/2017</td><td>40.79169</td><td>-73.97498</td></tr>\n",
              "\t<tr><td>22986519</td><td>Bedroom on the lively Lower East Side             </td><td>154262349</td><td>Brooke      </td><td>Manhattan, Lower East Side   </td><td>Private room   </td><td>160</td><td> 23</td><td>2019-06-12</td><td>2.29</td><td>102</td><td>3.822591</td><td> 27.6</td><td>0.6493831</td><td>10/23/2020</td><td>40.71884</td><td>-73.98354</td></tr>\n",
              "\t<tr><td>  271954</td><td>Beautiful brownstone apartment                    </td><td>  1423798</td><td>Aj          </td><td>Manhattan, Greenwich Village </td><td>Entire home/apt</td><td>150</td><td>203</td><td>2019-06-20</td><td>2.22</td><td>300</td><td>4.478396</td><td>243.6</td><td>0.7434997</td><td>12/15/2018</td><td>40.73388</td><td>-73.99452</td></tr>\n",
              "\t<tr><td>33473567</td><td>Hamilton Heights Full Floor Garden Apt            </td><td> 33388853</td><td>Christine   </td><td>Manhattan, Harlem            </td><td>Entire home/apt</td><td>200</td><td>  0</td><td>NA</td><td>  NA</td><td>219</td><td>      NA</td><td>   NA</td><td>       NA</td><td>05/05/2018</td><td>40.83090</td><td>-73.94308</td></tr>\n",
              "\t<tr><td>14218742</td><td>Luxury/3bedroom/3bthrm/Privateprkng/beach/rstrnts </td><td> 78824908</td><td>Ilona       </td><td>Brooklyn, Sheepshead Bay     </td><td>Entire home/apt</td><td>224</td><td>  2</td><td>2018-06-22</td><td>0.08</td><td>353</td><td>4.091228</td><td>  2.4</td><td>0.6903933</td><td>12/17/2017</td><td>40.58531</td><td>-73.93811</td></tr>\n",
              "\t<tr><td>15125599</td><td>Beautiful One Bedroom Apartment Near Central Park </td><td>  3191545</td><td>Kyle        </td><td>Manhattan, Theater District  </td><td>Entire home/apt</td><td>169</td><td>  5</td><td>2017-06-25</td><td>0.15</td><td>365</td><td>3.562947</td><td>  6.0</td><td>0.7045380</td><td>12/20/2016</td><td>40.76100</td><td>-73.98522</td></tr>\n",
              "\t<tr><td>24553891</td><td>Enjoy all of Manhattan. Big Apple! A Mini-MOMA!   </td><td> 68557372</td><td>Shannon     </td><td>Manhattan, Harlem            </td><td>Entire home/apt</td><td> 75</td><td>  8</td><td>2019-04-24</td><td>0.66</td><td>  9</td><td>4.695769</td><td>  9.6</td><td>0.7500734</td><td>10/19/2018</td><td>40.80667</td><td>-73.95182</td></tr>\n",
              "\t<tr><td>26386759</td><td>Cozy and extremely well located Bushwick room     </td><td> 86892036</td><td>Michael     </td><td>Brooklyn, Bushwick           </td><td>Private room   </td><td> 50</td><td>  5</td><td>2018-07-29</td><td>0.41</td><td>  0</td><td>3.260108</td><td>  6.0</td><td>0.6951742</td><td>01/23/2018</td><td>40.70103</td><td>-73.91901</td></tr>\n",
              "\t<tr><td>34446664</td><td>Home away from home                               </td><td>260038086</td><td>Kimberly    </td><td>Queens, Laurelton            </td><td>Entire home/apt</td><td>254</td><td>  2</td><td>2019-06-03</td><td>1.46</td><td> 24</td><td>3.750804</td><td>  2.4</td><td>0.7732289</td><td>11/28/2018</td><td>40.66880</td><td>-73.74384</td></tr>\n",
              "\t<tr><td>18048473</td><td>#3 Private  Quadruple  Room  20mnts from Manhattan</td><td> 42093468</td><td>Tsotne (Tut)</td><td>Bronx, Mott Haven            </td><td>Private room   </td><td> 41</td><td> 21</td><td>2019-06-20</td><td>0.78</td><td>334</td><td>4.315455</td><td> 25.2</td><td>0.6373133</td><td>12/15/2018</td><td>40.81217</td><td>-73.91777</td></tr>\n",
              "\t<tr><td> 6336480</td><td>Available in August only. One room with twin bed. </td><td> 12459436</td><td>Zena        </td><td>Queens, Flushing             </td><td>Private room   </td><td> 49</td><td>  0</td><td>NA</td><td>  NA</td><td> 27</td><td>      NA</td><td>   NA</td><td>       NA</td><td>06/01/2018</td><td>40.73627</td><td>-73.81305</td></tr>\n",
              "\t<tr><td>20572019</td><td>Brooklyn home available                           </td><td>145219249</td><td>Dovber      </td><td>Brooklyn, Crown Heights      </td><td>Entire home/apt</td><td>350</td><td>  0</td><td>NA</td><td>  NA</td><td>  0</td><td>      NA</td><td>   NA</td><td>       NA</td><td>07/20/2018</td><td>40.66592</td><td>-73.94266</td></tr>\n",
              "\t<tr><td>35831474</td><td>Large Apt with Patio, walking to Times Square!!!!!</td><td> 79008205</td><td>Josh        </td><td>Manhattan, Midtown           </td><td>Entire home/apt</td><td>165</td><td>  0</td><td>NA</td><td>  NA</td><td>330</td><td>      NA</td><td>   NA</td><td>       NA</td><td>10/14/2018</td><td>40.75225</td><td>-73.97107</td></tr>\n",
              "\t<tr><td>21698446</td><td><span style=white-space:pre-wrap>Private Room In Manhattan!                        </span></td><td> 32798079</td><td>Mike &amp; Kevin</td><td><span style=white-space:pre-wrap>Manhattan, Harlem            </span></td><td><span style=white-space:pre-wrap>Private room   </span></td><td> 98</td><td> 94</td><td>2019-07-03</td><td>4.65</td><td>117</td><td>3.035046</td><td>112.8</td><td>0.6494436</td><td>12/28/2018</td><td>40.81691</td><td>-73.93735</td></tr>\n",
              "\t<tr><td>33635065</td><td>Sonder | Stock Exchange | Cozy 1BR + Laundry      </td><td>219517861</td><td>Sonder (NYC)</td><td>Manhattan, Financial District</td><td>Entire home/apt</td><td>230</td><td>  6</td><td>2019-06-20</td><td>2.28</td><td>327</td><td>4.203225</td><td>  7.2</td><td>0.6904392</td><td>12/15/2018</td><td>40.70710</td><td>-74.01194</td></tr>\n",
              "\t<tr><td> 1479113</td><td>Spacious, quiet room with private full bathroom.  </td><td>   176836</td><td>Gil         </td><td>Manhattan, Lower East Side   </td><td>Private room   </td><td> 49</td><td> 90</td><td>2019-01-01</td><td>1.29</td><td>  0</td><td>3.347610</td><td>108.0</td><td>0.7058617</td><td>06/28/2018</td><td>40.71501</td><td>-73.98061</td></tr>\n",
              "\t<tr><td>14817574</td><td>Spacious Room in the heart of Greenwich Village!  </td><td> 88398053</td><td>Colleen     </td><td>Manhattan, Greenwich Village </td><td>Private        </td><td> 99</td><td>  5</td><td>2017-08-20</td><td>0.15</td><td>  0</td><td>4.847749</td><td>  6.0</td><td>0.6377123</td><td>02/14/2017</td><td>40.72807</td><td>-73.99925</td></tr>\n",
              "\t<tr><td>26398320</td><td>Cozy room w/ private balcony and incredible views!</td><td> 45448756</td><td>Lucia       </td><td>Manhattan, East Village      </td><td>Private room   </td><td> 99</td><td>  5</td><td>2019-05-20</td><td>0.43</td><td> 11</td><td>3.411370</td><td>  6.0</td><td>0.6742734</td><td>11/14/2018</td><td>40.72777</td><td>-73.98568</td></tr>\n",
              "\t<tr><td> 6654984</td><td>Beautiful apartment in trendy Brooklyn            </td><td>  5417600</td><td>Elvira      </td><td>Brooklyn, Park Slope         </td><td>Entire home/apt</td><td>200</td><td>  4</td><td>2018-06-16</td><td>0.14</td><td>173</td><td>3.088651</td><td>  4.8</td><td>0.6410035</td><td>12/11/2017</td><td>40.67376</td><td>-73.98397</td></tr>\n",
              "\t<tr><td>20655740</td><td>Penthouse Studio with Queen Bed &amp; Private Rooftop </td><td><span style=white-space:pre-wrap>  6655660</span></td><td><span style=white-space:pre-wrap>Kate        </span></td><td><span style=white-space:pre-wrap>Manhattan, Lower East Side   </span></td><td>Entire home/apt</td><td>275</td><td> 17</td><td>2019-05-22</td><td>0.76</td><td>171</td><td>3.620231</td><td> 20.4</td><td>0.6066024</td><td>11/16/2018</td><td>40.71798</td><td>-73.98418</td></tr>\n",
              "\t<tr><td>21324522</td><td>Brownstone Duplex with Private Outdoor Patio!     </td><td> 12337318</td><td>Andrew      </td><td>Manhattan, Harlem            </td><td>Entire home/apt</td><td>200</td><td> 38</td><td>2019-06-10</td><td>1.89</td><td>101</td><td>4.185765</td><td> 45.6</td><td>0.6396073</td><td>12/05/2018</td><td>40.82296</td><td>-73.94545</td></tr>\n",
              "\t<tr><td>35389003</td><td>Live good live cheap in Manhattan                 </td><td>109231531</td><td>Sophia      </td><td>Manhattan, Washington Heights</td><td>Private room   </td><td> 90</td><td>  0</td><td>NA</td><td>  NA</td><td>179</td><td>      NA</td><td>   NA</td><td>       NA</td><td>05/23/2018</td><td>40.84414</td><td>-73.94099</td></tr>\n",
              "\t<tr><td> 9823806</td><td>Spacious 1BD-1 Block to Bedford L!                </td><td> 18195071</td><td>Ben         </td><td>Brooklyn, Williamsburg       </td><td>Entire home/apt</td><td>160</td><td>  0</td><td>NA</td><td>  NA</td><td>  0</td><td>      NA</td><td>   NA</td><td>       NA</td><td>06/16/2018</td><td>40.71481</td><td>-73.95475</td></tr>\n",
              "\t<tr><td>11532518</td><td>1 Bedroom Apt East Village/USQ                    </td><td> 24319977</td><td>Charles     </td><td>Manhattan, East Village      </td><td>Entire home/apt</td><td>200</td><td>  0</td><td>NA</td><td>  NA</td><td>  0</td><td>      NA</td><td>   NA</td><td>       NA</td><td>07/01/2018</td><td>40.72895</td><td>-73.98558</td></tr>\n",
              "\t<tr><td>13885982</td><td>The Bushwick Museum                               </td><td> 11841497</td><td>Amanda      </td><td>Brooklyn, Bushwick           </td><td>Private room   </td><td> 55</td><td>  3</td><td>2016-07-29</td><td>0.08</td><td>  0</td><td>3.207637</td><td>  3.6</td><td>0.7301396</td><td>01/24/2016</td><td>40.70112</td><td>-73.93086</td></tr>\n",
              "\t<tr><td>23514583</td><td>Luxury High Line Chelsea Doorman, Roof Deck/Gym   </td><td> 19043062</td><td>Regi        </td><td>Manhattan, Chelsea           </td><td>Entire home/apt</td><td>150</td><td> 21</td><td>2019-06-19</td><td>1.46</td><td>  5</td><td>4.969093</td><td> 25.2</td><td>0.8677525</td><td>12/14/2018</td><td>40.74057</td><td>-74.00263</td></tr>\n",
              "\t<tr><td>25328184</td><td>Bedstuy Fly!  Two Bedroom Garden Apartment.       </td><td>  1417893</td><td>Ingrid      </td><td>Brooklyn, Bedford-Stuyvesant </td><td>Entire home/apt</td><td>160</td><td> 52</td><td>2019-06-22</td><td>3.90</td><td> 37</td><td>4.418134</td><td> 62.4</td><td>0.7033453</td><td>12/17/2018</td><td>40.68902</td><td>-73.92838</td></tr>\n",
              "\t<tr><td>⋮</td><td>⋮</td><td>⋮</td><td>⋮</td><td>⋮</td><td>⋮</td><td>⋮</td><td>⋮</td><td>⋮</td><td>⋮</td><td>⋮</td><td>⋮</td><td>⋮</td><td>⋮</td><td>⋮</td><td>⋮</td><td>⋮</td></tr>\n",
              "\t<tr><td> 3642801</td><td>Cozy Brooklyn  studio, 30 min to Manhattan        </td><td>  2052361</td><td>Katya            </td><td>Brooklyn, Prospect-Lefferts Gardens</td><td>Entire home/apt</td><td> 80</td><td>24</td><td>2019-06-23</td><td>0.40</td><td> 19</td><td>4.697801</td><td>28.8</td><td>0.8047054</td><td>12/18/2018</td><td>40.65530</td><td>-73.95816</td></tr>\n",
              "\t<tr><td>33884349</td><td>Comfy Bronx home away from home                   </td><td> 54136018</td><td>Louise           </td><td>Bronx, Kingsbridge                 </td><td>Private room   </td><td> 35</td><td> 8</td><td>2019-06-27</td><td>8.00</td><td> 48</td><td>3.958748</td><td> 9.6</td><td>0.6212383</td><td>12/22/2018</td><td>40.86925</td><td>-73.89974</td></tr>\n",
              "\t<tr><td>36347051</td><td>Beautiful Large Bedroom in the Heart of Harlem    </td><td>273101668</td><td>Betty            </td><td>Manhattan, Harlem                  </td><td>Private        </td><td> 60</td><td> 0</td><td>NA</td><td>  NA</td><td> 72</td><td>      NA</td><td>  NA</td><td>       NA</td><td>04/18/2018</td><td>40.83225</td><td>-73.94496</td></tr>\n",
              "\t<tr><td>35805262</td><td>Discounted! Quiet 1 BR next to Times Square       </td><td> 10745276</td><td>Kortney William  </td><td>Manhattan, Hell's Kitchen          </td><td>Entire home/apt</td><td>225</td><td> 0</td><td>NA</td><td>  NA</td><td>270</td><td>      NA</td><td>  NA</td><td>       NA</td><td>08/02/2018</td><td>40.75993</td><td>-73.99074</td></tr>\n",
              "\t<tr><td>22452129</td><td>Private Guest Bedroom with beautiful back yard.   </td><td>164516331</td><td>Hamza            </td><td>Brooklyn, Bedford-Stuyvesant       </td><td>Private room   </td><td> 85</td><td>33</td><td>2018-09-30</td><td>1.86</td><td>  0</td><td>4.133026</td><td>39.6</td><td>0.7225106</td><td>03/27/2018</td><td>40.68108</td><td>-73.92729</td></tr>\n",
              "\t<tr><td>28011594</td><td>Large Bedroom Steps from Subway (Ground Flr Room) </td><td> 29582232</td><td>Lee And Teri     </td><td>Brooklyn, Flatbush                 </td><td>Private room   </td><td> 68</td><td>42</td><td>2019-06-08</td><td>3.96</td><td> 47</td><td>4.700073</td><td>50.4</td><td>0.8470263</td><td>12/03/2018</td><td>40.64184</td><td>-73.96420</td></tr>\n",
              "\t<tr><td>28390924</td><td>Comfortable rooms 15 minutes to Manhattan         </td><td> 49568280</td><td>Hakan            </td><td>Queens, Ditmars Steinway           </td><td>Private room   </td><td> 95</td><td> 0</td><td>NA</td><td>  NA</td><td>177</td><td>      NA</td><td>  NA</td><td>       NA</td><td>06/09/2018</td><td>40.77699</td><td>-73.91354</td></tr>\n",
              "\t<tr><td>24834058</td><td>Queens C Place                                    </td><td>156716488</td><td>Christine        </td><td>Queens, South Ozone Park           </td><td>Private room   </td><td> 48</td><td>15</td><td>2019-07-02</td><td>1.18</td><td>365</td><td>3.891295</td><td>18.0</td><td>0.6150650</td><td>12/27/2018</td><td>40.66872</td><td>-73.79417</td></tr>\n",
              "\t<tr><td>27505253</td><td>Private room with king sized bed in Brooklyn.     </td><td>    31378</td><td>Kristine         </td><td>Brooklyn, Crown Heights            </td><td>Private room   </td><td>100</td><td>12</td><td>2019-05-10</td><td>1.24</td><td>  2</td><td>4.395860</td><td>14.4</td><td>0.7540085</td><td>11/04/2018</td><td>40.67194</td><td>-73.96208</td></tr>\n",
              "\t<tr><td>10013750</td><td>Beautiful Garden Rooms In Lower East Side         </td><td> 20222376</td><td>Olya             </td><td>Manhattan, Lower East Side         </td><td>Private room   </td><td> 75</td><td>17</td><td>2019-06-19</td><td>0.46</td><td>128</td><td>3.973207</td><td>20.4</td><td>0.6203997</td><td>12/14/2018</td><td>40.71814</td><td>-73.99166</td></tr>\n",
              "\t<tr><td>14200676</td><td>Ideal Bushwick, 2 bdrm, basement, private garden  </td><td>   309088</td><td>Alexandre        </td><td>Brooklyn, Bushwick                 </td><td>Entire home/apt</td><td>150</td><td>18</td><td>2018-05-28</td><td>0.53</td><td>  0</td><td>4.344998</td><td>21.6</td><td>0.6968992</td><td>11/22/2017</td><td>40.69633</td><td>-73.92143</td></tr>\n",
              "\t<tr><td>16687716</td><td>Gorgeous Large Room near LGA                      </td><td> 14730722</td><td>Omar £ Jacqueline</td><td>Queens, East Elmhurst              </td><td>Private room   </td><td> 90</td><td> 9</td><td>2018-09-02</td><td>0.34</td><td>  0</td><td>4.761593</td><td>10.8</td><td>0.8837302</td><td>02/27/2018</td><td>40.76441</td><td>-73.88943</td></tr>\n",
              "\t<tr><td>18390907</td><td>Sun-soaked, charming Brooklyn home                </td><td>  3695964</td><td>Elie             </td><td>Brooklyn, Bedford-Stuyvesant       </td><td>Entire home/apt</td><td>200</td><td>37</td><td>2019-06-14</td><td>1.53</td><td>  5</td><td>3.028024</td><td>44.4</td><td>0.7587201</td><td>12/09/2018</td><td>40.68741</td><td>-73.95582</td></tr>\n",
              "\t<tr><td>14570963</td><td>Gorgeous Modern Penthouse Terrace by Central Park </td><td> 47984525</td><td>Jennie           </td><td>Manhattan, Upper West Side         </td><td>Entire home/apt</td><td>375</td><td>34</td><td>2019-05-27</td><td>0.98</td><td>  7</td><td>4.984237</td><td>40.8</td><td>0.8193433</td><td>11/21/2018</td><td>40.78783</td><td>-73.97422</td></tr>\n",
              "\t<tr><td>26422007</td><td>Spacious one bedroom with gym and roof top        </td><td>198674086</td><td>J                </td><td>Manhattan, Upper West Side         </td><td>Entire home/apt</td><td>200</td><td> 1</td><td>2018-11-30</td><td>0.14</td><td>365</td><td>4.377948</td><td> 1.2</td><td>0.6288449</td><td>05/27/2018</td><td>40.79560</td><td>-73.96702</td></tr>\n",
              "\t<tr><td> 9486332</td><td>Brand New Upper East Side!                        </td><td> 49167534</td><td>Andrea           </td><td>Manhattan, Upper East Side         </td><td>Entire home/apt</td><td>175</td><td> 0</td><td>NA</td><td>  NA</td><td>  0</td><td>      NA</td><td>  NA</td><td>       NA</td><td>02/26/2018</td><td>40.77281</td><td>-73.95822</td></tr>\n",
              "\t<tr><td>13802521</td><td>Very Clean, Comfortable Room Available            </td><td> 26022066</td><td>Yakup            </td><td>Brooklyn, Midwood                  </td><td>Private room   </td><td> 50</td><td>10</td><td>2019-04-28</td><td>0.30</td><td>  0</td><td>4.597951</td><td>12.0</td><td>0.8646470</td><td>10/23/2018</td><td>40.61295</td><td>-73.95366</td></tr>\n",
              "\t<tr><td> 2560559</td><td>Sunny Private Room Near Prospect Pk               </td><td>  2766490</td><td>Daisy            </td><td>Brooklyn, Crown Heights            </td><td>Private room   </td><td> 50</td><td> 1</td><td>2016-01-03</td><td>0.02</td><td>  0</td><td>4.753029</td><td> 1.2</td><td>0.6329486</td><td>06/30/2015</td><td>40.68027</td><td>-73.96379</td></tr>\n",
              "\t<tr><td>30539229</td><td>Heart of Little Italy / Soho                      </td><td> 49223549</td><td>Michael          </td><td>Manhattan, Little Italy            </td><td>Entire home/apt</td><td>250</td><td> 0</td><td>NA</td><td>  NA</td><td>  0</td><td>      NA</td><td>  NA</td><td>       NA</td><td>02/15/2018</td><td>40.72007</td><td>-73.99695</td></tr>\n",
              "\t<tr><td>17224797</td><td>Quiet Apt in the Upper West Side near Central Park</td><td>115567902</td><td>Élodie           </td><td>Manhattan, Upper West Side         </td><td>Entire home/apt</td><td>160</td><td>22</td><td>2019-03-22</td><td>0.75</td><td>  0</td><td>4.110276</td><td>26.4</td><td>0.7004524</td><td>09/16/2018</td><td>40.78141</td><td>-73.97681</td></tr>\n",
              "\t<tr><td> 1474752</td><td>Dope Williamsburg Apartment                       </td><td>  2259113</td><td>Ange             </td><td>Brooklyn, Williamsburg             </td><td>Private room   </td><td> NA</td><td>23</td><td>2019-05-06</td><td>0.32</td><td>159</td><td>3.962641</td><td>27.6</td><td>0.7347836</td><td>10/31/2018</td><td>40.71215</td><td>-73.95637</td></tr>\n",
              "\t<tr><td>22016391</td><td>Your own Loft/gallery in Bushwick!                </td><td> 43872938</td><td>Shir             </td><td>Brooklyn, Bushwick                 </td><td>Private room   </td><td> NA</td><td> 3</td><td>2018-04-09</td><td>0.17</td><td>  0</td><td>3.472408</td><td> 3.6</td><td>0.6331992</td><td>10/04/2017</td><td>40.69264</td><td>-73.90485</td></tr>\n",
              "\t<tr><td>  165461</td><td>Couldn't Be Closer To Columbia Uni2               </td><td>   867225</td><td>Rahul            </td><td>Manhattan, Morningside Heights     </td><td>Private room   </td><td> 75</td><td>57</td><td>2019-01-01</td><td>0.59</td><td>201</td><td>3.272092</td><td>68.4</td><td>0.6799128</td><td>06/28/2018</td><td>40.80525</td><td>-73.95916</td></tr>\n",
              "\t<tr><td>  397420</td><td>New York Host who knows The Most                  </td><td>  1985717</td><td>Darktalia        </td><td>Manhattan, Harlem                  </td><td>Private room   </td><td> 85</td><td> 6</td><td>2017-09-05</td><td>0.07</td><td>363</td><td>3.927216</td><td> 7.2</td><td>0.6093334</td><td>03/02/2017</td><td>40.82703</td><td>-73.94311</td></tr>\n",
              "\t<tr><td>23979192</td><td>Huge, bright 1 bed w/ priv yard in Crown Heights! </td><td> 15538912</td><td>Michelle         </td><td>Brooklyn, Crown Heights            </td><td>Entire home/apt</td><td> 77</td><td> 3</td><td>2018-09-23</td><td>0.20</td><td>  0</td><td>4.719189</td><td> 3.6</td><td>0.6084610</td><td>03/20/2018</td><td>40.67395</td><td>-73.94874</td></tr>\n",
              "\t<tr><td>22307861</td><td>Lovely 1BR Harlem apartment                       </td><td> 16004068</td><td>Rachel           </td><td>Manhattan, Harlem                  </td><td>Entire home/apt</td><td>105</td><td> 4</td><td>2018-05-28</td><td>0.21</td><td>  0</td><td>4.757555</td><td> 4.8</td><td>0.6392230</td><td>11/22/2017</td><td>40.80379</td><td>-73.95257</td></tr>\n",
              "\t<tr><td>  953275</td><td>Apartment For Your Holidays in NYC!               </td><td>  4460034</td><td>Alain            </td><td>Manhattan, East Harlem             </td><td>Entire home/apt</td><td>125</td><td>50</td><td>2018-05-06</td><td>0.66</td><td>188</td><td>4.344704</td><td>60.0</td><td>0.6487781</td><td>10/31/2017</td><td>40.79531</td><td>-73.93330</td></tr>\n",
              "\t<tr><td> 3452835</td><td>Artsy, Garden Getaway in Central Brooklyn         </td><td>   666862</td><td>Amy              </td><td>Brooklyn, Clinton Hill             </td><td>Entire home/apt</td><td>100</td><td>45</td><td>2016-11-27</td><td>0.98</td><td>  0</td><td>3.966214</td><td>54.0</td><td>0.6317133</td><td>05/24/2016</td><td>40.68266</td><td>-73.96743</td></tr>\n",
              "\t<tr><td>23540194</td><td>Immaculate townhouse in Clinton Hill, Brooklyn    </td><td> 67176930</td><td>Sophie           </td><td>Brooklyn, Clinton Hill             </td><td>Entire home/apt</td><td>450</td><td> 2</td><td>2019-05-31</td><td>0.17</td><td> 99</td><td>4.078581</td><td> 2.4</td><td>0.7033598</td><td>11/25/2018</td><td>40.68832</td><td>-73.96366</td></tr>\n",
              "\t<tr><td>32876011</td><td>Private room in a perfect location in the city    </td><td> 59583716</td><td>Shai             </td><td>Manhattan, Upper East Side         </td><td>Private room   </td><td> 90</td><td> 1</td><td>2019-03-12</td><td>0.25</td><td>  8</td><td>4.069096</td><td> 1.2</td><td>0.7202495</td><td>09/06/2018</td><td>40.76174</td><td>-73.96625</td></tr>\n",
              "</tbody>\n",
              "</table>\n"
            ]
          },
          "metadata": {
            "tags": []
          }
        }
      ]
    },
    {
      "cell_type": "code",
      "metadata": {
        "id": "8seEBSrFb_nx",
        "colab_type": "code",
        "colab": {}
      },
      "source": [
        "?strptime"
      ],
      "execution_count": 0,
      "outputs": []
    }
  ]
}