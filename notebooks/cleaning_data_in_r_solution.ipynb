{
  "nbformat": 4,
  "nbformat_minor": 0,
  "metadata": {
    "colab": {
      "name": "student_notebook.ipynb",
      "provenance": []
    },
    "kernelspec": {
      "name": "ir",
      "display_name": "R"
    }
  },
  "cells": [
    {
      "cell_type": "markdown",
      "metadata": {
        "id": "OJYbvo8eV-Rd",
        "colab_type": "text"
      },
      "source": [
        "<p align=\"center\">\n",
        "<img src=\"https://github.com/datacamp/r-live-training-template/blob/master/assets/datacamp.svg?raw=True\" alt = \"DataCamp icon\" width=\"50%\">\n",
        "<br>\n",
        "<h1 align=\"center\">Cleaning Data in R Live Training</h1>\n",
        "</p>\n",
        "<br>\n",
        "\n",
        "\n",
        "Welcome to this hands-on training where you'll identify issues in a dataset and clean it from start to finish using R. It's often said that data scientists spend 80% of their time cleaning and manipulating data and only about 20% of their time analyzing it, so cleaning data is an important skill to master!\n",
        "\n",
        "In this session, you will:\n",
        "\n",
        "- Examine a dataset and identify its problem areas, and what needs to be done to fix them.\n",
        "-Convert between data types to make analysis easier.\n",
        "- Correct inconsistencies in categorical data.\n",
        "- Deal with missing data.\n",
        "- Perform data validation to ensure every value makes sense.\n",
        "\n",
        "## **The Dataset**\n",
        "\n",
        "The dataset we'll use is a CSV file named `nyc_airbnb.csv`, which contains data on [*Airbnb*](https://www.airbnb.com/) listings in New York City. It contains the following columns:\n",
        "\n",
        "- `listing_id`: The unique identifier for a listing\n",
        "- `name`: The description used on the listing\n",
        "- `host_id`: Unique identifier for a host\n",
        "- `host_name`: Name of host\n",
        "- `nbhood_full`: Name of borough and neighborhood\n",
        "- `coordinates`: Coordinates of listing _(latitude, longitude)_\n",
        "- `room_type`: Type of room \n",
        "- `price`: Price per night for listing\n",
        "- `nb_reviews`: Number of reviews received \n",
        "- `last_review`: Date of last review\n",
        "- `reviews_per_month`: Average number of reviews per month\n",
        "- `availability_365`: Number of days available per year\n",
        "- `avg_rating`: Average rating (from 0 to 5)\n",
        "- `avg_stays_per_month`: Average number of stays per month\n",
        "- `pct_5_stars`: Percent of reviews that were 5-stars\n",
        "- `listing_added`: Date when listing was added\n"
      ]
    },
    {
      "cell_type": "code",
      "metadata": {
        "id": "KUKG6fNMV_zf",
        "colab_type": "code",
        "cellView": "both",
        "colab": {}
      },
      "source": [
        "# Install non-tidyverse packages\n",
        "install.packages(\"visdat\")"
      ],
      "execution_count": 0,
      "outputs": []
    },
    {
      "cell_type": "code",
      "metadata": {
        "id": "brr08aZX9Wss",
        "colab_type": "code",
        "colab": {
          "base_uri": "https://localhost:8080/",
          "height": 368
        },
        "outputId": "43673072-3bfe-49de-d240-95f6579d11e7"
      },
      "source": [
        "# Load packages\n",
        "library(readr)\n",
        "library(dplyr)\n",
        "library(stringr)\n",
        "library(visdat)\n",
        "library(tidyr)\n",
        "library(ggplot2)\n",
        "library(forcats)"
      ],
      "execution_count": 2,
      "outputs": [
        {
          "output_type": "stream",
          "text": [
            "\n",
            "Attaching package: ‘dplyr’\n",
            "\n",
            "\n",
            "The following objects are masked from ‘package:stats’:\n",
            "\n",
            "    filter, lag\n",
            "\n",
            "\n",
            "The following objects are masked from ‘package:base’:\n",
            "\n",
            "    intersect, setdiff, setequal, union\n",
            "\n",
            "\n"
          ],
          "name": "stderr"
        },
        {
          "output_type": "error",
          "ename": "ERROR",
          "evalue": "ignored",
          "traceback": [
            "Error in library(visdat): there is no package called ‘visdat’\nTraceback:\n",
            "1. library(visdat)"
          ]
        }
      ]
    },
    {
      "cell_type": "code",
      "metadata": {
        "id": "9VJyZeEo9M4O",
        "colab_type": "code",
        "colab": {
          "base_uri": "https://localhost:8080/",
          "height": 357
        },
        "outputId": "c4ac316c-c4c1-46fe-c2c7-cc7e45e44288"
      },
      "source": [
        "# Load dataset\n",
        "airbnb <- read_csv(\"https://raw.githubusercontent.com/datacamp/cleaning-data-in-r-live-training/master/assets/nyc_airbnb.csv\")"
      ],
      "execution_count": 3,
      "outputs": [
        {
          "output_type": "stream",
          "text": [
            "Parsed with column specification:\n",
            "cols(\n",
            "  listing_id = \u001b[32mcol_double()\u001b[39m,\n",
            "  description = \u001b[31mcol_character()\u001b[39m,\n",
            "  host_id = \u001b[32mcol_double()\u001b[39m,\n",
            "  host_name = \u001b[31mcol_character()\u001b[39m,\n",
            "  nbhood_full = \u001b[31mcol_character()\u001b[39m,\n",
            "  coordinates = \u001b[31mcol_character()\u001b[39m,\n",
            "  room_type = \u001b[31mcol_character()\u001b[39m,\n",
            "  price = \u001b[31mcol_character()\u001b[39m,\n",
            "  nb_reviews = \u001b[32mcol_double()\u001b[39m,\n",
            "  last_review = \u001b[31mcol_character()\u001b[39m,\n",
            "  reviews_per_month = \u001b[32mcol_double()\u001b[39m,\n",
            "  availability_365 = \u001b[32mcol_double()\u001b[39m,\n",
            "  avg_rating = \u001b[32mcol_double()\u001b[39m,\n",
            "  avg_stays_per_month = \u001b[32mcol_double()\u001b[39m,\n",
            "  pct_5_stars = \u001b[32mcol_double()\u001b[39m,\n",
            "  listing_added = \u001b[31mcol_character()\u001b[39m\n",
            ")\n",
            "\n"
          ],
          "name": "stderr"
        }
      ]
    },
    {
      "cell_type": "code",
      "metadata": {
        "id": "89DXT3Xl1SQ8",
        "colab_type": "code",
        "colab": {
          "base_uri": "https://localhost:8080/",
          "height": 513
        },
        "outputId": "589b47c9-6c28-4d7e-c103-b653593ca218"
      },
      "source": [
        "# Examine the first few rows\n",
        "head(airbnb)"
      ],
      "execution_count": 4,
      "outputs": [
        {
          "output_type": "display_data",
          "data": {
            "text/plain": [
              "  listing_id description                                        host_id  \n",
              "1 13740704   Cozy,budget friendly, cable inc, private entrance!  20583125\n",
              "2 22005115   Two floor apartment near Central Park               82746113\n",
              "3 21667615   Beautiful 1BR in Brooklyn Heights                      78251\n",
              "4  6425850   Spacious, charming studio                           32715865\n",
              "5 22986519   Bedroom on the lively Lower East Side              154262349\n",
              "6   271954   Beautiful brownstone apartment                       1423798\n",
              "  host_name nbhood_full                  coordinates           room_type      \n",
              "1 Michel    Brooklyn, Flatlands          (40.63222, -73.93398) Private room   \n",
              "2 Cecilia   Manhattan, Upper West Side   (40.78761, -73.96862) Entire home/apt\n",
              "3 Leslie    Brooklyn, Brooklyn Heights   (40.7007, -73.99517)  Entire home/apt\n",
              "4 Yelena    Manhattan, Upper West Side   (40.79169, -73.97498) Entire home/apt\n",
              "5 Brooke    Manhattan, Lower East Side   (40.71884, -73.98354) Private room   \n",
              "6 Aj        Manhattan, Greenwich Village (40.73388, -73.99452) Entire home/apt\n",
              "  price nb_reviews last_review reviews_per_month availability_365 avg_rating\n",
              "1 $45    10        12/12/2018  0.70               85              4.100954  \n",
              "2 $135    1        06/30/2019  1.00              145              3.367600  \n",
              "3 $150    0        NA            NA               65                    NA  \n",
              "4 $86     5        09/23/2017  0.13                0              4.763203  \n",
              "5 $160   23        06/12/2019  2.29              102              3.822591  \n",
              "6 $150  203        06/20/2019  2.22              300              4.478396  \n",
              "  avg_stays_per_month pct_5_stars listing_added\n",
              "1  12.0               0.6094315   06/08/2018   \n",
              "2   1.2               0.7461346   12/25/2018   \n",
              "3    NA                      NA   08/15/2018   \n",
              "4   6.0               0.7699471   03/20/2017   \n",
              "5  27.6               0.6493831   10/23/2020   \n",
              "6 243.6               0.7434997   12/15/2018   "
            ],
            "text/latex": "A tibble: 6 × 16\n\\begin{tabular}{llllllllllllllll}\n listing\\_id & description & host\\_id & host\\_name & nbhood\\_full & coordinates & room\\_type & price & nb\\_reviews & last\\_review & reviews\\_per\\_month & availability\\_365 & avg\\_rating & avg\\_stays\\_per\\_month & pct\\_5\\_stars & listing\\_added\\\\\n <dbl> & <chr> & <dbl> & <chr> & <chr> & <chr> & <chr> & <chr> & <dbl> & <chr> & <dbl> & <dbl> & <dbl> & <dbl> & <dbl> & <chr>\\\\\n\\hline\n\t 13740704 & Cozy,budget friendly, cable inc, private entrance! &  20583125 & Michel  & Brooklyn, Flatlands          & (40.63222, -73.93398) & Private room    & \\$45  &  10 & 12/12/2018 & 0.70 &  85 & 4.100954 &  12.0 & 0.6094315 & 06/08/2018\\\\\n\t 22005115 & Two floor apartment near Central Park              &  82746113 & Cecilia & Manhattan, Upper West Side   & (40.78761, -73.96862) & Entire home/apt & \\$135 &   1 & 06/30/2019 & 1.00 & 145 & 3.367600 &   1.2 & 0.7461346 & 12/25/2018\\\\\n\t 21667615 & Beautiful 1BR in Brooklyn Heights                  &     78251 & Leslie  & Brooklyn, Brooklyn Heights   & (40.7007, -73.99517)  & Entire home/apt & \\$150 &   0 & NA         &   NA &  65 &       NA &    NA &        NA & 08/15/2018\\\\\n\t  6425850 & Spacious, charming studio                          &  32715865 & Yelena  & Manhattan, Upper West Side   & (40.79169, -73.97498) & Entire home/apt & \\$86  &   5 & 09/23/2017 & 0.13 &   0 & 4.763203 &   6.0 & 0.7699471 & 03/20/2017\\\\\n\t 22986519 & Bedroom on the lively Lower East Side              & 154262349 & Brooke  & Manhattan, Lower East Side   & (40.71884, -73.98354) & Private room    & \\$160 &  23 & 06/12/2019 & 2.29 & 102 & 3.822591 &  27.6 & 0.6493831 & 10/23/2020\\\\\n\t   271954 & Beautiful brownstone apartment                     &   1423798 & Aj      & Manhattan, Greenwich Village & (40.73388, -73.99452) & Entire home/apt & \\$150 & 203 & 06/20/2019 & 2.22 & 300 & 4.478396 & 243.6 & 0.7434997 & 12/15/2018\\\\\n\\end{tabular}\n",
            "text/markdown": "\nA tibble: 6 × 16\n\n| listing_id &lt;dbl&gt; | description &lt;chr&gt; | host_id &lt;dbl&gt; | host_name &lt;chr&gt; | nbhood_full &lt;chr&gt; | coordinates &lt;chr&gt; | room_type &lt;chr&gt; | price &lt;chr&gt; | nb_reviews &lt;dbl&gt; | last_review &lt;chr&gt; | reviews_per_month &lt;dbl&gt; | availability_365 &lt;dbl&gt; | avg_rating &lt;dbl&gt; | avg_stays_per_month &lt;dbl&gt; | pct_5_stars &lt;dbl&gt; | listing_added &lt;chr&gt; |\n|---|---|---|---|---|---|---|---|---|---|---|---|---|---|---|---|\n| 13740704 | Cozy,budget friendly, cable inc, private entrance! |  20583125 | Michel  | Brooklyn, Flatlands          | (40.63222, -73.93398) | Private room    | $45  |  10 | 12/12/2018 | 0.70 |  85 | 4.100954 |  12.0 | 0.6094315 | 06/08/2018 |\n| 22005115 | Two floor apartment near Central Park              |  82746113 | Cecilia | Manhattan, Upper West Side   | (40.78761, -73.96862) | Entire home/apt | $135 |   1 | 06/30/2019 | 1.00 | 145 | 3.367600 |   1.2 | 0.7461346 | 12/25/2018 |\n| 21667615 | Beautiful 1BR in Brooklyn Heights                  |     78251 | Leslie  | Brooklyn, Brooklyn Heights   | (40.7007, -73.99517)  | Entire home/apt | $150 |   0 | NA         |   NA |  65 |       NA |    NA |        NA | 08/15/2018 |\n|  6425850 | Spacious, charming studio                          |  32715865 | Yelena  | Manhattan, Upper West Side   | (40.79169, -73.97498) | Entire home/apt | $86  |   5 | 09/23/2017 | 0.13 |   0 | 4.763203 |   6.0 | 0.7699471 | 03/20/2017 |\n| 22986519 | Bedroom on the lively Lower East Side              | 154262349 | Brooke  | Manhattan, Lower East Side   | (40.71884, -73.98354) | Private room    | $160 |  23 | 06/12/2019 | 2.29 | 102 | 3.822591 |  27.6 | 0.6493831 | 10/23/2020 |\n|   271954 | Beautiful brownstone apartment                     |   1423798 | Aj      | Manhattan, Greenwich Village | (40.73388, -73.99452) | Entire home/apt | $150 | 203 | 06/20/2019 | 2.22 | 300 | 4.478396 | 243.6 | 0.7434997 | 12/15/2018 |\n\n",
            "text/html": [
              "<table>\n",
              "<caption>A tibble: 6 × 16</caption>\n",
              "<thead>\n",
              "\t<tr><th scope=col>listing_id</th><th scope=col>description</th><th scope=col>host_id</th><th scope=col>host_name</th><th scope=col>nbhood_full</th><th scope=col>coordinates</th><th scope=col>room_type</th><th scope=col>price</th><th scope=col>nb_reviews</th><th scope=col>last_review</th><th scope=col>reviews_per_month</th><th scope=col>availability_365</th><th scope=col>avg_rating</th><th scope=col>avg_stays_per_month</th><th scope=col>pct_5_stars</th><th scope=col>listing_added</th></tr>\n",
              "\t<tr><th scope=col>&lt;dbl&gt;</th><th scope=col>&lt;chr&gt;</th><th scope=col>&lt;dbl&gt;</th><th scope=col>&lt;chr&gt;</th><th scope=col>&lt;chr&gt;</th><th scope=col>&lt;chr&gt;</th><th scope=col>&lt;chr&gt;</th><th scope=col>&lt;chr&gt;</th><th scope=col>&lt;dbl&gt;</th><th scope=col>&lt;chr&gt;</th><th scope=col>&lt;dbl&gt;</th><th scope=col>&lt;dbl&gt;</th><th scope=col>&lt;dbl&gt;</th><th scope=col>&lt;dbl&gt;</th><th scope=col>&lt;dbl&gt;</th><th scope=col>&lt;chr&gt;</th></tr>\n",
              "</thead>\n",
              "<tbody>\n",
              "\t<tr><td>13740704</td><td>Cozy,budget friendly, cable inc, private entrance!</td><td> 20583125</td><td>Michel </td><td>Brooklyn, Flatlands         </td><td>(40.63222, -73.93398)</td><td>Private room   </td><td>$45 </td><td> 10</td><td>12/12/2018</td><td>0.70</td><td> 85</td><td>4.100954</td><td> 12.0</td><td>0.6094315</td><td>06/08/2018</td></tr>\n",
              "\t<tr><td>22005115</td><td>Two floor apartment near Central Park             </td><td> 82746113</td><td>Cecilia</td><td>Manhattan, Upper West Side  </td><td>(40.78761, -73.96862)</td><td>Entire home/apt</td><td>$135</td><td>  1</td><td>06/30/2019</td><td>1.00</td><td>145</td><td>3.367600</td><td>  1.2</td><td>0.7461346</td><td>12/25/2018</td></tr>\n",
              "\t<tr><td>21667615</td><td>Beautiful 1BR in Brooklyn Heights                 </td><td>    78251</td><td>Leslie </td><td>Brooklyn, Brooklyn Heights  </td><td>(40.7007, -73.99517) </td><td>Entire home/apt</td><td>$150</td><td>  0</td><td>NA        </td><td>  NA</td><td> 65</td><td>      NA</td><td>   NA</td><td>       NA</td><td>08/15/2018</td></tr>\n",
              "\t<tr><td> 6425850</td><td>Spacious, charming studio                         </td><td> 32715865</td><td>Yelena </td><td>Manhattan, Upper West Side  </td><td>(40.79169, -73.97498)</td><td>Entire home/apt</td><td>$86 </td><td>  5</td><td>09/23/2017</td><td>0.13</td><td>  0</td><td>4.763203</td><td>  6.0</td><td>0.7699471</td><td>03/20/2017</td></tr>\n",
              "\t<tr><td>22986519</td><td>Bedroom on the lively Lower East Side             </td><td>154262349</td><td>Brooke </td><td>Manhattan, Lower East Side  </td><td>(40.71884, -73.98354)</td><td>Private room   </td><td>$160</td><td> 23</td><td>06/12/2019</td><td>2.29</td><td>102</td><td>3.822591</td><td> 27.6</td><td>0.6493831</td><td>10/23/2020</td></tr>\n",
              "\t<tr><td>  271954</td><td>Beautiful brownstone apartment                    </td><td>  1423798</td><td>Aj     </td><td>Manhattan, Greenwich Village</td><td>(40.73388, -73.99452)</td><td>Entire home/apt</td><td>$150</td><td>203</td><td>06/20/2019</td><td>2.22</td><td>300</td><td>4.478396</td><td>243.6</td><td>0.7434997</td><td>12/15/2018</td></tr>\n",
              "</tbody>\n",
              "</table>\n"
            ]
          },
          "metadata": {
            "tags": []
          }
        }
      ]
    },
    {
      "cell_type": "markdown",
      "metadata": {
        "id": "kNE3y9ug1Zo5",
        "colab_type": "text"
      },
      "source": [
        "## **Diagnosing data cleaning problems**\n",
        "\n",
        "\n",
        "We'll need to get a good look at the data frame in order to identify any problems that may cause issues during an analysis. There are a variety of functions (both from base R and `dplyr`) that can help us with this:\n",
        "\n",
        "-  `head()` to look at the first few rows of the data\n",
        "- `glimpse()` to get a summary of the variables' data types\n",
        "- `summary()` to compute summary statistics of each variable and display the number of missing values\n",
        "- `duplicated()` to find duplicates\n"
      ]
    },
    {
      "cell_type": "code",
      "metadata": {
        "id": "uaC2Q_Gm3m1I",
        "colab_type": "code",
        "colab": {
          "base_uri": "https://localhost:8080/",
          "height": 513
        },
        "outputId": "85bd82ed-dd3e-44a3-f912-4a03af43ec77"
      },
      "source": [
        "# Print the first few rows of data\n",
        "head(airbnb)"
      ],
      "execution_count": 5,
      "outputs": [
        {
          "output_type": "display_data",
          "data": {
            "text/plain": [
              "  listing_id description                                        host_id  \n",
              "1 13740704   Cozy,budget friendly, cable inc, private entrance!  20583125\n",
              "2 22005115   Two floor apartment near Central Park               82746113\n",
              "3 21667615   Beautiful 1BR in Brooklyn Heights                      78251\n",
              "4  6425850   Spacious, charming studio                           32715865\n",
              "5 22986519   Bedroom on the lively Lower East Side              154262349\n",
              "6   271954   Beautiful brownstone apartment                       1423798\n",
              "  host_name nbhood_full                  coordinates           room_type      \n",
              "1 Michel    Brooklyn, Flatlands          (40.63222, -73.93398) Private room   \n",
              "2 Cecilia   Manhattan, Upper West Side   (40.78761, -73.96862) Entire home/apt\n",
              "3 Leslie    Brooklyn, Brooklyn Heights   (40.7007, -73.99517)  Entire home/apt\n",
              "4 Yelena    Manhattan, Upper West Side   (40.79169, -73.97498) Entire home/apt\n",
              "5 Brooke    Manhattan, Lower East Side   (40.71884, -73.98354) Private room   \n",
              "6 Aj        Manhattan, Greenwich Village (40.73388, -73.99452) Entire home/apt\n",
              "  price nb_reviews last_review reviews_per_month availability_365 avg_rating\n",
              "1 $45    10        12/12/2018  0.70               85              4.100954  \n",
              "2 $135    1        06/30/2019  1.00              145              3.367600  \n",
              "3 $150    0        NA            NA               65                    NA  \n",
              "4 $86     5        09/23/2017  0.13                0              4.763203  \n",
              "5 $160   23        06/12/2019  2.29              102              3.822591  \n",
              "6 $150  203        06/20/2019  2.22              300              4.478396  \n",
              "  avg_stays_per_month pct_5_stars listing_added\n",
              "1  12.0               0.6094315   06/08/2018   \n",
              "2   1.2               0.7461346   12/25/2018   \n",
              "3    NA                      NA   08/15/2018   \n",
              "4   6.0               0.7699471   03/20/2017   \n",
              "5  27.6               0.6493831   10/23/2020   \n",
              "6 243.6               0.7434997   12/15/2018   "
            ],
            "text/latex": "A tibble: 6 × 16\n\\begin{tabular}{llllllllllllllll}\n listing\\_id & description & host\\_id & host\\_name & nbhood\\_full & coordinates & room\\_type & price & nb\\_reviews & last\\_review & reviews\\_per\\_month & availability\\_365 & avg\\_rating & avg\\_stays\\_per\\_month & pct\\_5\\_stars & listing\\_added\\\\\n <dbl> & <chr> & <dbl> & <chr> & <chr> & <chr> & <chr> & <chr> & <dbl> & <chr> & <dbl> & <dbl> & <dbl> & <dbl> & <dbl> & <chr>\\\\\n\\hline\n\t 13740704 & Cozy,budget friendly, cable inc, private entrance! &  20583125 & Michel  & Brooklyn, Flatlands          & (40.63222, -73.93398) & Private room    & \\$45  &  10 & 12/12/2018 & 0.70 &  85 & 4.100954 &  12.0 & 0.6094315 & 06/08/2018\\\\\n\t 22005115 & Two floor apartment near Central Park              &  82746113 & Cecilia & Manhattan, Upper West Side   & (40.78761, -73.96862) & Entire home/apt & \\$135 &   1 & 06/30/2019 & 1.00 & 145 & 3.367600 &   1.2 & 0.7461346 & 12/25/2018\\\\\n\t 21667615 & Beautiful 1BR in Brooklyn Heights                  &     78251 & Leslie  & Brooklyn, Brooklyn Heights   & (40.7007, -73.99517)  & Entire home/apt & \\$150 &   0 & NA         &   NA &  65 &       NA &    NA &        NA & 08/15/2018\\\\\n\t  6425850 & Spacious, charming studio                          &  32715865 & Yelena  & Manhattan, Upper West Side   & (40.79169, -73.97498) & Entire home/apt & \\$86  &   5 & 09/23/2017 & 0.13 &   0 & 4.763203 &   6.0 & 0.7699471 & 03/20/2017\\\\\n\t 22986519 & Bedroom on the lively Lower East Side              & 154262349 & Brooke  & Manhattan, Lower East Side   & (40.71884, -73.98354) & Private room    & \\$160 &  23 & 06/12/2019 & 2.29 & 102 & 3.822591 &  27.6 & 0.6493831 & 10/23/2020\\\\\n\t   271954 & Beautiful brownstone apartment                     &   1423798 & Aj      & Manhattan, Greenwich Village & (40.73388, -73.99452) & Entire home/apt & \\$150 & 203 & 06/20/2019 & 2.22 & 300 & 4.478396 & 243.6 & 0.7434997 & 12/15/2018\\\\\n\\end{tabular}\n",
            "text/markdown": "\nA tibble: 6 × 16\n\n| listing_id &lt;dbl&gt; | description &lt;chr&gt; | host_id &lt;dbl&gt; | host_name &lt;chr&gt; | nbhood_full &lt;chr&gt; | coordinates &lt;chr&gt; | room_type &lt;chr&gt; | price &lt;chr&gt; | nb_reviews &lt;dbl&gt; | last_review &lt;chr&gt; | reviews_per_month &lt;dbl&gt; | availability_365 &lt;dbl&gt; | avg_rating &lt;dbl&gt; | avg_stays_per_month &lt;dbl&gt; | pct_5_stars &lt;dbl&gt; | listing_added &lt;chr&gt; |\n|---|---|---|---|---|---|---|---|---|---|---|---|---|---|---|---|\n| 13740704 | Cozy,budget friendly, cable inc, private entrance! |  20583125 | Michel  | Brooklyn, Flatlands          | (40.63222, -73.93398) | Private room    | $45  |  10 | 12/12/2018 | 0.70 |  85 | 4.100954 |  12.0 | 0.6094315 | 06/08/2018 |\n| 22005115 | Two floor apartment near Central Park              |  82746113 | Cecilia | Manhattan, Upper West Side   | (40.78761, -73.96862) | Entire home/apt | $135 |   1 | 06/30/2019 | 1.00 | 145 | 3.367600 |   1.2 | 0.7461346 | 12/25/2018 |\n| 21667615 | Beautiful 1BR in Brooklyn Heights                  |     78251 | Leslie  | Brooklyn, Brooklyn Heights   | (40.7007, -73.99517)  | Entire home/apt | $150 |   0 | NA         |   NA |  65 |       NA |    NA |        NA | 08/15/2018 |\n|  6425850 | Spacious, charming studio                          |  32715865 | Yelena  | Manhattan, Upper West Side   | (40.79169, -73.97498) | Entire home/apt | $86  |   5 | 09/23/2017 | 0.13 |   0 | 4.763203 |   6.0 | 0.7699471 | 03/20/2017 |\n| 22986519 | Bedroom on the lively Lower East Side              | 154262349 | Brooke  | Manhattan, Lower East Side   | (40.71884, -73.98354) | Private room    | $160 |  23 | 06/12/2019 | 2.29 | 102 | 3.822591 |  27.6 | 0.6493831 | 10/23/2020 |\n|   271954 | Beautiful brownstone apartment                     |   1423798 | Aj      | Manhattan, Greenwich Village | (40.73388, -73.99452) | Entire home/apt | $150 | 203 | 06/20/2019 | 2.22 | 300 | 4.478396 | 243.6 | 0.7434997 | 12/15/2018 |\n\n",
            "text/html": [
              "<table>\n",
              "<caption>A tibble: 6 × 16</caption>\n",
              "<thead>\n",
              "\t<tr><th scope=col>listing_id</th><th scope=col>description</th><th scope=col>host_id</th><th scope=col>host_name</th><th scope=col>nbhood_full</th><th scope=col>coordinates</th><th scope=col>room_type</th><th scope=col>price</th><th scope=col>nb_reviews</th><th scope=col>last_review</th><th scope=col>reviews_per_month</th><th scope=col>availability_365</th><th scope=col>avg_rating</th><th scope=col>avg_stays_per_month</th><th scope=col>pct_5_stars</th><th scope=col>listing_added</th></tr>\n",
              "\t<tr><th scope=col>&lt;dbl&gt;</th><th scope=col>&lt;chr&gt;</th><th scope=col>&lt;dbl&gt;</th><th scope=col>&lt;chr&gt;</th><th scope=col>&lt;chr&gt;</th><th scope=col>&lt;chr&gt;</th><th scope=col>&lt;chr&gt;</th><th scope=col>&lt;chr&gt;</th><th scope=col>&lt;dbl&gt;</th><th scope=col>&lt;chr&gt;</th><th scope=col>&lt;dbl&gt;</th><th scope=col>&lt;dbl&gt;</th><th scope=col>&lt;dbl&gt;</th><th scope=col>&lt;dbl&gt;</th><th scope=col>&lt;dbl&gt;</th><th scope=col>&lt;chr&gt;</th></tr>\n",
              "</thead>\n",
              "<tbody>\n",
              "\t<tr><td>13740704</td><td>Cozy,budget friendly, cable inc, private entrance!</td><td> 20583125</td><td>Michel </td><td>Brooklyn, Flatlands         </td><td>(40.63222, -73.93398)</td><td>Private room   </td><td>$45 </td><td> 10</td><td>12/12/2018</td><td>0.70</td><td> 85</td><td>4.100954</td><td> 12.0</td><td>0.6094315</td><td>06/08/2018</td></tr>\n",
              "\t<tr><td>22005115</td><td>Two floor apartment near Central Park             </td><td> 82746113</td><td>Cecilia</td><td>Manhattan, Upper West Side  </td><td>(40.78761, -73.96862)</td><td>Entire home/apt</td><td>$135</td><td>  1</td><td>06/30/2019</td><td>1.00</td><td>145</td><td>3.367600</td><td>  1.2</td><td>0.7461346</td><td>12/25/2018</td></tr>\n",
              "\t<tr><td>21667615</td><td>Beautiful 1BR in Brooklyn Heights                 </td><td>    78251</td><td>Leslie </td><td>Brooklyn, Brooklyn Heights  </td><td>(40.7007, -73.99517) </td><td>Entire home/apt</td><td>$150</td><td>  0</td><td>NA        </td><td>  NA</td><td> 65</td><td>      NA</td><td>   NA</td><td>       NA</td><td>08/15/2018</td></tr>\n",
              "\t<tr><td> 6425850</td><td>Spacious, charming studio                         </td><td> 32715865</td><td>Yelena </td><td>Manhattan, Upper West Side  </td><td>(40.79169, -73.97498)</td><td>Entire home/apt</td><td>$86 </td><td>  5</td><td>09/23/2017</td><td>0.13</td><td>  0</td><td>4.763203</td><td>  6.0</td><td>0.7699471</td><td>03/20/2017</td></tr>\n",
              "\t<tr><td>22986519</td><td>Bedroom on the lively Lower East Side             </td><td>154262349</td><td>Brooke </td><td>Manhattan, Lower East Side  </td><td>(40.71884, -73.98354)</td><td>Private room   </td><td>$160</td><td> 23</td><td>06/12/2019</td><td>2.29</td><td>102</td><td>3.822591</td><td> 27.6</td><td>0.6493831</td><td>10/23/2020</td></tr>\n",
              "\t<tr><td>  271954</td><td>Beautiful brownstone apartment                    </td><td>  1423798</td><td>Aj     </td><td>Manhattan, Greenwich Village</td><td>(40.73388, -73.99452)</td><td>Entire home/apt</td><td>$150</td><td>203</td><td>06/20/2019</td><td>2.22</td><td>300</td><td>4.478396</td><td>243.6</td><td>0.7434997</td><td>12/15/2018</td></tr>\n",
              "</tbody>\n",
              "</table>\n"
            ]
          },
          "metadata": {
            "tags": []
          }
        }
      ]
    },
    {
      "cell_type": "markdown",
      "metadata": {
        "id": "L96ZwAjBunsI",
        "colab_type": "text"
      },
      "source": [
        "- **Observation 1:** The `coordinates` column contains multiple pieces of information: both latitude and longitude.\n",
        "- **Observation 2:** The `price` column is formatted with an unnecessary `$`."
      ]
    },
    {
      "cell_type": "code",
      "metadata": {
        "id": "ZO_jlHc74J62",
        "colab_type": "code",
        "colab": {}
      },
      "source": [
        "# Inspect data types\n",
        "glimpse(airbnb)"
      ],
      "execution_count": 0,
      "outputs": []
    },
    {
      "cell_type": "markdown",
      "metadata": {
        "id": "5-1VcTFC4JpI",
        "colab_type": "text"
      },
      "source": [
        "- **Observation 3:** Columns like `coordinates` and `price` are factors instead of numeric values.\n",
        "- **Observation 4:** Columns with dates like `last_review` and `listing_added` are factors instead of the `Date` data type."
      ]
    },
    {
      "cell_type": "code",
      "metadata": {
        "id": "ewCibkuE4NP-",
        "colab_type": "code",
        "colab": {}
      },
      "source": [
        "# Examine summary statistics and missing values\n",
        "summary(airbnb)"
      ],
      "execution_count": 0,
      "outputs": []
    },
    {
      "cell_type": "markdown",
      "metadata": {
        "id": "z-17MT7M4UbL",
        "colab_type": "text"
      },
      "source": [
        "- **Observation 5:** There are 2075 missing values in `reviews_per_month`, `avg_rating`, `nb_stays`, and `pct_5_stars`.\n",
        "- **Observation 6:** The max of `avg_rating` is above 5 (out of range value)\n",
        "- **Observation 7:** There are inconsistencies in the categories of `room_type`, i.e. `\"Private\"`, `\"Private room\"`, and `\"PRIVATE ROOM\"`."
      ]
    },
    {
      "cell_type": "code",
      "metadata": {
        "id": "6Kwp6THl4SIV",
        "colab_type": "code",
        "colab": {}
      },
      "source": [
        "# Count data with duplicated listing_id\n",
        "airbnb %>%\n",
        "  filter(duplicated(listing_id)) %>%\n",
        "  nrow()"
      ],
      "execution_count": 0,
      "outputs": []
    },
    {
      "cell_type": "markdown",
      "metadata": {
        "id": "P-4i_B1kvfM6",
        "colab_type": "text"
      },
      "source": [
        "*A note on the `%>%` operator:*\n",
        "\n",
        "This is an operator commonly used in the Tidyverse to make code more readable. The `%>%` takes the result of whatever is before it and inserts it as the first argument in the subsequent function.\n",
        "\n",
        "We could do this exact same counting operation using the following, but the function calls aren't in the order they're being executed, which makes it difficult to understand what's going on. The `%>%` allows us to write the functions in the order that they're executed.\n",
        "```r\n",
        "nrow(filter(airbnb, duplicated(listing_id)))\n",
        "```"
      ]
    },
    {
      "cell_type": "markdown",
      "metadata": {
        "id": "h9A2KkvJ4hQO",
        "colab_type": "text"
      },
      "source": [
        "- **Observation 8:** There are 20 rows whose `listing_id` already appeared earlier in the dataset (duplicates)."
      ]
    },
    {
      "cell_type": "markdown",
      "metadata": {
        "id": "eeNuwD5-4lAJ",
        "colab_type": "text"
      },
      "source": [
        "## **What do we need to do?**\n",
        "\n",
        "**Data type issues**\n",
        "- **Task 1:** Split `coordinates` into latitude and longitude and convert `numeric` data type.\n",
        "- **Task 2:** Remove `$`s from `price` column and convert to `numeric`.\n",
        "- **Task 3:** Convert `last_review` and `listing_added` to `Date`.\n",
        "\n",
        "**Text & categorical data issues**\n",
        "- **Task 4:** Split `nbhood_full` into separate neighborhood and borough columns.\n",
        "- **Task 5:** Collapse the categories of `room_type` so that they're consistent.\n",
        "\n",
        "**Data range issues**\n",
        "- **Task 6:** Fix the `avg_rating` column so it doesn't exceed `5`.\n",
        "\n",
        "**Missing data issues**\n",
        "- **Task 7:** Further investigate the missing data and decide how to handle them.\n",
        "\n",
        "**Duplicate data issues**\n",
        "- **Task 8:** Further investigate duplicate data points and decide how to handle them.\n",
        "\n",
        "***But also...***\n",
        "- We need to validate our data using various sanity checks"
      ]
    },
    {
      "cell_type": "markdown",
      "metadata": {
        "id": "yvQmADZn4oxm",
        "colab_type": "text"
      },
      "source": [
        "---\n",
        "<center><h1><b>Q&A</b></h1></center>\n",
        "\n",
        "---"
      ]
    },
    {
      "cell_type": "markdown",
      "metadata": {
        "id": "TqqGD4jk4zRr",
        "colab_type": "text"
      },
      "source": [
        "## **Cleaning the data**\n"
      ]
    },
    {
      "cell_type": "markdown",
      "metadata": {
        "id": "nTZAQnQc4128",
        "colab_type": "text"
      },
      "source": [
        "### **Data type issues**\n"
      ]
    },
    {
      "cell_type": "code",
      "metadata": {
        "id": "WM0EhIT-4izJ",
        "colab_type": "code",
        "colab": {}
      },
      "source": [
        "# Reminder: what does the data look like?\n",
        "head(airbnb)"
      ],
      "execution_count": 0,
      "outputs": []
    },
    {
      "cell_type": "markdown",
      "metadata": {
        "id": "Uv34mfrn5ER-",
        "colab_type": "text"
      },
      "source": [
        "#### **Task 1:** Split `coordinates` into latitude and longitude and convert `numeric` data type.\n"
      ]
    },
    {
      "cell_type": "markdown",
      "metadata": {
        "id": "mbtP0UPt2cwP",
        "colab_type": "text"
      },
      "source": [
        "- `str_remove_all()` removes all instances of a substring from a string.\n",
        "- `str_split()` will split a string into multiple pieces based on a separation string.\n",
        "- `as.data.frame()` converts an object into a data frame. It automatically converts any strings to `factor`s, which is not what we want in this case, so we'll stop this behavior using `stringsAsFactors = FALSE`.\n",
        "- `rename()` takes arguments of the format `new_col_name = old_col_name` and renames the columns as such."
      ]
    },
    {
      "cell_type": "code",
      "metadata": {
        "id": "i6YA6Mcq5FAO",
        "colab_type": "code",
        "colab": {}
      },
      "source": [
        "lat_lon <- airbnb$coordinates %>%\n",
        "  # Remove left parentheses\n",
        "  str_remove_all(fixed(\"(\")) %>%\n",
        "  # Remove right parentheses\n",
        "  str_remove_all(fixed(\")\")) %>%\n",
        "  # Split latitude and longitude\n",
        "  str_split(\", \", simplify = TRUE) %>%\n",
        "  # Convert from matrix to data frame\n",
        "  as.data.frame(stringsAsFactors = FALSE) %>%\n",
        "  # Rename columns\n",
        "  rename(latitude = V1, longitude = V2)"
      ],
      "execution_count": 0,
      "outputs": []
    },
    {
      "cell_type": "markdown",
      "metadata": {
        "id": "SZ4rjulf3c1U",
        "colab_type": "text"
      },
      "source": [
        "- `cbind()` stands for column bind, which sticks two data frames together horizontally.\n",
        "\n",
        "<img src=\"https://raw.githubusercontent.com/datacamp/cleaning-data-in-r-live-training/master/assets/cbind.png\" width=\"500px;\"/>"
      ]
    },
    {
      "cell_type": "code",
      "metadata": {
        "id": "nLoVV0wx5HY0",
        "colab_type": "code",
        "colab": {}
      },
      "source": [
        "airbnb <- airbnb %>%\n",
        "  # Combine lat_lon with original data frame\n",
        "  cbind(lat_lon) %>%\n",
        "  # Convert to numeric\n",
        "  mutate(latitude = as.numeric(latitude),\n",
        "        longitude = as.numeric(longitude)) %>%\n",
        "  # Remove coordinates column\n",
        "  select(-coordinates)"
      ],
      "execution_count": 0,
      "outputs": []
    },
    {
      "cell_type": "markdown",
      "metadata": {
        "id": "cTyOqtuf5MKA",
        "colab_type": "text"
      },
      "source": [
        "#### **Task 2:** Remove `$`s from `price` column and convert to `numeric`."
      ]
    },
    {
      "cell_type": "code",
      "metadata": {
        "id": "c7bo2KI65MuC",
        "colab_type": "code",
        "colab": {}
      },
      "source": [
        "# Remove $ and convert to numeric\n",
        "price_clean <- airbnb$price %>%\n",
        "  str_remove_all(fixed(\"$\")) %>%\n",
        "  as.numeric()"
      ],
      "execution_count": 0,
      "outputs": []
    },
    {
      "cell_type": "markdown",
      "metadata": {
        "id": "GZLstAby5OU6",
        "colab_type": "text"
      },
      "source": [
        "Notice we get a warning here that values are being converted to `NA`, so before we move on, we need to look into this further to ensure that the values are actually missing and we're not losing data by mistake.\n",
        "\n",
        "Let's take a look at the values of `price`.\n"
      ]
    },
    {
      "cell_type": "code",
      "metadata": {
        "id": "UPuE0iPw5U9h",
        "colab_type": "code",
        "colab": {}
      },
      "source": [
        "# Look at values of price\n",
        "airbnb %>%\n",
        "  count(price, sort = TRUE)"
      ],
      "execution_count": 0,
      "outputs": []
    },
    {
      "cell_type": "markdown",
      "metadata": {
        "id": "EajADDBt57-C",
        "colab_type": "text"
      },
      "source": [
        "It looks like we have a non-standard representation of `NA` here, `$NA`, so these are getting coerced to `NA`s. This is the behavior we want, so we can ignore the warning."
      ]
    },
    {
      "cell_type": "code",
      "metadata": {
        "id": "Fpi0jcHn5zD1",
        "colab_type": "code",
        "colab": {}
      },
      "source": [
        "# Add to data frame\n",
        "airbnb <- airbnb %>%\n",
        "  mutate(price = price_clean)"
      ],
      "execution_count": 0,
      "outputs": []
    },
    {
      "cell_type": "markdown",
      "metadata": {
        "id": "anggnvoK8pvK",
        "colab_type": "text"
      },
      "source": [
        "#### **Task 3:** Convert `last_review` and `listing_added` to `Date`.\n",
        "\n",
        "Conversion to `Date` is done using `as.Date()`, which takes in a `format` argument. The `format` argument allows us to convert lots of different formats of dates to a `Date` type, like \"January 1, 2020\" or \"01-01-2020\". There are special symbols that we use to specify this. Here are a few of them, but you can find all the possible ones by typing `?strptime` into your console.\n",
        "\n",
        "<img src=\"https://raw.githubusercontent.com/datacamp/cleaning-data-in-r-live-training/master/assets/date_formats.png\" alt=\"%d = day number, %m = month number, %Y = 4 digit year, %y = 2 digit year, %B = month, %b = month abbreviation\" width=\"250px;\"/>\n",
        "\n",
        "A date like \"21 Oct 2020\" would be in the format `\"%d %b %Y\"`.\n"
      ]
    },
    {
      "cell_type": "code",
      "metadata": {
        "id": "c7BN8s568rKZ",
        "colab_type": "code",
        "colab": {}
      },
      "source": [
        "# Look up date formatting symbols\n",
        "?strptime"
      ],
      "execution_count": 0,
      "outputs": []
    },
    {
      "cell_type": "code",
      "metadata": {
        "id": "fa_9REcc8tGr",
        "colab_type": "code",
        "colab": {}
      },
      "source": [
        "# Convert strings to Dates\n",
        "airbnb <- airbnb %>%\n",
        "  mutate(last_review = as.Date(last_review, format = \"%m/%d/%Y\"),\n",
        "        listing_added = as.Date(listing_added, format = \"%m/%d/%Y\"))"
      ],
      "execution_count": 0,
      "outputs": []
    },
    {
      "cell_type": "markdown",
      "metadata": {
        "id": "-qmBgol6siVn",
        "colab_type": "text"
      },
      "source": [
        "---\n",
        "<center><h1><b>Q&A</b></h1></center>\n",
        "\n",
        "---"
      ]
    },
    {
      "cell_type": "markdown",
      "metadata": {
        "id": "Ffn4WAOJ8zEH",
        "colab_type": "text"
      },
      "source": [
        "### **Text & categorical data issues**\n"
      ]
    },
    {
      "cell_type": "markdown",
      "metadata": {
        "id": "qvMQ8wBV80qt",
        "colab_type": "text"
      },
      "source": [
        "#### **Task 4:** Split `nbhood_full` into separate `nbhood` and `borough` columns."
      ]
    },
    {
      "cell_type": "code",
      "metadata": {
        "id": "cVKSTOuw8y22",
        "colab_type": "code",
        "colab": {}
      },
      "source": [
        "borough_nbhood <- airbnb$nbhood_full %>%\n",
        "  # Split column\n",
        "  str_split(\", \", simplify = TRUE) %>%\n",
        "  # Convert from matrix to data frame\n",
        "  as.data.frame() %>%\n",
        "  # Rename columns\n",
        "  rename(borough = V1, nbhood = V2)"
      ],
      "execution_count": 0,
      "outputs": []
    },
    {
      "cell_type": "code",
      "metadata": {
        "id": "E4B7YsYl83iY",
        "colab_type": "code",
        "colab": {}
      },
      "source": [
        "airbnb <- airbnb %>%\n",
        "  # Combine borough_nbhood with data\n",
        "  cbind(borough_nbhood) %>%\n",
        "  # Remove nbhood_full\n",
        "  select(-nbhood_full)"
      ],
      "execution_count": 0,
      "outputs": []
    },
    {
      "cell_type": "markdown",
      "metadata": {
        "id": "Z8as3rzq9HHW",
        "colab_type": "text"
      },
      "source": [
        "#### **Task 5:** Collapse the categories of `room_type` so that they're consistent."
      ]
    },
    {
      "cell_type": "code",
      "metadata": {
        "id": "btgSaZR39HsF",
        "colab_type": "code",
        "colab": {}
      },
      "source": [
        "# Count categories of room_type\n",
        "airbnb %>%\n",
        "  count(room_type)"
      ],
      "execution_count": 0,
      "outputs": []
    },
    {
      "cell_type": "markdown",
      "metadata": {
        "id": "COjZcTv40c10",
        "colab_type": "text"
      },
      "source": [
        "- `stringr::str_to_lower()` converts strings to all lowercase, so `\"PRIVATE ROOM\"` becomes `\"private room\"`. This saves us the pain of having to go through the dataset and find each different capitalized variation of `\"private room\"`.\n",
        "- `forcats::fct_collapse()` will combine multiple categories into one, which is useful when there are a few different values that mean the same thing."
      ]
    },
    {
      "cell_type": "code",
      "metadata": {
        "id": "6L8hfW7h9JEu",
        "colab_type": "code",
        "colab": {}
      },
      "source": [
        "room_type_clean <- airbnb$room_type %>%\n",
        "  # Change all to lowercase\n",
        "  str_to_lower() %>%\n",
        "  # Collapse categories\n",
        "  fct_collapse(private_room = c(\"private\", \"private room\"),\n",
        "                        entire_place = c(\"entire home/apt\", \"home\"),\n",
        "                        shared_room = \"shared room\")"
      ],
      "execution_count": 0,
      "outputs": []
    },
    {
      "cell_type": "code",
      "metadata": {
        "id": "H1WP-ARS9KUL",
        "colab_type": "code",
        "colab": {}
      },
      "source": [
        "# Add to data frame\n",
        "airbnb <- airbnb %>% \n",
        "  mutate(room_type = room_type_clean)"
      ],
      "execution_count": 0,
      "outputs": []
    },
    {
      "cell_type": "markdown",
      "metadata": {
        "id": "dxjRBpGRsmFi",
        "colab_type": "text"
      },
      "source": [
        "---\n",
        "<center><h1><b>Q&A</b></h1></center>\n",
        "\n",
        "---"
      ]
    },
    {
      "cell_type": "markdown",
      "metadata": {
        "id": "OmuXjJQd9OdC",
        "colab_type": "text"
      },
      "source": [
        "### **Data range issues**\n",
        "\n",
        "#### **Task 6:** Fix the `avg_rating` column so it doesn't exceed `5`."
      ]
    },
    {
      "cell_type": "code",
      "metadata": {
        "id": "pIYTw6eQ9OAU",
        "colab_type": "code",
        "colab": {}
      },
      "source": [
        "# How many places with avg_rating above 5?\n",
        "airbnb %>%\n",
        "  filter(avg_rating > 5) %>%\n",
        "  count()"
      ],
      "execution_count": 0,
      "outputs": []
    },
    {
      "cell_type": "code",
      "metadata": {
        "id": "TQLzv6eH9iTY",
        "colab_type": "code",
        "colab": {}
      },
      "source": [
        "# What does the data for these places look like?\n",
        "airbnb %>%\n",
        "  filter(avg_rating > 5)"
      ],
      "execution_count": 0,
      "outputs": []
    },
    {
      "cell_type": "code",
      "metadata": {
        "id": "ep-80Dgg9f9S",
        "colab_type": "code",
        "colab": {}
      },
      "source": [
        "# Remove the rows with rating > 5\n",
        "airbnb <- airbnb %>%\n",
        "  filter(avg_rating <= 5 | is.na(avg_rating))"
      ],
      "execution_count": 0,
      "outputs": []
    },
    {
      "cell_type": "markdown",
      "metadata": {
        "id": "IN41DP969kiz",
        "colab_type": "text"
      },
      "source": [
        "### **Missing data issues**\n",
        "\n",
        "#### **Task 7:** Further investigate the missing data and decide how to handle them.\n",
        "\n",
        "When dealing with missing data, it's important to understand what type of missingness we might have in our data. Oftentimes, missing data can be related to other dynamics in the dataset and requires some domain knowledge to deal with them.\n",
        "\n",
        "The `visdat` package is useful for investigating missing data."
      ]
    },
    {
      "cell_type": "code",
      "metadata": {
        "id": "3MzzEMWY-EIE",
        "colab_type": "code",
        "colab": {}
      },
      "source": [
        "head(airbnb)"
      ],
      "execution_count": 0,
      "outputs": []
    },
    {
      "cell_type": "code",
      "metadata": {
        "id": "iJGJsy-e9n-p",
        "colab_type": "code",
        "colab": {}
      },
      "source": [
        "airbnb %>%\n",
        "  # Focus only on columns with missing values\n",
        "  select(price, last_review, reviews_per_month, avg_rating, avg_stays_per_month) %>%\n",
        "  # Visualize missing data\n",
        "  visdat::vis_miss()"
      ],
      "execution_count": 0,
      "outputs": []
    },
    {
      "cell_type": "markdown",
      "metadata": {
        "id": "oUEJgSqM9kcI",
        "colab_type": "text"
      },
      "source": [
        "It looks like missingness of `last_review`, `reviews_per_month`, `avg_rating`, and `avg_stays_per_month` are related. This suggests that these are places that have never been visited before (therefore have no ratings, reviews, or stays).\n",
        "\n",
        "However, `price` is unrelated to the other columns, so we'll need to take a different approach for that."
      ]
    },
    {
      "cell_type": "code",
      "metadata": {
        "id": "iEf8rGc0AEnX",
        "colab_type": "code",
        "colab": {}
      },
      "source": [
        "# Sanity check that our hypothesis is correct\n",
        "airbnb %>%\n",
        "    filter(nb_reviews != 0,\n",
        "           is.na(reviews_per_month))\n",
        "airbnb %>%\n",
        "    filter(nb_reviews != 0,\n",
        "           is.na(avg_stays_per_month))"
      ],
      "execution_count": 0,
      "outputs": []
    },
    {
      "cell_type": "markdown",
      "metadata": {
        "id": "NG6AvsYaAFUY",
        "colab_type": "text"
      },
      "source": [
        "Now that we know our hypothesis is correct,\n",
        "- We'll set any missing values in `reviews_per_month` or `avg_stays_per_month` to `0`.\n",
        "    - Use `tidyr::replace_na()`\n",
        "- We'll leave `last_review` and `avg_rating` as `NA`.\n",
        "- We'll create a `logical` (`TRUE`/`FALSE`) column called `is_visited`, indicating whether or not the listing has been visited before.\n",
        "    - Use `ifelse(condition, value if true, value if false)`"
      ]
    },
    {
      "cell_type": "code",
      "metadata": {
        "id": "wNrywTb6AHv9",
        "colab_type": "code",
        "colab": {}
      },
      "source": [
        "airbnb <- airbnb %>%\n",
        "    # Replace missing values in reviews_per_month or avg_stays_per_month with 0\n",
        "    replace_na(list(reviews_per_month = 0, avg_stays_per_month = 0)) %>%\n",
        "    # Create is_visited\n",
        "    mutate(is_visited = ifelse(is.na(avg_rating), FALSE, TRUE))"
      ],
      "execution_count": 0,
      "outputs": []
    },
    {
      "cell_type": "markdown",
      "metadata": {
        "id": "5AqWDSSosvJP",
        "colab_type": "text"
      },
      "source": [
        "---\n",
        "<center><h1><b>Q&A</b></h1></center>\n",
        "\n",
        "---"
      ]
    },
    {
      "cell_type": "markdown",
      "metadata": {
        "id": "f0bzE6YdAgb9",
        "colab_type": "text"
      },
      "source": [
        "**Treating the `price` column**\n",
        "\n",
        "There are lots of ways we could do this\n",
        "- Remove all rows with missing price values\n",
        "- Fill in missing prices with the overall average price\n",
        "- Fill in missing prices based on other columns like `borough` or `room_type`\n",
        "\n",
        "**Let's examine the relationship between `room_type` and `price`.**\n",
        "\n",
        "<img src='https://raw.githubusercontent.com/datacamp/cleaning-data-in-r-live-training/master/assets/boxplot.png' alt='Box plot diagram' width='350px;'>"
      ]
    },
    {
      "cell_type": "code",
      "metadata": {
        "id": "7gL-HXtyn5NA",
        "colab_type": "code",
        "colab": {}
      },
      "source": [
        "# Create a boxplot showing the distribution of price for each room_type\n",
        "ggplot(airbnb, aes(x = room_type, y = price)) +\n",
        "    geom_boxplot() +\n",
        "    ylim(0, 1000)"
      ],
      "execution_count": 0,
      "outputs": []
    },
    {
      "cell_type": "markdown",
      "metadata": {
        "id": "56R9HHVHzTtB",
        "colab_type": "text"
      },
      "source": [
        "We'll use *median* to summarize the `price` for each `room_type` since the distributions have a number of outliers, and median is more robust to outliers than mean."
      ]
    },
    {
      "cell_type": "code",
      "metadata": {
        "id": "p9WXsu8VATVB",
        "colab_type": "code",
        "colab": {}
      },
      "source": [
        "# Use a grouped mutate to fill in missing prices with median of their room_type\n",
        "airbnb %>%\n",
        "    group_by(room_type) %>%\n",
        "    mutate(price_filled = ifelse(is.na(price), median(price, na.rm = TRUE), price)) %>%\n",
        "    # Look at the values we filled in to make sure it looks how we want\n",
        "    filter(is.na(price)) %>%\n",
        "    select(listing_id, description, room_type, price, price_filled)"
      ],
      "execution_count": 0,
      "outputs": []
    },
    {
      "cell_type": "code",
      "metadata": {
        "id": "81Nz4NgKp4dA",
        "colab_type": "code",
        "colab": {}
      },
      "source": [
        "# Overwrite price column in original data frame\n",
        "airbnb <- airbnb %>%\n",
        "    group_by(room_type) %>%\n",
        "    mutate(price = ifelse(is.na(price), median(price, na.rm = TRUE), price)) %>%\n",
        "    ungroup()"
      ],
      "execution_count": 0,
      "outputs": []
    },
    {
      "cell_type": "markdown",
      "metadata": {
        "id": "q0VKNaqevJj5",
        "colab_type": "text"
      },
      "source": [
        "### **Duplicate data issues**\n",
        "\n",
        "\n",
        "#### **Task 8:** Further investigate duplicate data points and decide how to handle them."
      ]
    },
    {
      "cell_type": "code",
      "metadata": {
        "id": "M7xKT9BmvJB6",
        "colab_type": "code",
        "colab": {}
      },
      "source": [
        "# Find duplicated listing_ids\n",
        "duplicate_ids <- airbnb %>% \n",
        "    count(listing_id) %>% \n",
        "     filter(n > 1)"
      ],
      "execution_count": 0,
      "outputs": []
    },
    {
      "cell_type": "code",
      "metadata": {
        "id": "QJ9-GIlCwTHS",
        "colab_type": "code",
        "colab": {}
      },
      "source": [
        "# Look at duplicated data\n",
        "airbnb %>%\n",
        "    filter(listing_id %in% duplicate_ids$listing_id) %>%\n",
        "    arrange(listing_id)"
      ],
      "execution_count": 0,
      "outputs": []
    },
    {
      "cell_type": "markdown",
      "metadata": {
        "id": "NzS7pD1oH8xt",
        "colab_type": "text"
      },
      "source": [
        "***Full duplicates***: All values match.\n",
        "- To handle these, we can just remove all copies but one\n",
        "\n",
        "***Partial duplicates***: Identifying values (like `listing_id`) match, but one or more of the others don't. Here, we have inconsistent values in `price`, `avg_rating`, and `listing_added`.\n",
        "- We can remove them, pick a random copy to keep, or aggregate any inconsistent values. We'll aggregate using `mean()` for `price` and `avg_rating`, and `max()` for `listing_added`."
      ]
    },
    {
      "cell_type": "code",
      "metadata": {
        "id": "dm1orY71FasD",
        "colab_type": "code",
        "colab": {}
      },
      "source": [
        "# Remove full duplicates\n",
        "airbnb <- airbnb %>%\n",
        "    distinct()"
      ],
      "execution_count": 0,
      "outputs": []
    },
    {
      "cell_type": "code",
      "metadata": {
        "id": "5cL8XRLTJLlp",
        "colab_type": "code",
        "colab": {}
      },
      "source": [
        "# Aggregate partial duplicates using grouped mutate\n",
        "airbnb <- airbnb %>%\n",
        "    group_by(listing_id) %>%\n",
        "    # Overwrite columns with aggregations\n",
        "    mutate(price = mean(price),\n",
        "          avg_rating = mean(avg_rating),\n",
        "          listing_added = max(listing_added)) %>%\n",
        "    # Remove duplicates based only on listing_id\n",
        "    distinct(listing_id, .keep_all = TRUE)"
      ],
      "execution_count": 0,
      "outputs": []
    },
    {
      "cell_type": "code",
      "metadata": {
        "id": "97ZBCGtRKln5",
        "colab_type": "code",
        "colab": {}
      },
      "source": [
        "# Check that no duplicates remain\n",
        "airbnb %>% \n",
        "    count(listing_id) %>% \n",
        "     filter(n > 1)"
      ],
      "execution_count": 0,
      "outputs": []
    },
    {
      "cell_type": "markdown",
      "metadata": {
        "id": "-68kSoZ-K97W",
        "colab_type": "text"
      },
      "source": [
        "### Take-home practice: **Sanity Checks**\n",
        "*The data should be consistent both with itself, as well as with what we know about the world.*\n",
        "\n",
        "- **Is the data consistent with itself?**\n",
        "    - Are there any `last_review` dates before `listing_added` dates?\n",
        "- **Is the data consisteent with what we know about the world?**\n",
        "    - Are there any `last_review` dates in the future?\n",
        "    - Are there any `listing_added` dates in the future?\n",
        "\n"
      ]
    },
    {
      "cell_type": "markdown",
      "metadata": {
        "id": "AyIsjLvMtjah",
        "colab_type": "text"
      },
      "source": [
        "```r\n",
        "# Are there any last_review dates before listing_added dates?\n",
        "airbnb %>%\n",
        "    filter(last_review < listing_added)\n",
        "\n",
        "# Are there last_review dates in the future?\n",
        "airbnb %>%\n",
        "    filter(last_review > Sys.Date())\n",
        "\n",
        "# Are there listing_added dates in the future?\n",
        "airbnb %>%\n",
        "    filter(listing_added > Sys.Date())\n",
        "```"
      ]
    },
    {
      "cell_type": "markdown",
      "metadata": {
        "id": "n8_8P2fXNbxZ",
        "colab_type": "text"
      },
      "source": [
        "---\n",
        "<center><h1><b>Q&A</b></h1></center>\n",
        "\n",
        "---"
      ]
    }
  ]
}