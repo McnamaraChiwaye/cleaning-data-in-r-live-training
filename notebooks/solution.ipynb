{
  "nbformat": 4,
  "nbformat_minor": 0,
  "metadata": {
    "colab": {
      "name": "student_notebook.ipynb",
      "provenance": []
    },
    "kernelspec": {
      "name": "ir",
      "display_name": "R"
    }
  },
  "cells": [
    {
      "cell_type": "markdown",
      "metadata": {
        "id": "OJYbvo8eV-Rd",
        "colab_type": "text"
      },
      "source": [
        "<p align=\"center\">\n",
        "<img src=\"https://github.com/datacamp/r-live-training-template/blob/master/assets/datacamp.svg?raw=True\" alt = \"DataCamp icon\" width=\"50%\">\n",
        "<br>\n",
        "<h1 align=\"center\">Cleaning Data in R Live Training</h1>\n",
        "</p>\n",
        "<br>\n",
        "\n",
        "\n",
        "Welcome to this hands-on training where you'll identify issues in a dataset and clean it from start to finish using R. It's often said that data scientists spend 80% of their time cleaning and manipulating data and only about 20% of their time analyzing it, so cleaning data is an important skill to master!\n",
        "\n",
        "In this session, you will:\n",
        "\n",
        "- Examine a dataset and identify its problem areas, and what needs to be done to fix them.\n",
        "-Convert between data types to make analysis easier.\n",
        "- Correct inconsistencies in categorical data.\n",
        "- Deal with missing data.\n",
        "- Perform data validation to ensure every value makes sense.\n",
        "\n",
        "## **The Dataset**\n",
        "\n",
        "The dataset we'll use is a CSV file named `nyc_airbnb.csv`, which contains data on [*Airbnb*](https://www.airbnb.com/) listings in New York City. It contains the following columns:\n",
        "\n",
        "- `listing_id`: The unique identifier for a listing\n",
        "- `name`: The description used on the listing\n",
        "- `host_id`: Unique identifier for a host\n",
        "- `host_name`: Name of host\n",
        "- `nbhood_full`: Name of borough and neighborhood\n",
        "- `coordinates`: Coordinates of listing _(latitude, longitude)_\n",
        "- `room_type`: Type of room \n",
        "- `price`: Price per night for listing\n",
        "- `nb_reviews`: Number of reviews received \n",
        "- `last_review`: Date of last review\n",
        "- `reviews_per_month`: Average number of reviews per month\n",
        "- `availability_365`: Number of days available per year\n",
        "- `avg_rating`: Average rating (from 0 to 5)\n",
        "- `avg_stays_per_month`: Average number of stays per month\n",
        "- `pct_5_stars`: Percent of reviews that were 5-stars\n",
        "- `listing_added`: Date when listing was added\n"
      ]
    },
    {
      "cell_type": "code",
      "metadata": {
        "id": "KUKG6fNMV_zf",
        "colab_type": "code",
        "cellView": "both",
        "outputId": "9ebb3af1-19d3-42c6-d1e1-54378990766e",
        "colab": {
          "base_uri": "https://localhost:8080/",
          "height": 68
        }
      },
      "source": [
        "# Install non-tidyverse packages\n",
        "install.packages(\"visdat\")"
      ],
      "execution_count": 2,
      "outputs": [
        {
          "output_type": "stream",
          "text": [
            "Installing package into ‘/usr/local/lib/R/site-library’\n",
            "(as ‘lib’ is unspecified)\n",
            "\n"
          ],
          "name": "stderr"
        }
      ]
    },
    {
      "cell_type": "code",
      "metadata": {
        "id": "brr08aZX9Wss",
        "colab_type": "code",
        "colab": {}
      },
      "source": [
        "# Load packages\n",
        "library(readr)\n",
        "library(dplyr)\n",
        "library(stringr)\n",
        "library(ggplot2)\n",
        "library(visdat)"
      ],
      "execution_count": 0,
      "outputs": []
    },
    {
      "cell_type": "code",
      "metadata": {
        "id": "9VJyZeEo9M4O",
        "colab_type": "code",
        "colab": {
          "base_uri": "https://localhost:8080/",
          "height": 357
        },
        "outputId": "2cd8bded-b97c-4b40-ff78-2adb97d91f33"
      },
      "source": [
        "# Load dataset\n",
        "airbnb <- read_csv(\"https://raw.githubusercontent.com/datacamp/cleaning-data-in-r-live-training/master/assets/nyc_airbnb.csv\")"
      ],
      "execution_count": 6,
      "outputs": [
        {
          "output_type": "stream",
          "text": [
            "Parsed with column specification:\n",
            "cols(\n",
            "  listing_id = \u001b[32mcol_double()\u001b[39m,\n",
            "  description = \u001b[31mcol_character()\u001b[39m,\n",
            "  host_id = \u001b[32mcol_double()\u001b[39m,\n",
            "  host_name = \u001b[31mcol_character()\u001b[39m,\n",
            "  nbhood_full = \u001b[31mcol_character()\u001b[39m,\n",
            "  coordinates = \u001b[31mcol_character()\u001b[39m,\n",
            "  room_type = \u001b[31mcol_character()\u001b[39m,\n",
            "  price = \u001b[31mcol_character()\u001b[39m,\n",
            "  nb_reviews = \u001b[32mcol_double()\u001b[39m,\n",
            "  last_review = \u001b[31mcol_character()\u001b[39m,\n",
            "  reviews_per_month = \u001b[32mcol_double()\u001b[39m,\n",
            "  availability_365 = \u001b[32mcol_double()\u001b[39m,\n",
            "  avg_rating = \u001b[32mcol_double()\u001b[39m,\n",
            "  avg_stays_per_month = \u001b[32mcol_double()\u001b[39m,\n",
            "  pct_5_stars = \u001b[32mcol_double()\u001b[39m,\n",
            "  listing_added = \u001b[31mcol_character()\u001b[39m\n",
            ")\n",
            "\n"
          ],
          "name": "stderr"
        }
      ]
    },
    {
      "cell_type": "code",
      "metadata": {
        "id": "89DXT3Xl1SQ8",
        "colab_type": "code",
        "colab": {
          "base_uri": "https://localhost:8080/",
          "height": 513
        },
        "outputId": "ba9c74b8-1601-4212-8647-8ade6d92affa"
      },
      "source": [
        "# Examine the first few rows\n",
        "head(airbnb)"
      ],
      "execution_count": 7,
      "outputs": [
        {
          "output_type": "display_data",
          "data": {
            "text/plain": [
              "  listing_id description                                        host_id  \n",
              "1 13740704   Cozy,budget friendly, cable inc, private entrance!  20583125\n",
              "2 22005115   Two floor apartment near Central Park               82746113\n",
              "3 21667615   Beautiful 1BR in Brooklyn Heights                      78251\n",
              "4  6425850   Spacious, charming studio                           32715865\n",
              "5 22986519   Bedroom on the lively Lower East Side              154262349\n",
              "6   271954   Beautiful brownstone apartment                       1423798\n",
              "  host_name nbhood_full                  coordinates           room_type      \n",
              "1 Michel    Brooklyn, Flatlands          (40.63222, -73.93398) Private room   \n",
              "2 Cecilia   Manhattan, Upper West Side   (40.78761, -73.96862) Entire home/apt\n",
              "3 Leslie    Brooklyn, Brooklyn Heights   (40.7007, -73.99517)  Entire home/apt\n",
              "4 Yelena    Manhattan, Upper West Side   (40.79169, -73.97498) Entire home/apt\n",
              "5 Brooke    Manhattan, Lower East Side   (40.71884, -73.98354) Private room   \n",
              "6 Aj        Manhattan, Greenwich Village (40.73388, -73.99452) Entire home/apt\n",
              "  price nb_reviews last_review reviews_per_month availability_365 avg_rating\n",
              "1 $45    10        12/12/2018  0.70               85              4.100954  \n",
              "2 $135    1        06/30/2019  1.00              145              3.367600  \n",
              "3 $150    0        NA            NA               65                    NA  \n",
              "4 $86     5        09/23/2017  0.13                0              4.763203  \n",
              "5 $160   23        06/12/2019  2.29              102              3.822591  \n",
              "6 $150  203        06/20/2019  2.22              300              4.478396  \n",
              "  avg_stays_per_month pct_5_stars listing_added\n",
              "1  12.0               0.6094315   06/08/2018   \n",
              "2   1.2               0.7461346   12/25/2018   \n",
              "3    NA                      NA   08/15/2018   \n",
              "4   6.0               0.7699471   03/20/2017   \n",
              "5  27.6               0.6493831   10/23/2020   \n",
              "6 243.6               0.7434997   12/15/2018   "
            ],
            "text/latex": "A tibble: 6 × 16\n\\begin{tabular}{llllllllllllllll}\n listing\\_id & description & host\\_id & host\\_name & nbhood\\_full & coordinates & room\\_type & price & nb\\_reviews & last\\_review & reviews\\_per\\_month & availability\\_365 & avg\\_rating & avg\\_stays\\_per\\_month & pct\\_5\\_stars & listing\\_added\\\\\n <dbl> & <chr> & <dbl> & <chr> & <chr> & <chr> & <chr> & <chr> & <dbl> & <chr> & <dbl> & <dbl> & <dbl> & <dbl> & <dbl> & <chr>\\\\\n\\hline\n\t 13740704 & Cozy,budget friendly, cable inc, private entrance! &  20583125 & Michel  & Brooklyn, Flatlands          & (40.63222, -73.93398) & Private room    & \\$45  &  10 & 12/12/2018 & 0.70 &  85 & 4.100954 &  12.0 & 0.6094315 & 06/08/2018\\\\\n\t 22005115 & Two floor apartment near Central Park              &  82746113 & Cecilia & Manhattan, Upper West Side   & (40.78761, -73.96862) & Entire home/apt & \\$135 &   1 & 06/30/2019 & 1.00 & 145 & 3.367600 &   1.2 & 0.7461346 & 12/25/2018\\\\\n\t 21667615 & Beautiful 1BR in Brooklyn Heights                  &     78251 & Leslie  & Brooklyn, Brooklyn Heights   & (40.7007, -73.99517)  & Entire home/apt & \\$150 &   0 & NA         &   NA &  65 &       NA &    NA &        NA & 08/15/2018\\\\\n\t  6425850 & Spacious, charming studio                          &  32715865 & Yelena  & Manhattan, Upper West Side   & (40.79169, -73.97498) & Entire home/apt & \\$86  &   5 & 09/23/2017 & 0.13 &   0 & 4.763203 &   6.0 & 0.7699471 & 03/20/2017\\\\\n\t 22986519 & Bedroom on the lively Lower East Side              & 154262349 & Brooke  & Manhattan, Lower East Side   & (40.71884, -73.98354) & Private room    & \\$160 &  23 & 06/12/2019 & 2.29 & 102 & 3.822591 &  27.6 & 0.6493831 & 10/23/2020\\\\\n\t   271954 & Beautiful brownstone apartment                     &   1423798 & Aj      & Manhattan, Greenwich Village & (40.73388, -73.99452) & Entire home/apt & \\$150 & 203 & 06/20/2019 & 2.22 & 300 & 4.478396 & 243.6 & 0.7434997 & 12/15/2018\\\\\n\\end{tabular}\n",
            "text/markdown": "\nA tibble: 6 × 16\n\n| listing_id &lt;dbl&gt; | description &lt;chr&gt; | host_id &lt;dbl&gt; | host_name &lt;chr&gt; | nbhood_full &lt;chr&gt; | coordinates &lt;chr&gt; | room_type &lt;chr&gt; | price &lt;chr&gt; | nb_reviews &lt;dbl&gt; | last_review &lt;chr&gt; | reviews_per_month &lt;dbl&gt; | availability_365 &lt;dbl&gt; | avg_rating &lt;dbl&gt; | avg_stays_per_month &lt;dbl&gt; | pct_5_stars &lt;dbl&gt; | listing_added &lt;chr&gt; |\n|---|---|---|---|---|---|---|---|---|---|---|---|---|---|---|---|\n| 13740704 | Cozy,budget friendly, cable inc, private entrance! |  20583125 | Michel  | Brooklyn, Flatlands          | (40.63222, -73.93398) | Private room    | $45  |  10 | 12/12/2018 | 0.70 |  85 | 4.100954 |  12.0 | 0.6094315 | 06/08/2018 |\n| 22005115 | Two floor apartment near Central Park              |  82746113 | Cecilia | Manhattan, Upper West Side   | (40.78761, -73.96862) | Entire home/apt | $135 |   1 | 06/30/2019 | 1.00 | 145 | 3.367600 |   1.2 | 0.7461346 | 12/25/2018 |\n| 21667615 | Beautiful 1BR in Brooklyn Heights                  |     78251 | Leslie  | Brooklyn, Brooklyn Heights   | (40.7007, -73.99517)  | Entire home/apt | $150 |   0 | NA         |   NA |  65 |       NA |    NA |        NA | 08/15/2018 |\n|  6425850 | Spacious, charming studio                          |  32715865 | Yelena  | Manhattan, Upper West Side   | (40.79169, -73.97498) | Entire home/apt | $86  |   5 | 09/23/2017 | 0.13 |   0 | 4.763203 |   6.0 | 0.7699471 | 03/20/2017 |\n| 22986519 | Bedroom on the lively Lower East Side              | 154262349 | Brooke  | Manhattan, Lower East Side   | (40.71884, -73.98354) | Private room    | $160 |  23 | 06/12/2019 | 2.29 | 102 | 3.822591 |  27.6 | 0.6493831 | 10/23/2020 |\n|   271954 | Beautiful brownstone apartment                     |   1423798 | Aj      | Manhattan, Greenwich Village | (40.73388, -73.99452) | Entire home/apt | $150 | 203 | 06/20/2019 | 2.22 | 300 | 4.478396 | 243.6 | 0.7434997 | 12/15/2018 |\n\n",
            "text/html": [
              "<table>\n",
              "<caption>A tibble: 6 × 16</caption>\n",
              "<thead>\n",
              "\t<tr><th scope=col>listing_id</th><th scope=col>description</th><th scope=col>host_id</th><th scope=col>host_name</th><th scope=col>nbhood_full</th><th scope=col>coordinates</th><th scope=col>room_type</th><th scope=col>price</th><th scope=col>nb_reviews</th><th scope=col>last_review</th><th scope=col>reviews_per_month</th><th scope=col>availability_365</th><th scope=col>avg_rating</th><th scope=col>avg_stays_per_month</th><th scope=col>pct_5_stars</th><th scope=col>listing_added</th></tr>\n",
              "\t<tr><th scope=col>&lt;dbl&gt;</th><th scope=col>&lt;chr&gt;</th><th scope=col>&lt;dbl&gt;</th><th scope=col>&lt;chr&gt;</th><th scope=col>&lt;chr&gt;</th><th scope=col>&lt;chr&gt;</th><th scope=col>&lt;chr&gt;</th><th scope=col>&lt;chr&gt;</th><th scope=col>&lt;dbl&gt;</th><th scope=col>&lt;chr&gt;</th><th scope=col>&lt;dbl&gt;</th><th scope=col>&lt;dbl&gt;</th><th scope=col>&lt;dbl&gt;</th><th scope=col>&lt;dbl&gt;</th><th scope=col>&lt;dbl&gt;</th><th scope=col>&lt;chr&gt;</th></tr>\n",
              "</thead>\n",
              "<tbody>\n",
              "\t<tr><td>13740704</td><td>Cozy,budget friendly, cable inc, private entrance!</td><td> 20583125</td><td>Michel </td><td>Brooklyn, Flatlands         </td><td>(40.63222, -73.93398)</td><td>Private room   </td><td>$45 </td><td> 10</td><td>12/12/2018</td><td>0.70</td><td> 85</td><td>4.100954</td><td> 12.0</td><td>0.6094315</td><td>06/08/2018</td></tr>\n",
              "\t<tr><td>22005115</td><td>Two floor apartment near Central Park             </td><td> 82746113</td><td>Cecilia</td><td>Manhattan, Upper West Side  </td><td>(40.78761, -73.96862)</td><td>Entire home/apt</td><td>$135</td><td>  1</td><td>06/30/2019</td><td>1.00</td><td>145</td><td>3.367600</td><td>  1.2</td><td>0.7461346</td><td>12/25/2018</td></tr>\n",
              "\t<tr><td>21667615</td><td>Beautiful 1BR in Brooklyn Heights                 </td><td>    78251</td><td>Leslie </td><td>Brooklyn, Brooklyn Heights  </td><td>(40.7007, -73.99517) </td><td>Entire home/apt</td><td>$150</td><td>  0</td><td>NA        </td><td>  NA</td><td> 65</td><td>      NA</td><td>   NA</td><td>       NA</td><td>08/15/2018</td></tr>\n",
              "\t<tr><td> 6425850</td><td>Spacious, charming studio                         </td><td> 32715865</td><td>Yelena </td><td>Manhattan, Upper West Side  </td><td>(40.79169, -73.97498)</td><td>Entire home/apt</td><td>$86 </td><td>  5</td><td>09/23/2017</td><td>0.13</td><td>  0</td><td>4.763203</td><td>  6.0</td><td>0.7699471</td><td>03/20/2017</td></tr>\n",
              "\t<tr><td>22986519</td><td>Bedroom on the lively Lower East Side             </td><td>154262349</td><td>Brooke </td><td>Manhattan, Lower East Side  </td><td>(40.71884, -73.98354)</td><td>Private room   </td><td>$160</td><td> 23</td><td>06/12/2019</td><td>2.29</td><td>102</td><td>3.822591</td><td> 27.6</td><td>0.6493831</td><td>10/23/2020</td></tr>\n",
              "\t<tr><td>  271954</td><td>Beautiful brownstone apartment                    </td><td>  1423798</td><td>Aj     </td><td>Manhattan, Greenwich Village</td><td>(40.73388, -73.99452)</td><td>Entire home/apt</td><td>$150</td><td>203</td><td>06/20/2019</td><td>2.22</td><td>300</td><td>4.478396</td><td>243.6</td><td>0.7434997</td><td>12/15/2018</td></tr>\n",
              "</tbody>\n",
              "</table>\n"
            ]
          },
          "metadata": {
            "tags": []
          }
        }
      ]
    },
    {
      "cell_type": "markdown",
      "metadata": {
        "id": "kNE3y9ug1Zo5",
        "colab_type": "text"
      },
      "source": [
        "## Diagnosing data cleaning problems\n",
        "\n",
        "We'll need to get a good look at the data frame in order to identify any problems that may cause issues during an analysis. There are a variety of functions (both from base R and `dplyr`) that can help us with this:\n",
        "\n",
        "1. `head()` to look at the first few rows of the data\n",
        "2. `glimpse()` to get a summary of the variables' data types\n",
        "3. `summary()` to compute summary statistics of each variable and display the number of missing values\n",
        "4. `duplicated()` to find duplicates\n"
      ]
    },
    {
      "cell_type": "code",
      "metadata": {
        "id": "uaC2Q_Gm3m1I",
        "colab_type": "code",
        "colab": {
          "base_uri": "https://localhost:8080/",
          "height": 513
        },
        "outputId": "9e4a4509-1876-4d71-96be-8b6a50b83e21"
      },
      "source": [
        "# Print the first few rows of data\n",
        "head(airbnb)"
      ],
      "execution_count": 8,
      "outputs": [
        {
          "output_type": "display_data",
          "data": {
            "text/plain": [
              "  listing_id description                                        host_id  \n",
              "1 13740704   Cozy,budget friendly, cable inc, private entrance!  20583125\n",
              "2 22005115   Two floor apartment near Central Park               82746113\n",
              "3 21667615   Beautiful 1BR in Brooklyn Heights                      78251\n",
              "4  6425850   Spacious, charming studio                           32715865\n",
              "5 22986519   Bedroom on the lively Lower East Side              154262349\n",
              "6   271954   Beautiful brownstone apartment                       1423798\n",
              "  host_name nbhood_full                  coordinates           room_type      \n",
              "1 Michel    Brooklyn, Flatlands          (40.63222, -73.93398) Private room   \n",
              "2 Cecilia   Manhattan, Upper West Side   (40.78761, -73.96862) Entire home/apt\n",
              "3 Leslie    Brooklyn, Brooklyn Heights   (40.7007, -73.99517)  Entire home/apt\n",
              "4 Yelena    Manhattan, Upper West Side   (40.79169, -73.97498) Entire home/apt\n",
              "5 Brooke    Manhattan, Lower East Side   (40.71884, -73.98354) Private room   \n",
              "6 Aj        Manhattan, Greenwich Village (40.73388, -73.99452) Entire home/apt\n",
              "  price nb_reviews last_review reviews_per_month availability_365 avg_rating\n",
              "1 $45    10        12/12/2018  0.70               85              4.100954  \n",
              "2 $135    1        06/30/2019  1.00              145              3.367600  \n",
              "3 $150    0        NA            NA               65                    NA  \n",
              "4 $86     5        09/23/2017  0.13                0              4.763203  \n",
              "5 $160   23        06/12/2019  2.29              102              3.822591  \n",
              "6 $150  203        06/20/2019  2.22              300              4.478396  \n",
              "  avg_stays_per_month pct_5_stars listing_added\n",
              "1  12.0               0.6094315   06/08/2018   \n",
              "2   1.2               0.7461346   12/25/2018   \n",
              "3    NA                      NA   08/15/2018   \n",
              "4   6.0               0.7699471   03/20/2017   \n",
              "5  27.6               0.6493831   10/23/2020   \n",
              "6 243.6               0.7434997   12/15/2018   "
            ],
            "text/latex": "A tibble: 6 × 16\n\\begin{tabular}{llllllllllllllll}\n listing\\_id & description & host\\_id & host\\_name & nbhood\\_full & coordinates & room\\_type & price & nb\\_reviews & last\\_review & reviews\\_per\\_month & availability\\_365 & avg\\_rating & avg\\_stays\\_per\\_month & pct\\_5\\_stars & listing\\_added\\\\\n <dbl> & <chr> & <dbl> & <chr> & <chr> & <chr> & <chr> & <chr> & <dbl> & <chr> & <dbl> & <dbl> & <dbl> & <dbl> & <dbl> & <chr>\\\\\n\\hline\n\t 13740704 & Cozy,budget friendly, cable inc, private entrance! &  20583125 & Michel  & Brooklyn, Flatlands          & (40.63222, -73.93398) & Private room    & \\$45  &  10 & 12/12/2018 & 0.70 &  85 & 4.100954 &  12.0 & 0.6094315 & 06/08/2018\\\\\n\t 22005115 & Two floor apartment near Central Park              &  82746113 & Cecilia & Manhattan, Upper West Side   & (40.78761, -73.96862) & Entire home/apt & \\$135 &   1 & 06/30/2019 & 1.00 & 145 & 3.367600 &   1.2 & 0.7461346 & 12/25/2018\\\\\n\t 21667615 & Beautiful 1BR in Brooklyn Heights                  &     78251 & Leslie  & Brooklyn, Brooklyn Heights   & (40.7007, -73.99517)  & Entire home/apt & \\$150 &   0 & NA         &   NA &  65 &       NA &    NA &        NA & 08/15/2018\\\\\n\t  6425850 & Spacious, charming studio                          &  32715865 & Yelena  & Manhattan, Upper West Side   & (40.79169, -73.97498) & Entire home/apt & \\$86  &   5 & 09/23/2017 & 0.13 &   0 & 4.763203 &   6.0 & 0.7699471 & 03/20/2017\\\\\n\t 22986519 & Bedroom on the lively Lower East Side              & 154262349 & Brooke  & Manhattan, Lower East Side   & (40.71884, -73.98354) & Private room    & \\$160 &  23 & 06/12/2019 & 2.29 & 102 & 3.822591 &  27.6 & 0.6493831 & 10/23/2020\\\\\n\t   271954 & Beautiful brownstone apartment                     &   1423798 & Aj      & Manhattan, Greenwich Village & (40.73388, -73.99452) & Entire home/apt & \\$150 & 203 & 06/20/2019 & 2.22 & 300 & 4.478396 & 243.6 & 0.7434997 & 12/15/2018\\\\\n\\end{tabular}\n",
            "text/markdown": "\nA tibble: 6 × 16\n\n| listing_id &lt;dbl&gt; | description &lt;chr&gt; | host_id &lt;dbl&gt; | host_name &lt;chr&gt; | nbhood_full &lt;chr&gt; | coordinates &lt;chr&gt; | room_type &lt;chr&gt; | price &lt;chr&gt; | nb_reviews &lt;dbl&gt; | last_review &lt;chr&gt; | reviews_per_month &lt;dbl&gt; | availability_365 &lt;dbl&gt; | avg_rating &lt;dbl&gt; | avg_stays_per_month &lt;dbl&gt; | pct_5_stars &lt;dbl&gt; | listing_added &lt;chr&gt; |\n|---|---|---|---|---|---|---|---|---|---|---|---|---|---|---|---|\n| 13740704 | Cozy,budget friendly, cable inc, private entrance! |  20583125 | Michel  | Brooklyn, Flatlands          | (40.63222, -73.93398) | Private room    | $45  |  10 | 12/12/2018 | 0.70 |  85 | 4.100954 |  12.0 | 0.6094315 | 06/08/2018 |\n| 22005115 | Two floor apartment near Central Park              |  82746113 | Cecilia | Manhattan, Upper West Side   | (40.78761, -73.96862) | Entire home/apt | $135 |   1 | 06/30/2019 | 1.00 | 145 | 3.367600 |   1.2 | 0.7461346 | 12/25/2018 |\n| 21667615 | Beautiful 1BR in Brooklyn Heights                  |     78251 | Leslie  | Brooklyn, Brooklyn Heights   | (40.7007, -73.99517)  | Entire home/apt | $150 |   0 | NA         |   NA |  65 |       NA |    NA |        NA | 08/15/2018 |\n|  6425850 | Spacious, charming studio                          |  32715865 | Yelena  | Manhattan, Upper West Side   | (40.79169, -73.97498) | Entire home/apt | $86  |   5 | 09/23/2017 | 0.13 |   0 | 4.763203 |   6.0 | 0.7699471 | 03/20/2017 |\n| 22986519 | Bedroom on the lively Lower East Side              | 154262349 | Brooke  | Manhattan, Lower East Side   | (40.71884, -73.98354) | Private room    | $160 |  23 | 06/12/2019 | 2.29 | 102 | 3.822591 |  27.6 | 0.6493831 | 10/23/2020 |\n|   271954 | Beautiful brownstone apartment                     |   1423798 | Aj      | Manhattan, Greenwich Village | (40.73388, -73.99452) | Entire home/apt | $150 | 203 | 06/20/2019 | 2.22 | 300 | 4.478396 | 243.6 | 0.7434997 | 12/15/2018 |\n\n",
            "text/html": [
              "<table>\n",
              "<caption>A tibble: 6 × 16</caption>\n",
              "<thead>\n",
              "\t<tr><th scope=col>listing_id</th><th scope=col>description</th><th scope=col>host_id</th><th scope=col>host_name</th><th scope=col>nbhood_full</th><th scope=col>coordinates</th><th scope=col>room_type</th><th scope=col>price</th><th scope=col>nb_reviews</th><th scope=col>last_review</th><th scope=col>reviews_per_month</th><th scope=col>availability_365</th><th scope=col>avg_rating</th><th scope=col>avg_stays_per_month</th><th scope=col>pct_5_stars</th><th scope=col>listing_added</th></tr>\n",
              "\t<tr><th scope=col>&lt;dbl&gt;</th><th scope=col>&lt;chr&gt;</th><th scope=col>&lt;dbl&gt;</th><th scope=col>&lt;chr&gt;</th><th scope=col>&lt;chr&gt;</th><th scope=col>&lt;chr&gt;</th><th scope=col>&lt;chr&gt;</th><th scope=col>&lt;chr&gt;</th><th scope=col>&lt;dbl&gt;</th><th scope=col>&lt;chr&gt;</th><th scope=col>&lt;dbl&gt;</th><th scope=col>&lt;dbl&gt;</th><th scope=col>&lt;dbl&gt;</th><th scope=col>&lt;dbl&gt;</th><th scope=col>&lt;dbl&gt;</th><th scope=col>&lt;chr&gt;</th></tr>\n",
              "</thead>\n",
              "<tbody>\n",
              "\t<tr><td>13740704</td><td>Cozy,budget friendly, cable inc, private entrance!</td><td> 20583125</td><td>Michel </td><td>Brooklyn, Flatlands         </td><td>(40.63222, -73.93398)</td><td>Private room   </td><td>$45 </td><td> 10</td><td>12/12/2018</td><td>0.70</td><td> 85</td><td>4.100954</td><td> 12.0</td><td>0.6094315</td><td>06/08/2018</td></tr>\n",
              "\t<tr><td>22005115</td><td>Two floor apartment near Central Park             </td><td> 82746113</td><td>Cecilia</td><td>Manhattan, Upper West Side  </td><td>(40.78761, -73.96862)</td><td>Entire home/apt</td><td>$135</td><td>  1</td><td>06/30/2019</td><td>1.00</td><td>145</td><td>3.367600</td><td>  1.2</td><td>0.7461346</td><td>12/25/2018</td></tr>\n",
              "\t<tr><td>21667615</td><td>Beautiful 1BR in Brooklyn Heights                 </td><td>    78251</td><td>Leslie </td><td>Brooklyn, Brooklyn Heights  </td><td>(40.7007, -73.99517) </td><td>Entire home/apt</td><td>$150</td><td>  0</td><td>NA        </td><td>  NA</td><td> 65</td><td>      NA</td><td>   NA</td><td>       NA</td><td>08/15/2018</td></tr>\n",
              "\t<tr><td> 6425850</td><td>Spacious, charming studio                         </td><td> 32715865</td><td>Yelena </td><td>Manhattan, Upper West Side  </td><td>(40.79169, -73.97498)</td><td>Entire home/apt</td><td>$86 </td><td>  5</td><td>09/23/2017</td><td>0.13</td><td>  0</td><td>4.763203</td><td>  6.0</td><td>0.7699471</td><td>03/20/2017</td></tr>\n",
              "\t<tr><td>22986519</td><td>Bedroom on the lively Lower East Side             </td><td>154262349</td><td>Brooke </td><td>Manhattan, Lower East Side  </td><td>(40.71884, -73.98354)</td><td>Private room   </td><td>$160</td><td> 23</td><td>06/12/2019</td><td>2.29</td><td>102</td><td>3.822591</td><td> 27.6</td><td>0.6493831</td><td>10/23/2020</td></tr>\n",
              "\t<tr><td>  271954</td><td>Beautiful brownstone apartment                    </td><td>  1423798</td><td>Aj     </td><td>Manhattan, Greenwich Village</td><td>(40.73388, -73.99452)</td><td>Entire home/apt</td><td>$150</td><td>203</td><td>06/20/2019</td><td>2.22</td><td>300</td><td>4.478396</td><td>243.6</td><td>0.7434997</td><td>12/15/2018</td></tr>\n",
              "</tbody>\n",
              "</table>\n"
            ]
          },
          "metadata": {
            "tags": []
          }
        }
      ]
    },
    {
      "cell_type": "code",
      "metadata": {
        "id": "ZO_jlHc74J62",
        "colab_type": "code",
        "colab": {
          "base_uri": "https://localhost:8080/",
          "height": 323
        },
        "outputId": "7e27ea1f-7070-4697-8944-564ae0acc2b6"
      },
      "source": [
        "# Inspect data types\n",
        "glimpse(airbnb)"
      ],
      "execution_count": 9,
      "outputs": [
        {
          "output_type": "stream",
          "text": [
            "Rows: 10,019\n",
            "Columns: 16\n",
            "$ listing_id          \u001b[3m\u001b[90m<dbl>\u001b[39m\u001b[23m 13740704, 22005115, 21667615, 6425850, 22986519, …\n",
            "$ description         \u001b[3m\u001b[90m<chr>\u001b[39m\u001b[23m \"Cozy,budget friendly, cable inc, private entranc…\n",
            "$ host_id             \u001b[3m\u001b[90m<dbl>\u001b[39m\u001b[23m 20583125, 82746113, 78251, 32715865, 154262349, 1…\n",
            "$ host_name           \u001b[3m\u001b[90m<chr>\u001b[39m\u001b[23m \"Michel\", \"Cecilia\", \"Leslie\", \"Yelena\", \"Brooke\"…\n",
            "$ nbhood_full         \u001b[3m\u001b[90m<chr>\u001b[39m\u001b[23m \"Brooklyn, Flatlands\", \"Manhattan, Upper West Sid…\n",
            "$ coordinates         \u001b[3m\u001b[90m<chr>\u001b[39m\u001b[23m \"(40.63222, -73.93398)\", \"(40.78761, -73.96862)\",…\n",
            "$ room_type           \u001b[3m\u001b[90m<chr>\u001b[39m\u001b[23m \"Private room\", \"Entire home/apt\", \"Entire home/a…\n",
            "$ price               \u001b[3m\u001b[90m<chr>\u001b[39m\u001b[23m \"$45\", \"$135\", \"$150\", \"$86\", \"$160\", \"$150\", \"$2…\n",
            "$ nb_reviews          \u001b[3m\u001b[90m<dbl>\u001b[39m\u001b[23m 10, 1, 0, 5, 23, 203, 0, 2, 5, 8, 5, 2, 21, 0, 0,…\n",
            "$ last_review         \u001b[3m\u001b[90m<chr>\u001b[39m\u001b[23m \"12/12/2018\", \"06/30/2019\", NA, \"09/23/2017\", \"06…\n",
            "$ reviews_per_month   \u001b[3m\u001b[90m<dbl>\u001b[39m\u001b[23m 0.70, 1.00, NA, 0.13, 2.29, 2.22, NA, 0.08, 0.15,…\n",
            "$ availability_365    \u001b[3m\u001b[90m<dbl>\u001b[39m\u001b[23m 85, 145, 65, 0, 102, 300, 219, 353, 365, 9, 0, 24…\n",
            "$ avg_rating          \u001b[3m\u001b[90m<dbl>\u001b[39m\u001b[23m 4.100954, 3.367600, NA, 4.763203, 3.822591, 4.478…\n",
            "$ avg_stays_per_month \u001b[3m\u001b[90m<dbl>\u001b[39m\u001b[23m 12.0, 1.2, NA, 6.0, 27.6, 243.6, NA, 2.4, 6.0, 9.…\n",
            "$ pct_5_stars         \u001b[3m\u001b[90m<dbl>\u001b[39m\u001b[23m 0.6094315, 0.7461346, NA, 0.7699471, 0.6493831, 0…\n",
            "$ listing_added       \u001b[3m\u001b[90m<chr>\u001b[39m\u001b[23m \"06/08/2018\", \"12/25/2018\", \"08/15/2018\", \"03/20/…\n"
          ],
          "name": "stdout"
        }
      ]
    },
    {
      "cell_type": "markdown",
      "metadata": {
        "id": "5-1VcTFC4JpI",
        "colab_type": "text"
      },
      "source": [
        "3. Columns like `coordinates` and `price` are factors instead of numeric values.\n",
        "4. Columns with dates like `last_review` and `listing_added` are factors instead of the `Date` data type."
      ]
    },
    {
      "cell_type": "code",
      "metadata": {
        "id": "ewCibkuE4NP-",
        "colab_type": "code",
        "colab": {
          "base_uri": "https://localhost:8080/",
          "height": 561
        },
        "outputId": "4a18a3d3-9734-4a8f-a6ac-4198aae4e66d"
      },
      "source": [
        "# Examine summary statistics and missing values\n",
        "summary(airbnb)"
      ],
      "execution_count": 10,
      "outputs": [
        {
          "output_type": "display_data",
          "data": {
            "text/plain": [
              "   listing_id       description           host_id           host_name        \n",
              " Min.   :    3831   Length:10019       Min.   :     2787   Length:10019      \n",
              " 1st Qu.: 9674772   Class :character   1st Qu.:  7910880   Class :character  \n",
              " Median :20070296   Mode  :character   Median : 31651673   Mode  :character  \n",
              " Mean   :19276341                      Mean   : 67959227                     \n",
              " 3rd Qu.:29338637                      3rd Qu.:107434423                     \n",
              " Max.   :36487245                      Max.   :274103383                     \n",
              "                                                                             \n",
              " nbhood_full        coordinates         room_type            price          \n",
              " Length:10019       Length:10019       Length:10019       Length:10019      \n",
              " Class :character   Class :character   Class :character   Class :character  \n",
              " Mode  :character   Mode  :character   Mode  :character   Mode  :character  \n",
              "                                                                            \n",
              "                                                                            \n",
              "                                                                            \n",
              "                                                                            \n",
              "   nb_reviews     last_review        reviews_per_month availability_365\n",
              " Min.   :  0.00   Length:10019       Min.   : 0.010    Min.   :  0.0   \n",
              " 1st Qu.:  1.00   Class :character   1st Qu.: 0.200    1st Qu.:  0.0   \n",
              " Median :  5.00   Mode  :character   Median : 0.710    Median : 44.0   \n",
              " Mean   : 22.46                      Mean   : 1.354    Mean   :112.3   \n",
              " 3rd Qu.: 22.00                      3rd Qu.: 2.000    3rd Qu.:226.0   \n",
              " Max.   :510.00                      Max.   :16.220    Max.   :365.0   \n",
              "                                     NA's   :2075                      \n",
              "   avg_rating    avg_stays_per_month  pct_5_stars     listing_added     \n",
              " Min.   :3.001   Min.   :  1.20      Min.   :0.6000   Length:10019      \n",
              " 1st Qu.:3.520   1st Qu.:  3.60      1st Qu.:0.6556   Class :character  \n",
              " Median :4.028   Median : 10.80      Median :0.7098   Mode  :character  \n",
              " Mean   :4.014   Mean   : 33.99      Mean   :0.7186                     \n",
              " 3rd Qu.:4.516   3rd Qu.: 38.40      3rd Qu.:0.7640                     \n",
              " Max.   :5.181   Max.   :612.00      Max.   :0.9503                     \n",
              " NA's   :2075    NA's   :2075        NA's   :2075                       "
            ]
          },
          "metadata": {
            "tags": []
          }
        }
      ]
    },
    {
      "cell_type": "markdown",
      "metadata": {
        "id": "z-17MT7M4UbL",
        "colab_type": "text"
      },
      "source": [
        "5. There are 2075 missing values in `reviews_per_month`, `avg_rating`, `nb_stays`, and `pct_5_stars`.\n",
        "6. The max of `avg_rating` is above 5 (out of range value)\n",
        "7. There are inconsistencies in the categories of `room_type`, i.e. `\"Private\"`, `\"Private room\"`, and `\"PRIVATE ROOM\"`."
      ]
    },
    {
      "cell_type": "code",
      "metadata": {
        "id": "6Kwp6THl4SIV",
        "colab_type": "code",
        "colab": {
          "base_uri": "https://localhost:8080/",
          "height": 34
        },
        "outputId": "f98236ec-6677-461b-dc5b-af3db9faaa0b"
      },
      "source": [
        "# Count data with duplicated listing_id\n",
        "airbnb %>%\n",
        "  filter(duplicated(listing_id)) %>%\n",
        "  nrow()"
      ],
      "execution_count": 12,
      "outputs": [
        {
          "output_type": "display_data",
          "data": {
            "text/plain": [
              "[1] 20"
            ],
            "text/latex": "20",
            "text/markdown": "20",
            "text/html": [
              "20"
            ]
          },
          "metadata": {
            "tags": []
          }
        }
      ]
    },
    {
      "cell_type": "markdown",
      "metadata": {
        "id": "h9A2KkvJ4hQO",
        "colab_type": "text"
      },
      "source": [
        "8. Duplicates: there are 20 rows whose `listing_id` already appeared earlier in the dataset."
      ]
    },
    {
      "cell_type": "markdown",
      "metadata": {
        "id": "eeNuwD5-4lAJ",
        "colab_type": "text"
      },
      "source": [
        "## What do we need to do?\n",
        "\n",
        "**Data type issues**\n",
        "1. Split `coordinates` into latitude and longitude and convert `numeric` data type.\n",
        "2. Remove `$`s from `price` column and convert to `numeric`.\n",
        "3. Convert `last_review` and `listing_added` to `Date`.\n",
        "\n",
        "**Text & categorical data issues**\n",
        "4. Split `nbhood_full` into separate neighborhood and borough columns.\n",
        "5. Collapse the categories of `room_type` so that they're consistent.\n",
        "\n",
        "**Data range issues**\n",
        "6. Fix the `rating` column so it doesn't exceed `5`.\n",
        "\n",
        "**Missing data issues**\n",
        "7. Further investigate the missing data and decide how to handle them.\n",
        "\n",
        "**Duplicate data issues**\n",
        "8. Further investigate duplicate data points and decide how to handle them.\n",
        "\n",
        "***But also...***\n",
        "- We need to validate our data using various sanity checks"
      ]
    },
    {
      "cell_type": "markdown",
      "metadata": {
        "id": "yvQmADZn4oxm",
        "colab_type": "text"
      },
      "source": [
        "# **Q & A**\n"
      ]
    },
    {
      "cell_type": "markdown",
      "metadata": {
        "id": "TqqGD4jk4zRr",
        "colab_type": "text"
      },
      "source": [
        "## Cleaning the data\n"
      ]
    },
    {
      "cell_type": "markdown",
      "metadata": {
        "id": "nTZAQnQc4128",
        "colab_type": "text"
      },
      "source": [
        "### Data type issues\n"
      ]
    },
    {
      "cell_type": "code",
      "metadata": {
        "id": "WM0EhIT-4izJ",
        "colab_type": "code",
        "colab": {
          "base_uri": "https://localhost:8080/",
          "height": 513
        },
        "outputId": "5120bc01-1ed0-4c62-a971-0979b4b58378"
      },
      "source": [
        "# Reminder: what does the data look like?\n",
        "head(airbnb)"
      ],
      "execution_count": 13,
      "outputs": [
        {
          "output_type": "display_data",
          "data": {
            "text/plain": [
              "  listing_id description                                        host_id  \n",
              "1 13740704   Cozy,budget friendly, cable inc, private entrance!  20583125\n",
              "2 22005115   Two floor apartment near Central Park               82746113\n",
              "3 21667615   Beautiful 1BR in Brooklyn Heights                      78251\n",
              "4  6425850   Spacious, charming studio                           32715865\n",
              "5 22986519   Bedroom on the lively Lower East Side              154262349\n",
              "6   271954   Beautiful brownstone apartment                       1423798\n",
              "  host_name nbhood_full                  coordinates           room_type      \n",
              "1 Michel    Brooklyn, Flatlands          (40.63222, -73.93398) Private room   \n",
              "2 Cecilia   Manhattan, Upper West Side   (40.78761, -73.96862) Entire home/apt\n",
              "3 Leslie    Brooklyn, Brooklyn Heights   (40.7007, -73.99517)  Entire home/apt\n",
              "4 Yelena    Manhattan, Upper West Side   (40.79169, -73.97498) Entire home/apt\n",
              "5 Brooke    Manhattan, Lower East Side   (40.71884, -73.98354) Private room   \n",
              "6 Aj        Manhattan, Greenwich Village (40.73388, -73.99452) Entire home/apt\n",
              "  price nb_reviews last_review reviews_per_month availability_365 avg_rating\n",
              "1 $45    10        12/12/2018  0.70               85              4.100954  \n",
              "2 $135    1        06/30/2019  1.00              145              3.367600  \n",
              "3 $150    0        NA            NA               65                    NA  \n",
              "4 $86     5        09/23/2017  0.13                0              4.763203  \n",
              "5 $160   23        06/12/2019  2.29              102              3.822591  \n",
              "6 $150  203        06/20/2019  2.22              300              4.478396  \n",
              "  avg_stays_per_month pct_5_stars listing_added\n",
              "1  12.0               0.6094315   06/08/2018   \n",
              "2   1.2               0.7461346   12/25/2018   \n",
              "3    NA                      NA   08/15/2018   \n",
              "4   6.0               0.7699471   03/20/2017   \n",
              "5  27.6               0.6493831   10/23/2020   \n",
              "6 243.6               0.7434997   12/15/2018   "
            ],
            "text/latex": "A tibble: 6 × 16\n\\begin{tabular}{llllllllllllllll}\n listing\\_id & description & host\\_id & host\\_name & nbhood\\_full & coordinates & room\\_type & price & nb\\_reviews & last\\_review & reviews\\_per\\_month & availability\\_365 & avg\\_rating & avg\\_stays\\_per\\_month & pct\\_5\\_stars & listing\\_added\\\\\n <dbl> & <chr> & <dbl> & <chr> & <chr> & <chr> & <chr> & <chr> & <dbl> & <chr> & <dbl> & <dbl> & <dbl> & <dbl> & <dbl> & <chr>\\\\\n\\hline\n\t 13740704 & Cozy,budget friendly, cable inc, private entrance! &  20583125 & Michel  & Brooklyn, Flatlands          & (40.63222, -73.93398) & Private room    & \\$45  &  10 & 12/12/2018 & 0.70 &  85 & 4.100954 &  12.0 & 0.6094315 & 06/08/2018\\\\\n\t 22005115 & Two floor apartment near Central Park              &  82746113 & Cecilia & Manhattan, Upper West Side   & (40.78761, -73.96862) & Entire home/apt & \\$135 &   1 & 06/30/2019 & 1.00 & 145 & 3.367600 &   1.2 & 0.7461346 & 12/25/2018\\\\\n\t 21667615 & Beautiful 1BR in Brooklyn Heights                  &     78251 & Leslie  & Brooklyn, Brooklyn Heights   & (40.7007, -73.99517)  & Entire home/apt & \\$150 &   0 & NA         &   NA &  65 &       NA &    NA &        NA & 08/15/2018\\\\\n\t  6425850 & Spacious, charming studio                          &  32715865 & Yelena  & Manhattan, Upper West Side   & (40.79169, -73.97498) & Entire home/apt & \\$86  &   5 & 09/23/2017 & 0.13 &   0 & 4.763203 &   6.0 & 0.7699471 & 03/20/2017\\\\\n\t 22986519 & Bedroom on the lively Lower East Side              & 154262349 & Brooke  & Manhattan, Lower East Side   & (40.71884, -73.98354) & Private room    & \\$160 &  23 & 06/12/2019 & 2.29 & 102 & 3.822591 &  27.6 & 0.6493831 & 10/23/2020\\\\\n\t   271954 & Beautiful brownstone apartment                     &   1423798 & Aj      & Manhattan, Greenwich Village & (40.73388, -73.99452) & Entire home/apt & \\$150 & 203 & 06/20/2019 & 2.22 & 300 & 4.478396 & 243.6 & 0.7434997 & 12/15/2018\\\\\n\\end{tabular}\n",
            "text/markdown": "\nA tibble: 6 × 16\n\n| listing_id &lt;dbl&gt; | description &lt;chr&gt; | host_id &lt;dbl&gt; | host_name &lt;chr&gt; | nbhood_full &lt;chr&gt; | coordinates &lt;chr&gt; | room_type &lt;chr&gt; | price &lt;chr&gt; | nb_reviews &lt;dbl&gt; | last_review &lt;chr&gt; | reviews_per_month &lt;dbl&gt; | availability_365 &lt;dbl&gt; | avg_rating &lt;dbl&gt; | avg_stays_per_month &lt;dbl&gt; | pct_5_stars &lt;dbl&gt; | listing_added &lt;chr&gt; |\n|---|---|---|---|---|---|---|---|---|---|---|---|---|---|---|---|\n| 13740704 | Cozy,budget friendly, cable inc, private entrance! |  20583125 | Michel  | Brooklyn, Flatlands          | (40.63222, -73.93398) | Private room    | $45  |  10 | 12/12/2018 | 0.70 |  85 | 4.100954 |  12.0 | 0.6094315 | 06/08/2018 |\n| 22005115 | Two floor apartment near Central Park              |  82746113 | Cecilia | Manhattan, Upper West Side   | (40.78761, -73.96862) | Entire home/apt | $135 |   1 | 06/30/2019 | 1.00 | 145 | 3.367600 |   1.2 | 0.7461346 | 12/25/2018 |\n| 21667615 | Beautiful 1BR in Brooklyn Heights                  |     78251 | Leslie  | Brooklyn, Brooklyn Heights   | (40.7007, -73.99517)  | Entire home/apt | $150 |   0 | NA         |   NA |  65 |       NA |    NA |        NA | 08/15/2018 |\n|  6425850 | Spacious, charming studio                          |  32715865 | Yelena  | Manhattan, Upper West Side   | (40.79169, -73.97498) | Entire home/apt | $86  |   5 | 09/23/2017 | 0.13 |   0 | 4.763203 |   6.0 | 0.7699471 | 03/20/2017 |\n| 22986519 | Bedroom on the lively Lower East Side              | 154262349 | Brooke  | Manhattan, Lower East Side   | (40.71884, -73.98354) | Private room    | $160 |  23 | 06/12/2019 | 2.29 | 102 | 3.822591 |  27.6 | 0.6493831 | 10/23/2020 |\n|   271954 | Beautiful brownstone apartment                     |   1423798 | Aj      | Manhattan, Greenwich Village | (40.73388, -73.99452) | Entire home/apt | $150 | 203 | 06/20/2019 | 2.22 | 300 | 4.478396 | 243.6 | 0.7434997 | 12/15/2018 |\n\n",
            "text/html": [
              "<table>\n",
              "<caption>A tibble: 6 × 16</caption>\n",
              "<thead>\n",
              "\t<tr><th scope=col>listing_id</th><th scope=col>description</th><th scope=col>host_id</th><th scope=col>host_name</th><th scope=col>nbhood_full</th><th scope=col>coordinates</th><th scope=col>room_type</th><th scope=col>price</th><th scope=col>nb_reviews</th><th scope=col>last_review</th><th scope=col>reviews_per_month</th><th scope=col>availability_365</th><th scope=col>avg_rating</th><th scope=col>avg_stays_per_month</th><th scope=col>pct_5_stars</th><th scope=col>listing_added</th></tr>\n",
              "\t<tr><th scope=col>&lt;dbl&gt;</th><th scope=col>&lt;chr&gt;</th><th scope=col>&lt;dbl&gt;</th><th scope=col>&lt;chr&gt;</th><th scope=col>&lt;chr&gt;</th><th scope=col>&lt;chr&gt;</th><th scope=col>&lt;chr&gt;</th><th scope=col>&lt;chr&gt;</th><th scope=col>&lt;dbl&gt;</th><th scope=col>&lt;chr&gt;</th><th scope=col>&lt;dbl&gt;</th><th scope=col>&lt;dbl&gt;</th><th scope=col>&lt;dbl&gt;</th><th scope=col>&lt;dbl&gt;</th><th scope=col>&lt;dbl&gt;</th><th scope=col>&lt;chr&gt;</th></tr>\n",
              "</thead>\n",
              "<tbody>\n",
              "\t<tr><td>13740704</td><td>Cozy,budget friendly, cable inc, private entrance!</td><td> 20583125</td><td>Michel </td><td>Brooklyn, Flatlands         </td><td>(40.63222, -73.93398)</td><td>Private room   </td><td>$45 </td><td> 10</td><td>12/12/2018</td><td>0.70</td><td> 85</td><td>4.100954</td><td> 12.0</td><td>0.6094315</td><td>06/08/2018</td></tr>\n",
              "\t<tr><td>22005115</td><td>Two floor apartment near Central Park             </td><td> 82746113</td><td>Cecilia</td><td>Manhattan, Upper West Side  </td><td>(40.78761, -73.96862)</td><td>Entire home/apt</td><td>$135</td><td>  1</td><td>06/30/2019</td><td>1.00</td><td>145</td><td>3.367600</td><td>  1.2</td><td>0.7461346</td><td>12/25/2018</td></tr>\n",
              "\t<tr><td>21667615</td><td>Beautiful 1BR in Brooklyn Heights                 </td><td>    78251</td><td>Leslie </td><td>Brooklyn, Brooklyn Heights  </td><td>(40.7007, -73.99517) </td><td>Entire home/apt</td><td>$150</td><td>  0</td><td>NA        </td><td>  NA</td><td> 65</td><td>      NA</td><td>   NA</td><td>       NA</td><td>08/15/2018</td></tr>\n",
              "\t<tr><td> 6425850</td><td>Spacious, charming studio                         </td><td> 32715865</td><td>Yelena </td><td>Manhattan, Upper West Side  </td><td>(40.79169, -73.97498)</td><td>Entire home/apt</td><td>$86 </td><td>  5</td><td>09/23/2017</td><td>0.13</td><td>  0</td><td>4.763203</td><td>  6.0</td><td>0.7699471</td><td>03/20/2017</td></tr>\n",
              "\t<tr><td>22986519</td><td>Bedroom on the lively Lower East Side             </td><td>154262349</td><td>Brooke </td><td>Manhattan, Lower East Side  </td><td>(40.71884, -73.98354)</td><td>Private room   </td><td>$160</td><td> 23</td><td>06/12/2019</td><td>2.29</td><td>102</td><td>3.822591</td><td> 27.6</td><td>0.6493831</td><td>10/23/2020</td></tr>\n",
              "\t<tr><td>  271954</td><td>Beautiful brownstone apartment                    </td><td>  1423798</td><td>Aj     </td><td>Manhattan, Greenwich Village</td><td>(40.73388, -73.99452)</td><td>Entire home/apt</td><td>$150</td><td>203</td><td>06/20/2019</td><td>2.22</td><td>300</td><td>4.478396</td><td>243.6</td><td>0.7434997</td><td>12/15/2018</td></tr>\n",
              "</tbody>\n",
              "</table>\n"
            ]
          },
          "metadata": {
            "tags": []
          }
        }
      ]
    },
    {
      "cell_type": "markdown",
      "metadata": {
        "id": "Uv34mfrn5ER-",
        "colab_type": "text"
      },
      "source": [
        "#### **Task 1:** Split `coordinates` into latitude and longitude and convert `numeric` data type.\n"
      ]
    },
    {
      "cell_type": "code",
      "metadata": {
        "id": "i6YA6Mcq5FAO",
        "colab_type": "code",
        "colab": {}
      },
      "source": [
        "lat_lon <- airbnb$coordinates %>%\n",
        "  # Remove left parentheses\n",
        "  str_remove_all(fixed(\"(\")) %>%\n",
        "  # Remove right parentheses\n",
        "  str_remove_all(fixed(\")\")) %>%\n",
        "  # Split latitude and longitude\n",
        "  str_split(\", \", simplify = TRUE) %>%\n",
        "  # Convert from matrix to data frame\n",
        "  as.data.frame(stringsAsFactors = FALSE) %>%\n",
        "  # Rename columns\n",
        "  rename(latitude = V1, longitude = V2)"
      ],
      "execution_count": 0,
      "outputs": []
    },
    {
      "cell_type": "code",
      "metadata": {
        "id": "nLoVV0wx5HY0",
        "colab_type": "code",
        "colab": {}
      },
      "source": [
        "airbnb <- airbnb %>%\n",
        "  # Combine lat_lon with original data frame\n",
        "  cbind(lat_lon) %>%\n",
        "  # Convert to numeric\n",
        "  mutate(latitude = as.numeric(latitude),\n",
        "        longitude = as.numeric(longitude)) %>%\n",
        "  # Remove coordinates column\n",
        "  select(-coordinates)"
      ],
      "execution_count": 0,
      "outputs": []
    },
    {
      "cell_type": "markdown",
      "metadata": {
        "id": "cTyOqtuf5MKA",
        "colab_type": "text"
      },
      "source": [
        "#### **Task 2:** Remove `$`s from `price` column and convert to `numeric`."
      ]
    },
    {
      "cell_type": "code",
      "metadata": {
        "id": "c7bo2KI65MuC",
        "colab_type": "code",
        "colab": {
          "base_uri": "https://localhost:8080/",
          "height": 51
        },
        "outputId": "b83062be-6cc2-4cde-b3a9-9cd047a08d10"
      },
      "source": [
        "# Remove $ and convert to numeric\n",
        "price_clean <- airbnb$price %>%\n",
        "  str_remove_all(fixed(\"$\")) %>%\n",
        "  as.numeric()"
      ],
      "execution_count": 16,
      "outputs": [
        {
          "output_type": "stream",
          "text": [
            "Warning message in function_list[[k]](value):\n",
            "“NAs introduced by coercion”\n"
          ],
          "name": "stderr"
        }
      ]
    },
    {
      "cell_type": "markdown",
      "metadata": {
        "id": "GZLstAby5OU6",
        "colab_type": "text"
      },
      "source": [
        "Notice we get a warning here that values are being converted to `NA`, so before we move on, we need to look into this further to ensure that the values are actually missing and we're not losing data by mistake.\n",
        "\n",
        "Let's take a look at the values of `price`.\n"
      ]
    },
    {
      "cell_type": "code",
      "metadata": {
        "id": "UPuE0iPw5U9h",
        "colab_type": "code",
        "colab": {}
      },
      "source": [
        "# Look at values of price\n",
        "airbnb %>%\n",
        "  count(price, sort = TRUE)"
      ],
      "execution_count": 0,
      "outputs": []
    },
    {
      "cell_type": "markdown",
      "metadata": {
        "id": "EajADDBt57-C",
        "colab_type": "text"
      },
      "source": [
        "It looks like we have a non-standard representation of `NA` here, `$NA`, so these are getting coerced to `NA`s. This is the behavior we want, so we can ignore the warning."
      ]
    },
    {
      "cell_type": "code",
      "metadata": {
        "id": "Fpi0jcHn5zD1",
        "colab_type": "code",
        "colab": {}
      },
      "source": [
        "# Add to data frame\n",
        "airbnb <- airbnb %>%\n",
        "  mutate(price = price_clean)"
      ],
      "execution_count": 0,
      "outputs": []
    }
  ]
}